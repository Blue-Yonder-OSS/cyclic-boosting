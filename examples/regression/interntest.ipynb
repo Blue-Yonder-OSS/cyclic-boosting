{
 "cells": [
  {
   "cell_type": "code",
   "execution_count": null,
   "metadata": {},
   "outputs": [],
   "source": [
    "#こっちのファイルを動かしたいときはpolicyだけ変える\n",
    "from cyclic_boosting.tornado import Generator, Manager, Trainer, VSManager\n",
    "data_deliverler = Generator.TornadoDataModule(\"data.csv\")\n",
    "manager = Manager.TornadoModule()\n",
    "trainer = Trainer.Trainer(data_deliverler, manager)\n",
    "trainer.run(target=\"sales\", log_policy=\"vote_by_num\" ,verbose=False)"
   ]
  },
  {
   "cell_type": "code",
   "execution_count": null,
   "metadata": {},
   "outputs": [],
   "source": [
    "from cyclic_boosting.tornado import Generator, Manager, Trainer\n",
    "data_deliverler = Generator.TornadoDataModule(\"data_without_LAMBDA_with_int_SCHOOL_HOLIDAY_with_TOY_DATA.csv\")\n",
    "manager = Manager.TornadoVariableSelectionModule()\n",
    "# trainer = Trainer.Trainer(data_deliverler, manager)\n",
    "trainer = Trainer.SqueezeTrainer(data_deliverler, manager)\n",
    "trainer.run(target=\"sales\", verbose=False)"
   ]
  }
 ],
 "metadata": {
  "kernelspec": {
   "display_name": ".venv",
   "language": "python",
   "name": "python3"
  },
  "language_info": {
   "codemirror_mode": {
    "name": "ipython",
    "version": 3
   },
   "file_extension": ".py",
   "mimetype": "text/x-python",
   "name": "python",
   "nbconvert_exporter": "python",
   "pygments_lexer": "ipython3",
   "version": "3.10.11"
  },
  "orig_nbformat": 4
 },
 "nbformat": 4,
 "nbformat_minor": 2
}

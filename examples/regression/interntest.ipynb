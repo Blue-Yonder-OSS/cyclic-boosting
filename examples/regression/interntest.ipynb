{
 "cells": [
  {
   "cell_type": "code",
   "execution_count": null,
   "metadata": {},
   "outputs": [],
   "source": [
    "#こっちのファイルを動かしたいときはpolicyだけ変える\n",
    "from cyclic_boosting.tornado import Generator, Manager, Trainer, VSManager\n",
    "data_deliverler = Generator.TornadoDataModule(\"data.csv\")\n",
    "manager = Manager.TornadoModule()\n",
    "trainer = Trainer.Trainer(data_deliverler, manager)\n",
    "trainer.run(target=\"sales\", log_policy=\"vote_by_num\" ,verbose=False)"
   ]
  },
  {
   "cell_type": "code",
   "execution_count": 1,
   "metadata": {},
   "outputs": [
    {
     "name": "stderr",
     "output_type": "stream",
     "text": [
      "Column 'date' not found in feature_properties dict.\n"
     ]
    },
    {
     "name": "stdout",
     "output_type": "stream",
     "text": [
      "result: {'MD': [-0.03991125110120637, -0.04370823665695166], 'MAD': [1.405174930588586, 1.403346266085625], 'MSE': [5.075754181882102, 4.994149718878787], 'MAE': [1.4979744613075636, 1.4968682803101407], 'MedAE': [1.132680719705066, 1.122350874448058], 'WMAPE': [2.6570632585482796, 2.6327301802938186], 'SMAPE': [72.36749233147609, 72.30221535609562], 'COD': [0.5015172321830339, 0.5095314931433679], 'F': [6709.286881312122, 3380.4495841619546]}\n",
      "features: [('event', 'lambda'), ('sales_price', 'lambda'), ('pg_id_3', 'lambda')]\n"
     ]
    },
    {
     "name": "stderr",
     "output_type": "stream",
     "text": [
      "Column 'date' not found in feature_properties dict.\n"
     ]
    },
    {
     "name": "stdout",
     "output_type": "stream",
     "text": [
      "iter: 3 / 81\n",
      "better------------------------------------------------\n",
      "best_features{'best_features': [('event', 'lambda'), ('sales_price', 'lambda')], 'best_COD': 0.5095314931433679}\n",
      "result: {'MD': [-0.03991125110120637, -0.04370823665695166, -0.03813207698335208], 'MAD': [1.405174930588586, 1.403346266085625, 1.4042505122963058], 'MSE': [5.075754181882102, 4.994149718878787, 4.987879772424783], 'MAE': [1.4979744613075636, 1.4968682803101407, 1.4952937848898433], 'MedAE': [1.132680719705066, 1.122350874448058, 1.12477108054028], 'WMAPE': [2.6570632585482796, 2.6327301802938186, 2.62994181594765], 'SMAPE': [72.36749233147609, 72.30221535609562, 72.35185155411516], 'COD': [0.5015172321830339, 0.5095314931433679, 0.5101472558754585], 'F': [6709.286881312122, 3380.4495841619546, 2279.213234822761]}\n",
      "features: [('event', 'lambda'), ('sales_price', 'lambda'), ('pg_id_3', 'lambda'), 'lambda']\n"
     ]
    },
    {
     "name": "stderr",
     "output_type": "stream",
     "text": [
      "Column 'date' not found in feature_properties dict.\n"
     ]
    },
    {
     "name": "stdout",
     "output_type": "stream",
     "text": [
      "iter: 4 / 81\n",
      "features: [('event', 'lambda'), ('sales_price', 'lambda'), ('pg_id_3', 'lambda'), ('pg_id_2', 'lambda')]\n"
     ]
    },
    {
     "name": "stderr",
     "output_type": "stream",
     "text": [
      "Column 'date' not found in feature_properties dict.\n"
     ]
    },
    {
     "name": "stdout",
     "output_type": "stream",
     "text": [
      "iter: 5 / 81\n",
      "features: [('event', 'lambda'), ('sales_price', 'lambda'), ('pg_id_3', 'lambda'), ('pg_id_1', 'lambda')]\n"
     ]
    },
    {
     "name": "stderr",
     "output_type": "stream",
     "text": [
      "Column 'date' not found in feature_properties dict.\n"
     ]
    },
    {
     "name": "stdout",
     "output_type": "stream",
     "text": [
      "iter: 6 / 81\n",
      "features: [('event', 'lambda'), ('sales_price', 'lambda'), ('pg_id_3', 'lambda'), ('lambda', 'dayofweek')]\n"
     ]
    },
    {
     "name": "stderr",
     "output_type": "stream",
     "text": [
      "Column 'date' not found in feature_properties dict.\n"
     ]
    },
    {
     "name": "stdout",
     "output_type": "stream",
     "text": [
      "iter: 7 / 81\n",
      "better------------------------------------------------\n",
      "best_features{'best_features': [('event', 'lambda'), ('sales_price', 'lambda'), ('pg_id_3', 'lambda')], 'best_COD': 0.5101472558754585}\n",
      "result: {'MD': [-0.03991125110120637, -0.04370823665695166, -0.03813207698335208, -0.03506955186146834, -0.03506955186146834, -0.03506955186146834, -0.032136660722320985], 'MAD': [1.405174930588586, 1.403346266085625, 1.4042505122963058, 1.405082990192263, 1.405082990192263, 1.405082990192263, 1.4100474933748721], 'MSE': [5.075754181882102, 4.994149718878787, 4.987879772424783, 4.988570232479275, 4.988570232479275, 4.988570232479275, 4.98261458300766], 'MAE': [1.4979744613075636, 1.4968682803101407, 1.4952937848898433, 1.4947623295689865, 1.4947623295689865, 1.4947623295689865, 1.494948101168572], 'MedAE': [1.132680719705066, 1.122350874448058, 1.12477108054028, 1.1189633719688796, 1.1189633719688796, 1.1189633719688796, 1.1373139029076895], 'WMAPE': [2.6570632585482796, 2.6327301802938186, 2.62994181594765, 2.6315374919933796, 2.6315374919933796, 2.6315374919933796, 2.632395404177676], 'SMAPE': [72.36749233147609, 72.30221535609562, 72.35185155411516, 72.36555790177154, 72.36555790177154, 72.36555790177154, 72.41736954200645], 'COD': [0.5015172321830339, 0.5095314931433679, 0.5101472558754585, 0.510079446752578, 0.510079446752578, 0.510079446752578, 0.5106643428145968], 'F': [6709.286881312122, 3380.4495841619546, 2279.213234822761, 1710.6435980302092, 1710.6435980302092, 1710.6435980302092, 1715.3737106309827]}\n",
      "features: [('event', 'lambda'), ('sales_price', 'lambda'), ('pg_id_3', 'lambda'), ('lambda', 'dayofweek'), ('lambda', 'dayofyear')]\n"
     ]
    },
    {
     "name": "stderr",
     "output_type": "stream",
     "text": [
      "Column 'date' not found in feature_properties dict.\n"
     ]
    },
    {
     "name": "stdout",
     "output_type": "stream",
     "text": [
      "iter: 8 / 81\n",
      "features: [('event', 'lambda'), ('sales_price', 'lambda'), ('pg_id_3', 'lambda'), ('lambda', 'dayofweek'), ('l_id', 'lambda')]\n"
     ]
    },
    {
     "name": "stderr",
     "output_type": "stream",
     "text": [
      "Column 'date' not found in feature_properties dict.\n"
     ]
    },
    {
     "name": "stdout",
     "output_type": "stream",
     "text": [
      "iter: 9 / 81\n",
      "features: [('event', 'lambda'), ('sales_price', 'lambda'), ('pg_id_3', 'lambda'), ('lambda', 'dayofweek'), ('sales_area', 'lambda')]\n"
     ]
    },
    {
     "name": "stderr",
     "output_type": "stream",
     "text": [
      "Column 'date' not found in feature_properties dict.\n"
     ]
    },
    {
     "name": "stdout",
     "output_type": "stream",
     "text": [
      "iter: 10 / 81\n",
      "features: [('event', 'lambda'), ('sales_price', 'lambda'), ('pg_id_3', 'lambda'), ('lambda', 'dayofweek'), ('p_id', 'lambda')]\n"
     ]
    },
    {
     "name": "stderr",
     "output_type": "stream",
     "text": [
      "Column 'date' not found in feature_properties dict.\n"
     ]
    },
    {
     "name": "stdout",
     "output_type": "stream",
     "text": [
      "iter: 11 / 81\n",
      "features: [('event', 'lambda'), ('sales_price', 'lambda'), ('pg_id_3', 'lambda'), ('lambda', 'dayofweek'), ('normal_price', 'lambda')]\n"
     ]
    },
    {
     "name": "stderr",
     "output_type": "stream",
     "text": [
      "Column 'date' not found in feature_properties dict.\n"
     ]
    },
    {
     "name": "stdout",
     "output_type": "stream",
     "text": [
      "iter: 12 / 81\n",
      "features: [('event', 'lambda'), ('sales_price', 'lambda'), ('pg_id_3', 'lambda'), ('lambda', 'dayofweek'), ('promotion_type', 'lambda')]\n"
     ]
    }
   ],
   "source": [
    "from cyclic_boosting.tornado import Generator, Manager, Trainer, VSManager\n",
    "data_deliverler = Generator.TornadoDataModule(\"data.csv\")\n",
    "manager = VSManager.TornadoModuleForVariableSelection()\n",
    "trainer = Trainer.Trainer(data_deliverler, manager)\n",
    "trainer.run(target=\"sales\", verbose=False)"
   ]
  }
 ],
 "metadata": {
  "kernelspec": {
   "display_name": ".venv",
   "language": "python",
   "name": "python3"
  },
  "language_info": {
   "codemirror_mode": {
    "name": "ipython",
    "version": 3
   },
   "file_extension": ".py",
   "mimetype": "text/x-python",
   "name": "python",
   "nbconvert_exporter": "python",
   "pygments_lexer": "ipython3",
   "version": "3.10.12"
  },
  "orig_nbformat": 4
 },
 "nbformat": 4,
 "nbformat_minor": 2
}

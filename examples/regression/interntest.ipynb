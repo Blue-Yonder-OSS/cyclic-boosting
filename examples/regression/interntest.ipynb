{
 "cells": [
  {
   "cell_type": "code",
   "execution_count": 1,
   "metadata": {},
   "outputs": [
    {
     "name": "stdout",
     "output_type": "stream",
     "text": [
      "Auto analysis target ['normal_price', 'sales_area', 'school_holiday', 'sales_price', 'lambda', 'dayofweek', 'dayofyear']\n"
     ]
    }
   ],
   "source": [
    "#こっちのファイルを動かしたいときはpolicyだけ変える\n",
    "from cyclic_boosting.tornado import Generator, Manager, Trainer, VSManager\n",
    "data_deliverler = Generator.TornadoDataModule(\"data.csv\")\n",
    "manager = Manager.TornadoModule()\n",
    "trainer = Trainer.Trainer(data_deliverler, manager)\n",
    "trainer.run(target=\"sales\", log_policy=\"vote_by_num\" ,verbose=False)"
   ]
  },
  {
   "cell_type": "code",
   "execution_count": 3,
   "metadata": {},
   "outputs": [
    {
     "name": "stdout",
     "output_type": "stream",
     "text": [
      "Auto analysis target ['normal_price', 'sales_area', 'school_holiday', 'sales_price', 'dayofweek', 'dayofyear']\n"
     ]
    },
    {
     "name": "stderr",
     "output_type": "stream",
     "text": [
      "/home/tsuruda_yoshito/work/tornado/rPrivate-cyclic-boosting/.venv/lib/python3.10/site-packages/scipy/signal/_peak_finding.py:261: ComplexWarning: Casting complex values to real discards the imaginary part\n",
      "  value = np.asarray(value, order='C', dtype=np.float64)\n",
      "Column 'date' not found in feature_properties dict.\n"
     ]
    },
    {
     "name": "stdout",
     "output_type": "stream",
     "text": [
      "{'has_trend': [], 'has_seasonality': [], 'has_up_monotonicity': [], 'has_down_monotonicity': [], 'has_linearity': [], 'has_missing': []}\n"
     ]
    },
    {
     "ename": "AttributeError",
     "evalue": "'Logger' object has no attribute 'vote_by_smaller_num_of_criteria'",
     "output_type": "error",
     "traceback": [
      "\u001b[0;31m---------------------------------------------------------------------------\u001b[0m",
      "\u001b[0;31mAttributeError\u001b[0m                            Traceback (most recent call last)",
      "\u001b[1;32m/home/tsuruda_yoshito/work/tornado/rPrivate-cyclic-boosting/examples/regression/interntest.ipynb Cell 2\u001b[0m line \u001b[0;36m6\n\u001b[1;32m      <a href='vscode-notebook-cell://wsl%2Bubuntu/home/tsuruda_yoshito/work/tornado/rPrivate-cyclic-boosting/examples/regression/interntest.ipynb#W1sdnNjb2RlLXJlbW90ZQ%3D%3D?line=3'>4</a>\u001b[0m trainer \u001b[39m=\u001b[39m Trainer\u001b[39m.\u001b[39mTrainer(data_deliverler, manager)\n\u001b[1;32m      <a href='vscode-notebook-cell://wsl%2Bubuntu/home/tsuruda_yoshito/work/tornado/rPrivate-cyclic-boosting/examples/regression/interntest.ipynb#W1sdnNjb2RlLXJlbW90ZQ%3D%3D?line=4'>5</a>\u001b[0m \u001b[39m# trainer = Trainer.SqueezeTrainer(data_deliverler, manager)\u001b[39;00m\n\u001b[0;32m----> <a href='vscode-notebook-cell://wsl%2Bubuntu/home/tsuruda_yoshito/work/tornado/rPrivate-cyclic-boosting/examples/regression/interntest.ipynb#W1sdnNjb2RlLXJlbW90ZQ%3D%3D?line=5'>6</a>\u001b[0m trainer\u001b[39m.\u001b[39;49mrun(target\u001b[39m=\u001b[39;49m\u001b[39m\"\u001b[39;49m\u001b[39msales\u001b[39;49m\u001b[39m\"\u001b[39;49m, verbose\u001b[39m=\u001b[39;49m\u001b[39mFalse\u001b[39;49;00m)\n",
      "File \u001b[0;32m~/work/tornado/rPrivate-cyclic-boosting/cyclic_boosting/tornado/trainer/trainer.py:66\u001b[0m, in \u001b[0;36mTrainer.run\u001b[0;34m(self, target, test_size, seed, save_dir, log_policy, metrix, verbose)\u001b[0m\n\u001b[1;32m     63\u001b[0m evaluator\u001b[39m.\u001b[39meval_all(y_valid, yhat, estimater, verbose)\n\u001b[1;32m     65\u001b[0m \u001b[39m# log\u001b[39;00m\n\u001b[0;32m---> 66\u001b[0m logger\u001b[39m.\u001b[39;49mlog(estimater, evaluator, \u001b[39mself\u001b[39;49m\u001b[39m.\u001b[39;49mmanager)\n",
      "File \u001b[0;32m~/work/tornado/rPrivate-cyclic-boosting/cyclic_boosting/tornado/trainer/logger.py:169\u001b[0m, in \u001b[0;36mLogger.log\u001b[0;34m(self, est, evt, mng)\u001b[0m\n\u001b[1;32m    167\u001b[0m     \u001b[39mself\u001b[39m\u001b[39m.\u001b[39mvote(est, evt, mng)\n\u001b[1;32m    168\u001b[0m \u001b[39melif\u001b[39;00m \u001b[39mself\u001b[39m\u001b[39m.\u001b[39mpolicy \u001b[39m==\u001b[39m \u001b[39m'\u001b[39m\u001b[39mvote_by_num\u001b[39m\u001b[39m'\u001b[39m:\n\u001b[0;32m--> 169\u001b[0m     \u001b[39mself\u001b[39;49m\u001b[39m.\u001b[39;49mvote_by_smaller_num_of_criteria(est, evt, mng)\n\u001b[1;32m    170\u001b[0m \u001b[39melif\u001b[39;00m \u001b[39mself\u001b[39m\u001b[39m.\u001b[39mpolicy \u001b[39m==\u001b[39m \u001b[39m'\u001b[39m\u001b[39mcompute_COD\u001b[39m\u001b[39m'\u001b[39m:\n\u001b[1;32m    171\u001b[0m     \u001b[39mself\u001b[39m\u001b[39m.\u001b[39mcompute_COD(est, evt, mng)\n",
      "\u001b[0;31mAttributeError\u001b[0m: 'Logger' object has no attribute 'vote_by_smaller_num_of_criteria'"
     ]
    }
   ],
   "source": [
    "from cyclic_boosting.tornado import Generator, Manager, Trainer, VSManager\n",
    "data_deliverler = Generator.TornadoDataModule(\"data_without_LAMBDA.csv\")\n",
    "manager = VSManager.TornadoModuleForVariableSelection()\n",
    "# trainer = Trainer.Trainer(data_deliverler, manager)\n",
    "trainer = Trainer.SqueezeTrainer(data_deliverler, manager)\n",
    "trainer.run(target=\"sales\", verbose=False)"
   ]
  }
 ],
 "metadata": {
  "kernelspec": {
   "display_name": ".venv",
   "language": "python",
   "name": "python3"
  },
  "language_info": {
   "codemirror_mode": {
    "name": "ipython",
    "version": 3
   },
   "file_extension": ".py",
   "mimetype": "text/x-python",
   "name": "python",
   "nbconvert_exporter": "python",
   "pygments_lexer": "ipython3",
   "version": "3.10.11"
  },
  "orig_nbformat": 4
 },
 "nbformat": 4,
 "nbformat_minor": 2
}

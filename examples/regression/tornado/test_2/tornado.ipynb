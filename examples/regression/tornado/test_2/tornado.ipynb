{
 "cells": [
  {
   "cell_type": "markdown",
   "id": "e4f6005c-1e82-45cc-9013-fa89752acadf",
   "metadata": {
    "id": "e4f6005c-1e82-45cc-9013-fa89752acadf"
   },
   "source": [
    "# Classification using Cyclic Boosting"
   ]
  },
  {
   "cell_type": "markdown",
   "id": "4ee82ebe-8aa4-49ee-a84b-2a9aed8868c3",
   "metadata": {
    "colab": {
     "base_uri": "https://localhost:8080/"
    },
    "id": "Q8nS3cek3utK",
    "outputId": "e7b226b6-9dc5-4896-8066-8d105725fdd0"
   },
   "source": [
    "First, install the  package and its dependencies\n",
    "\n",
    "```sh\n",
    "!pip install cyclic-boosting\n",
    "```"
   ]
  },
  {
   "cell_type": "code",
   "execution_count": 1,
   "id": "d032f099-abc3-414f-957d-bf915cd2bd4e",
   "metadata": {
    "id": "d032f099-abc3-414f-957d-bf915cd2bd4e",
    "tags": []
   },
   "outputs": [],
   "source": [
    "import pandas as pd\n",
    "import numpy as np"
   ]
  },
  {
   "cell_type": "markdown",
   "id": "f795a87a-df58-4b1a-8717-b95203fd65cd",
   "metadata": {},
   "source": [
    "Let's load the test dataset from Blue-Yonder-OSS"
   ]
  },
  {
   "cell_type": "code",
   "execution_count": 2,
   "id": "bbffc7a5",
   "metadata": {},
   "outputs": [],
   "source": [
    "import pandas as pd\n",
    "import numpy as np\n",
    "\n",
    "df = pd.read_csv(\"./archive_2/Walmart.csv\")\n",
    "df[\"Date\"] = pd.to_datetime(df[\"Date\"], format='%d-%m-%Y')\n",
    "df.to_csv(\"./Walmart.csv\", index=False)"
   ]
  },
  {
   "cell_type": "code",
   "execution_count": 3,
   "id": "6bca6fb3",
   "metadata": {},
   "outputs": [
    {
     "data": {
      "text/html": [
       "<div>\n",
       "<style scoped>\n",
       "    .dataframe tbody tr th:only-of-type {\n",
       "        vertical-align: middle;\n",
       "    }\n",
       "\n",
       "    .dataframe tbody tr th {\n",
       "        vertical-align: top;\n",
       "    }\n",
       "\n",
       "    .dataframe thead th {\n",
       "        text-align: right;\n",
       "    }\n",
       "</style>\n",
       "<table border=\"1\" class=\"dataframe\">\n",
       "  <thead>\n",
       "    <tr style=\"text-align: right;\">\n",
       "      <th></th>\n",
       "      <th>Store</th>\n",
       "      <th>Date</th>\n",
       "      <th>Weekly_Sales</th>\n",
       "      <th>Holiday_Flag</th>\n",
       "      <th>Temperature</th>\n",
       "      <th>Fuel_Price</th>\n",
       "      <th>CPI</th>\n",
       "      <th>Unemployment</th>\n",
       "    </tr>\n",
       "  </thead>\n",
       "  <tbody>\n",
       "    <tr>\n",
       "      <th>0</th>\n",
       "      <td>1</td>\n",
       "      <td>2010-02-05</td>\n",
       "      <td>1643690.90</td>\n",
       "      <td>0</td>\n",
       "      <td>42.31</td>\n",
       "      <td>2.572</td>\n",
       "      <td>211.096358</td>\n",
       "      <td>8.106</td>\n",
       "    </tr>\n",
       "    <tr>\n",
       "      <th>1</th>\n",
       "      <td>1</td>\n",
       "      <td>2010-02-12</td>\n",
       "      <td>1641957.44</td>\n",
       "      <td>1</td>\n",
       "      <td>38.51</td>\n",
       "      <td>2.548</td>\n",
       "      <td>211.242170</td>\n",
       "      <td>8.106</td>\n",
       "    </tr>\n",
       "    <tr>\n",
       "      <th>2</th>\n",
       "      <td>1</td>\n",
       "      <td>2010-02-19</td>\n",
       "      <td>1611968.17</td>\n",
       "      <td>0</td>\n",
       "      <td>39.93</td>\n",
       "      <td>2.514</td>\n",
       "      <td>211.289143</td>\n",
       "      <td>8.106</td>\n",
       "    </tr>\n",
       "    <tr>\n",
       "      <th>3</th>\n",
       "      <td>1</td>\n",
       "      <td>2010-02-26</td>\n",
       "      <td>1409727.59</td>\n",
       "      <td>0</td>\n",
       "      <td>46.63</td>\n",
       "      <td>2.561</td>\n",
       "      <td>211.319643</td>\n",
       "      <td>8.106</td>\n",
       "    </tr>\n",
       "    <tr>\n",
       "      <th>4</th>\n",
       "      <td>1</td>\n",
       "      <td>2010-03-05</td>\n",
       "      <td>1554806.68</td>\n",
       "      <td>0</td>\n",
       "      <td>46.50</td>\n",
       "      <td>2.625</td>\n",
       "      <td>211.350143</td>\n",
       "      <td>8.106</td>\n",
       "    </tr>\n",
       "  </tbody>\n",
       "</table>\n",
       "</div>"
      ],
      "text/plain": [
       "   Store       Date  Weekly_Sales  Holiday_Flag  Temperature  Fuel_Price  \\\n",
       "0      1 2010-02-05    1643690.90             0        42.31       2.572   \n",
       "1      1 2010-02-12    1641957.44             1        38.51       2.548   \n",
       "2      1 2010-02-19    1611968.17             0        39.93       2.514   \n",
       "3      1 2010-02-26    1409727.59             0        46.63       2.561   \n",
       "4      1 2010-03-05    1554806.68             0        46.50       2.625   \n",
       "\n",
       "          CPI  Unemployment  \n",
       "0  211.096358         8.106  \n",
       "1  211.242170         8.106  \n",
       "2  211.289143         8.106  \n",
       "3  211.319643         8.106  \n",
       "4  211.350143         8.106  "
      ]
     },
     "execution_count": 3,
     "metadata": {},
     "output_type": "execute_result"
    }
   ],
   "source": [
    "df.head()"
   ]
  },
  {
   "cell_type": "markdown",
   "id": "1220e50d",
   "metadata": {},
   "source": [
    "# Automated Machine Learning with Tornado\n",
    "With tornado, you can automatically perform data preparation, feature property setting, hyperparameter tuning, model building, training, evaluation, and plotting!"
   ]
  },
  {
   "cell_type": "code",
   "execution_count": 4,
   "id": "ccbe9343",
   "metadata": {},
   "outputs": [
    {
     "name": "stdout",
     "output_type": "stream",
     "text": [
      "Auto analysis target ['temperature', 'fuel_price', 'cpi', 'unemployment']\n",
      "    has_trend: ['temperature', 'fuel_price', 'cpi', 'unemployment']\n",
      "    has_seasonality: ['temperature', 'fuel_price']\n",
      "    has_up_monotonicity: []\n",
      "    has_down_monotonicity: []\n",
      "    has_linearity: []\n",
      "    has_missing: []\n"
     ]
    },
    {
     "name": "stderr",
     "output_type": "stream",
     "text": [
      "/home/tsuruda_yoshito/work/tornado/rPrivate-cyclic-boosting/.venv/lib/python3.10/site-packages/statsmodels/tsa/stl/mstl.py:217: UserWarning: A period(s) is larger than half the length of time series. Removing these period(s).\n",
      "  warnings.warn(\n",
      "iter: 5 / 35 Encountered negative change of loss. This might not be a problem, as long as the model converges. Check the LOSS changes in the analysis plots.\n",
      "iter: 35 / 35 \n",
      "TRUNCATED\n",
      "['store', 'unemployment', 'cpi', 'dayofyear', 'temperature', 'holiday_flag', 'dayofweek', 'fuel_price', ('store', 'cpi'), ('store', 'unemployment'), ('store', 'dayofweek'), ('store', 'holiday_flag'), ('unemployment', 'dayofweek'), ('holiday_flag', 'unemployment'), ('temperature', 'dayofweek'), ('cpi', 'dayofweek'), ('holiday_flag', 'cpi'), ('dayofweek', 'dayofyear'), ('holiday_flag', 'dayofyear'), ('fuel_price', 'dayofweek'), ('temperature', 'fuel_price'), ('cpi', 'dayofyear'), ('temperature', 'dayofyear'), ('unemployment', 'dayofyear'), ('cpi', 'unemployment'), ('fuel_price', 'cpi'), ('temperature', 'unemployment'), ('fuel_price', 'unemployment'), ('temperature', 'cpi')]\n",
      "\n",
      "iter: 0 / 28   ---- The best model was updated in iter 0 ----\n",
      "    best_features['store']\n",
      "    MD: 224.44074268557605, MAD: 450947.75511676737, MSE: 27288585515.034454, MAE: 91708.19229275435, MedAE: 51583.31415318322, WMAPE: 128580.89123841499, SMAPE: 8.50545363937992, COD: 0.9136607760892648, F: 13586.848955063995, \n",
      "iter: 2 / 28   ---- The best model was updated in iter 2 ----\n",
      "    best_features['store', 'unemployment']\n",
      "    MD: 227.52751431460894, MAD: 449727.49598777434, MSE: 26921172286.732777, MAE: 90928.47748734783, MedAE: 51481.00380566181, WMAPE: 127209.37221039167, SMAPE: 8.484588856445532, COD: 0.9148232464917203, F: 6857.9302822488735, \n",
      "iter: 3 / 28   ---- The best model was updated in iter 3 ----\n",
      "    best_features['store', 'unemployment', 'cpi']\n",
      "    MD: 662.5766985115603, MAD: 448326.05665020744, MSE: 26383166412.26834, MAE: 90320.22038606174, MedAE: 52488.57190747955, WMAPE: 125901.60844591992, SMAPE: 8.46376705878705, COD: 0.9165254603948588, F: 4614.820287666279, \n",
      "iter: 4 / 28   ---- The best model was updated in iter 4 ----\n",
      "    best_features['store', 'unemployment', 'cpi', 'dayofyear']\n",
      "    MD: 66.94426301267163, MAD: 453590.26082682534, MSE: 6999921866.800129, MAE: 57811.64438015489, MedAE: 38524.75087829912, WMAPE: 71401.57229047651, SMAPE: 6.012364307987852, COD: 0.9778527244996874, F: 13690.409954007016, \n",
      "iter: 5 / 28   ---- The best model was updated in iter 5 ----\n",
      "    best_features['store', 'unemployment', 'cpi', 'dayofyear', 'temperature']\n",
      "    MD: -157.4669688472415, MAD: 453758.08422590134, MSE: 6930467661.369969, MAE: 56663.873913511925, MedAE: 37676.68440801877, WMAPE: 70369.9480835061, SMAPE: 5.880906446331295, COD: 0.9780724728699675, F: 11058.95134961144, \n",
      "iter: 8 / 28   ---- The best model was updated in iter 8 ----\n",
      "    best_features['store', 'unemployment', 'cpi', 'dayofyear', 'temperature', 'fuel_price']\n",
      "    MD: -511.2340977973122, MAD: 454588.11381142616, MSE: 6611926425.508785, MAE: 55891.109308313935, MedAE: 38414.447967633954, WMAPE: 68928.98403583748, SMAPE: 5.831726341245135, COD: 0.9790803156206541, F: 9697.835080859255, \n",
      "iter: 9 / 28   ---- The best model was updated in iter 9 ----\n",
      "    best_features['store', 'unemployment', 'cpi', 'dayofyear', 'temperature', 'fuel_price', ('store', 'cpi')]\n",
      "    MD: -1620.663893662877, MAD: 461163.6147411512, MSE: 4654606418.517168, MAE: 46090.433631376894, MedAE: 30848.215272237197, WMAPE: 54989.82833430675, SMAPE: 4.936386124232086, COD: 0.9852731426638699, F: 12210.785909697588, \n",
      "iter: 10 / 28   ---- The best model was updated in iter 10 ----\n",
      "    best_features['store', 'unemployment', 'cpi', 'dayofyear', 'temperature', 'fuel_price', ('store', 'cpi'), ('store', 'unemployment')]\n",
      "    MD: -796.9598689411737, MAD: 461234.60146248195, MSE: 4264317434.2225394, MAE: 44292.93086802754, MedAE: 30307.931882133475, WMAPE: 52528.4800090297, SMAPE: 4.728879624935968, COD: 0.9865079903985149, F: 11662.539177673221, \n",
      "iter: 11 / 28   ---- The best model was updated in iter 11 ----\n",
      "    best_features['store', 'unemployment', 'cpi', 'dayofyear', 'temperature', 'fuel_price', ('store', 'cpi'), ('store', 'unemployment'), ('store', 'dayofweek')]\n",
      "    MD: -781.6296155004391, MAD: 461245.17648838024, MSE: 4239004410.4084854, MAE: 44185.89438916341, MedAE: 29756.556764906738, WMAPE: 52313.31768781697, SMAPE: 4.727283314613559, COD: 0.9865880790799064, F: 10421.194495275617, \n",
      "iter: 13 / 28   ---- The best model was updated in iter 13 ----\n",
      "    best_features['store', 'unemployment', 'cpi', 'dayofyear', 'temperature', 'fuel_price', ('store', 'cpi'), ('store', 'unemployment'), ('store', 'dayofweek'), ('unemployment', 'dayofweek')]\n",
      "    MD: -594.3768668331749, MAD: 461035.1506581324, MSE: 4211221517.457271, MAE: 44152.29313008194, MedAE: 30023.442510682216, WMAPE: 52232.78280173626, SMAPE: 4.72753680967222, COD: 0.9866759822588411, F: 9430.218570242292, \n",
      "iter: 16 / 28   ---- The best model was updated in iter 16 ----\n",
      "    best_features['store', 'unemployment', 'cpi', 'dayofyear', 'temperature', 'fuel_price', ('store', 'cpi'), ('store', 'unemployment'), ('store', 'dayofweek'), ('unemployment', 'dayofweek'), ('cpi', 'dayofweek')]\n",
      "    MD: -733.8889562609007, MAD: 461480.52112807863, MSE: 4194751884.9801593, MAE: 44122.37001733094, MedAE: 30324.26499540411, WMAPE: 52533.20978597997, SMAPE: 4.686364563682977, COD: 0.986728091053025, F: 8617.56802144999, \n",
      "iter: 18 / 28   ---- The best model was updated in iter 18 ----\n",
      "    best_features['store', 'unemployment', 'cpi', 'dayofyear', 'temperature', 'fuel_price', ('store', 'cpi'), ('store', 'unemployment'), ('store', 'dayofweek'), ('unemployment', 'dayofweek'), ('cpi', 'dayofweek'), ('dayofweek', 'dayofyear')]\n",
      "    MD: -809.7926343457481, MAD: 461583.6351462778, MSE: 4194375765.3004875, MAE: 44190.72781810926, MedAE: 30080.486818523495, WMAPE: 52610.28065198748, SMAPE: 4.691058813552528, COD: 0.9867292810700459, F: 7899.107828545303, \n",
      "iter: 19 / 28   ---- The best model was updated in iter 19 ----\n",
      "    best_features['store', 'unemployment', 'cpi', 'dayofyear', 'temperature', 'fuel_price', ('store', 'cpi'), ('store', 'unemployment'), ('store', 'dayofweek'), ('unemployment', 'dayofweek'), ('cpi', 'dayofweek'), ('dayofweek', 'dayofyear'), ('holiday_flag', 'dayofyear')]\n",
      "    MD: -827.5111784578118, MAD: 461596.9857395118, MSE: 4186166067.7697816, MAE: 44165.27871030839, MedAE: 30009.49745008163, WMAPE: 52573.02429834899, SMAPE: 4.691025167647364, COD: 0.9867552559932588, F: 7299.4345284590345, \n",
      "iter: 20 / 28   ---- The best model was updated in iter 20 ----\n",
      "    best_features['store', 'unemployment', 'cpi', 'dayofyear', 'temperature', 'fuel_price', ('store', 'cpi'), ('store', 'unemployment'), ('store', 'dayofweek'), ('unemployment', 'dayofweek'), ('cpi', 'dayofweek'), ('dayofweek', 'dayofyear'), ('holiday_flag', 'dayofyear'), ('fuel_price', 'dayofweek')]\n",
      "    MD: -1070.0846303128535, MAD: 461745.4175790186, MSE: 4177900231.876273, MAE: 44503.364034910395, MedAE: 30639.832000282244, WMAPE: 52809.05443787738, SMAPE: 4.727299966314025, COD: 0.9867814085344239, F: 6800.113881446697, \n",
      "iter: 28 / 28 \n",
      "Now, you can make a forecasting analysis with the best modelusing the pickle file in the ./models directory!\n",
      "For instructions, please refer to the file tornado.ipynb inthe examples/regression/tornado directory."
     ]
    }
   ],
   "source": [
    "from cyclic_boosting.tornado import Generator, Manager, Trainer\n",
    "\n",
    "data_deliverler = Generator.TornadoDataModule(\"./Walmart.csv\")\n",
    "manager = Manager.TornadoVariableSelectionModule()\n",
    "trainer = Trainer.SqueezeTrainer(data_deliverler, manager)\n",
    "trainer.run(target=\"weekly_sales\", log_policy=\"compute_COD\", verbose=False)"
   ]
  },
  {
   "cell_type": "markdown",
   "id": "15833e8f",
   "metadata": {},
   "source": [
    "# Load the best model and make predictions."
   ]
  },
  {
   "cell_type": "markdown",
   "id": "f3ea2396",
   "metadata": {},
   "source": [
    "Get the best model path."
   ]
  },
  {
   "cell_type": "code",
   "execution_count": 5,
   "id": "af5d0ef6",
   "metadata": {},
   "outputs": [
    {
     "name": "stdout",
     "output_type": "stream",
     "text": [
      "./models/model_20/model_20.pkl\n"
     ]
    }
   ],
   "source": [
    "import pickle\n",
    "from pathlib import Path\n",
    "\n",
    "model_nos = []\n",
    "for p in sorted(Path(\"./models/\").glob(\"model*\")):\n",
    "    model_nos.append(str(p)[str(p).find(\"_\") + 1 :])\n",
    "model_path = f\"./models/model_{model_nos[-1]}/model_{model_nos[-1]}.pkl\"\n",
    "print(model_path)"
   ]
  },
  {
   "cell_type": "markdown",
   "id": "f67a0e00",
   "metadata": {},
   "source": [
    "Make predictions with the best model."
   ]
  },
  {
   "cell_type": "code",
   "execution_count": 6,
   "id": "3e6cf4db",
   "metadata": {},
   "outputs": [
    {
     "ename": "ValueError",
     "evalue": "Input Matrix X has not the same number of feature columns (2) as the matrix in the fit (8).",
     "output_type": "error",
     "traceback": [
      "\u001b[0;31m---------------------------------------------------------------------------\u001b[0m",
      "\u001b[0;31mValueError\u001b[0m                                Traceback (most recent call last)",
      "\u001b[1;32m/home/tsuruda_yoshito/work/tornado/rPrivate-cyclic-boosting/examples/regression/tornado/test_2/tornado.ipynb Cell 13\u001b[0m line \u001b[0;36m2\n\u001b[1;32m     <a href='vscode-notebook-cell://wsl%2Bubuntu/home/tsuruda_yoshito/work/tornado/rPrivate-cyclic-boosting/examples/regression/tornado/test_2/tornado.ipynb#X25sdnNjb2RlLXJlbW90ZQ%3D%3D?line=18'>19</a>\u001b[0m \u001b[39mwith\u001b[39;00m \u001b[39mopen\u001b[39m(model_path, \u001b[39m\"\u001b[39m\u001b[39mrb\u001b[39m\u001b[39m\"\u001b[39m) \u001b[39mas\u001b[39;00m f:\n\u001b[1;32m     <a href='vscode-notebook-cell://wsl%2Bubuntu/home/tsuruda_yoshito/work/tornado/rPrivate-cyclic-boosting/examples/regression/tornado/test_2/tornado.ipynb#X25sdnNjb2RlLXJlbW90ZQ%3D%3D?line=19'>20</a>\u001b[0m     CB_est \u001b[39m=\u001b[39m pickle\u001b[39m.\u001b[39mload(f)\n\u001b[0;32m---> <a href='vscode-notebook-cell://wsl%2Bubuntu/home/tsuruda_yoshito/work/tornado/rPrivate-cyclic-boosting/examples/regression/tornado/test_2/tornado.ipynb#X25sdnNjb2RlLXJlbW90ZQ%3D%3D?line=20'>21</a>\u001b[0m     yhat \u001b[39m=\u001b[39m CB_est\u001b[39m.\u001b[39;49mpredict(X\u001b[39m.\u001b[39;49mcopy())\n\u001b[1;32m     <a href='vscode-notebook-cell://wsl%2Bubuntu/home/tsuruda_yoshito/work/tornado/rPrivate-cyclic-boosting/examples/regression/tornado/test_2/tornado.ipynb#X25sdnNjb2RlLXJlbW90ZQ%3D%3D?line=21'>22</a>\u001b[0m     \u001b[39mprint\u001b[39m(yhat)\n",
      "File \u001b[0;32m~/work/tornado/rPrivate-cyclic-boosting/.venv/lib/python3.10/site-packages/sklearn/pipeline.py:514\u001b[0m, in \u001b[0;36mPipeline.predict\u001b[0;34m(self, X, **predict_params)\u001b[0m\n\u001b[1;32m    512\u001b[0m Xt \u001b[39m=\u001b[39m X\n\u001b[1;32m    513\u001b[0m \u001b[39mfor\u001b[39;00m _, name, transform \u001b[39min\u001b[39;00m \u001b[39mself\u001b[39m\u001b[39m.\u001b[39m_iter(with_final\u001b[39m=\u001b[39m\u001b[39mFalse\u001b[39;00m):\n\u001b[0;32m--> 514\u001b[0m     Xt \u001b[39m=\u001b[39m transform\u001b[39m.\u001b[39;49mtransform(Xt)\n\u001b[1;32m    515\u001b[0m \u001b[39mreturn\u001b[39;00m \u001b[39mself\u001b[39m\u001b[39m.\u001b[39msteps[\u001b[39m-\u001b[39m\u001b[39m1\u001b[39m][\u001b[39m1\u001b[39m]\u001b[39m.\u001b[39mpredict(Xt, \u001b[39m*\u001b[39m\u001b[39m*\u001b[39mpredict_params)\n",
      "File \u001b[0;32m~/work/tornado/rPrivate-cyclic-boosting/.venv/lib/python3.10/site-packages/sklearn/utils/_set_output.py:157\u001b[0m, in \u001b[0;36m_wrap_method_output.<locals>.wrapped\u001b[0;34m(self, X, *args, **kwargs)\u001b[0m\n\u001b[1;32m    155\u001b[0m \u001b[39m@wraps\u001b[39m(f)\n\u001b[1;32m    156\u001b[0m \u001b[39mdef\u001b[39;00m \u001b[39mwrapped\u001b[39m(\u001b[39mself\u001b[39m, X, \u001b[39m*\u001b[39margs, \u001b[39m*\u001b[39m\u001b[39m*\u001b[39mkwargs):\n\u001b[0;32m--> 157\u001b[0m     data_to_wrap \u001b[39m=\u001b[39m f(\u001b[39mself\u001b[39;49m, X, \u001b[39m*\u001b[39;49margs, \u001b[39m*\u001b[39;49m\u001b[39m*\u001b[39;49mkwargs)\n\u001b[1;32m    158\u001b[0m     \u001b[39mif\u001b[39;00m \u001b[39misinstance\u001b[39m(data_to_wrap, \u001b[39mtuple\u001b[39m):\n\u001b[1;32m    159\u001b[0m         \u001b[39m# only wrap the first output for cross decomposition\u001b[39;00m\n\u001b[1;32m    160\u001b[0m         return_tuple \u001b[39m=\u001b[39m (\n\u001b[1;32m    161\u001b[0m             _wrap_data_with_container(method, data_to_wrap[\u001b[39m0\u001b[39m], X, \u001b[39mself\u001b[39m),\n\u001b[1;32m    162\u001b[0m             \u001b[39m*\u001b[39mdata_to_wrap[\u001b[39m1\u001b[39m:],\n\u001b[1;32m    163\u001b[0m         )\n",
      "File \u001b[0;32m~/work/tornado/rPrivate-cyclic-boosting/cyclic_boosting/binning/bin_number_transformer.py:176\u001b[0m, in \u001b[0;36mBinNumberTransformer.transform\u001b[0;34m(self, X, y, fit_mode)\u001b[0m\n\u001b[1;32m    175\u001b[0m \u001b[39mdef\u001b[39;00m \u001b[39mtransform\u001b[39m(\u001b[39mself\u001b[39m, X, y\u001b[39m=\u001b[39m\u001b[39mNone\u001b[39;00m, fit_mode\u001b[39m=\u001b[39m\u001b[39m0\u001b[39m):\n\u001b[0;32m--> 176\u001b[0m     \u001b[39mself\u001b[39;49m\u001b[39m.\u001b[39;49m_check_input_for_transform(X)\n\u001b[1;32m    178\u001b[0m     \u001b[39mif\u001b[39;00m check_frame_empty(X):\n\u001b[1;32m    179\u001b[0m         \u001b[39mif\u001b[39;00m \u001b[39misinstance\u001b[39m(X, pd\u001b[39m.\u001b[39mDataFrame):\n",
      "File \u001b[0;32m~/work/tornado/rPrivate-cyclic-boosting/cyclic_boosting/binning/ecdf_transformer.py:263\u001b[0m, in \u001b[0;36mECdfTransformer._check_input_for_transform\u001b[0;34m(self, X)\u001b[0m\n\u001b[1;32m    261\u001b[0m n_cols \u001b[39m=\u001b[39m \u001b[39mlen\u001b[39m(columns)\n\u001b[1;32m    262\u001b[0m \u001b[39mif\u001b[39;00m n_cols \u001b[39m!=\u001b[39m \u001b[39mlen\u001b[39m(\u001b[39mself\u001b[39m\u001b[39m.\u001b[39mbins_and_cdfs_):\n\u001b[0;32m--> 263\u001b[0m     \u001b[39mraise\u001b[39;00m \u001b[39mValueError\u001b[39;00m(\n\u001b[1;32m    264\u001b[0m         \u001b[39m\"\u001b[39m\u001b[39mInput Matrix X has not the same number\u001b[39m\u001b[39m\"\u001b[39m\n\u001b[1;32m    265\u001b[0m         \u001b[39m\"\u001b[39m\u001b[39m of feature columns (\u001b[39m\u001b[39m%s\u001b[39;00m\u001b[39m) as \u001b[39m\u001b[39m\"\u001b[39m\n\u001b[1;32m    266\u001b[0m         \u001b[39m\"\u001b[39m\u001b[39mthe matrix in the fit (\u001b[39m\u001b[39m%s\u001b[39;00m\u001b[39m).\u001b[39m\u001b[39m\"\u001b[39m \u001b[39m%\u001b[39m (n_cols, \u001b[39mlen\u001b[39m(\u001b[39mself\u001b[39m\u001b[39m.\u001b[39mbins_and_cdfs_))\n\u001b[1;32m    267\u001b[0m     )\n",
      "\u001b[0;31mValueError\u001b[0m: Input Matrix X has not the same number of feature columns (2) as the matrix in the fit (8)."
     ]
    }
   ],
   "source": [
    "data = {\n",
    "    \"dayofweek\": [4],\n",
    "    \"dayofyear\": [190],\n",
    "    \"event\": [0],\n",
    "    \"l_id\": [1],\n",
    "    \"normal_price\": [10.34],\n",
    "    \"p_id\": [20],\n",
    "    \"pg_id_1\": [1],\n",
    "    \"pg_id_2\": [1],\n",
    "    \"pg_id_3\": [1],\n",
    "    \"promotion_type\": [1],\n",
    "    \"sales_area\": [6321.6800893695445],\n",
    "    \"sales_price\": [10.34],\n",
    "    \"school_holiday\": [0],\n",
    "}\n",
    "\n",
    "X = pd.DataFrame(data)\n",
    "\n",
    "with open(model_path, \"rb\") as f:\n",
    "    CB_est = pickle.load(f)\n",
    "    yhat = CB_est.predict(X.copy())\n",
    "    print(yhat)"
   ]
  }
 ],
 "metadata": {
  "colab": {
   "provenance": []
  },
  "kernelspec": {
   "display_name": "Python 3 (ipykernel)",
   "language": "python",
   "name": "python3"
  },
  "language_info": {
   "codemirror_mode": {
    "name": "ipython",
    "version": 3
   },
   "file_extension": ".py",
   "mimetype": "text/x-python",
   "name": "python",
   "nbconvert_exporter": "python",
   "pygments_lexer": "ipython3",
   "version": "3.10.11"
  }
 },
 "nbformat": 4,
 "nbformat_minor": 5
}

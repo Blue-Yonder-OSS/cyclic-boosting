{
 "cells": [
  {
   "cell_type": "markdown",
   "id": "e4f6005c-1e82-45cc-9013-fa89752acadf",
   "metadata": {
    "id": "e4f6005c-1e82-45cc-9013-fa89752acadf"
   },
   "source": [
    "# Regression using Cyclic Boosting"
   ]
  },
  {
   "cell_type": "markdown",
   "id": "4ee82ebe-8aa4-49ee-a84b-2a9aed8868c3",
   "metadata": {
    "colab": {
     "base_uri": "https://localhost:8080/"
    },
    "id": "Q8nS3cek3utK",
    "outputId": "e7b226b6-9dc5-4896-8066-8d105725fdd0"
   },
   "source": [
    "First, install the  package and its dependencies\n",
    "\n",
    "```sh\n",
    "!pip install cyclic-boosting\n",
    "```"
   ]
  },
  {
   "cell_type": "code",
   "execution_count": null,
   "id": "d032f099-abc3-414f-957d-bf915cd2bd4e",
   "metadata": {
    "id": "d032f099-abc3-414f-957d-bf915cd2bd4e",
    "tags": []
   },
   "outputs": [],
   "source": [
    "import pandas as pd\n",
    "import numpy as np"
   ]
  },
  {
   "cell_type": "markdown",
   "metadata": {},
   "source": [
    "# Let's use the test dataset from kaggle\n",
    "\n",
    "Sign in to Kaggle at the URL below and download the dataset.  \n",
    "https://www.kaggle.com/datasets/yasserh/walmart-dataset\n",
    "\n",
    "Place the downloaded dataset in the following directory.  \n",
    "examples/regression/tornado/test_2/Walmart_data/"
   ]
  },
  {
   "cell_type": "markdown",
   "id": "f795a87a-df58-4b1a-8717-b95203fd65cd",
   "metadata": {},
   "source": [
    "For time-series data, a \"date\" column must be included to indicate the date and time the data was obtained. The column name and format must be consistent. The \"dayofweek\" column for the day of the week and the \"dayofyear\" column for the total number of days in the year are automatically created if not already present, but if they are already present, the column names must be correct.\n",
    "\n",
    "This dataset has data for each week."
   ]
  },
  {
   "cell_type": "code",
   "execution_count": null,
   "id": "bbffc7a5",
   "metadata": {},
   "outputs": [],
   "source": [
    "df = pd.read_csv(\"./Walmart_data/Walmart.csv\")\n",
    "df = df.rename(columns={'Date': 'date'})\n",
    "df[\"date\"] = pd.to_datetime(df[\"date\"], format='%d-%m-%Y')\n",
    "df.to_csv(\"./Walmart.csv\", index=False)"
   ]
  },
  {
   "cell_type": "markdown",
   "id": "1220e50d",
   "metadata": {},
   "source": [
    "# Automated Machine Learning with Tornado\n",
    "With tornado, you can automatically perform data preparation, feature property setting, hyperparameter tuning, model building, training, evaluation, and plotting!"
   ]
  },
  {
   "cell_type": "code",
   "execution_count": null,
   "id": "ccbe9343",
   "metadata": {},
   "outputs": [],
   "source": [
    "from cyclic_boosting.tornado import Generator, Manager, Trainer\n",
    "\n",
    "data_deliverler = Generator.TornadoDataModule(\"./Walmart.csv\")\n",
    "manager = Manager.TornadoVariableSelectionModule()\n",
    "trainer = Trainer.SqueezeTrainer(data_deliverler, manager)\n",
    "trainer.run(target=\"weekly_sales\", log_policy=\"compute_COD\", verbose=False)"
   ]
  },
  {
   "cell_type": "markdown",
   "id": "15833e8f",
   "metadata": {},
   "source": [
    "# Load the best model and make predictions."
   ]
  },
  {
   "cell_type": "markdown",
   "id": "f3ea2396",
   "metadata": {},
   "source": [
    "Get the best model path."
   ]
  },
  {
   "cell_type": "code",
   "execution_count": null,
   "id": "af5d0ef6",
   "metadata": {},
   "outputs": [],
   "source": [
    "import pickle\n",
    "from pathlib import Path\n",
    "\n",
    "model_nos = []\n",
    "for p in sorted(Path(\"./models/\").glob(\"model*\")):\n",
    "    model_nos.append(str(p)[str(p).find(\"_\") + 1 :])\n",
    "model_path = f\"./models/model_{model_nos[-1]}/model_{model_nos[-1]}.pkl\"\n",
    "print(model_path)"
   ]
  },
  {
   "cell_type": "markdown",
   "id": "f67a0e00",
   "metadata": {},
   "source": [
    "Make predictions with the best model."
   ]
  },
  {
   "cell_type": "code",
   "execution_count": null,
   "id": "3e6cf4db",
   "metadata": {},
   "outputs": [],
   "source": [
    "data = {\n",
    "    \"store\": [5],\n",
    "    \"holiday_flag\": [0],\n",
    "    \"temperature\": [48.3],\n",
    "    \"fuel_price\": [2.976],\n",
    "    \"cpi\": [211.9560305],\n",
    "    'unemployment': [6.634],\n",
    "    \"dayofweek\": [4],\n",
    "    \"dayofyear\": [7],\n",
    "}\n",
    "X = pd.DataFrame(data)\n",
    "\n",
    "with open(model_path, \"rb\") as f:\n",
    "    CB_est = pickle.load(f)\n",
    "    yhat = CB_est.predict(X.copy())\n",
    "    print(yhat)"
   ]
  }
 ],
 "metadata": {
  "colab": {
   "provenance": []
  },
  "kernelspec": {
   "display_name": "Python 3 (ipykernel)",
   "language": "python",
   "name": "python3"
  },
  "language_info": {
   "codemirror_mode": {
    "name": "ipython",
    "version": 3
   },
   "file_extension": ".py",
   "mimetype": "text/x-python",
   "name": "python",
   "nbconvert_exporter": "python",
   "pygments_lexer": "ipython3",
   "version": "3.10.11"
  }
 },
 "nbformat": 4,
 "nbformat_minor": 5
}

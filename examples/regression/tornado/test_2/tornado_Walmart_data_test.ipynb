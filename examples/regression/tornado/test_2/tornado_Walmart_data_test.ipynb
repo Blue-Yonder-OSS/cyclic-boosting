{
 "cells": [
  {
   "cell_type": "markdown",
   "id": "e4f6005c-1e82-45cc-9013-fa89752acadf",
   "metadata": {
    "id": "e4f6005c-1e82-45cc-9013-fa89752acadf"
   },
   "source": [
    "# Regression using Cyclic Boosting"
   ]
  },
  {
   "cell_type": "markdown",
   "id": "4ee82ebe-8aa4-49ee-a84b-2a9aed8868c3",
   "metadata": {
    "colab": {
     "base_uri": "https://localhost:8080/"
    },
    "id": "Q8nS3cek3utK",
    "outputId": "e7b226b6-9dc5-4896-8066-8d105725fdd0"
   },
   "source": [
    "First, install the  package and its dependencies\n",
    "\n",
    "```sh\n",
    "!pip install cyclic-boosting\n",
    "```"
   ]
  },
  {
   "cell_type": "code",
   "execution_count": 1,
   "id": "d032f099-abc3-414f-957d-bf915cd2bd4e",
   "metadata": {
    "id": "d032f099-abc3-414f-957d-bf915cd2bd4e",
    "tags": []
   },
   "outputs": [],
   "source": [
    "import pandas as pd\n",
    "import numpy as np"
   ]
  },
  {
   "cell_type": "markdown",
   "id": "f795a87a-df58-4b1a-8717-b95203fd65cd",
   "metadata": {},
   "source": [
    "Let's use the test dataset from kaggle\n",
    "\n",
    "For time-series data, a \"date\" column must be included to indicate the date and time the data was obtained. The column name and format must be consistent. The \"dayofweek\" column for the day of the week and the \"dayofyear\" column for the total number of days in the year are automatically created if not already present, but if they are already present, the column names must be correct.\n",
    "\n",
    "This dataset has data for each week."
   ]
  },
  {
   "cell_type": "code",
   "execution_count": 2,
   "id": "bbffc7a5",
   "metadata": {},
   "outputs": [],
   "source": [
    "df = pd.read_csv(\"./Walmart_data/Walmart.csv\")\n",
    "df = df.rename(columns={'Date': 'date'})\n",
    "df[\"date\"] = pd.to_datetime(df[\"date\"], format='%d-%m-%Y')\n",
    "df.to_csv(\"./Walmart.csv\", index=False)"
   ]
  },
  {
   "cell_type": "markdown",
   "id": "1220e50d",
   "metadata": {},
   "source": [
    "# Automated Machine Learning with Tornado\n",
    "With tornado, you can automatically perform data preparation, feature property setting, hyperparameter tuning, model building, training, evaluation, and plotting!"
   ]
  },
  {
   "cell_type": "code",
   "execution_count": 3,
   "id": "ccbe9343",
   "metadata": {},
   "outputs": [
    {
     "name": "stderr",
     "output_type": "stream",
     "text": [
      "Data interval is 'weekly'. If not, give\n",
      "    the data_interval option in the TornadoDataModule."
     ]
    },
    {
     "name": "stdout",
     "output_type": "stream",
     "text": [
      "Auto analysis target ['temperature', 'fuel_price', 'cpi', 'unemployment']\n",
      "    has_trend: ['temperature', 'fuel_price', 'cpi', 'unemployment']\n",
      "    has_seasonality: ['temperature', 'fuel_price']\n",
      "    has_up_monotonicity: []\n",
      "    has_down_monotonicity: []\n",
      "    has_linearity: []\n",
      "    has_missing: []\n"
     ]
    },
    {
     "name": "stderr",
     "output_type": "stream",
     "text": [
      "iter: 5 / 35 Encountered negative change of loss. This might not be a problem, as long as the model converges. Check the LOSS changes in the analysis plots.\n",
      "iter: 35 / 35 \n",
      "TRUNCATED\n",
      "['store', 'unemployment', 'cpi', 'dayofyear', 'temperature', 'holiday_flag', 'dayofweek', 'fuel_price', ('store', 'cpi'), ('store', 'unemployment'), ('store', 'dayofweek'), ('store', 'holiday_flag'), ('unemployment', 'dayofweek'), ('holiday_flag', 'unemployment'), ('temperature', 'dayofweek'), ('cpi', 'dayofweek'), ('holiday_flag', 'cpi'), ('dayofweek', 'dayofyear'), ('holiday_flag', 'dayofyear'), ('fuel_price', 'dayofweek'), ('temperature', 'fuel_price'), ('cpi', 'dayofyear'), ('temperature', 'dayofyear'), ('unemployment', 'dayofyear'), ('cpi', 'unemployment'), ('fuel_price', 'cpi'), ('temperature', 'unemployment'), ('fuel_price', 'unemployment'), ('temperature', 'cpi')]\n",
      "\n",
      "iter: 0 / 28   ---- The best model was updated in iter 0 ----\n",
      "    best_features['store']\n",
      "    MD: 224.44074268557605, MAD: 450947.75511676737, MSE: 27288585515.034454, MAE: 91708.19229275435, MedAE: 51583.31415318322, WMAPE: 128580.89123841499, SMAPE: 8.50545363937992, COD: 0.9136607760892648, F: 13586.848955063995, \n",
      "iter: 2 / 28   ---- The best model was updated in iter 2 ----\n",
      "    best_features['store', 'unemployment']\n",
      "    MD: 227.52751431460894, MAD: 449727.49598777434, MSE: 26921172286.732777, MAE: 90928.47748734783, MedAE: 51481.00380566181, WMAPE: 127209.37221039167, SMAPE: 8.484588856445532, COD: 0.9148232464917203, F: 6857.9302822488735, \n",
      "iter: 3 / 28   ---- The best model was updated in iter 3 ----\n",
      "    best_features['store', 'unemployment', 'cpi']\n",
      "    MD: 662.5766985115603, MAD: 448326.05665020744, MSE: 26383166412.26834, MAE: 90320.22038606174, MedAE: 52488.57190747955, WMAPE: 125901.60844591992, SMAPE: 8.46376705878705, COD: 0.9165254603948588, F: 4614.820287666279, \n",
      "iter: 4 / 28   ---- The best model was updated in iter 4 ----\n",
      "    best_features['store', 'unemployment', 'cpi', 'dayofyear']\n",
      "    MD: 66.94426301267163, MAD: 453590.26082682534, MSE: 6999921866.800129, MAE: 57811.64438015489, MedAE: 38524.75087829912, WMAPE: 71401.57229047651, SMAPE: 6.012364307987852, COD: 0.9778527244996874, F: 13690.409954007016, \n",
      "iter: 5 / 28   ---- The best model was updated in iter 5 ----\n",
      "    best_features['store', 'unemployment', 'cpi', 'dayofyear', 'temperature']\n",
      "    MD: -157.4669688472415, MAD: 453758.08422590134, MSE: 6930467661.369969, MAE: 56663.873913511925, MedAE: 37676.68440801877, WMAPE: 70369.9480835061, SMAPE: 5.880906446331295, COD: 0.9780724728699675, F: 11058.95134961144, \n",
      "iter: 8 / 28   ---- The best model was updated in iter 8 ----\n",
      "    best_features['store', 'unemployment', 'cpi', 'dayofyear', 'temperature', 'fuel_price']\n",
      "    MD: -511.2340977973122, MAD: 454588.11381142616, MSE: 6611926425.508785, MAE: 55891.109308313935, MedAE: 38414.447967633954, WMAPE: 68928.98403583748, SMAPE: 5.831726341245135, COD: 0.9790803156206541, F: 9697.835080859255, \n",
      "iter: 9 / 28   ---- The best model was updated in iter 9 ----\n",
      "    best_features['store', 'unemployment', 'cpi', 'dayofyear', 'temperature', 'fuel_price', ('store', 'cpi')]\n",
      "    MD: -1620.663893662877, MAD: 461163.6147411512, MSE: 4654606418.517168, MAE: 46090.433631376894, MedAE: 30848.215272237197, WMAPE: 54989.82833430675, SMAPE: 4.936386124232086, COD: 0.9852731426638699, F: 12210.785909697588, \n",
      "iter: 10 / 28   ---- The best model was updated in iter 10 ----\n",
      "    best_features['store', 'unemployment', 'cpi', 'dayofyear', 'temperature', 'fuel_price', ('store', 'cpi'), ('store', 'unemployment')]\n",
      "    MD: -796.9598689411737, MAD: 461234.60146248195, MSE: 4264317434.2225394, MAE: 44292.93086802754, MedAE: 30307.931882133475, WMAPE: 52528.4800090297, SMAPE: 4.728879624935968, COD: 0.9865079903985149, F: 11662.539177673221, \n",
      "iter: 11 / 28   ---- The best model was updated in iter 11 ----\n",
      "    best_features['store', 'unemployment', 'cpi', 'dayofyear', 'temperature', 'fuel_price', ('store', 'cpi'), ('store', 'unemployment'), ('store', 'dayofweek')]\n",
      "    MD: -781.6296155004391, MAD: 461245.17648838024, MSE: 4239004410.4084854, MAE: 44185.89438916341, MedAE: 29756.556764906738, WMAPE: 52313.31768781697, SMAPE: 4.727283314613559, COD: 0.9865880790799064, F: 10421.194495275617, \n",
      "iter: 13 / 28   ---- The best model was updated in iter 13 ----\n",
      "    best_features['store', 'unemployment', 'cpi', 'dayofyear', 'temperature', 'fuel_price', ('store', 'cpi'), ('store', 'unemployment'), ('store', 'dayofweek'), ('unemployment', 'dayofweek')]\n",
      "    MD: -594.3768668331749, MAD: 461035.1506581324, MSE: 4211221517.457271, MAE: 44152.29313008194, MedAE: 30023.442510682216, WMAPE: 52232.78280173626, SMAPE: 4.72753680967222, COD: 0.9866759822588411, F: 9430.218570242292, \n",
      "iter: 16 / 28   ---- The best model was updated in iter 16 ----\n",
      "    best_features['store', 'unemployment', 'cpi', 'dayofyear', 'temperature', 'fuel_price', ('store', 'cpi'), ('store', 'unemployment'), ('store', 'dayofweek'), ('unemployment', 'dayofweek'), ('cpi', 'dayofweek')]\n",
      "    MD: -733.8889562609007, MAD: 461480.52112807863, MSE: 4194751884.9801593, MAE: 44122.37001733094, MedAE: 30324.26499540411, WMAPE: 52533.20978597997, SMAPE: 4.686364563682977, COD: 0.986728091053025, F: 8617.56802144999, \n",
      "iter: 18 / 28   ---- The best model was updated in iter 18 ----\n",
      "    best_features['store', 'unemployment', 'cpi', 'dayofyear', 'temperature', 'fuel_price', ('store', 'cpi'), ('store', 'unemployment'), ('store', 'dayofweek'), ('unemployment', 'dayofweek'), ('cpi', 'dayofweek'), ('dayofweek', 'dayofyear')]\n",
      "    MD: -809.7926343457481, MAD: 461583.6351462778, MSE: 4194375765.3004875, MAE: 44190.72781810926, MedAE: 30080.486818523495, WMAPE: 52610.28065198748, SMAPE: 4.691058813552528, COD: 0.9867292810700459, F: 7899.107828545303, \n",
      "iter: 19 / 28   ---- The best model was updated in iter 19 ----\n",
      "    best_features['store', 'unemployment', 'cpi', 'dayofyear', 'temperature', 'fuel_price', ('store', 'cpi'), ('store', 'unemployment'), ('store', 'dayofweek'), ('unemployment', 'dayofweek'), ('cpi', 'dayofweek'), ('dayofweek', 'dayofyear'), ('holiday_flag', 'dayofyear')]\n",
      "    MD: -827.5111784578118, MAD: 461596.9857395118, MSE: 4186166067.7697816, MAE: 44165.27871030839, MedAE: 30009.49745008163, WMAPE: 52573.02429834899, SMAPE: 4.691025167647364, COD: 0.9867552559932588, F: 7299.4345284590345, \n",
      "iter: 20 / 28   ---- The best model was updated in iter 20 ----\n",
      "    best_features['store', 'unemployment', 'cpi', 'dayofyear', 'temperature', 'fuel_price', ('store', 'cpi'), ('store', 'unemployment'), ('store', 'dayofweek'), ('unemployment', 'dayofweek'), ('cpi', 'dayofweek'), ('dayofweek', 'dayofyear'), ('holiday_flag', 'dayofyear'), ('fuel_price', 'dayofweek')]\n",
      "    MD: -1070.0846303128535, MAD: 461745.4175790186, MSE: 4177900231.876273, MAE: 44503.364034910395, MedAE: 30639.832000282244, WMAPE: 52809.05443787738, SMAPE: 4.727299966314025, COD: 0.9867814085344239, F: 6800.113881446697, \n",
      "iter: 28 / 28 \n",
      "\n",
      "Now, you can make a forecasting analysis with the best model\n",
      "    using the pickle file in the ./models directory!\n",
      "For instructions, please refer to the file tornado.ipynb in\n",
      "    the examples/regression/tornado directory."
     ]
    }
   ],
   "source": [
    "from cyclic_boosting.tornado import Generator, Manager, Trainer\n",
    "\n",
    "data_deliverler = Generator.TornadoDataModule(\"./Walmart.csv\")\n",
    "manager = Manager.TornadoVariableSelectionModule()\n",
    "trainer = Trainer.SqueezeTrainer(data_deliverler, manager)\n",
    "trainer.run(target=\"weekly_sales\", log_policy=\"compute_COD\", verbose=False)"
   ]
  },
  {
   "cell_type": "markdown",
   "id": "15833e8f",
   "metadata": {},
   "source": [
    "# Load the best model and make predictions."
   ]
  },
  {
   "cell_type": "markdown",
   "id": "f3ea2396",
   "metadata": {},
   "source": [
    "Get the best model path."
   ]
  },
  {
   "cell_type": "code",
   "execution_count": 4,
   "id": "af5d0ef6",
   "metadata": {},
   "outputs": [
    {
     "name": "stdout",
     "output_type": "stream",
     "text": [
      "./models/model_20/model_20.pkl\n"
     ]
    }
   ],
   "source": [
    "import pickle\n",
    "from pathlib import Path\n",
    "\n",
    "model_nos = []\n",
    "for p in sorted(Path(\"./models/\").glob(\"model*\")):\n",
    "    model_nos.append(str(p)[str(p).find(\"_\") + 1 :])\n",
    "model_path = f\"./models/model_{model_nos[-1]}/model_{model_nos[-1]}.pkl\"\n",
    "print(model_path)"
   ]
  },
  {
   "cell_type": "markdown",
   "id": "f67a0e00",
   "metadata": {},
   "source": [
    "Make predictions with the best model."
   ]
  },
  {
   "cell_type": "code",
   "execution_count": 5,
   "id": "3e6cf4db",
   "metadata": {},
   "outputs": [
    {
     "name": "stdout",
     "output_type": "stream",
     "text": [
      "[283081.02621612]\n"
     ]
    }
   ],
   "source": [
    "data = {\n",
    "    \"store\": [5],\n",
    "    \"holiday_flag\": [0],\n",
    "    \"temperature\": [48.3],\n",
    "    \"fuel_price\": [2.976],\n",
    "    \"cpi\": [211.9560305],\n",
    "    'unemployment': [6.634],\n",
    "    \"dayofweek\": [4],\n",
    "    \"dayofyear\": [7],\n",
    "}\n",
    "X = pd.DataFrame(data)\n",
    "\n",
    "with open(model_path, \"rb\") as f:\n",
    "    CB_est = pickle.load(f)\n",
    "    yhat = CB_est.predict(X.copy())\n",
    "    print(yhat)"
   ]
  }
 ],
 "metadata": {
  "colab": {
   "provenance": []
  },
  "kernelspec": {
   "display_name": "Python 3 (ipykernel)",
   "language": "python",
   "name": "python3"
  },
  "language_info": {
   "codemirror_mode": {
    "name": "ipython",
    "version": 3
   },
   "file_extension": ".py",
   "mimetype": "text/x-python",
   "name": "python",
   "nbconvert_exporter": "python",
   "pygments_lexer": "ipython3",
   "version": "3.10.11"
  }
 },
 "nbformat": 4,
 "nbformat_minor": 5
}

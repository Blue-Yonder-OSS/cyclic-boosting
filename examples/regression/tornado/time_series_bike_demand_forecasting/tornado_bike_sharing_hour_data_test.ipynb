{
 "cells": [
  {
   "cell_type": "markdown",
   "id": "e4f6005c-1e82-45cc-9013-fa89752acadf",
   "metadata": {
    "id": "e4f6005c-1e82-45cc-9013-fa89752acadf"
   },
   "source": [
    "# Regression using Cyclic Boosting"
   ]
  },
  {
   "cell_type": "markdown",
   "id": "4ee82ebe-8aa4-49ee-a84b-2a9aed8868c3",
   "metadata": {
    "colab": {
     "base_uri": "https://localhost:8080/"
    },
    "id": "Q8nS3cek3utK",
    "outputId": "e7b226b6-9dc5-4896-8066-8d105725fdd0"
   },
   "source": [
    "First, install the  package and its dependencies\n",
    "\n",
    "```sh\n",
    "!pip install cyclic-boosting\n",
    "```"
   ]
  },
  {
   "cell_type": "code",
   "execution_count": 1,
   "id": "79044ee9",
   "metadata": {},
   "outputs": [],
   "source": [
    "import logging\n",
    "\n",
    "logging.getLogger().setLevel(logging.ERROR)\n",
    "import warnings\n",
    "\n",
    "warnings.filterwarnings(\"ignore\")"
   ]
  },
  {
   "cell_type": "code",
   "execution_count": 2,
   "id": "d032f099-abc3-414f-957d-bf915cd2bd4e",
   "metadata": {
    "id": "d032f099-abc3-414f-957d-bf915cd2bd4e",
    "tags": []
   },
   "outputs": [],
   "source": [
    "import pandas as pd\n",
    "import numpy as np\n",
    "import os\n",
    "from sklearn.model_selection import train_test_split\n",
    "from datetime import datetime"
   ]
  },
  {
   "cell_type": "markdown",
   "id": "a7233b87",
   "metadata": {},
   "source": [
    "# Let's use the test dataset from kaggle\n",
    "\n",
    "Sign in to Kaggle at the URL below and download the dataset.  \n",
    "https://www.kaggle.com/datasets/lakshmi25npathi/bike-sharing-dataset\n",
    "\n",
    "Place the downloaded dataset in the following directory.  \n",
    "examples/regression/tornado/time_series_bike_demand_forecasting/data/"
   ]
  },
  {
   "cell_type": "markdown",
   "id": "f795a87a-df58-4b1a-8717-b95203fd65cd",
   "metadata": {},
   "source": [
    "For time-series data, a \"date\" column must be included to indicate the date and time the data was obtained. The column name and format must be consistent. The \"dayofweek\" column for the day of the week and the \"dayofyear\" column for the total number of days in the year are automatically created if not already present, but if they are already present, the column names must be correct.\n",
    "\n",
    "This dataset has hourly data. In this dataset, the \"instant\" column is the data number. The \"casual\" and \"registered\" columns are the breakdown of sales, so they should be deleted."
   ]
  },
  {
   "cell_type": "code",
   "execution_count": 3,
   "id": "7c39b738-890f-45d0-b015-cc0a2306dc24",
   "metadata": {
    "id": "7c39b738-890f-45d0-b015-cc0a2306dc24",
    "tags": []
   },
   "outputs": [],
   "source": [
    "parpath = os.path.abspath(os.path.join(os.getcwd(), os.pardir))\n",
    "df = pd.read_csv(parpath + \"/time_series_bike_demand_forecasting/data/hour.csv\")\n",
    "df = df.rename(columns={\"dteday\": \"date\", \"weekday\": \"dayofweek\"})\n",
    "df = df.drop(columns=[\"instant\", \"casual\", \"registered\"])\n",
    "df[\"date\"] = df[\"date\"] + df[\"hr\"].astype(\"str\")\n",
    "df[\"date\"] = df[\"date\"].apply(lambda x: datetime.strptime(x, \"%Y-%m-%d%H\"))\n",
    "df.drop(columns=[\"yr\", \"mnth\", \"hr\"], inplace=True)\n",
    "\n",
    "df_train, df_test = train_test_split(df, test_size=0.2, shuffle=False)\n",
    "df_train.to_csv(\"./bike_sharing_hour_train.csv\", index=False)"
   ]
  },
  {
   "cell_type": "code",
   "execution_count": 4,
   "id": "e8692944-7695-4823-82ef-fb2a22a399a6",
   "metadata": {
    "tags": []
   },
   "outputs": [
    {
     "data": {
      "text/html": [
       "<div>\n",
       "<style scoped>\n",
       "    .dataframe tbody tr th:only-of-type {\n",
       "        vertical-align: middle;\n",
       "    }\n",
       "\n",
       "    .dataframe tbody tr th {\n",
       "        vertical-align: top;\n",
       "    }\n",
       "\n",
       "    .dataframe thead th {\n",
       "        text-align: right;\n",
       "    }\n",
       "</style>\n",
       "<table border=\"1\" class=\"dataframe\">\n",
       "  <thead>\n",
       "    <tr style=\"text-align: right;\">\n",
       "      <th></th>\n",
       "      <th>date</th>\n",
       "      <th>season</th>\n",
       "      <th>holiday</th>\n",
       "      <th>dayofweek</th>\n",
       "      <th>workingday</th>\n",
       "      <th>weathersit</th>\n",
       "      <th>temp</th>\n",
       "      <th>atemp</th>\n",
       "      <th>hum</th>\n",
       "      <th>windspeed</th>\n",
       "      <th>cnt</th>\n",
       "    </tr>\n",
       "  </thead>\n",
       "  <tbody>\n",
       "    <tr>\n",
       "      <th>0</th>\n",
       "      <td>2011-01-01 00:00:00</td>\n",
       "      <td>1</td>\n",
       "      <td>0</td>\n",
       "      <td>6</td>\n",
       "      <td>0</td>\n",
       "      <td>1</td>\n",
       "      <td>0.24</td>\n",
       "      <td>0.2879</td>\n",
       "      <td>0.81</td>\n",
       "      <td>0.0</td>\n",
       "      <td>16</td>\n",
       "    </tr>\n",
       "    <tr>\n",
       "      <th>1</th>\n",
       "      <td>2011-01-01 01:00:00</td>\n",
       "      <td>1</td>\n",
       "      <td>0</td>\n",
       "      <td>6</td>\n",
       "      <td>0</td>\n",
       "      <td>1</td>\n",
       "      <td>0.22</td>\n",
       "      <td>0.2727</td>\n",
       "      <td>0.80</td>\n",
       "      <td>0.0</td>\n",
       "      <td>40</td>\n",
       "    </tr>\n",
       "    <tr>\n",
       "      <th>2</th>\n",
       "      <td>2011-01-01 02:00:00</td>\n",
       "      <td>1</td>\n",
       "      <td>0</td>\n",
       "      <td>6</td>\n",
       "      <td>0</td>\n",
       "      <td>1</td>\n",
       "      <td>0.22</td>\n",
       "      <td>0.2727</td>\n",
       "      <td>0.80</td>\n",
       "      <td>0.0</td>\n",
       "      <td>32</td>\n",
       "    </tr>\n",
       "    <tr>\n",
       "      <th>3</th>\n",
       "      <td>2011-01-01 03:00:00</td>\n",
       "      <td>1</td>\n",
       "      <td>0</td>\n",
       "      <td>6</td>\n",
       "      <td>0</td>\n",
       "      <td>1</td>\n",
       "      <td>0.24</td>\n",
       "      <td>0.2879</td>\n",
       "      <td>0.75</td>\n",
       "      <td>0.0</td>\n",
       "      <td>13</td>\n",
       "    </tr>\n",
       "    <tr>\n",
       "      <th>4</th>\n",
       "      <td>2011-01-01 04:00:00</td>\n",
       "      <td>1</td>\n",
       "      <td>0</td>\n",
       "      <td>6</td>\n",
       "      <td>0</td>\n",
       "      <td>1</td>\n",
       "      <td>0.24</td>\n",
       "      <td>0.2879</td>\n",
       "      <td>0.75</td>\n",
       "      <td>0.0</td>\n",
       "      <td>1</td>\n",
       "    </tr>\n",
       "  </tbody>\n",
       "</table>\n",
       "</div>"
      ],
      "text/plain": [
       "                 date  season  holiday  dayofweek  workingday  weathersit  \\\n",
       "0 2011-01-01 00:00:00       1        0          6           0           1   \n",
       "1 2011-01-01 01:00:00       1        0          6           0           1   \n",
       "2 2011-01-01 02:00:00       1        0          6           0           1   \n",
       "3 2011-01-01 03:00:00       1        0          6           0           1   \n",
       "4 2011-01-01 04:00:00       1        0          6           0           1   \n",
       "\n",
       "   temp   atemp   hum  windspeed  cnt  \n",
       "0  0.24  0.2879  0.81        0.0   16  \n",
       "1  0.22  0.2727  0.80        0.0   40  \n",
       "2  0.22  0.2727  0.80        0.0   32  \n",
       "3  0.24  0.2879  0.75        0.0   13  \n",
       "4  0.24  0.2879  0.75        0.0    1  "
      ]
     },
     "execution_count": 4,
     "metadata": {},
     "output_type": "execute_result"
    }
   ],
   "source": [
    "df.head()"
   ]
  },
  {
   "cell_type": "markdown",
   "id": "1220e50d",
   "metadata": {},
   "source": [
    "# Automated Machine Learning with Tornado\n",
    "With tornado, you can automatically perform data preparation, feature property setting, hyperparameter tuning, model building, training, evaluation, and plotting! (but, It might take a few minutes. Have a coffee break during execution.)"
   ]
  },
  {
   "cell_type": "code",
   "execution_count": 5,
   "id": "ccbe9343",
   "metadata": {},
   "outputs": [
    {
     "name": "stderr",
     "output_type": "stream",
     "text": [
      "preprocessing log is created at /home/tsuruda_yoshito/work/tornado/rPrivate-cyclic-boosting/examples/regression/tornado/time_series_bike_demand_forecasting\n",
      "[START] Auto feature engineering \n",
      "  Original     -> 10 features\n",
      "  Preprocessed -> 13 features\n",
      "  Selected     -> 9 features\n",
      "[END] Auto feature engineering \n",
      "\n",
      "[START] Auto analysis \n",
      "  Target features: ['temp', 'windspeed', 'lag'] \n",
      "  Data interval is 'hourly'\n",
      "  if it is not correct, set 'data_interval' option at TornadoDataModule\n",
      "[END] Auto analysis \n",
      "\n",
      "Feature properties\n",
      "    is_unordered: ['holiday', 'dayofweek', 'workingday', 'weathersit', 'dayofyear']\n",
      "    is_continuous: ['temp', 'windspeed', 'lag']\n",
      "    has_trend: ['temp', 'windspeed', 'lag']\n",
      "    has_seasonality: ['temp', 'windspeed', 'lag']\n",
      "    has_up_monotonicity: []\n",
      "    has_down_monotonicity: []\n",
      "    has_linearity: []\n",
      "    has_missing: ['lag']\n",
      "\n",
      "\n",
      "=== [START] prior_prediction_with_single_variables ===\n",
      "iter: 1 / 1 \n",
      "=== [END] prior_prediction_with_single_variables ===\n",
      "\n",
      "=== [START] interaction_search ===\n",
      "iter: 28 / 28 \n",
      "Detect 7 interactions\n",
      "\n",
      "=== [END] interaction_search ===\n"
     ]
    }
   ],
   "source": [
    "from cyclic_boosting.tornado import generator, manager, model\n",
    "\n",
    "data_deliverer = generator.TornadoDataModule(df_train)\n",
    "train, validation = data_deliverer.generate_trainset(test_size=0.2, seed=0, target=\"cnt\", is_time_series=True)\n",
    "test = data_deliverer.generate_testset(df_test)\n",
    "\n",
    "training_manager = manager.PriorPredForwardSelectionManager(is_time_series=True, combination=2, dist=\"nbinom\")\n",
    "predictor = model.PriorPredInteractionSearchModel(training_manager)\n",
    "predictor.fit(\"cnt\", train, validation, criterion=\"COD\", verbose=False)"
   ]
  },
  {
   "cell_type": "markdown",
   "id": "f67a0e00",
   "metadata": {},
   "source": [
    "Tornado model is able to point estimation and probability estimation."
   ]
  },
  {
   "cell_type": "code",
   "execution_count": 6,
   "id": "3e6cf4db",
   "metadata": {},
   "outputs": [
    {
     "name": "stdout",
     "output_type": "stream",
     "text": [
      "25.85772387957681\n"
     ]
    },
    {
     "data": {
      "text/plain": [
       "<Axes: >"
      ]
     },
     "execution_count": 6,
     "metadata": {},
     "output_type": "execute_result"
    },
    {
     "data": {
      "image/png": "[encoded data removed]",
      "text/plain": [
       "<Figure size 640x480 with 1 Axes>"
      ]
     },
     "metadata": {},
     "output_type": "display_data"
    }
   ],
   "source": [
    "# mean point estimation\n",
    "yhat = predictor.predict(test)\n",
    "print(yhat[0])\n",
    "\n",
    "# probability estimation with negative binomial distribution\n",
    "proba = predictor.predict_proba(test.head(5), output=\"pmf\")\n",
    "proba.iloc[0, :].plot()"
   ]
  },
  {
   "cell_type": "markdown",
   "id": "72928552",
   "metadata": {},
   "source": [
    "# Accuracy comparison with plain Cyclic boosting"
   ]
  },
  {
   "cell_type": "markdown",
   "id": "4d8c7e18",
   "metadata": {},
   "source": [
    "Tornado can take care of setting the feature properties and interaction terms to obtain a better cyclic boosting model. However, be careful not to over-fitting when the amount of data is small."
   ]
  },
  {
   "cell_type": "code",
   "execution_count": 7,
   "id": "287189f4",
   "metadata": {},
   "outputs": [
    {
     "name": "stdout",
     "output_type": "stream",
     "text": [
      "             RMSE    MAE  WMAPE  PD_ACC\n",
      "CB_tornado 190.60 130.37   0.52    0.65\n",
      "Plain CB   204.46 144.01   0.56    0.07\n"
     ]
    }
   ],
   "source": [
    "from cyclic_boosting import flags, common_smoothers, observers\n",
    "from cyclic_boosting.pipelines import pipeline_CBPoissonRegressor\n",
    "from cyclic_boosting.smoothing.onedim import SeasonalSmoother\n",
    "from sklearn.model_selection import train_test_split\n",
    "from scipy.stats import poisson\n",
    "from cyclic_boosting.tornado.trainer.metrics import probability_distribution_accuracy\n",
    "\n",
    "\n",
    "df_train[\"dayofyear\"] = df_train[\"date\"].dt.dayofyear\n",
    "df_test[\"dayofyear\"] = df_test[\"date\"].dt.dayofyear\n",
    "train, _ = train_test_split(df_train, test_size=0.2, shuffle=False)\n",
    "y_train = np.asarray(train[\"cnt\"])\n",
    "X_train = train.drop(columns=\"cnt\")\n",
    "y_val = np.asarray(df_test[\"cnt\"])\n",
    "X_val = df_test.drop(columns=\"cnt\")\n",
    "if not all(np.asarray(train[\"cnt\"]) == manager.y):\n",
    "    raise ValueError(\n",
    "        \"Accuracy comparison is not available because\\n\" \"the data split is not the same as that of tornado.\"\n",
    "    )\n",
    "\n",
    "\n",
    "feature_properties = {\n",
    "    \"season\": flags.IS_UNORDERED,\n",
    "    \"dayofweek\": flags.IS_ORDERED,\n",
    "    \"dayofyear\": flags.IS_CONTINUOUS | flags.IS_LINEAR,\n",
    "    \"holiday\": flags.IS_UNORDERED,\n",
    "    \"workingday\": flags.IS_UNORDERED,\n",
    "    \"weathersit\": flags.IS_UNORDERED,\n",
    "    \"temp\": flags.IS_CONTINUOUS,\n",
    "    \"atemp\": flags.IS_CONTINUOUS,\n",
    "    \"hum\": flags.IS_CONTINUOUS,\n",
    "    \"windspeed\": flags.IS_CONTINUOUS,\n",
    "}\n",
    "\n",
    "features = [\n",
    "    \"season\",\n",
    "    \"dayofweek\",\n",
    "    \"dayofyear\",\n",
    "    \"holiday\",\n",
    "    \"workingday\",\n",
    "    \"weathersit\",\n",
    "    \"temp\",\n",
    "    \"atemp\",\n",
    "    \"hum\",\n",
    "    \"windspeed\",\n",
    "]\n",
    "\n",
    "explicit_smoothers = {\n",
    "    (\"dayofyear\",): SeasonalSmoother(order=3),\n",
    "}\n",
    "\n",
    "plobs = [\n",
    "    observers.PlottingObserver(iteration=1),\n",
    "    observers.PlottingObserver(iteration=-1),\n",
    "]\n",
    "\n",
    "CB_est = pipeline_CBPoissonRegressor(\n",
    "    feature_properties=feature_properties,\n",
    "    feature_groups=features,\n",
    "    observers=plobs,\n",
    "    maximal_iterations=50,\n",
    "    smoother_choice=common_smoothers.SmootherChoiceGroupBy(\n",
    "        use_regression_type=True,\n",
    "        use_normalization=False,\n",
    "        explicit_smoothers=explicit_smoothers,\n",
    "    ),\n",
    ")\n",
    "\n",
    "_ = CB_est.fit(X_train.copy(), y_train)\n",
    "\n",
    "yhat = predictor.predict(test)\n",
    "mse_tornado = np.nanmean(np.square(y_val - yhat))\n",
    "mae_tornado = np.nanmean(np.abs(y_val - yhat))\n",
    "wmape_tornado = np.nansum(np.abs(y_val - yhat) * y_val) / np.nansum(y_val * y_val)\n",
    "\n",
    "yhat_pd = predictor.predict_proba(test, output=\"func\")\n",
    "acc_pd_tornado = probability_distribution_accuracy(y_val, yhat_pd)\n",
    "\n",
    "yhat = CB_est.predict(X_val.copy())\n",
    "mse = np.nanmean(np.square(y_val - yhat))\n",
    "mae = np.nanmean(np.abs(y_val - yhat))\n",
    "wmape = np.nansum(np.abs(y_val - yhat) * y_val) / np.nansum(y_val * y_val)\n",
    "\n",
    "yhat_pd = list()\n",
    "for mu in yhat:\n",
    "    yhat_pd.append(poisson(mu))\n",
    "acc_pd = probability_distribution_accuracy(y_val, yhat_pd)\n",
    "\n",
    "pd.options.display.float_format = \"{:.2f}\".format\n",
    "val_results = pd.DataFrame(\n",
    "    [[np.sqrt(mse_tornado), mae_tornado, wmape_tornado, acc_pd_tornado], [np.sqrt(mse), mae, wmape, acc_pd]],\n",
    "    columns=[\"RMSE\", \"MAE\", \"WMAPE\", \"PD_ACC\"],\n",
    "    index=[\"CB_tornado\", \"Plain CB\"],\n",
    ")\n",
    "print(val_results)"
   ]
  },
  {
   "cell_type": "markdown",
   "id": "cbe477f5",
   "metadata": {},
   "source": [
    "# Accuracy comparison with LightGBM\n",
    "Install the lightgbm package before running.  \n",
    "LightGBM is an excellent approach to non-linear forecasting when sufficient data are available; Tornado addresses the non-linear forecasting task, a problem that linear models cannot easily predict, by automatically searching for interaction terms. By default, it searches for combinations of two variables and can interpret the features captured by the model using plot_analysis. Note that higher-order combinations can also be explored, but complex models may be difficult to interpret while fitting the training data well."
   ]
  },
  {
   "cell_type": "code",
   "execution_count": 8,
   "id": "3dd5155a",
   "metadata": {},
   "outputs": [],
   "source": [
    "import lightgbm as lgb"
   ]
  },
  {
   "cell_type": "code",
   "execution_count": 9,
   "id": "c4a5d0c3",
   "metadata": {},
   "outputs": [],
   "source": [
    "X_train_ = X_train.drop(columns=\"date\").copy()\n",
    "X_val_ = X_val.drop(columns=\"date\").copy()"
   ]
  },
  {
   "cell_type": "code",
   "execution_count": 10,
   "id": "266e0186",
   "metadata": {},
   "outputs": [
    {
     "name": "stdout",
     "output_type": "stream",
     "text": [
      "                RMSE       MAE   WMAPE\n",
      "CB_tornado 190.59670 130.36566 0.51950\n",
      "LightGBM   218.16821 149.52031 0.59830\n"
     ]
    }
   ],
   "source": [
    "params = {\"objective\": \"regression\", \"metric\": \"rmse\", \"verbosity\": -1}\n",
    "\n",
    "y_train_ = np.log(y_train)\n",
    "lgb_train = lgb.Dataset(X_train_, y_train_)\n",
    "model = lgb.train(params=params, train_set=lgb_train, num_boost_round=500)\n",
    "\n",
    "yhat = np.exp(model.predict(X_val_))\n",
    "\n",
    "mse = np.nanmean(np.square(y_val - yhat))\n",
    "mae = np.nanmean(np.abs(y_val - yhat))\n",
    "wmape = np.nansum(np.abs(y_val - yhat) * y_val) / np.nansum(y_val * y_val)\n",
    "\n",
    "pd.options.display.float_format = \"{:.5f}\".format\n",
    "val_results = pd.DataFrame(\n",
    "    [[np.sqrt(mse_tornado), mae_tornado, wmape_tornado], [np.sqrt(mse), mae, wmape]],\n",
    "    columns=[\"RMSE\", \"MAE\", \"WMAPE\"],\n",
    "    index=[\"CB_tornado\", \"LightGBM\"],\n",
    ")\n",
    "print(val_results)"
   ]
  }
 ],
 "metadata": {
  "colab": {
   "provenance": []
  },
  "kernelspec": {
   "display_name": "Python 3 (ipykernel)",
   "language": "python",
   "name": "python3"
  },
  "language_info": {
   "codemirror_mode": {
    "name": "ipython",
    "version": 3
   },
   "file_extension": ".py",
   "mimetype": "text/x-python",
   "name": "python",
   "nbconvert_exporter": "python",
   "pygments_lexer": "ipython3",
   "version": "3.10.11"
  }
 },
 "nbformat": 4,
 "nbformat_minor": 5
}

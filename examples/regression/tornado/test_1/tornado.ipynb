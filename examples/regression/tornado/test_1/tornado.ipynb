{
 "cells": [
  {
   "cell_type": "markdown",
   "id": "e4f6005c-1e82-45cc-9013-fa89752acadf",
   "metadata": {
    "id": "e4f6005c-1e82-45cc-9013-fa89752acadf"
   },
   "source": [
    "# Classification using Cyclic Boosting"
   ]
  },
  {
   "cell_type": "markdown",
   "id": "4ee82ebe-8aa4-49ee-a84b-2a9aed8868c3",
   "metadata": {
    "colab": {
     "base_uri": "https://localhost:8080/"
    },
    "id": "Q8nS3cek3utK",
    "outputId": "e7b226b6-9dc5-4896-8066-8d105725fdd0"
   },
   "source": [
    "First, install the  package and its dependencies\n",
    "\n",
    "```sh\n",
    "!pip install cyclic-boosting\n",
    "```"
   ]
  },
  {
   "cell_type": "code",
   "execution_count": 1,
   "id": "d032f099-abc3-414f-957d-bf915cd2bd4e",
   "metadata": {
    "id": "d032f099-abc3-414f-957d-bf915cd2bd4e",
    "tags": []
   },
   "outputs": [],
   "source": [
    "import pandas as pd\n",
    "import numpy as np"
   ]
  },
  {
   "cell_type": "markdown",
   "id": "f795a87a-df58-4b1a-8717-b95203fd65cd",
   "metadata": {},
   "source": [
    "Let's load the test dataset from Blue-Yonder-OSS"
   ]
  },
  {
   "cell_type": "code",
   "execution_count": 7,
   "id": "7c39b738-890f-45d0-b015-cc0a2306dc24",
   "metadata": {
    "id": "7c39b738-890f-45d0-b015-cc0a2306dc24",
    "tags": []
   },
   "outputs": [
    {
     "ename": "FileNotFoundError",
     "evalue": "[Errno 2] No such file or directory: './day.csv'",
     "output_type": "error",
     "traceback": [
      "\u001b[0;31m---------------------------------------------------------------------------\u001b[0m",
      "\u001b[0;31mFileNotFoundError\u001b[0m                         Traceback (most recent call last)",
      "\u001b[1;32m/home/tsuruda_yoshito/work/tornado/rPrivate-cyclic-boosting/examples/regression/tornado/test_1/tornado.ipynb Cell 5\u001b[0m line \u001b[0;36m1\n\u001b[0;32m----> <a href='vscode-notebook-cell://wsl%2Bubuntu/home/tsuruda_yoshito/work/tornado/rPrivate-cyclic-boosting/examples/regression/tornado/test_1/tornado.ipynb#W4sdnNjb2RlLXJlbW90ZQ%3D%3D?line=0'>1</a>\u001b[0m df \u001b[39m=\u001b[39m pd\u001b[39m.\u001b[39;49mread_csv(\u001b[39m\"\u001b[39;49m\u001b[39m./day.csv\u001b[39;49m\u001b[39m\"\u001b[39;49m)\n\u001b[1;32m      <a href='vscode-notebook-cell://wsl%2Bubuntu/home/tsuruda_yoshito/work/tornado/rPrivate-cyclic-boosting/examples/regression/tornado/test_1/tornado.ipynb#W4sdnNjb2RlLXJlbW90ZQ%3D%3D?line=1'>2</a>\u001b[0m df \u001b[39m=\u001b[39m df\u001b[39m.\u001b[39mrename(columns\u001b[39m=\u001b[39m{\u001b[39m'\u001b[39m\u001b[39mdteday\u001b[39m\u001b[39m'\u001b[39m: \u001b[39m'\u001b[39m\u001b[39mdate\u001b[39m\u001b[39m'\u001b[39m})\n\u001b[1;32m      <a href='vscode-notebook-cell://wsl%2Bubuntu/home/tsuruda_yoshito/work/tornado/rPrivate-cyclic-boosting/examples/regression/tornado/test_1/tornado.ipynb#W4sdnNjb2RlLXJlbW90ZQ%3D%3D?line=2'>3</a>\u001b[0m df[\u001b[39m\"\u001b[39m\u001b[39mdate\u001b[39m\u001b[39m\"\u001b[39m] \u001b[39m=\u001b[39m pd\u001b[39m.\u001b[39mto_datetime(df[\u001b[39m\"\u001b[39m\u001b[39mdate\u001b[39m\u001b[39m\"\u001b[39m])\n",
      "File \u001b[0;32m~/work/tornado/rPrivate-cyclic-boosting/.venv/lib/python3.10/site-packages/pandas/io/parsers/readers.py:912\u001b[0m, in \u001b[0;36mread_csv\u001b[0;34m(filepath_or_buffer, sep, delimiter, header, names, index_col, usecols, dtype, engine, converters, true_values, false_values, skipinitialspace, skiprows, skipfooter, nrows, na_values, keep_default_na, na_filter, verbose, skip_blank_lines, parse_dates, infer_datetime_format, keep_date_col, date_parser, date_format, dayfirst, cache_dates, iterator, chunksize, compression, thousands, decimal, lineterminator, quotechar, quoting, doublequote, escapechar, comment, encoding, encoding_errors, dialect, on_bad_lines, delim_whitespace, low_memory, memory_map, float_precision, storage_options, dtype_backend)\u001b[0m\n\u001b[1;32m    899\u001b[0m kwds_defaults \u001b[39m=\u001b[39m _refine_defaults_read(\n\u001b[1;32m    900\u001b[0m     dialect,\n\u001b[1;32m    901\u001b[0m     delimiter,\n\u001b[0;32m   (...)\u001b[0m\n\u001b[1;32m    908\u001b[0m     dtype_backend\u001b[39m=\u001b[39mdtype_backend,\n\u001b[1;32m    909\u001b[0m )\n\u001b[1;32m    910\u001b[0m kwds\u001b[39m.\u001b[39mupdate(kwds_defaults)\n\u001b[0;32m--> 912\u001b[0m \u001b[39mreturn\u001b[39;00m _read(filepath_or_buffer, kwds)\n",
      "File \u001b[0;32m~/work/tornado/rPrivate-cyclic-boosting/.venv/lib/python3.10/site-packages/pandas/io/parsers/readers.py:577\u001b[0m, in \u001b[0;36m_read\u001b[0;34m(filepath_or_buffer, kwds)\u001b[0m\n\u001b[1;32m    574\u001b[0m _validate_names(kwds\u001b[39m.\u001b[39mget(\u001b[39m\"\u001b[39m\u001b[39mnames\u001b[39m\u001b[39m\"\u001b[39m, \u001b[39mNone\u001b[39;00m))\n\u001b[1;32m    576\u001b[0m \u001b[39m# Create the parser.\u001b[39;00m\n\u001b[0;32m--> 577\u001b[0m parser \u001b[39m=\u001b[39m TextFileReader(filepath_or_buffer, \u001b[39m*\u001b[39;49m\u001b[39m*\u001b[39;49mkwds)\n\u001b[1;32m    579\u001b[0m \u001b[39mif\u001b[39;00m chunksize \u001b[39mor\u001b[39;00m iterator:\n\u001b[1;32m    580\u001b[0m     \u001b[39mreturn\u001b[39;00m parser\n",
      "File \u001b[0;32m~/work/tornado/rPrivate-cyclic-boosting/.venv/lib/python3.10/site-packages/pandas/io/parsers/readers.py:1407\u001b[0m, in \u001b[0;36mTextFileReader.__init__\u001b[0;34m(self, f, engine, **kwds)\u001b[0m\n\u001b[1;32m   1404\u001b[0m     \u001b[39mself\u001b[39m\u001b[39m.\u001b[39moptions[\u001b[39m\"\u001b[39m\u001b[39mhas_index_names\u001b[39m\u001b[39m\"\u001b[39m] \u001b[39m=\u001b[39m kwds[\u001b[39m\"\u001b[39m\u001b[39mhas_index_names\u001b[39m\u001b[39m\"\u001b[39m]\n\u001b[1;32m   1406\u001b[0m \u001b[39mself\u001b[39m\u001b[39m.\u001b[39mhandles: IOHandles \u001b[39m|\u001b[39m \u001b[39mNone\u001b[39;00m \u001b[39m=\u001b[39m \u001b[39mNone\u001b[39;00m\n\u001b[0;32m-> 1407\u001b[0m \u001b[39mself\u001b[39m\u001b[39m.\u001b[39m_engine \u001b[39m=\u001b[39m \u001b[39mself\u001b[39;49m\u001b[39m.\u001b[39;49m_make_engine(f, \u001b[39mself\u001b[39;49m\u001b[39m.\u001b[39;49mengine)\n",
      "File \u001b[0;32m~/work/tornado/rPrivate-cyclic-boosting/.venv/lib/python3.10/site-packages/pandas/io/parsers/readers.py:1661\u001b[0m, in \u001b[0;36mTextFileReader._make_engine\u001b[0;34m(self, f, engine)\u001b[0m\n\u001b[1;32m   1659\u001b[0m     \u001b[39mif\u001b[39;00m \u001b[39m\"\u001b[39m\u001b[39mb\u001b[39m\u001b[39m\"\u001b[39m \u001b[39mnot\u001b[39;00m \u001b[39min\u001b[39;00m mode:\n\u001b[1;32m   1660\u001b[0m         mode \u001b[39m+\u001b[39m\u001b[39m=\u001b[39m \u001b[39m\"\u001b[39m\u001b[39mb\u001b[39m\u001b[39m\"\u001b[39m\n\u001b[0;32m-> 1661\u001b[0m \u001b[39mself\u001b[39m\u001b[39m.\u001b[39mhandles \u001b[39m=\u001b[39m get_handle(\n\u001b[1;32m   1662\u001b[0m     f,\n\u001b[1;32m   1663\u001b[0m     mode,\n\u001b[1;32m   1664\u001b[0m     encoding\u001b[39m=\u001b[39;49m\u001b[39mself\u001b[39;49m\u001b[39m.\u001b[39;49moptions\u001b[39m.\u001b[39;49mget(\u001b[39m\"\u001b[39;49m\u001b[39mencoding\u001b[39;49m\u001b[39m\"\u001b[39;49m, \u001b[39mNone\u001b[39;49;00m),\n\u001b[1;32m   1665\u001b[0m     compression\u001b[39m=\u001b[39;49m\u001b[39mself\u001b[39;49m\u001b[39m.\u001b[39;49moptions\u001b[39m.\u001b[39;49mget(\u001b[39m\"\u001b[39;49m\u001b[39mcompression\u001b[39;49m\u001b[39m\"\u001b[39;49m, \u001b[39mNone\u001b[39;49;00m),\n\u001b[1;32m   1666\u001b[0m     memory_map\u001b[39m=\u001b[39;49m\u001b[39mself\u001b[39;49m\u001b[39m.\u001b[39;49moptions\u001b[39m.\u001b[39;49mget(\u001b[39m\"\u001b[39;49m\u001b[39mmemory_map\u001b[39;49m\u001b[39m\"\u001b[39;49m, \u001b[39mFalse\u001b[39;49;00m),\n\u001b[1;32m   1667\u001b[0m     is_text\u001b[39m=\u001b[39;49mis_text,\n\u001b[1;32m   1668\u001b[0m     errors\u001b[39m=\u001b[39;49m\u001b[39mself\u001b[39;49m\u001b[39m.\u001b[39;49moptions\u001b[39m.\u001b[39;49mget(\u001b[39m\"\u001b[39;49m\u001b[39mencoding_errors\u001b[39;49m\u001b[39m\"\u001b[39;49m, \u001b[39m\"\u001b[39;49m\u001b[39mstrict\u001b[39;49m\u001b[39m\"\u001b[39;49m),\n\u001b[1;32m   1669\u001b[0m     storage_options\u001b[39m=\u001b[39;49m\u001b[39mself\u001b[39;49m\u001b[39m.\u001b[39;49moptions\u001b[39m.\u001b[39;49mget(\u001b[39m\"\u001b[39;49m\u001b[39mstorage_options\u001b[39;49m\u001b[39m\"\u001b[39;49m, \u001b[39mNone\u001b[39;49;00m),\n\u001b[1;32m   1670\u001b[0m )\n\u001b[1;32m   1671\u001b[0m \u001b[39massert\u001b[39;00m \u001b[39mself\u001b[39m\u001b[39m.\u001b[39mhandles \u001b[39mis\u001b[39;00m \u001b[39mnot\u001b[39;00m \u001b[39mNone\u001b[39;00m\n\u001b[1;32m   1672\u001b[0m f \u001b[39m=\u001b[39m \u001b[39mself\u001b[39m\u001b[39m.\u001b[39mhandles\u001b[39m.\u001b[39mhandle\n",
      "File \u001b[0;32m~/work/tornado/rPrivate-cyclic-boosting/.venv/lib/python3.10/site-packages/pandas/io/common.py:859\u001b[0m, in \u001b[0;36mget_handle\u001b[0;34m(path_or_buf, mode, encoding, compression, memory_map, is_text, errors, storage_options)\u001b[0m\n\u001b[1;32m    854\u001b[0m \u001b[39melif\u001b[39;00m \u001b[39misinstance\u001b[39m(handle, \u001b[39mstr\u001b[39m):\n\u001b[1;32m    855\u001b[0m     \u001b[39m# Check whether the filename is to be opened in binary mode.\u001b[39;00m\n\u001b[1;32m    856\u001b[0m     \u001b[39m# Binary mode does not support 'encoding' and 'newline'.\u001b[39;00m\n\u001b[1;32m    857\u001b[0m     \u001b[39mif\u001b[39;00m ioargs\u001b[39m.\u001b[39mencoding \u001b[39mand\u001b[39;00m \u001b[39m\"\u001b[39m\u001b[39mb\u001b[39m\u001b[39m\"\u001b[39m \u001b[39mnot\u001b[39;00m \u001b[39min\u001b[39;00m ioargs\u001b[39m.\u001b[39mmode:\n\u001b[1;32m    858\u001b[0m         \u001b[39m# Encoding\u001b[39;00m\n\u001b[0;32m--> 859\u001b[0m         handle \u001b[39m=\u001b[39m \u001b[39mopen\u001b[39;49m(\n\u001b[1;32m    860\u001b[0m             handle,\n\u001b[1;32m    861\u001b[0m             ioargs\u001b[39m.\u001b[39;49mmode,\n\u001b[1;32m    862\u001b[0m             encoding\u001b[39m=\u001b[39;49mioargs\u001b[39m.\u001b[39;49mencoding,\n\u001b[1;32m    863\u001b[0m             errors\u001b[39m=\u001b[39;49merrors,\n\u001b[1;32m    864\u001b[0m             newline\u001b[39m=\u001b[39;49m\u001b[39m\"\u001b[39;49m\u001b[39m\"\u001b[39;49m,\n\u001b[1;32m    865\u001b[0m         )\n\u001b[1;32m    866\u001b[0m     \u001b[39melse\u001b[39;00m:\n\u001b[1;32m    867\u001b[0m         \u001b[39m# Binary mode\u001b[39;00m\n\u001b[1;32m    868\u001b[0m         handle \u001b[39m=\u001b[39m \u001b[39mopen\u001b[39m(handle, ioargs\u001b[39m.\u001b[39mmode)\n",
      "\u001b[0;31mFileNotFoundError\u001b[0m: [Errno 2] No such file or directory: './day.csv'"
     ]
    }
   ],
   "source": [
    "df = pd.read_csv(\"./archive_1/day.csv\")\n",
    "df = df.rename(columns={'dteday': 'date'})\n",
    "df[\"date\"] = pd.to_datetime(df[\"date\"])\n",
    "df.to_csv(\"./bike_sharing.csv\", index=False)"
   ]
  },
  {
   "cell_type": "code",
   "execution_count": 3,
   "id": "e8692944-7695-4823-82ef-fb2a22a399a6",
   "metadata": {
    "tags": []
   },
   "outputs": [
    {
     "data": {
      "text/html": [
       "<div>\n",
       "<style scoped>\n",
       "    .dataframe tbody tr th:only-of-type {\n",
       "        vertical-align: middle;\n",
       "    }\n",
       "\n",
       "    .dataframe tbody tr th {\n",
       "        vertical-align: top;\n",
       "    }\n",
       "\n",
       "    .dataframe thead th {\n",
       "        text-align: right;\n",
       "    }\n",
       "</style>\n",
       "<table border=\"1\" class=\"dataframe\">\n",
       "  <thead>\n",
       "    <tr style=\"text-align: right;\">\n",
       "      <th></th>\n",
       "      <th>instant</th>\n",
       "      <th>date</th>\n",
       "      <th>season</th>\n",
       "      <th>yr</th>\n",
       "      <th>mnth</th>\n",
       "      <th>holiday</th>\n",
       "      <th>weekday</th>\n",
       "      <th>workingday</th>\n",
       "      <th>weathersit</th>\n",
       "      <th>temp</th>\n",
       "      <th>atemp</th>\n",
       "      <th>hum</th>\n",
       "      <th>windspeed</th>\n",
       "      <th>casual</th>\n",
       "      <th>registered</th>\n",
       "      <th>cnt</th>\n",
       "    </tr>\n",
       "  </thead>\n",
       "  <tbody>\n",
       "    <tr>\n",
       "      <th>0</th>\n",
       "      <td>1</td>\n",
       "      <td>2011-01-01</td>\n",
       "      <td>1</td>\n",
       "      <td>0</td>\n",
       "      <td>1</td>\n",
       "      <td>0</td>\n",
       "      <td>6</td>\n",
       "      <td>0</td>\n",
       "      <td>2</td>\n",
       "      <td>0.344167</td>\n",
       "      <td>0.363625</td>\n",
       "      <td>0.805833</td>\n",
       "      <td>0.160446</td>\n",
       "      <td>331</td>\n",
       "      <td>654</td>\n",
       "      <td>985</td>\n",
       "    </tr>\n",
       "    <tr>\n",
       "      <th>1</th>\n",
       "      <td>2</td>\n",
       "      <td>2011-01-02</td>\n",
       "      <td>1</td>\n",
       "      <td>0</td>\n",
       "      <td>1</td>\n",
       "      <td>0</td>\n",
       "      <td>0</td>\n",
       "      <td>0</td>\n",
       "      <td>2</td>\n",
       "      <td>0.363478</td>\n",
       "      <td>0.353739</td>\n",
       "      <td>0.696087</td>\n",
       "      <td>0.248539</td>\n",
       "      <td>131</td>\n",
       "      <td>670</td>\n",
       "      <td>801</td>\n",
       "    </tr>\n",
       "    <tr>\n",
       "      <th>2</th>\n",
       "      <td>3</td>\n",
       "      <td>2011-01-03</td>\n",
       "      <td>1</td>\n",
       "      <td>0</td>\n",
       "      <td>1</td>\n",
       "      <td>0</td>\n",
       "      <td>1</td>\n",
       "      <td>1</td>\n",
       "      <td>1</td>\n",
       "      <td>0.196364</td>\n",
       "      <td>0.189405</td>\n",
       "      <td>0.437273</td>\n",
       "      <td>0.248309</td>\n",
       "      <td>120</td>\n",
       "      <td>1229</td>\n",
       "      <td>1349</td>\n",
       "    </tr>\n",
       "    <tr>\n",
       "      <th>3</th>\n",
       "      <td>4</td>\n",
       "      <td>2011-01-04</td>\n",
       "      <td>1</td>\n",
       "      <td>0</td>\n",
       "      <td>1</td>\n",
       "      <td>0</td>\n",
       "      <td>2</td>\n",
       "      <td>1</td>\n",
       "      <td>1</td>\n",
       "      <td>0.200000</td>\n",
       "      <td>0.212122</td>\n",
       "      <td>0.590435</td>\n",
       "      <td>0.160296</td>\n",
       "      <td>108</td>\n",
       "      <td>1454</td>\n",
       "      <td>1562</td>\n",
       "    </tr>\n",
       "    <tr>\n",
       "      <th>4</th>\n",
       "      <td>5</td>\n",
       "      <td>2011-01-05</td>\n",
       "      <td>1</td>\n",
       "      <td>0</td>\n",
       "      <td>1</td>\n",
       "      <td>0</td>\n",
       "      <td>3</td>\n",
       "      <td>1</td>\n",
       "      <td>1</td>\n",
       "      <td>0.226957</td>\n",
       "      <td>0.229270</td>\n",
       "      <td>0.436957</td>\n",
       "      <td>0.186900</td>\n",
       "      <td>82</td>\n",
       "      <td>1518</td>\n",
       "      <td>1600</td>\n",
       "    </tr>\n",
       "  </tbody>\n",
       "</table>\n",
       "</div>"
      ],
      "text/plain": [
       "   instant       date  season  yr  mnth  holiday  weekday  workingday  \\\n",
       "0        1 2011-01-01       1   0     1        0        6           0   \n",
       "1        2 2011-01-02       1   0     1        0        0           0   \n",
       "2        3 2011-01-03       1   0     1        0        1           1   \n",
       "3        4 2011-01-04       1   0     1        0        2           1   \n",
       "4        5 2011-01-05       1   0     1        0        3           1   \n",
       "\n",
       "   weathersit      temp     atemp       hum  windspeed  casual  registered  \\\n",
       "0           2  0.344167  0.363625  0.805833   0.160446     331         654   \n",
       "1           2  0.363478  0.353739  0.696087   0.248539     131         670   \n",
       "2           1  0.196364  0.189405  0.437273   0.248309     120        1229   \n",
       "3           1  0.200000  0.212122  0.590435   0.160296     108        1454   \n",
       "4           1  0.226957  0.229270  0.436957   0.186900      82        1518   \n",
       "\n",
       "    cnt  \n",
       "0   985  \n",
       "1   801  \n",
       "2  1349  \n",
       "3  1562  \n",
       "4  1600  "
      ]
     },
     "execution_count": 3,
     "metadata": {},
     "output_type": "execute_result"
    }
   ],
   "source": [
    "df.head()"
   ]
  },
  {
   "cell_type": "markdown",
   "id": "1220e50d",
   "metadata": {},
   "source": [
    "# Automated Machine Learning with Tornado\n",
    "With tornado, you can automatically perform data preparation, feature property setting, hyperparameter tuning, model building, training, evaluation, and plotting!"
   ]
  },
  {
   "cell_type": "code",
   "execution_count": 4,
   "id": "ccbe9343",
   "metadata": {},
   "outputs": [
    {
     "name": "stdout",
     "output_type": "stream",
     "text": [
      "Auto analysis target ['temp', 'atemp', 'hum', 'windspeed']\n"
     ]
    },
    {
     "name": "stderr",
     "output_type": "stream",
     "text": [
      "/home/tsuruda_yoshito/work/tornado/rPrivate-cyclic-boosting/.venv/lib/python3.10/site-packages/statsmodels/tsa/stl/mstl.py:217: UserWarning: A period(s) is larger than half the length of time series. Removing these period(s).\n",
      "  warnings.warn(\n"
     ]
    },
    {
     "name": "stdout",
     "output_type": "stream",
     "text": [
      "    has_trend: ['temp', 'atemp', 'windspeed']\n",
      "    has_seasonality: []\n",
      "    has_up_monotonicity: []\n",
      "    has_down_monotonicity: []\n",
      "    has_linearity: []\n",
      "    has_missing: []\n"
     ]
    },
    {
     "name": "stderr",
     "output_type": "stream",
     "text": [
      "iter: 85 / 135 Encountered negative change of loss. This might not be a problem, as long as the model converges. Check the LOSS changes in the analysis plots.\n",
      "iter: 135 / 135 \n",
      "TRUNCATED\n",
      "['atemp', 'temp', 'mnth', 'season', 'yr', 'casual', 'weathersit', 'hum', 'windspeed', 'registered', 'holiday', 'workingday', 'instant', 'weekday', 'dayofweek', 'dayofyear', ('yr', 'atemp'), ('yr', 'temp'), ('yr', 'mnth'), ('season', 'yr'), ('weathersit', 'atemp'), ('weathersit', 'temp'), ('season', 'weathersit'), ('mnth', 'weathersit'), ('workingday', 'atemp'), ('workingday', 'temp'), ('season', 'atemp'), ('holiday', 'atemp'), ('yr', 'weathersit'), ('season', 'temp'), ('season', 'hum'), ('weekday', 'temp'), ('season', 'workingday'), ('mnth', 'holiday'), ('mnth', 'workingday'), ('temp', 'atemp'), ('mnth', 'atemp'), ('mnth', 'temp'), ('season', 'holiday'), ('yr', 'windspeed'), ('yr', 'workingday'), ('yr', 'holiday'), ('season', 'weekday'), ('season', 'dayofweek'), ('season', 'mnth'), ('yr', 'weekday'), ('yr', 'dayofweek'), ('season', 'windspeed'), ('mnth', 'weekday'), ('mnth', 'dayofweek'), ('holiday', 'weathersit'), ('yr', 'casual'), ('holiday', 'casual'), ('workingday', 'casual'), ('workingday', 'weathersit'), ('weekday', 'weathersit'), ('weathersit', 'windspeed'), ('weathersit', 'dayofweek'), ('atemp', 'dayofweek'), ('weekday', 'atemp'), ('season', 'casual'), ('temp', 'dayofweek'), ('workingday', 'windspeed'), ('weathersit', 'hum'), ('weathersit', 'casual'), ('casual', 'dayofweek'), ('weekday', 'casual'), ('workingday', 'hum'), ('mnth', 'casual'), ('workingday', 'registered'), ('holiday', 'registered'), ('yr', 'registered'), ('mnth', 'dayofyear'), ('holiday', 'windspeed'), ('season', 'dayofyear'), ('windspeed', 'dayofweek'), ('holiday', 'dayofyear'), ('weekday', 'windspeed'), ('holiday', 'hum'), ('holiday', 'temp'), ('weathersit', 'dayofyear'), ('hum', 'dayofweek'), ('workingday', 'dayofyear'), ('weekday', 'hum'), ('atemp', 'hum'), ('temp', 'hum'), ('temp', 'windspeed'), ('mnth', 'hum'), ('hum', 'windspeed'), ('atemp', 'windspeed'), ('yr', 'hum'), ('mnth', 'windspeed')]\n",
      "\n",
      "iter: 0 / 91   ---- The best model was updated in iter 0 ----\n",
      "    best_features['atemp']\n",
      "    MD: -157.429856522431, MAD: 1101.2182916097909, MSE: 2409692.68826548, MAE: 1323.475727559179, MedAE: 1345.2890117004745, WMAPE: 1347.2628391635633, SMAPE: 32.38122260950245, COD: 0.4334324551761255, F: 97.58712592308459, \n",
      "iter: 3 / 91   ---- The best model was updated in iter 3 ----\n",
      "    best_features['atemp', 'mnth']\n",
      "    MD: -112.37399751736673, MAD: 1169.1435855382151, MSE: 2403696.49423554, MAE: 1354.6080782549523, MedAE: 1284.3843550756328, WMAPE: 1391.6811153381439, SMAPE: 33.07331757197971, COD: 0.4348422818093616, F: 54.811681459396624, \n",
      "iter: 4 / 91   ---- The best model was updated in iter 4 ----\n",
      "    best_features['atemp', 'mnth', 'season']\n",
      "    MD: -64.60009410398916, MAD: 1171.0716906479877, MSE: 2347477.5659005963, MAE: 1343.4085843797582, MedAE: 1259.2830710859957, WMAPE: 1400.4719595398226, SMAPE: 32.89059180513219, COD: 0.44806049023671324, F: 37.404859770977374, \n",
      "iter: 5 / 91   ---- The best model was updated in iter 5 ----\n",
      "    best_features['atemp', 'mnth', 'season', 'yr']\n",
      "    MD: -69.98291914299841, MAD: 1364.383047298993, MSE: 913585.7906275197, MAE: 682.2303839583493, MedAE: 479.69989533259195, WMAPE: 645.5064052752103, SMAPE: 18.94587150300058, COD: 0.7851974814454903, F: 109.75538904774598, \n",
      "iter: 7 / 91   ---- The best model was updated in iter 7 ----\n",
      "    best_features['atemp', 'mnth', 'season', 'yr', 'weathersit']\n",
      "    MD: -58.80734849540329, MAD: 1528.0021149866393, MSE: 563920.0561009594, MAE: 546.7472773901354, MedAE: 403.3850330642831, WMAPE: 520.465189291666, SMAPE: 15.792501230579498, COD: 0.8674109760062224, F: 169.37480070178623, \n",
      "iter: 8 / 91   ---- The best model was updated in iter 8 ----\n",
      "    best_features['atemp', 'mnth', 'season', 'yr', 'weathersit', 'hum']\n",
      "    MD: -22.373933804966043, MAD: 1521.5847054956841, MSE: 532908.8375468497, MAE: 545.7291596717273, MedAE: 419.43617424652257, WMAPE: 516.2878130310919, SMAPE: 16.118465120028244, COD: 0.8747023414337556, F: 146.92697991841106, \n",
      "iter: 9 / 91   ---- The best model was updated in iter 9 ----\n",
      "    best_features['atemp', 'mnth', 'season', 'yr', 'weathersit', 'hum', 'windspeed']\n",
      "    MD: 43.06252257426439, MAD: 1492.829434292094, MSE: 527090.3326161822, MAE: 553.6837638532949, MedAE: 431.1592795181359, WMAPE: 536.1400574000571, SMAPE: 16.132955688993675, COD: 0.8760703897617301, F: 122.68110844609159, \n",
      "iter: 12 / 91   ---- The best model was updated in iter 12 ----\n",
      "    best_features['atemp', 'mnth', 'season', 'yr', 'weathersit', 'hum', 'windspeed', 'workingday']\n",
      "    MD: 47.91147162275183, MAD: 1497.820290624331, MSE: 525595.0629672215, MAE: 549.5450063206617, MedAE: 440.8440241381959, WMAPE: 536.1764975849037, SMAPE: 16.016439083022558, COD: 0.876421957933882, F: 107.7268774808651, \n",
      "iter: 14 / 91   ---- The best model was updated in iter 14 ----\n",
      "    best_features['atemp', 'mnth', 'season', 'yr', 'weathersit', 'hum', 'windspeed', 'workingday', 'weekday']\n",
      "    MD: 52.87457345354287, MAD: 1486.7235903935066, MSE: 498526.1928400813, MAE: 533.891582233332, MedAE: 393.7251811913861, WMAPE: 509.13877995935025, SMAPE: 15.863062491997077, COD: 0.8827863974177107, F: 97.99963522883083, \n",
      "iter: 17 / 91   ---- The best model was updated in iter 17 ----\n",
      "    best_features['atemp', 'mnth', 'season', 'yr', 'weathersit', 'hum', 'windspeed', 'workingday', 'weekday', ('yr', 'atemp')]\n",
      "    MD: 12.57765296912201, MAD: 1499.2361044007714, MSE: 480772.67699859984, MAE: 515.8503844878059, MedAE: 389.05328537828154, WMAPE: 492.3836033591748, SMAPE: 14.901530604157426, COD: 0.8869606084825832, F: 91.98101119108976, \n",
      "iter: 18 / 91   ---- The best model was updated in iter 18 ----\n",
      "    best_features['atemp', 'mnth', 'season', 'yr', 'weathersit', 'hum', 'windspeed', 'workingday', 'weekday', ('yr', 'atemp'), ('yr', 'temp')]\n",
      "    MD: 2.476112580014386, MAD: 1503.2572277740546, MSE: 477688.1822094901, MAE: 516.4565980972504, MedAE: 392.20584255182166, WMAPE: 489.07541540422886, SMAPE: 15.072896915717099, COD: 0.887685835665368, F: 84.00348527753381, \n",
      "iter: 19 / 91   ---- The best model was updated in iter 19 ----\n",
      "    best_features['atemp', 'mnth', 'season', 'yr', 'weathersit', 'hum', 'windspeed', 'workingday', 'weekday', ('yr', 'atemp'), ('yr', 'temp'), ('yr', 'mnth')]\n",
      "    MD: 31.84702717381388, MAD: 1506.2278059263945, MSE: 476544.0313227453, MAE: 512.1822697775985, MedAE: 397.44338577071085, WMAPE: 502.940396522804, SMAPE: 14.48791664192693, COD: 0.887954848706727, F: 76.92014838604332, \n",
      "iter: 20 / 91   ---- The best model was updated in iter 20 ----\n",
      "    best_features['atemp', 'mnth', 'season', 'yr', 'weathersit', 'hum', 'windspeed', 'workingday', 'weekday', ('yr', 'atemp'), ('yr', 'temp'), ('yr', 'mnth'), ('season', 'yr')]\n",
      "    MD: 36.2371446642894, MAD: 1507.7837979190908, MSE: 469694.1422244, MAE: 508.3371192308027, MedAE: 400.80415531284143, WMAPE: 501.63184403547154, SMAPE: 14.38237605822938, COD: 0.8895653963369972, F: 71.42309696961074, \n",
      "iter: 21 / 91   ---- The best model was updated in iter 21 ----\n",
      "    best_features['atemp', 'mnth', 'season', 'yr', 'weathersit', 'hum', 'windspeed', 'workingday', 'weekday', ('yr', 'atemp'), ('yr', 'temp'), ('yr', 'mnth'), ('season', 'yr'), ('weathersit', 'atemp')]\n",
      "    MD: 41.651300567495696, MAD: 1513.9494036081014, MSE: 450514.9466715318, MAE: 498.11457532329774, MedAE: 401.08770714823186, WMAPE: 492.42806287978743, SMAPE: 13.913675756863162, COD: 0.8940748135705728, F: 70.15526002831199, \n",
      "iter: 23 / 91   ---- The best model was updated in iter 23 ----\n",
      "    best_features['atemp', 'mnth', 'season', 'yr', 'weathersit', 'hum', 'windspeed', 'workingday', 'weekday', ('yr', 'atemp'), ('yr', 'temp'), ('yr', 'mnth'), ('season', 'yr'), ('weathersit', 'atemp'), ('season', 'weathersit')]\n",
      "    MD: 41.54363453888457, MAD: 1508.7119757986563, MSE: 441407.1923114252, MAE: 495.87224114979574, MedAE: 400.7750938986219, WMAPE: 491.5721564948564, SMAPE: 13.775062697478768, COD: 0.8962162310433456, F: 66.31573889797922, \n",
      "iter: 25 / 91   ---- The best model was updated in iter 25 ----\n",
      "    best_features['atemp', 'mnth', 'season', 'yr', 'weathersit', 'hum', 'windspeed', 'workingday', 'weekday', ('yr', 'atemp'), ('yr', 'temp'), ('yr', 'mnth'), ('season', 'yr'), ('weathersit', 'atemp'), ('season', 'weathersit'), ('workingday', 'atemp')]\n",
      "    MD: 60.981006450598784, MAD: 1514.7008679285914, MSE: 402542.01148516417, MAE: 479.9684110570431, MedAE: 391.99977675467426, WMAPE: 480.6531071567669, SMAPE: 13.410762839480977, COD: 0.9053542220357658, F: 68.80370249920406, \n",
      "iter: 26 / 91   ---- The best model was updated in iter 26 ----\n",
      "    best_features['atemp', 'mnth', 'season', 'yr', 'weathersit', 'hum', 'windspeed', 'workingday', 'weekday', ('yr', 'atemp'), ('yr', 'temp'), ('yr', 'mnth'), ('season', 'yr'), ('weathersit', 'atemp'), ('season', 'weathersit'), ('workingday', 'atemp'), ('workingday', 'temp')]\n",
      "    MD: 60.820219830086444, MAD: 1521.081473154993, MSE: 399426.1092242677, MAE: 479.61767001254157, MedAE: 406.4717776207108, WMAPE: 481.48078210949575, SMAPE: 13.370831072483359, COD: 0.9060868337511369, F: 65.39587032212563, \n",
      "iter: 27 / 91   ---- The best model was updated in iter 27 ----\n",
      "    best_features['atemp', 'mnth', 'season', 'yr', 'weathersit', 'hum', 'windspeed', 'workingday', 'weekday', ('yr', 'atemp'), ('yr', 'temp'), ('yr', 'mnth'), ('season', 'yr'), ('weathersit', 'atemp'), ('season', 'weathersit'), ('workingday', 'atemp'), ('workingday', 'temp'), ('season', 'atemp')]\n",
      "    MD: 67.93546272157624, MAD: 1511.889121897157, MSE: 390494.15470515174, MAE: 479.75665194146296, MedAE: 381.78356358789006, WMAPE: 484.9502530873361, SMAPE: 13.40783622036549, COD: 0.9081869171215258, F: 62.18071746644972, \n",
      "iter: 34 / 91   ---- The best model was updated in iter 34 ----\n",
      "    best_features['atemp', 'mnth', 'season', 'yr', 'weathersit', 'hum', 'windspeed', 'workingday', 'weekday', ('yr', 'atemp'), ('yr', 'temp'), ('yr', 'mnth'), ('season', 'yr'), ('weathersit', 'atemp'), ('season', 'weathersit'), ('workingday', 'atemp'), ('workingday', 'temp'), ('season', 'atemp'), ('mnth', 'holiday')]\n",
      "    MD: 77.44766376864936, MAD: 1516.713981002613, MSE: 375568.3612068342, MAE: 476.1832197387667, MedAE: 380.6608161300969, WMAPE: 483.9559262444965, SMAPE: 13.374653118527588, COD: 0.9116962734050346, F: 61.15296660244289, \n",
      "iter: 35 / 91   ---- The best model was updated in iter 35 ----\n",
      "    best_features['atemp', 'mnth', 'season', 'yr', 'weathersit', 'hum', 'windspeed', 'workingday', 'weekday', ('yr', 'atemp'), ('yr', 'temp'), ('yr', 'mnth'), ('season', 'yr'), ('weathersit', 'atemp'), ('season', 'weathersit'), ('workingday', 'atemp'), ('workingday', 'temp'), ('season', 'atemp'), ('mnth', 'holiday'), ('mnth', 'workingday')]\n",
      "    MD: 56.950112715644146, MAD: 1524.4755647887444, MSE: 356243.7168347924, MAE: 462.3458267149514, MedAE: 395.02658391510295, WMAPE: 467.79257426233005, SMAPE: 13.088372455340828, COD: 0.9162398886011878, F: 60.96536100804736, \n",
      "iter: 41 / 91   ---- The best model was updated in iter 41 ----\n",
      "    best_features['atemp', 'mnth', 'season', 'yr', 'weathersit', 'hum', 'windspeed', 'workingday', 'weekday', ('yr', 'atemp'), ('yr', 'temp'), ('yr', 'mnth'), ('season', 'yr'), ('weathersit', 'atemp'), ('season', 'weathersit'), ('workingday', 'atemp'), ('workingday', 'temp'), ('season', 'atemp'), ('mnth', 'holiday'), ('mnth', 'workingday'), ('yr', 'workingday')]\n",
      "    MD: 58.660105957903205, MAD: 1525.9454391221002, MSE: 352940.17214452877, MAE: 460.8506748784963, MedAE: 397.73224783273236, WMAPE: 465.4074881084141, SMAPE: 13.078511238113819, COD: 0.9170166188512704, F: 58.18782001780247, \n",
      "iter: 42 / 91   ---- The best model was updated in iter 42 ----\n",
      "    best_features['atemp', 'mnth', 'season', 'yr', 'weathersit', 'hum', 'windspeed', 'workingday', 'weekday', ('yr', 'atemp'), ('yr', 'temp'), ('yr', 'mnth'), ('season', 'yr'), ('weathersit', 'atemp'), ('season', 'weathersit'), ('workingday', 'atemp'), ('workingday', 'temp'), ('season', 'atemp'), ('mnth', 'holiday'), ('mnth', 'workingday'), ('yr', 'workingday'), ('yr', 'holiday')]\n",
      "    MD: 63.5426447875877, MAD: 1526.578560888985, MSE: 350898.30874600273, MAE: 459.39815714390664, MedAE: 424.10947610145377, WMAPE: 466.11497849071975, SMAPE: 13.012620189259147, COD: 0.9174967022819096, F: 55.60168287875602, \n",
      "iter: 46 / 91   ---- The best model was updated in iter 46 ----\n",
      "    best_features['atemp', 'mnth', 'season', 'yr', 'weathersit', 'hum', 'windspeed', 'workingday', 'weekday', ('yr', 'atemp'), ('yr', 'temp'), ('yr', 'mnth'), ('season', 'yr'), ('weathersit', 'atemp'), ('season', 'weathersit'), ('workingday', 'atemp'), ('workingday', 'temp'), ('season', 'atemp'), ('mnth', 'holiday'), ('mnth', 'workingday'), ('yr', 'workingday'), ('yr', 'holiday'), ('yr', 'weekday')]\n",
      "    MD: 53.25534575606576, MAD: 1525.5609145418016, MSE: 347385.6437927504, MAE: 457.20066503740406, MedAE: 379.11014725164705, WMAPE: 459.05124319128856, SMAPE: 12.932217644803806, COD: 0.9183226009402923, F: 53.260924859315224, \n",
      "iter: 63 / 91   ---- The best model was updated in iter 63 ----\n",
      "    best_features['atemp', 'mnth', 'season', 'yr', 'weathersit', 'hum', 'windspeed', 'workingday', 'weekday', ('yr', 'atemp'), ('yr', 'temp'), ('yr', 'mnth'), ('season', 'yr'), ('weathersit', 'atemp'), ('season', 'weathersit'), ('workingday', 'atemp'), ('workingday', 'temp'), ('season', 'atemp'), ('mnth', 'holiday'), ('mnth', 'workingday'), ('yr', 'workingday'), ('yr', 'holiday'), ('yr', 'weekday'), ('workingday', 'windspeed')]\n",
      "    MD: 55.88514960680291, MAD: 1535.8688359643518, MSE: 342665.75242322084, MAE: 451.2994703435627, MedAE: 337.45383341116485, WMAPE: 449.4426783075842, SMAPE: 12.869961557340634, COD: 0.919432342974242, F: 52.058885937780445, \n",
      "iter: 80 / 91   ---- The best model was updated in iter 80 ----\n",
      "    best_features['atemp', 'mnth', 'season', 'yr', 'weathersit', 'hum', 'windspeed', 'workingday', 'weekday', ('yr', 'atemp'), ('yr', 'temp'), ('yr', 'mnth'), ('season', 'yr'), ('weathersit', 'atemp'), ('season', 'weathersit'), ('workingday', 'atemp'), ('workingday', 'temp'), ('season', 'atemp'), ('mnth', 'holiday'), ('mnth', 'workingday'), ('yr', 'workingday'), ('yr', 'holiday'), ('yr', 'weekday'), ('workingday', 'windspeed'), ('holiday', 'temp')]\n",
      "    MD: 50.685229273610936, MAD: 1544.9052065074413, MSE: 335625.71079307236, MAE: 441.4771920371214, MedAE: 346.9334806359593, WMAPE: 442.3788360660627, SMAPE: 12.597094383801055, COD: 0.9210875993151335, F: 51.397635126471975, \n",
      "iter: 91 / 91 /home/tsuruda_yoshito/work/tornado/rPrivate-cyclic-boosting/cyclic_boosting/plots/__init__.py:199: RuntimeWarning: More than 20 figures have been opened. Figures created through the pyplot interface (`matplotlib.pyplot.figure`) are retained until explicitly closed and may consume too much memory. (To control this warning, see the rcParam `figure.max_open_warning`). Consider using `matplotlib.pyplot.close()`.\n",
      "  plt.figure(figsize=figsize)\n",
      "\n",
      "Now, you can make a forecasting analysis with the best modelusing the pickle file in the ./models directory!\n",
      "For instructions, please refer to the file tornado.ipynb inthe examples/regression/tornado directory."
     ]
    }
   ],
   "source": [
    "from cyclic_boosting.tornado import Generator, Manager, Trainer\n",
    "\n",
    "data_deliverler = Generator.TornadoDataModule(\"./bike_sharing.csv\")\n",
    "manager = Manager.TornadoVariableSelectionModule()\n",
    "trainer = Trainer.SqueezeTrainer(data_deliverler, manager)\n",
    "trainer.run(target=\"cnt\", log_policy=\"compute_COD\", verbose=False)"
   ]
  },
  {
   "cell_type": "markdown",
   "id": "15833e8f",
   "metadata": {},
   "source": [
    "# Load the best model and make predictions."
   ]
  },
  {
   "cell_type": "markdown",
   "id": "f3ea2396",
   "metadata": {},
   "source": [
    "Get the best model path."
   ]
  },
  {
   "cell_type": "code",
   "execution_count": 5,
   "id": "af5d0ef6",
   "metadata": {},
   "outputs": [
    {
     "name": "stdout",
     "output_type": "stream",
     "text": [
      "./models/model_80/model_80.pkl\n"
     ]
    }
   ],
   "source": [
    "import pickle\n",
    "from pathlib import Path\n",
    "\n",
    "model_nos = []\n",
    "for p in sorted(Path(\"./models/\").glob(\"model*\")):\n",
    "    model_nos.append(str(p)[str(p).find(\"_\") + 1 :])\n",
    "model_path = f\"./models/model_{model_nos[-1]}/model_{model_nos[-1]}.pkl\"\n",
    "print(model_path)"
   ]
  },
  {
   "cell_type": "markdown",
   "id": "f67a0e00",
   "metadata": {},
   "source": [
    "Make predictions with the best model."
   ]
  },
  {
   "cell_type": "code",
   "execution_count": 6,
   "id": "3e6cf4db",
   "metadata": {},
   "outputs": [
    {
     "ename": "ValueError",
     "evalue": "Input Matrix X has not the same number of feature columns (2) as the matrix in the fit (16).",
     "output_type": "error",
     "traceback": [
      "\u001b[0;31m---------------------------------------------------------------------------\u001b[0m",
      "\u001b[0;31mValueError\u001b[0m                                Traceback (most recent call last)",
      "\u001b[1;32m/home/tsuruda_yoshito/work/tornado/rPrivate-cyclic-boosting/examples/regression/tornado/test_1/tornado.ipynb Cell 13\u001b[0m line \u001b[0;36m2\n\u001b[1;32m     <a href='vscode-notebook-cell://wsl%2Bubuntu/home/tsuruda_yoshito/work/tornado/rPrivate-cyclic-boosting/examples/regression/tornado/test_1/tornado.ipynb#X25sdnNjb2RlLXJlbW90ZQ%3D%3D?line=18'>19</a>\u001b[0m \u001b[39mwith\u001b[39;00m \u001b[39mopen\u001b[39m(model_path, \u001b[39m\"\u001b[39m\u001b[39mrb\u001b[39m\u001b[39m\"\u001b[39m) \u001b[39mas\u001b[39;00m f:\n\u001b[1;32m     <a href='vscode-notebook-cell://wsl%2Bubuntu/home/tsuruda_yoshito/work/tornado/rPrivate-cyclic-boosting/examples/regression/tornado/test_1/tornado.ipynb#X25sdnNjb2RlLXJlbW90ZQ%3D%3D?line=19'>20</a>\u001b[0m     CB_est \u001b[39m=\u001b[39m pickle\u001b[39m.\u001b[39mload(f)\n\u001b[0;32m---> <a href='vscode-notebook-cell://wsl%2Bubuntu/home/tsuruda_yoshito/work/tornado/rPrivate-cyclic-boosting/examples/regression/tornado/test_1/tornado.ipynb#X25sdnNjb2RlLXJlbW90ZQ%3D%3D?line=20'>21</a>\u001b[0m     yhat \u001b[39m=\u001b[39m CB_est\u001b[39m.\u001b[39;49mpredict(X\u001b[39m.\u001b[39;49mcopy())\n\u001b[1;32m     <a href='vscode-notebook-cell://wsl%2Bubuntu/home/tsuruda_yoshito/work/tornado/rPrivate-cyclic-boosting/examples/regression/tornado/test_1/tornado.ipynb#X25sdnNjb2RlLXJlbW90ZQ%3D%3D?line=21'>22</a>\u001b[0m     \u001b[39mprint\u001b[39m(yhat)\n",
      "File \u001b[0;32m~/work/tornado/rPrivate-cyclic-boosting/.venv/lib/python3.10/site-packages/sklearn/pipeline.py:514\u001b[0m, in \u001b[0;36mPipeline.predict\u001b[0;34m(self, X, **predict_params)\u001b[0m\n\u001b[1;32m    512\u001b[0m Xt \u001b[39m=\u001b[39m X\n\u001b[1;32m    513\u001b[0m \u001b[39mfor\u001b[39;00m _, name, transform \u001b[39min\u001b[39;00m \u001b[39mself\u001b[39m\u001b[39m.\u001b[39m_iter(with_final\u001b[39m=\u001b[39m\u001b[39mFalse\u001b[39;00m):\n\u001b[0;32m--> 514\u001b[0m     Xt \u001b[39m=\u001b[39m transform\u001b[39m.\u001b[39;49mtransform(Xt)\n\u001b[1;32m    515\u001b[0m \u001b[39mreturn\u001b[39;00m \u001b[39mself\u001b[39m\u001b[39m.\u001b[39msteps[\u001b[39m-\u001b[39m\u001b[39m1\u001b[39m][\u001b[39m1\u001b[39m]\u001b[39m.\u001b[39mpredict(Xt, \u001b[39m*\u001b[39m\u001b[39m*\u001b[39mpredict_params)\n",
      "File \u001b[0;32m~/work/tornado/rPrivate-cyclic-boosting/.venv/lib/python3.10/site-packages/sklearn/utils/_set_output.py:157\u001b[0m, in \u001b[0;36m_wrap_method_output.<locals>.wrapped\u001b[0;34m(self, X, *args, **kwargs)\u001b[0m\n\u001b[1;32m    155\u001b[0m \u001b[39m@wraps\u001b[39m(f)\n\u001b[1;32m    156\u001b[0m \u001b[39mdef\u001b[39;00m \u001b[39mwrapped\u001b[39m(\u001b[39mself\u001b[39m, X, \u001b[39m*\u001b[39margs, \u001b[39m*\u001b[39m\u001b[39m*\u001b[39mkwargs):\n\u001b[0;32m--> 157\u001b[0m     data_to_wrap \u001b[39m=\u001b[39m f(\u001b[39mself\u001b[39;49m, X, \u001b[39m*\u001b[39;49margs, \u001b[39m*\u001b[39;49m\u001b[39m*\u001b[39;49mkwargs)\n\u001b[1;32m    158\u001b[0m     \u001b[39mif\u001b[39;00m \u001b[39misinstance\u001b[39m(data_to_wrap, \u001b[39mtuple\u001b[39m):\n\u001b[1;32m    159\u001b[0m         \u001b[39m# only wrap the first output for cross decomposition\u001b[39;00m\n\u001b[1;32m    160\u001b[0m         return_tuple \u001b[39m=\u001b[39m (\n\u001b[1;32m    161\u001b[0m             _wrap_data_with_container(method, data_to_wrap[\u001b[39m0\u001b[39m], X, \u001b[39mself\u001b[39m),\n\u001b[1;32m    162\u001b[0m             \u001b[39m*\u001b[39mdata_to_wrap[\u001b[39m1\u001b[39m:],\n\u001b[1;32m    163\u001b[0m         )\n",
      "File \u001b[0;32m~/work/tornado/rPrivate-cyclic-boosting/cyclic_boosting/binning/bin_number_transformer.py:176\u001b[0m, in \u001b[0;36mBinNumberTransformer.transform\u001b[0;34m(self, X, y, fit_mode)\u001b[0m\n\u001b[1;32m    175\u001b[0m \u001b[39mdef\u001b[39;00m \u001b[39mtransform\u001b[39m(\u001b[39mself\u001b[39m, X, y\u001b[39m=\u001b[39m\u001b[39mNone\u001b[39;00m, fit_mode\u001b[39m=\u001b[39m\u001b[39m0\u001b[39m):\n\u001b[0;32m--> 176\u001b[0m     \u001b[39mself\u001b[39;49m\u001b[39m.\u001b[39;49m_check_input_for_transform(X)\n\u001b[1;32m    178\u001b[0m     \u001b[39mif\u001b[39;00m check_frame_empty(X):\n\u001b[1;32m    179\u001b[0m         \u001b[39mif\u001b[39;00m \u001b[39misinstance\u001b[39m(X, pd\u001b[39m.\u001b[39mDataFrame):\n",
      "File \u001b[0;32m~/work/tornado/rPrivate-cyclic-boosting/cyclic_boosting/binning/ecdf_transformer.py:263\u001b[0m, in \u001b[0;36mECdfTransformer._check_input_for_transform\u001b[0;34m(self, X)\u001b[0m\n\u001b[1;32m    261\u001b[0m n_cols \u001b[39m=\u001b[39m \u001b[39mlen\u001b[39m(columns)\n\u001b[1;32m    262\u001b[0m \u001b[39mif\u001b[39;00m n_cols \u001b[39m!=\u001b[39m \u001b[39mlen\u001b[39m(\u001b[39mself\u001b[39m\u001b[39m.\u001b[39mbins_and_cdfs_):\n\u001b[0;32m--> 263\u001b[0m     \u001b[39mraise\u001b[39;00m \u001b[39mValueError\u001b[39;00m(\n\u001b[1;32m    264\u001b[0m         \u001b[39m\"\u001b[39m\u001b[39mInput Matrix X has not the same number\u001b[39m\u001b[39m\"\u001b[39m\n\u001b[1;32m    265\u001b[0m         \u001b[39m\"\u001b[39m\u001b[39m of feature columns (\u001b[39m\u001b[39m%s\u001b[39;00m\u001b[39m) as \u001b[39m\u001b[39m\"\u001b[39m\n\u001b[1;32m    266\u001b[0m         \u001b[39m\"\u001b[39m\u001b[39mthe matrix in the fit (\u001b[39m\u001b[39m%s\u001b[39;00m\u001b[39m).\u001b[39m\u001b[39m\"\u001b[39m \u001b[39m%\u001b[39m (n_cols, \u001b[39mlen\u001b[39m(\u001b[39mself\u001b[39m\u001b[39m.\u001b[39mbins_and_cdfs_))\n\u001b[1;32m    267\u001b[0m     )\n",
      "\u001b[0;31mValueError\u001b[0m: Input Matrix X has not the same number of feature columns (2) as the matrix in the fit (16)."
     ]
    }
   ],
   "source": [
    "data = {\n",
    "    \"dayofweek\": [4],\n",
    "    \"dayofyear\": [190],\n",
    "    \"event\": [0],\n",
    "    \"l_id\": [1],\n",
    "    \"normal_price\": [10.34],\n",
    "    \"p_id\": [20],\n",
    "    \"pg_id_1\": [1],\n",
    "    \"pg_id_2\": [1],\n",
    "    \"pg_id_3\": [1],\n",
    "    \"promotion_type\": [1],\n",
    "    \"sales_area\": [6321.6800893695445],\n",
    "    \"sales_price\": [10.34],\n",
    "    \"school_holiday\": [0],\n",
    "}\n",
    "\n",
    "X = pd.DataFrame(data)\n",
    "\n",
    "with open(model_path, \"rb\") as f:\n",
    "    CB_est = pickle.load(f)\n",
    "    yhat = CB_est.predict(X.copy())\n",
    "    print(yhat)"
   ]
  }
 ],
 "metadata": {
  "colab": {
   "provenance": []
  },
  "kernelspec": {
   "display_name": "Python 3 (ipykernel)",
   "language": "python",
   "name": "python3"
  },
  "language_info": {
   "codemirror_mode": {
    "name": "ipython",
    "version": 3
   },
   "file_extension": ".py",
   "mimetype": "text/x-python",
   "name": "python",
   "nbconvert_exporter": "python",
   "pygments_lexer": "ipython3",
   "version": "3.10.11"
  }
 },
 "nbformat": 4,
 "nbformat_minor": 5
}

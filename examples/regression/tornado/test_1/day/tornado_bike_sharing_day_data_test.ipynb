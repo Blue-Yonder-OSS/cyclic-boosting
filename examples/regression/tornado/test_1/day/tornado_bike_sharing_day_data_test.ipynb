{
 "cells": [
  {
   "cell_type": "markdown",
   "id": "e4f6005c-1e82-45cc-9013-fa89752acadf",
   "metadata": {
    "id": "e4f6005c-1e82-45cc-9013-fa89752acadf"
   },
   "source": [
    "# Regression using Cyclic Boosting"
   ]
  },
  {
   "cell_type": "markdown",
   "id": "4ee82ebe-8aa4-49ee-a84b-2a9aed8868c3",
   "metadata": {
    "colab": {
     "base_uri": "https://localhost:8080/"
    },
    "id": "Q8nS3cek3utK",
    "outputId": "e7b226b6-9dc5-4896-8066-8d105725fdd0"
   },
   "source": [
    "First, install the  package and its dependencies\n",
    "\n",
    "```sh\n",
    "!pip install cyclic-boosting\n",
    "```"
   ]
  },
  {
   "cell_type": "code",
   "execution_count": 1,
   "id": "d032f099-abc3-414f-957d-bf915cd2bd4e",
   "metadata": {
    "id": "d032f099-abc3-414f-957d-bf915cd2bd4e",
    "tags": []
   },
   "outputs": [],
   "source": [
    "import pandas as pd\n",
    "import numpy as np\n",
    "import os"
   ]
  },
  {
   "cell_type": "markdown",
   "id": "f795a87a-df58-4b1a-8717-b95203fd65cd",
   "metadata": {},
   "source": [
    "Let's use the test dataset from kaggle\n",
    "\n",
    "For time-series data, a \"date\" column must be included to indicate the date and time the data was obtained. The column name and format must be consistent. The \"dayofweek\" column for the day of the week and the \"dayofyear\" column for the total number of days in the year are automatically created if not already present, but if they are already present, the column names must be correct.\n",
    "\n",
    "This dataset has daily data. In this dataset, the \"instant\" column is the data number. The \"casual\" and \"registered\" columns are the breakdown of sales, so they should be deleted."
   ]
  },
  {
   "cell_type": "code",
   "execution_count": 2,
   "id": "7c39b738-890f-45d0-b015-cc0a2306dc24",
   "metadata": {
    "id": "7c39b738-890f-45d0-b015-cc0a2306dc24",
    "tags": []
   },
   "outputs": [],
   "source": [
    "parpath = os.path.abspath(os.path.join(os.getcwd(), os.pardir))\n",
    "df = pd.read_csv(parpath + \"/bike_sharing_data/day.csv\")\n",
    "df = df.rename(columns={'dteday': 'date', 'weekday': 'dayofweek'})\n",
    "df = df.drop(columns=['instant', 'casual', 'registered'])\n",
    "df[\"date\"] = pd.to_datetime(df[\"date\"])\n",
    "\n",
    "df.to_csv(\"./bike_sharing_day.csv\", index=False)"
   ]
  },
  {
   "cell_type": "code",
   "execution_count": 3,
   "id": "e8692944-7695-4823-82ef-fb2a22a399a6",
   "metadata": {
    "tags": []
   },
   "outputs": [
    {
     "data": {
      "text/html": [
       "<div>\n",
       "<style scoped>\n",
       "    .dataframe tbody tr th:only-of-type {\n",
       "        vertical-align: middle;\n",
       "    }\n",
       "\n",
       "    .dataframe tbody tr th {\n",
       "        vertical-align: top;\n",
       "    }\n",
       "\n",
       "    .dataframe thead th {\n",
       "        text-align: right;\n",
       "    }\n",
       "</style>\n",
       "<table border=\"1\" class=\"dataframe\">\n",
       "  <thead>\n",
       "    <tr style=\"text-align: right;\">\n",
       "      <th></th>\n",
       "      <th>date</th>\n",
       "      <th>season</th>\n",
       "      <th>yr</th>\n",
       "      <th>mnth</th>\n",
       "      <th>holiday</th>\n",
       "      <th>dayofweek</th>\n",
       "      <th>workingday</th>\n",
       "      <th>weathersit</th>\n",
       "      <th>temp</th>\n",
       "      <th>atemp</th>\n",
       "      <th>hum</th>\n",
       "      <th>windspeed</th>\n",
       "      <th>cnt</th>\n",
       "    </tr>\n",
       "  </thead>\n",
       "  <tbody>\n",
       "    <tr>\n",
       "      <th>0</th>\n",
       "      <td>2011-01-01</td>\n",
       "      <td>1</td>\n",
       "      <td>0</td>\n",
       "      <td>1</td>\n",
       "      <td>0</td>\n",
       "      <td>6</td>\n",
       "      <td>0</td>\n",
       "      <td>2</td>\n",
       "      <td>0.344167</td>\n",
       "      <td>0.363625</td>\n",
       "      <td>0.805833</td>\n",
       "      <td>0.160446</td>\n",
       "      <td>985</td>\n",
       "    </tr>\n",
       "    <tr>\n",
       "      <th>1</th>\n",
       "      <td>2011-01-02</td>\n",
       "      <td>1</td>\n",
       "      <td>0</td>\n",
       "      <td>1</td>\n",
       "      <td>0</td>\n",
       "      <td>0</td>\n",
       "      <td>0</td>\n",
       "      <td>2</td>\n",
       "      <td>0.363478</td>\n",
       "      <td>0.353739</td>\n",
       "      <td>0.696087</td>\n",
       "      <td>0.248539</td>\n",
       "      <td>801</td>\n",
       "    </tr>\n",
       "    <tr>\n",
       "      <th>2</th>\n",
       "      <td>2011-01-03</td>\n",
       "      <td>1</td>\n",
       "      <td>0</td>\n",
       "      <td>1</td>\n",
       "      <td>0</td>\n",
       "      <td>1</td>\n",
       "      <td>1</td>\n",
       "      <td>1</td>\n",
       "      <td>0.196364</td>\n",
       "      <td>0.189405</td>\n",
       "      <td>0.437273</td>\n",
       "      <td>0.248309</td>\n",
       "      <td>1349</td>\n",
       "    </tr>\n",
       "    <tr>\n",
       "      <th>3</th>\n",
       "      <td>2011-01-04</td>\n",
       "      <td>1</td>\n",
       "      <td>0</td>\n",
       "      <td>1</td>\n",
       "      <td>0</td>\n",
       "      <td>2</td>\n",
       "      <td>1</td>\n",
       "      <td>1</td>\n",
       "      <td>0.200000</td>\n",
       "      <td>0.212122</td>\n",
       "      <td>0.590435</td>\n",
       "      <td>0.160296</td>\n",
       "      <td>1562</td>\n",
       "    </tr>\n",
       "    <tr>\n",
       "      <th>4</th>\n",
       "      <td>2011-01-05</td>\n",
       "      <td>1</td>\n",
       "      <td>0</td>\n",
       "      <td>1</td>\n",
       "      <td>0</td>\n",
       "      <td>3</td>\n",
       "      <td>1</td>\n",
       "      <td>1</td>\n",
       "      <td>0.226957</td>\n",
       "      <td>0.229270</td>\n",
       "      <td>0.436957</td>\n",
       "      <td>0.186900</td>\n",
       "      <td>1600</td>\n",
       "    </tr>\n",
       "  </tbody>\n",
       "</table>\n",
       "</div>"
      ],
      "text/plain": [
       "        date  season  yr  mnth  holiday  dayofweek  workingday  weathersit  \\\n",
       "0 2011-01-01       1   0     1        0          6           0           2   \n",
       "1 2011-01-02       1   0     1        0          0           0           2   \n",
       "2 2011-01-03       1   0     1        0          1           1           1   \n",
       "3 2011-01-04       1   0     1        0          2           1           1   \n",
       "4 2011-01-05       1   0     1        0          3           1           1   \n",
       "\n",
       "       temp     atemp       hum  windspeed   cnt  \n",
       "0  0.344167  0.363625  0.805833   0.160446   985  \n",
       "1  0.363478  0.353739  0.696087   0.248539   801  \n",
       "2  0.196364  0.189405  0.437273   0.248309  1349  \n",
       "3  0.200000  0.212122  0.590435   0.160296  1562  \n",
       "4  0.226957  0.229270  0.436957   0.186900  1600  "
      ]
     },
     "execution_count": 3,
     "metadata": {},
     "output_type": "execute_result"
    }
   ],
   "source": [
    "df.head()"
   ]
  },
  {
   "cell_type": "markdown",
   "id": "1220e50d",
   "metadata": {},
   "source": [
    "# Automated Machine Learning with Tornado\n",
    "With tornado, you can automatically perform data preparation, feature property setting, hyperparameter tuning, model building, training, evaluation, and plotting!"
   ]
  },
  {
   "cell_type": "code",
   "execution_count": 4,
   "id": "ccbe9343",
   "metadata": {},
   "outputs": [
    {
     "name": "stderr",
     "output_type": "stream",
     "text": [
      "Data interval is 'daily'. If not, give\n",
      "    the data_interval option in the TornadoDataModule."
     ]
    },
    {
     "name": "stdout",
     "output_type": "stream",
     "text": [
      "Auto analysis target ['temp', 'atemp', 'hum', 'windspeed']\n",
      "    has_trend: ['temp', 'atemp', 'windspeed']\n",
      "    has_seasonality: []\n",
      "    has_up_monotonicity: []\n",
      "    has_down_monotonicity: []\n",
      "    has_linearity: []\n",
      "    has_missing: []\n"
     ]
    },
    {
     "name": "stderr",
     "output_type": "stream",
     "text": [
      "iter: 54 / 77 Encountered negative change of loss. This might not be a problem, as long as the model converges. Check the LOSS changes in the analysis plots.\n",
      "iter: 77 / 77 \n",
      "TRUNCATED\n",
      "['atemp', 'temp', 'mnth', 'season', 'yr', 'weathersit', 'hum', 'windspeed', 'holiday', 'workingday', 'dayofweek', 'dayofyear', ('yr', 'atemp'), ('yr', 'temp'), ('yr', 'mnth'), ('season', 'yr'), ('weathersit', 'atemp'), ('weathersit', 'temp'), ('season', 'weathersit'), ('mnth', 'weathersit'), ('workingday', 'atemp'), ('workingday', 'temp'), ('season', 'atemp'), ('holiday', 'atemp'), ('yr', 'weathersit'), ('season', 'temp'), ('season', 'hum'), ('dayofweek', 'temp'), ('season', 'workingday'), ('mnth', 'holiday'), ('mnth', 'workingday'), ('temp', 'atemp'), ('mnth', 'atemp'), ('mnth', 'temp'), ('season', 'holiday'), ('yr', 'windspeed'), ('yr', 'workingday'), ('yr', 'holiday'), ('season', 'dayofweek'), ('season', 'mnth'), ('yr', 'dayofweek'), ('season', 'windspeed'), ('mnth', 'dayofweek'), ('holiday', 'weathersit'), ('workingday', 'weathersit'), ('dayofweek', 'weathersit'), ('weathersit', 'windspeed'), ('dayofweek', 'atemp'), ('workingday', 'windspeed'), ('weathersit', 'hum'), ('workingday', 'hum'), ('mnth', 'dayofyear'), ('holiday', 'windspeed'), ('season', 'dayofyear'), ('holiday', 'dayofyear'), ('dayofweek', 'windspeed'), ('holiday', 'hum'), ('holiday', 'temp'), ('weathersit', 'dayofyear'), ('workingday', 'dayofyear'), ('dayofweek', 'hum'), ('atemp', 'hum'), ('temp', 'hum'), ('temp', 'windspeed'), ('mnth', 'hum'), ('hum', 'windspeed'), ('atemp', 'windspeed'), ('yr', 'hum'), ('mnth', 'windspeed')]\n",
      "\n",
      "iter: 0 / 68   ---- The best model was updated in iter 0 ----\n",
      "    best_features['atemp']\n",
      "    MD: -157.429856522431, MAD: 1101.2182916097909, MSE: 2409692.68826548, MAE: 1323.475727559179, MedAE: 1345.2890117004745, WMAPE: 1347.2628391635633, SMAPE: 32.38122260950245, COD: 0.4334324551761255, F: 97.58712592308459, \n",
      "iter: 3 / 68   ---- The best model was updated in iter 3 ----\n",
      "    best_features['atemp', 'mnth']\n",
      "    MD: -112.37399751736673, MAD: 1169.1435855382151, MSE: 2403696.49423554, MAE: 1354.6080782549523, MedAE: 1284.3843550756328, WMAPE: 1391.6811153381439, SMAPE: 33.07331757197971, COD: 0.4348422818093616, F: 54.811681459396624, \n",
      "iter: 4 / 68   ---- The best model was updated in iter 4 ----\n",
      "    best_features['atemp', 'mnth', 'season']\n",
      "    MD: -64.60009410398916, MAD: 1171.0716906479877, MSE: 2347477.5659005963, MAE: 1343.4085843797582, MedAE: 1259.2830710859957, WMAPE: 1400.4719595398226, SMAPE: 32.89059180513219, COD: 0.44806049023671324, F: 37.404859770977374, \n",
      "iter: 5 / 68   ---- The best model was updated in iter 5 ----\n",
      "    best_features['atemp', 'mnth', 'season', 'yr']\n",
      "    MD: -69.98291914299841, MAD: 1364.383047298993, MSE: 913585.7906275197, MAE: 682.2303839583493, MedAE: 479.69989533259195, WMAPE: 645.5064052752103, SMAPE: 18.94587150300058, COD: 0.7851974814454903, F: 109.75538904774598, \n",
      "iter: 6 / 68   ---- The best model was updated in iter 6 ----\n",
      "    best_features['atemp', 'mnth', 'season', 'yr', 'weathersit']\n",
      "    MD: -58.80734849540329, MAD: 1528.0021149866393, MSE: 563920.0561009594, MAE: 546.7472773901354, MedAE: 403.3850330642831, WMAPE: 520.465189291666, SMAPE: 15.792501230579498, COD: 0.8674109760062224, F: 169.37480070178623, \n",
      "iter: 7 / 68   ---- The best model was updated in iter 7 ----\n",
      "    best_features['atemp', 'mnth', 'season', 'yr', 'weathersit', 'hum']\n",
      "    MD: -22.373933804966043, MAD: 1521.5847054956841, MSE: 532908.8375468497, MAE: 545.7291596717273, MedAE: 419.43617424652257, WMAPE: 516.2878130310919, SMAPE: 16.118465120028244, COD: 0.8747023414337556, F: 146.92697991841106, \n",
      "iter: 8 / 68   ---- The best model was updated in iter 8 ----\n",
      "    best_features['atemp', 'mnth', 'season', 'yr', 'weathersit', 'hum', 'windspeed']\n",
      "    MD: 43.06252257426439, MAD: 1492.829434292094, MSE: 527090.3326161822, MAE: 553.6837638532949, MedAE: 431.1592795181359, WMAPE: 536.1400574000571, SMAPE: 16.132955688993675, COD: 0.8760703897617301, F: 122.68110844609159, \n",
      "iter: 10 / 68   ---- The best model was updated in iter 10 ----\n",
      "    best_features['atemp', 'mnth', 'season', 'yr', 'weathersit', 'hum', 'windspeed', 'workingday']\n",
      "    MD: 47.91147162275183, MAD: 1497.820290624331, MSE: 525595.0629672215, MAE: 549.5450063206617, MedAE: 440.8440241381959, WMAPE: 536.1764975849037, SMAPE: 16.016439083022558, COD: 0.876421957933882, F: 107.7268774808651, \n",
      "iter: 11 / 68   ---- The best model was updated in iter 11 ----\n",
      "    best_features['atemp', 'mnth', 'season', 'yr', 'weathersit', 'hum', 'windspeed', 'workingday', 'dayofweek']\n",
      "    MD: 52.87457345354287, MAD: 1486.7235903935066, MSE: 498526.1928400813, MAE: 533.891582233332, MedAE: 393.7251811913861, WMAPE: 509.13877995935025, SMAPE: 15.863062491997077, COD: 0.8827863974177107, F: 97.99963522883083, \n",
      "iter: 13 / 68   ---- The best model was updated in iter 13 ----\n",
      "    best_features['atemp', 'mnth', 'season', 'yr', 'weathersit', 'hum', 'windspeed', 'workingday', 'dayofweek', ('yr', 'atemp')]\n",
      "    MD: 12.57765296912201, MAD: 1499.2361044007714, MSE: 480772.67699859984, MAE: 515.8503844878059, MedAE: 389.05328537828154, WMAPE: 492.3836033591748, SMAPE: 14.901530604157426, COD: 0.8869606084825832, F: 91.98101119108976, \n",
      "iter: 14 / 68   ---- The best model was updated in iter 14 ----\n",
      "    best_features['atemp', 'mnth', 'season', 'yr', 'weathersit', 'hum', 'windspeed', 'workingday', 'dayofweek', ('yr', 'atemp'), ('yr', 'temp')]\n",
      "    MD: 2.476112580014386, MAD: 1503.2572277740546, MSE: 477688.1822094901, MAE: 516.4565980972504, MedAE: 392.20584255182166, WMAPE: 489.07541540422886, SMAPE: 15.072896915717099, COD: 0.887685835665368, F: 84.00348527753381, \n",
      "iter: 15 / 68   ---- The best model was updated in iter 15 ----\n",
      "    best_features['atemp', 'mnth', 'season', 'yr', 'weathersit', 'hum', 'windspeed', 'workingday', 'dayofweek', ('yr', 'atemp'), ('yr', 'temp'), ('yr', 'mnth')]\n",
      "    MD: 31.84702717381388, MAD: 1506.2278059263945, MSE: 476544.0313227453, MAE: 512.1822697775985, MedAE: 397.44338577071085, WMAPE: 502.940396522804, SMAPE: 14.48791664192693, COD: 0.887954848706727, F: 76.92014838604332, \n",
      "iter: 16 / 68   ---- The best model was updated in iter 16 ----\n",
      "    best_features['atemp', 'mnth', 'season', 'yr', 'weathersit', 'hum', 'windspeed', 'workingday', 'dayofweek', ('yr', 'atemp'), ('yr', 'temp'), ('yr', 'mnth'), ('season', 'yr')]\n",
      "    MD: 36.2371446642894, MAD: 1507.7837979190908, MSE: 469694.1422244, MAE: 508.3371192308027, MedAE: 400.80415531284143, WMAPE: 501.63184403547154, SMAPE: 14.38237605822938, COD: 0.8895653963369972, F: 71.42309696961074, \n",
      "iter: 17 / 68   ---- The best model was updated in iter 17 ----\n",
      "    best_features['atemp', 'mnth', 'season', 'yr', 'weathersit', 'hum', 'windspeed', 'workingday', 'dayofweek', ('yr', 'atemp'), ('yr', 'temp'), ('yr', 'mnth'), ('season', 'yr'), ('weathersit', 'atemp')]\n",
      "    MD: 41.651300567495696, MAD: 1513.9494036081014, MSE: 450514.9466715318, MAE: 498.11457532329774, MedAE: 401.08770714823186, WMAPE: 492.42806287978743, SMAPE: 13.913675756863162, COD: 0.8940748135705728, F: 70.15526002831199, \n",
      "iter: 19 / 68   ---- The best model was updated in iter 19 ----\n",
      "    best_features['atemp', 'mnth', 'season', 'yr', 'weathersit', 'hum', 'windspeed', 'workingday', 'dayofweek', ('yr', 'atemp'), ('yr', 'temp'), ('yr', 'mnth'), ('season', 'yr'), ('weathersit', 'atemp'), ('season', 'weathersit')]\n",
      "    MD: 41.54363453888457, MAD: 1508.7119757986563, MSE: 441407.1923114252, MAE: 495.87224114979574, MedAE: 400.7750938986219, WMAPE: 491.5721564948564, SMAPE: 13.775062697478768, COD: 0.8962162310433456, F: 66.31573889797922, \n",
      "iter: 21 / 68   ---- The best model was updated in iter 21 ----\n",
      "    best_features['atemp', 'mnth', 'season', 'yr', 'weathersit', 'hum', 'windspeed', 'workingday', 'dayofweek', ('yr', 'atemp'), ('yr', 'temp'), ('yr', 'mnth'), ('season', 'yr'), ('weathersit', 'atemp'), ('season', 'weathersit'), ('workingday', 'atemp')]\n",
      "    MD: 60.981006450598784, MAD: 1514.7008679285914, MSE: 402542.01148516417, MAE: 479.9684110570431, MedAE: 391.99977675467426, WMAPE: 480.6531071567669, SMAPE: 13.410762839480977, COD: 0.9053542220357658, F: 68.80370249920406, \n",
      "iter: 22 / 68   ---- The best model was updated in iter 22 ----\n",
      "    best_features['atemp', 'mnth', 'season', 'yr', 'weathersit', 'hum', 'windspeed', 'workingday', 'dayofweek', ('yr', 'atemp'), ('yr', 'temp'), ('yr', 'mnth'), ('season', 'yr'), ('weathersit', 'atemp'), ('season', 'weathersit'), ('workingday', 'atemp'), ('workingday', 'temp')]\n",
      "    MD: 60.820219830086444, MAD: 1521.081473154993, MSE: 399426.1092242677, MAE: 479.61767001254157, MedAE: 406.4717776207108, WMAPE: 481.48078210949575, SMAPE: 13.370831072483359, COD: 0.9060868337511369, F: 65.39587032212563, \n",
      "iter: 23 / 68   ---- The best model was updated in iter 23 ----\n",
      "    best_features['atemp', 'mnth', 'season', 'yr', 'weathersit', 'hum', 'windspeed', 'workingday', 'dayofweek', ('yr', 'atemp'), ('yr', 'temp'), ('yr', 'mnth'), ('season', 'yr'), ('weathersit', 'atemp'), ('season', 'weathersit'), ('workingday', 'atemp'), ('workingday', 'temp'), ('season', 'atemp')]\n",
      "    MD: 67.93546272157624, MAD: 1511.889121897157, MSE: 390494.15470515174, MAE: 479.75665194146296, MedAE: 381.78356358789006, WMAPE: 484.9502530873361, SMAPE: 13.40783622036549, COD: 0.9081869171215258, F: 62.18071746644972, \n",
      "iter: 30 / 68   ---- The best model was updated in iter 30 ----\n",
      "    best_features['atemp', 'mnth', 'season', 'yr', 'weathersit', 'hum', 'windspeed', 'workingday', 'dayofweek', ('yr', 'atemp'), ('yr', 'temp'), ('yr', 'mnth'), ('season', 'yr'), ('weathersit', 'atemp'), ('season', 'weathersit'), ('workingday', 'atemp'), ('workingday', 'temp'), ('season', 'atemp'), ('mnth', 'holiday')]\n",
      "    MD: 77.44766376864936, MAD: 1516.713981002613, MSE: 375568.3612068342, MAE: 476.1832197387667, MedAE: 380.6608161300969, WMAPE: 483.9559262444965, SMAPE: 13.374653118527588, COD: 0.9116962734050346, F: 61.15296660244289, \n",
      "iter: 31 / 68   ---- The best model was updated in iter 31 ----\n",
      "    best_features['atemp', 'mnth', 'season', 'yr', 'weathersit', 'hum', 'windspeed', 'workingday', 'dayofweek', ('yr', 'atemp'), ('yr', 'temp'), ('yr', 'mnth'), ('season', 'yr'), ('weathersit', 'atemp'), ('season', 'weathersit'), ('workingday', 'atemp'), ('workingday', 'temp'), ('season', 'atemp'), ('mnth', 'holiday'), ('mnth', 'workingday')]\n",
      "    MD: 56.950112715644146, MAD: 1524.4755647887444, MSE: 356243.7168347924, MAE: 462.3458267149514, MedAE: 395.02658391510295, WMAPE: 467.79257426233005, SMAPE: 13.088372455340828, COD: 0.9162398886011878, F: 60.96536100804736, \n",
      "iter: 37 / 68   ---- The best model was updated in iter 37 ----\n",
      "    best_features['atemp', 'mnth', 'season', 'yr', 'weathersit', 'hum', 'windspeed', 'workingday', 'dayofweek', ('yr', 'atemp'), ('yr', 'temp'), ('yr', 'mnth'), ('season', 'yr'), ('weathersit', 'atemp'), ('season', 'weathersit'), ('workingday', 'atemp'), ('workingday', 'temp'), ('season', 'atemp'), ('mnth', 'holiday'), ('mnth', 'workingday'), ('yr', 'workingday')]\n",
      "    MD: 58.660105957903205, MAD: 1525.9454391221002, MSE: 352940.17214452877, MAE: 460.8506748784963, MedAE: 397.73224783273236, WMAPE: 465.4074881084141, SMAPE: 13.078511238113819, COD: 0.9170166188512704, F: 58.18782001780247, \n",
      "iter: 38 / 68   ---- The best model was updated in iter 38 ----\n",
      "    best_features['atemp', 'mnth', 'season', 'yr', 'weathersit', 'hum', 'windspeed', 'workingday', 'dayofweek', ('yr', 'atemp'), ('yr', 'temp'), ('yr', 'mnth'), ('season', 'yr'), ('weathersit', 'atemp'), ('season', 'weathersit'), ('workingday', 'atemp'), ('workingday', 'temp'), ('season', 'atemp'), ('mnth', 'holiday'), ('mnth', 'workingday'), ('yr', 'workingday'), ('yr', 'holiday')]\n",
      "    MD: 63.5426447875877, MAD: 1526.578560888985, MSE: 350898.30874600273, MAE: 459.39815714390664, MedAE: 424.10947610145377, WMAPE: 466.11497849071975, SMAPE: 13.012620189259147, COD: 0.9174967022819096, F: 55.60168287875602, \n",
      "iter: 41 / 68   ---- The best model was updated in iter 41 ----\n",
      "    best_features['atemp', 'mnth', 'season', 'yr', 'weathersit', 'hum', 'windspeed', 'workingday', 'dayofweek', ('yr', 'atemp'), ('yr', 'temp'), ('yr', 'mnth'), ('season', 'yr'), ('weathersit', 'atemp'), ('season', 'weathersit'), ('workingday', 'atemp'), ('workingday', 'temp'), ('season', 'atemp'), ('mnth', 'holiday'), ('mnth', 'workingday'), ('yr', 'workingday'), ('yr', 'holiday'), ('yr', 'dayofweek')]\n",
      "    MD: 53.25534575606576, MAD: 1525.5609145418016, MSE: 347385.6437927504, MAE: 457.20066503740406, MedAE: 379.11014725164705, WMAPE: 459.05124319128856, SMAPE: 12.932217644803806, COD: 0.9183226009402923, F: 53.260924859315224, \n",
      "iter: 49 / 68   ---- The best model was updated in iter 49 ----\n",
      "    best_features['atemp', 'mnth', 'season', 'yr', 'weathersit', 'hum', 'windspeed', 'workingday', 'dayofweek', ('yr', 'atemp'), ('yr', 'temp'), ('yr', 'mnth'), ('season', 'yr'), ('weathersit', 'atemp'), ('season', 'weathersit'), ('workingday', 'atemp'), ('workingday', 'temp'), ('season', 'atemp'), ('mnth', 'holiday'), ('mnth', 'workingday'), ('yr', 'workingday'), ('yr', 'holiday'), ('yr', 'dayofweek'), ('workingday', 'windspeed')]\n",
      "    MD: 55.88514960680291, MAD: 1535.8688359643518, MSE: 342665.75242322084, MAE: 451.2994703435627, MedAE: 337.45383341116485, WMAPE: 449.4426783075842, SMAPE: 12.869961557340634, COD: 0.919432342974242, F: 52.058885937780445, \n",
      "iter: 58 / 68   ---- The best model was updated in iter 58 ----\n",
      "    best_features['atemp', 'mnth', 'season', 'yr', 'weathersit', 'hum', 'windspeed', 'workingday', 'dayofweek', ('yr', 'atemp'), ('yr', 'temp'), ('yr', 'mnth'), ('season', 'yr'), ('weathersit', 'atemp'), ('season', 'weathersit'), ('workingday', 'atemp'), ('workingday', 'temp'), ('season', 'atemp'), ('mnth', 'holiday'), ('mnth', 'workingday'), ('yr', 'workingday'), ('yr', 'holiday'), ('yr', 'dayofweek'), ('workingday', 'windspeed'), ('holiday', 'temp')]\n",
      "    MD: 50.685229273610936, MAD: 1544.9052065074413, MSE: 335625.71079307236, MAE: 441.4771920371214, MedAE: 346.9334806359593, WMAPE: 442.3788360660627, SMAPE: 12.597094383801055, COD: 0.9210875993151335, F: 51.397635126471975, \n",
      "iter: 68 / 68 /home/tsuruda_yoshito/work/tornado/rPrivate-cyclic-boosting/cyclic_boosting/plots/__init__.py:199: RuntimeWarning: More than 20 figures have been opened. Figures created through the pyplot interface (`matplotlib.pyplot.figure`) are retained until explicitly closed and may consume too much memory. (To control this warning, see the rcParam `figure.max_open_warning`). Consider using `matplotlib.pyplot.close()`.\n",
      "  plt.figure(figsize=figsize)\n",
      "\n",
      "\n",
      "Now, you can make a forecasting analysis with the best model\n",
      "    using the pickle file in the ./models directory!\n",
      "For instructions, please refer to the file tornado.ipynb in\n",
      "    the examples/regression/tornado directory."
     ]
    }
   ],
   "source": [
    "from cyclic_boosting.tornado import Generator, Manager, Trainer\n",
    "\n",
    "data_deliverler = Generator.TornadoDataModule(\"./bike_sharing_day.csv\")\n",
    "manager = Manager.TornadoVariableSelectionModule()\n",
    "trainer = Trainer.SqueezeTrainer(data_deliverler, manager)\n",
    "trainer.run(target=\"cnt\", log_policy=\"compute_COD\", verbose=False)"
   ]
  },
  {
   "cell_type": "markdown",
   "id": "15833e8f",
   "metadata": {},
   "source": [
    "# Load the best model and make predictions."
   ]
  },
  {
   "cell_type": "markdown",
   "id": "f3ea2396",
   "metadata": {},
   "source": [
    "Get the best model path."
   ]
  },
  {
   "cell_type": "code",
   "execution_count": 5,
   "id": "af5d0ef6",
   "metadata": {},
   "outputs": [
    {
     "name": "stdout",
     "output_type": "stream",
     "text": [
      "./models/model_58/model_58.pkl\n"
     ]
    }
   ],
   "source": [
    "import pickle\n",
    "from pathlib import Path\n",
    "\n",
    "model_nos = []\n",
    "for p in sorted(Path(\"./models/\").glob(\"model*\")):\n",
    "    model_nos.append(str(p)[str(p).find(\"_\") + 1 :])\n",
    "model_path = f\"./models/model_{model_nos[-1]}/model_{model_nos[-1]}.pkl\"\n",
    "print(model_path)"
   ]
  },
  {
   "cell_type": "markdown",
   "id": "f67a0e00",
   "metadata": {},
   "source": [
    "Make predictions with the best model."
   ]
  },
  {
   "cell_type": "code",
   "execution_count": 6,
   "id": "3e6cf4db",
   "metadata": {},
   "outputs": [
    {
     "name": "stdout",
     "output_type": "stream",
     "text": [
      "[3072.31800301]\n"
     ]
    }
   ],
   "source": [
    "data = {\n",
    "    'season': [4],\n",
    "    'yr': [0],\n",
    "    'mnth': [11],\n",
    "    'holiday': [0],\n",
    "    'workingday': [1],\n",
    "    'weathersit': [2],\n",
    "    'temp': [0.341667],\n",
    "    'atemp': [0.323221],\n",
    "    'hum': [0.575833],\n",
    "    'windspeed': [0.305362],\n",
    "    'dayofweek': [4],\n",
    "    'dayofyear': [180],\n",
    "}\n",
    "X = pd.DataFrame(data)\n",
    "\n",
    "with open(model_path, \"rb\") as f:\n",
    "    CB_est = pickle.load(f)\n",
    "    yhat = CB_est.predict(X.copy())\n",
    "    print(yhat)"
   ]
  }
 ],
 "metadata": {
  "colab": {
   "provenance": []
  },
  "kernelspec": {
   "display_name": "Python 3 (ipykernel)",
   "language": "python",
   "name": "python3"
  },
  "language_info": {
   "codemirror_mode": {
    "name": "ipython",
    "version": 3
   },
   "file_extension": ".py",
   "mimetype": "text/x-python",
   "name": "python",
   "nbconvert_exporter": "python",
   "pygments_lexer": "ipython3",
   "version": "3.10.11"
  }
 },
 "nbformat": 4,
 "nbformat_minor": 5
}

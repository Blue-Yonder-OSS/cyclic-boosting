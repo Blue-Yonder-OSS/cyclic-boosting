{
 "cells": [
  {
   "cell_type": "markdown",
   "id": "e4f6005c-1e82-45cc-9013-fa89752acadf",
   "metadata": {
    "id": "e4f6005c-1e82-45cc-9013-fa89752acadf"
   },
   "source": [
    "# Regression using Cyclic Boosting"
   ]
  },
  {
   "cell_type": "markdown",
   "id": "4ee82ebe-8aa4-49ee-a84b-2a9aed8868c3",
   "metadata": {
    "colab": {
     "base_uri": "https://localhost:8080/"
    },
    "id": "Q8nS3cek3utK",
    "outputId": "e7b226b6-9dc5-4896-8066-8d105725fdd0"
   },
   "source": [
    "First, install the  package and its dependencies\n",
    "\n",
    "```sh\n",
    "!pip install cyclic-boosting\n",
    "```"
   ]
  },
  {
   "cell_type": "code",
   "execution_count": 1,
   "id": "d032f099-abc3-414f-957d-bf915cd2bd4e",
   "metadata": {
    "id": "d032f099-abc3-414f-957d-bf915cd2bd4e",
    "tags": []
   },
   "outputs": [],
   "source": [
    "import pandas as pd\n",
    "import numpy as np\n",
    "import os\n",
    "import datetime"
   ]
  },
  {
   "cell_type": "markdown",
   "id": "f795a87a-df58-4b1a-8717-b95203fd65cd",
   "metadata": {},
   "source": [
    "Let's use the test dataset from kaggle\n",
    "\n",
    "For time-series data, a \"date\" column must be included to indicate the date and time the data was obtained. The column name and format must be consistent. The \"dayofweek\" column for the day of the week and the \"dayofyear\" column for the total number of days in the year are automatically created if not already present, but if they are already present, the column names must be correct.\n",
    "\n",
    "This dataset has hourly data. In this dataset, the \"instant\" column is the data number. The \"casual\" and \"registered\" columns are the breakdown of sales, so they should be deleted."
   ]
  },
  {
   "cell_type": "code",
   "execution_count": 2,
   "id": "7c39b738-890f-45d0-b015-cc0a2306dc24",
   "metadata": {
    "id": "7c39b738-890f-45d0-b015-cc0a2306dc24",
    "tags": []
   },
   "outputs": [],
   "source": [
    "parpath = os.path.abspath(os.path.join(os.getcwd(), os.pardir))\n",
    "df = pd.read_csv(parpath + \"/bike_sharing_data/hour.csv\")\n",
    "df = df.rename(columns={'dteday': 'date', 'weekday': 'dayofweek'})\n",
    "df = df.drop(columns=['instant', 'casual', 'registered'])\n",
    "df[\"date\"] = pd.to_datetime(df[\"date\"])\n",
    "df['date'] = df['date'] + df['hr'].map(lambda x: datetime.timedelta(hours=float(x)))\n",
    "\n",
    "df.to_csv(\"./bike_sharing_hour.csv\", index=False)"
   ]
  },
  {
   "cell_type": "code",
   "execution_count": 3,
   "id": "e8692944-7695-4823-82ef-fb2a22a399a6",
   "metadata": {
    "tags": []
   },
   "outputs": [
    {
     "data": {
      "text/html": [
       "<div>\n",
       "<style scoped>\n",
       "    .dataframe tbody tr th:only-of-type {\n",
       "        vertical-align: middle;\n",
       "    }\n",
       "\n",
       "    .dataframe tbody tr th {\n",
       "        vertical-align: top;\n",
       "    }\n",
       "\n",
       "    .dataframe thead th {\n",
       "        text-align: right;\n",
       "    }\n",
       "</style>\n",
       "<table border=\"1\" class=\"dataframe\">\n",
       "  <thead>\n",
       "    <tr style=\"text-align: right;\">\n",
       "      <th></th>\n",
       "      <th>date</th>\n",
       "      <th>season</th>\n",
       "      <th>yr</th>\n",
       "      <th>mnth</th>\n",
       "      <th>hr</th>\n",
       "      <th>holiday</th>\n",
       "      <th>dayofweek</th>\n",
       "      <th>workingday</th>\n",
       "      <th>weathersit</th>\n",
       "      <th>temp</th>\n",
       "      <th>atemp</th>\n",
       "      <th>hum</th>\n",
       "      <th>windspeed</th>\n",
       "      <th>cnt</th>\n",
       "    </tr>\n",
       "  </thead>\n",
       "  <tbody>\n",
       "    <tr>\n",
       "      <th>0</th>\n",
       "      <td>2011-01-01 00:00:00</td>\n",
       "      <td>1</td>\n",
       "      <td>0</td>\n",
       "      <td>1</td>\n",
       "      <td>0</td>\n",
       "      <td>0</td>\n",
       "      <td>6</td>\n",
       "      <td>0</td>\n",
       "      <td>1</td>\n",
       "      <td>0.24</td>\n",
       "      <td>0.2879</td>\n",
       "      <td>0.81</td>\n",
       "      <td>0.0</td>\n",
       "      <td>16</td>\n",
       "    </tr>\n",
       "    <tr>\n",
       "      <th>1</th>\n",
       "      <td>2011-01-01 01:00:00</td>\n",
       "      <td>1</td>\n",
       "      <td>0</td>\n",
       "      <td>1</td>\n",
       "      <td>1</td>\n",
       "      <td>0</td>\n",
       "      <td>6</td>\n",
       "      <td>0</td>\n",
       "      <td>1</td>\n",
       "      <td>0.22</td>\n",
       "      <td>0.2727</td>\n",
       "      <td>0.80</td>\n",
       "      <td>0.0</td>\n",
       "      <td>40</td>\n",
       "    </tr>\n",
       "    <tr>\n",
       "      <th>2</th>\n",
       "      <td>2011-01-01 02:00:00</td>\n",
       "      <td>1</td>\n",
       "      <td>0</td>\n",
       "      <td>1</td>\n",
       "      <td>2</td>\n",
       "      <td>0</td>\n",
       "      <td>6</td>\n",
       "      <td>0</td>\n",
       "      <td>1</td>\n",
       "      <td>0.22</td>\n",
       "      <td>0.2727</td>\n",
       "      <td>0.80</td>\n",
       "      <td>0.0</td>\n",
       "      <td>32</td>\n",
       "    </tr>\n",
       "    <tr>\n",
       "      <th>3</th>\n",
       "      <td>2011-01-01 03:00:00</td>\n",
       "      <td>1</td>\n",
       "      <td>0</td>\n",
       "      <td>1</td>\n",
       "      <td>3</td>\n",
       "      <td>0</td>\n",
       "      <td>6</td>\n",
       "      <td>0</td>\n",
       "      <td>1</td>\n",
       "      <td>0.24</td>\n",
       "      <td>0.2879</td>\n",
       "      <td>0.75</td>\n",
       "      <td>0.0</td>\n",
       "      <td>13</td>\n",
       "    </tr>\n",
       "    <tr>\n",
       "      <th>4</th>\n",
       "      <td>2011-01-01 04:00:00</td>\n",
       "      <td>1</td>\n",
       "      <td>0</td>\n",
       "      <td>1</td>\n",
       "      <td>4</td>\n",
       "      <td>0</td>\n",
       "      <td>6</td>\n",
       "      <td>0</td>\n",
       "      <td>1</td>\n",
       "      <td>0.24</td>\n",
       "      <td>0.2879</td>\n",
       "      <td>0.75</td>\n",
       "      <td>0.0</td>\n",
       "      <td>1</td>\n",
       "    </tr>\n",
       "  </tbody>\n",
       "</table>\n",
       "</div>"
      ],
      "text/plain": [
       "                 date  season  yr  mnth  hr  holiday  dayofweek  workingday  \\\n",
       "0 2011-01-01 00:00:00       1   0     1   0        0          6           0   \n",
       "1 2011-01-01 01:00:00       1   0     1   1        0          6           0   \n",
       "2 2011-01-01 02:00:00       1   0     1   2        0          6           0   \n",
       "3 2011-01-01 03:00:00       1   0     1   3        0          6           0   \n",
       "4 2011-01-01 04:00:00       1   0     1   4        0          6           0   \n",
       "\n",
       "   weathersit  temp   atemp   hum  windspeed  cnt  \n",
       "0           1  0.24  0.2879  0.81        0.0   16  \n",
       "1           1  0.22  0.2727  0.80        0.0   40  \n",
       "2           1  0.22  0.2727  0.80        0.0   32  \n",
       "3           1  0.24  0.2879  0.75        0.0   13  \n",
       "4           1  0.24  0.2879  0.75        0.0    1  "
      ]
     },
     "execution_count": 3,
     "metadata": {},
     "output_type": "execute_result"
    }
   ],
   "source": [
    "df.head()"
   ]
  },
  {
   "cell_type": "markdown",
   "id": "1220e50d",
   "metadata": {},
   "source": [
    "# Automated Machine Learning with Tornado\n",
    "With tornado, you can automatically perform data preparation, feature property setting, hyperparameter tuning, model building, training, evaluation, and plotting!"
   ]
  },
  {
   "cell_type": "code",
   "execution_count": 4,
   "id": "ccbe9343",
   "metadata": {},
   "outputs": [
    {
     "name": "stderr",
     "output_type": "stream",
     "text": [
      "Data interval is 'hourly'. If not, give\n",
      "    the data_interval option in the TornadoDataModule."
     ]
    },
    {
     "name": "stdout",
     "output_type": "stream",
     "text": [
      "Auto analysis target ['temp', 'atemp', 'hum', 'windspeed']\n",
      "    has_trend: ['temp', 'atemp', 'windspeed']\n",
      "    has_seasonality: []\n",
      "    has_up_monotonicity: []\n",
      "    has_down_monotonicity: []\n",
      "    has_linearity: []\n",
      "    has_missing: []\n"
     ]
    },
    {
     "name": "stderr",
     "output_type": "stream",
     "text": [
      "iter: 90 / 90 \n",
      "TRUNCATED\n",
      "['hr', 'atemp', 'temp', 'hum', 'mnth', 'dayofyear', 'season', 'yr', 'weathersit', 'windspeed', 'dayofweek', 'workingday', 'holiday', ('hr', 'atemp'), ('hr', 'temp'), ('hr', 'workingday'), ('hr', 'dayofweek'), ('yr', 'hr'), ('mnth', 'hr'), ('season', 'hr'), ('hr', 'weathersit'), ('hr', 'hum'), ('hr', 'holiday'), ('hr', 'windspeed'), ('temp', 'hum'), ('atemp', 'hum'), ('mnth', 'hum'), ('mnth', 'atemp'), ('yr', 'atemp'), ('mnth', 'temp'), ('yr', 'temp'), ('temp', 'atemp'), ('season', 'atemp'), ('season', 'hum'), ('season', 'temp'), ('atemp', 'windspeed'), ('weathersit', 'atemp'), ('temp', 'dayofyear'), ('atemp', 'dayofyear'), ('weathersit', 'temp'), ('dayofweek', 'atemp'), ('workingday', 'atemp'), ('temp', 'windspeed'), ('holiday', 'atemp'), ('hum', 'dayofyear'), ('workingday', 'temp'), ('dayofweek', 'temp'), ('yr', 'hum'), ('holiday', 'temp'), ('hr', 'dayofyear'), ('yr', 'mnth'), ('season', 'yr'), ('weathersit', 'hum'), ('dayofweek', 'hum'), ('yr', 'dayofyear'), ('workingday', 'hum'), ('hum', 'windspeed'), ('holiday', 'hum'), ('dayofweek', 'dayofyear'), ('weathersit', 'dayofyear'), ('mnth', 'windspeed'), ('yr', 'weathersit'), ('mnth', 'weathersit'), ('yr', 'windspeed'), ('season', 'windspeed'), ('season', 'weathersit'), ('yr', 'dayofweek'), ('mnth', 'workingday'), ('workingday', 'dayofyear'), ('mnth', 'holiday'), ('mnth', 'dayofweek'), ('season', 'workingday'), ('season', 'dayofweek'), ('season', 'holiday'), ('holiday', 'dayofyear'), ('season', 'dayofyear'), ('yr', 'workingday'), ('yr', 'holiday'), ('season', 'mnth'), ('weathersit', 'windspeed'), ('workingday', 'weathersit'), ('dayofweek', 'weathersit'), ('mnth', 'dayofyear'), ('holiday', 'weathersit'), ('dayofweek', 'windspeed'), ('workingday', 'windspeed'), ('holiday', 'windspeed'), ('windspeed', 'dayofyear')]\n",
      "\n",
      "iter: 0 / 87   ---- The best model was updated in iter 0 ----\n",
      "    best_features['hr']\n",
      "    MD: 0.7654958548077637, MAD: 104.43412429202002, MSE: 16752.038433501115, MAE: 89.60431241763007, MedAE: 56.64268505644875, WMAPE: 140.09887908709976, SMAPE: 57.25953217110432, COD: 0.4979776064623066, F: 3293.4931860987726, \n",
      "iter: 1 / 87   ---- The best model was updated in iter 1 ----\n",
      "    best_features['hr', 'hr']\n",
      "    MD: 0.511862729207738, MAD: 104.8325678836411, MSE: 16747.159403082012, MAE: 89.59348451031231, MedAE: 56.41754871584057, WMAPE: 139.82584789954456, SMAPE: 57.23198040337658, COD: 0.4981238204612096, F: 1659.7855637874795, \n",
      "iter: 2 / 87   ---- The best model was updated in iter 2 ----\n",
      "    best_features['hr', 'hr', 'atemp']\n",
      "    MD: 2.0534711589367505, MAD: 117.50229080174955, MSE: 11798.027647702698, MAE: 73.36355976010657, MedAE: 44.835488639744284, WMAPE: 117.55354168811465, SMAPE: 50.212768714101585, COD: 0.6464386049354512, F: 2001.6921314692347, \n",
      "iter: 3 / 87   ---- The best model was updated in iter 3 ----\n",
      "    best_features['hr', 'hr', 'atemp', 'temp']\n",
      "    MD: 2.0583404623022523, MAD: 118.38358454395437, MSE: 11724.15760774681, MAE: 73.13904461638728, MedAE: 44.62097935080061, WMAPE: 117.21269961296592, SMAPE: 50.05139364346587, COD: 0.6486523304122993, F: 1534.7378061550794, \n",
      "iter: 4 / 87   ---- The best model was updated in iter 4 ----\n",
      "    best_features['hr', 'hr', 'atemp', 'temp', 'hum']\n",
      "    MD: 2.755230056821637, MAD: 119.77705017083986, MSE: 10998.768021546157, MAE: 70.42538079703066, MedAE: 43.42826046961845, WMAPE: 114.18298367202027, SMAPE: 48.84313111794039, COD: 0.6703906888668447, F: 1342.7086054404826, \n",
      "iter: 5 / 87   ---- The best model was updated in iter 5 ----\n",
      "    best_features['hr', 'hr', 'atemp', 'temp', 'hum', 'mnth']\n",
      "    MD: 2.296804449787292, MAD: 121.04384435334963, MSE: 10844.616826491454, MAE: 70.33575276717589, MedAE: 43.34290736167664, WMAPE: 113.35587887708536, SMAPE: 48.65711718104875, COD: 0.6750102670880418, F: 1160.2606630763546, \n",
      "iter: 6 / 87   ---- The best model was updated in iter 6 ----\n",
      "    best_features['hr', 'hr', 'atemp', 'temp', 'hum', 'mnth', 'dayofyear']\n",
      "    MD: 1.6041539002531586, MAD: 123.71651188002733, MSE: 10841.965171438851, MAE: 70.49971349522902, MedAE: 43.063920650443805, WMAPE: 115.40146301701502, SMAPE: 48.326834379842225, COD: 0.6750897314601914, F: 1046.8432837899147, \n",
      "iter: 8 / 87   ---- The best model was updated in iter 8 ----\n",
      "    best_features['hr', 'hr', 'atemp', 'temp', 'hum', 'mnth', 'dayofyear', 'yr']\n",
      "    MD: 0.01120420411221966, MAD: 129.25792522267614, MSE: 8212.179690264169, MAE: 61.100080038961735, MedAE: 38.92794120114141, WMAPE: 95.76067790694326, SMAPE: 44.40835207552686, COD: 0.7538987198105166, F: 1391.6671777786619, \n",
      "iter: 9 / 87   ---- The best model was updated in iter 9 ----\n",
      "    best_features['hr', 'hr', 'atemp', 'temp', 'hum', 'mnth', 'dayofyear', 'yr', 'weathersit']\n",
      "    MD: -0.1173780163988756, MAD: 129.79404096849586, MSE: 8085.89773593685, MAE: 60.25580001241548, MedAE: 37.83399739155542, WMAPE: 95.26287789409565, SMAPE: 43.64464877991816, COD: 0.7576831171078172, F: 1261.3519351274126, \n",
      "iter: 11 / 87   ---- The best model was updated in iter 11 ----\n",
      "    best_features['hr', 'hr', 'atemp', 'temp', 'hum', 'mnth', 'dayofyear', 'yr', 'weathersit', 'dayofweek']\n",
      "    MD: -0.04067304275062457, MAD: 129.41805556004715, MSE: 8080.323349195526, MAE: 60.25388808185272, MedAE: 38.03401475033639, WMAPE: 95.53337733897838, SMAPE: 43.62913449658408, COD: 0.7578501694331503, F: 1129.16350515241, \n",
      "iter: 12 / 87   ---- The best model was updated in iter 12 ----\n",
      "    best_features['hr', 'hr', 'atemp', 'temp', 'hum', 'mnth', 'dayofyear', 'yr', 'weathersit', 'dayofweek', 'workingday']\n",
      "    MD: -0.05032342365923552, MAD: 129.43741824378606, MSE: 8073.23961787614, MAE: 60.23849155658005, MedAE: 38.07449909686939, WMAPE: 95.48065796518301, SMAPE: 43.633309041548316, COD: 0.7580624535540501, F: 1027.448234565661, \n",
      "iter: 14 / 87   ---- The best model was updated in iter 14 ----\n",
      "    best_features['hr', 'hr', 'atemp', 'temp', 'hum', 'mnth', 'dayofyear', 'yr', 'weathersit', 'dayofweek', 'workingday', ('hr', 'atemp')]\n",
      "    MD: -0.3033843023372672, MAD: 129.5459406216444, MSE: 7958.682562957936, MAE: 59.599437259041636, MedAE: 37.142142693249724, WMAPE: 94.64328762945091, SMAPE: 43.10822287759598, COD: 0.761495480951579, F: 962.7730964792736, \n",
      "iter: 16 / 87   ---- The best model was updated in iter 16 ----\n",
      "    best_features['hr', 'hr', 'atemp', 'temp', 'hum', 'mnth', 'dayofyear', 'yr', 'weathersit', 'dayofweek', 'workingday', ('hr', 'atemp'), ('hr', 'workingday')]\n",
      "    MD: -0.021927798644109774, MAD: 137.00989098826182, MSE: 2397.0278064335544, MAE: 30.370239023826837, MedAE: 17.737622924748322, WMAPE: 46.88814249003347, SMAPE: 24.84747274454105, COD: 0.9281662562118012, F: 3419.7005991560522, \n",
      "iter: 17 / 87   ---- The best model was updated in iter 17 ----\n",
      "    best_features['hr', 'hr', 'atemp', 'temp', 'hum', 'mnth', 'dayofyear', 'yr', 'weathersit', 'dayofweek', 'workingday', ('hr', 'atemp'), ('hr', 'workingday'), ('hr', 'dayofweek')]\n",
      "    MD: 0.5904323120386965, MAD: 136.712639079427, MSE: 2051.142098842093, MAE: 27.744707041932255, MedAE: 16.09645909495727, WMAPE: 42.88949261926491, SMAPE: 23.035282729400905, COD: 0.9385317034679566, F: 3678.5459814453907, \n",
      "iter: 18 / 87   ---- The best model was updated in iter 18 ----\n",
      "    best_features['hr', 'hr', 'atemp', 'temp', 'hum', 'mnth', 'dayofyear', 'yr', 'weathersit', 'dayofweek', 'workingday', ('hr', 'atemp'), ('hr', 'workingday'), ('hr', 'dayofweek'), ('yr', 'hr')]\n",
      "    MD: 0.42703377940868226, MAD: 136.96978989411346, MSE: 2042.0509659434663, MAE: 27.669091547813554, MedAE: 15.717929646866509, WMAPE: 42.71429695692605, SMAPE: 22.953408884322215, COD: 0.9388041450765318, F: 3476.530318717243, \n",
      "iter: 19 / 87   ---- The best model was updated in iter 19 ----\n",
      "    best_features['hr', 'hr', 'atemp', 'temp', 'hum', 'mnth', 'dayofyear', 'yr', 'weathersit', 'dayofweek', 'workingday', ('hr', 'atemp'), ('hr', 'workingday'), ('hr', 'dayofweek'), ('yr', 'hr'), ('mnth', 'hr')]\n",
      "    MD: 0.6323722483294828, MAD: 137.03636516215397, MSE: 2014.8715338715083, MAE: 27.438163357262926, MedAE: 15.56208223848154, WMAPE: 42.26532629117207, SMAPE: 22.75361272015859, COD: 0.9396186539255846, F: 3303.734245993253, \n",
      "iter: 22 / 87   ---- The best model was updated in iter 22 ----\n",
      "    best_features['hr', 'hr', 'atemp', 'temp', 'hum', 'mnth', 'dayofyear', 'yr', 'weathersit', 'dayofweek', 'workingday', ('hr', 'atemp'), ('hr', 'workingday'), ('hr', 'dayofweek'), ('yr', 'hr'), ('mnth', 'hr'), ('hr', 'hum')]\n",
      "    MD: 0.8619439607776112, MAD: 136.86313308193667, MSE: 1997.144990192545, MAE: 27.395163083832596, MedAE: 15.523726221440683, WMAPE: 42.097180664562536, SMAPE: 22.903914699418195, COD: 0.9401498801355882, F: 3124.460162347208, \n",
      "iter: 27 / 87   ---- The best model was updated in iter 27 ----\n",
      "    best_features['hr', 'hr', 'atemp', 'temp', 'hum', 'mnth', 'dayofyear', 'yr', 'weathersit', 'dayofweek', 'workingday', ('hr', 'atemp'), ('hr', 'workingday'), ('hr', 'dayofweek'), ('yr', 'hr'), ('mnth', 'hr'), ('hr', 'hum'), ('mnth', 'hum')]\n",
      "    MD: 0.8887570415247276, MAD: 136.90921832284707, MSE: 1975.9300335353814, MAE: 27.325329882651957, MedAE: 15.777194960263069, WMAPE: 42.32011158101542, SMAPE: 22.859595586812542, COD: 0.9407856465446796, F: 2984.3838786749398, \n",
      "iter: 28 / 87   ---- The best model was updated in iter 28 ----\n",
      "    best_features['hr', 'hr', 'atemp', 'temp', 'hum', 'mnth', 'dayofyear', 'yr', 'weathersit', 'dayofweek', 'workingday', ('hr', 'atemp'), ('hr', 'workingday'), ('hr', 'dayofweek'), ('yr', 'hr'), ('mnth', 'hr'), ('hr', 'hum'), ('mnth', 'hum'), ('mnth', 'atemp')]\n",
      "    MD: 0.8398049935249712, MAD: 137.43806023832823, MSE: 1919.1013206572195, MAE: 26.926274434279975, MedAE: 15.55387556043685, WMAPE: 41.80640477696305, SMAPE: 22.575486900665133, COD: 0.9424886802724263, F: 2928.5939977062662, \n",
      "iter: 29 / 87   ---- The best model was updated in iter 29 ----\n",
      "    best_features['hr', 'hr', 'atemp', 'temp', 'hum', 'mnth', 'dayofyear', 'yr', 'weathersit', 'dayofweek', 'workingday', ('hr', 'atemp'), ('hr', 'workingday'), ('hr', 'dayofweek'), ('yr', 'hr'), ('mnth', 'hr'), ('hr', 'hum'), ('mnth', 'hum'), ('mnth', 'atemp'), ('yr', 'atemp')]\n",
      "    MD: 0.9633655253418706, MAD: 137.4959336752939, MSE: 1871.2381306822622, MAE: 26.462197500591294, MedAE: 14.870451986438368, WMAPE: 41.001760771721635, SMAPE: 22.289092042807006, COD: 0.9439230366517386, F: 2831.3581453192446, \n",
      "iter: 30 / 87   ---- The best model was updated in iter 30 ----\n",
      "    best_features['hr', 'hr', 'atemp', 'temp', 'hum', 'mnth', 'dayofyear', 'yr', 'weathersit', 'dayofweek', 'workingday', ('hr', 'atemp'), ('hr', 'workingday'), ('hr', 'dayofweek'), ('yr', 'hr'), ('mnth', 'hr'), ('hr', 'hum'), ('mnth', 'hum'), ('mnth', 'atemp'), ('yr', 'atemp'), ('mnth', 'temp')]\n",
      "    MD: 1.0379278956920042, MAD: 137.43292974134562, MSE: 1866.9972063788198, MAE: 26.397468034278045, MedAE: 14.639316913507948, WMAPE: 40.87751918361735, SMAPE: 22.25459486808237, COD: 0.9440501279891945, F: 2699.2378972046604, \n",
      "iter: 32 / 87   ---- The best model was updated in iter 32 ----\n",
      "    best_features['hr', 'hr', 'atemp', 'temp', 'hum', 'mnth', 'dayofyear', 'yr', 'weathersit', 'dayofweek', 'workingday', ('hr', 'atemp'), ('hr', 'workingday'), ('hr', 'dayofweek'), ('yr', 'hr'), ('mnth', 'hr'), ('hr', 'hum'), ('mnth', 'hum'), ('mnth', 'atemp'), ('yr', 'atemp'), ('mnth', 'temp'), ('temp', 'atemp')]\n",
      "    MD: 0.9794740780939543, MAD: 137.437507824271, MSE: 1862.5483089536108, MAE: 26.265405093177208, MedAE: 14.190377938344284, WMAPE: 40.450862872081636, SMAPE: 22.223851209297383, COD: 0.9441834518317151, F: 2582.3418154705746, \n",
      "iter: 33 / 87   ---- The best model was updated in iter 33 ----\n",
      "    best_features['hr', 'hr', 'atemp', 'temp', 'hum', 'mnth', 'dayofyear', 'yr', 'weathersit', 'dayofweek', 'workingday', ('hr', 'atemp'), ('hr', 'workingday'), ('hr', 'dayofweek'), ('yr', 'hr'), ('mnth', 'hr'), ('hr', 'hum'), ('mnth', 'hum'), ('mnth', 'atemp'), ('yr', 'atemp'), ('mnth', 'temp'), ('temp', 'atemp'), ('season', 'atemp')]\n",
      "    MD: 1.0337284795518908, MAD: 137.41919123722718, MSE: 1851.9655157111044, MAE: 26.190107177431166, MedAE: 14.207417294602742, WMAPE: 40.416933250459586, SMAPE: 22.13240204444257, COD: 0.9445005952775714, F: 2481.353470974259, \n",
      "iter: 34 / 87   ---- The best model was updated in iter 34 ----\n",
      "    best_features['hr', 'hr', 'atemp', 'temp', 'hum', 'mnth', 'dayofyear', 'yr', 'weathersit', 'dayofweek', 'workingday', ('hr', 'atemp'), ('hr', 'workingday'), ('hr', 'dayofweek'), ('yr', 'hr'), ('mnth', 'hr'), ('hr', 'hum'), ('mnth', 'hum'), ('mnth', 'atemp'), ('yr', 'atemp'), ('mnth', 'temp'), ('temp', 'atemp'), ('season', 'atemp'), ('season', 'hum')]\n",
      "    MD: 1.0304187610821334, MAD: 137.4396994902652, MSE: 1849.115521461339, MAE: 26.196198297560862, MedAE: 14.50171564016999, WMAPE: 40.48913094839786, SMAPE: 22.101934411556613, COD: 0.9445860034468826, F: 2382.573227181653, \n",
      "iter: 35 / 87   ---- The best model was updated in iter 35 ----\n",
      "    best_features['hr', 'hr', 'atemp', 'temp', 'hum', 'mnth', 'dayofyear', 'yr', 'weathersit', 'dayofweek', 'workingday', ('hr', 'atemp'), ('hr', 'workingday'), ('hr', 'dayofweek'), ('yr', 'hr'), ('mnth', 'hr'), ('hr', 'hum'), ('mnth', 'hum'), ('mnth', 'atemp'), ('yr', 'atemp'), ('mnth', 'temp'), ('temp', 'atemp'), ('season', 'atemp'), ('season', 'hum'), ('season', 'temp')]\n",
      "    MD: 0.9996350226897602, MAD: 137.69123348350738, MSE: 1843.399123060844, MAE: 26.092599899842927, MedAE: 14.294682606897748, WMAPE: 40.4190347000681, SMAPE: 21.962540918071976, COD: 0.9447573115547778, F: 2302.5626701646042, \n",
      "iter: 36 / 87   ---- The best model was updated in iter 36 ----\n",
      "    best_features['hr', 'hr', 'atemp', 'temp', 'hum', 'mnth', 'dayofyear', 'yr', 'weathersit', 'dayofweek', 'workingday', ('hr', 'atemp'), ('hr', 'workingday'), ('hr', 'dayofweek'), ('yr', 'hr'), ('mnth', 'hr'), ('hr', 'hum'), ('mnth', 'hum'), ('mnth', 'atemp'), ('yr', 'atemp'), ('mnth', 'temp'), ('temp', 'atemp'), ('season', 'atemp'), ('season', 'hum'), ('season', 'temp'), ('atemp', 'windspeed')]\n",
      "    MD: 1.349272026726691, MAD: 137.31878586395246, MSE: 1831.0836725798058, MAE: 26.11331051400991, MedAE: 14.797465124525104, WMAPE: 40.739018836682874, SMAPE: 22.03033471512394, COD: 0.9451263789940945, F: 2213.405673130839, \n",
      "iter: 37 / 87   ---- The best model was updated in iter 37 ----\n",
      "    best_features['hr', 'hr', 'atemp', 'temp', 'hum', 'mnth', 'dayofyear', 'yr', 'weathersit', 'dayofweek', 'workingday', ('hr', 'atemp'), ('hr', 'workingday'), ('hr', 'dayofweek'), ('yr', 'hr'), ('mnth', 'hr'), ('hr', 'hum'), ('mnth', 'hum'), ('mnth', 'atemp'), ('yr', 'atemp'), ('mnth', 'temp'), ('temp', 'atemp'), ('season', 'atemp'), ('season', 'hum'), ('season', 'temp'), ('atemp', 'windspeed'), ('weathersit', 'atemp')]\n",
      "    MD: 1.4990857865735034, MAD: 137.3204516907764, MSE: 1811.4603052453078, MAE: 25.981493928180836, MedAE: 14.62949701238324, WMAPE: 40.47863334558518, SMAPE: 21.920250167053958, COD: 0.9457144489103402, F: 2150.5142990095087, \n",
      "iter: 41 / 87   ---- The best model was updated in iter 41 ----\n",
      "    best_features['hr', 'hr', 'atemp', 'temp', 'hum', 'mnth', 'dayofyear', 'yr', 'weathersit', 'dayofweek', 'workingday', ('hr', 'atemp'), ('hr', 'workingday'), ('hr', 'dayofweek'), ('yr', 'hr'), ('mnth', 'hr'), ('hr', 'hum'), ('mnth', 'hum'), ('mnth', 'atemp'), ('yr', 'atemp'), ('mnth', 'temp'), ('temp', 'atemp'), ('season', 'atemp'), ('season', 'hum'), ('season', 'temp'), ('atemp', 'windspeed'), ('weathersit', 'atemp'), ('dayofweek', 'atemp')]\n",
      "    MD: 1.5263240582639448, MAD: 137.36469726414313, MSE: 1755.8738780613187, MAE: 25.56134728638108, MedAE: 14.382789408828586, WMAPE: 39.86139654985098, SMAPE: 21.68632093147367, COD: 0.9473802540202012, F: 2135.8000127160412, \n",
      "iter: 42 / 87   ---- The best model was updated in iter 42 ----\n",
      "    best_features['hr', 'hr', 'atemp', 'temp', 'hum', 'mnth', 'dayofyear', 'yr', 'weathersit', 'dayofweek', 'workingday', ('hr', 'atemp'), ('hr', 'workingday'), ('hr', 'dayofweek'), ('yr', 'hr'), ('mnth', 'hr'), ('hr', 'hum'), ('mnth', 'hum'), ('mnth', 'atemp'), ('yr', 'atemp'), ('mnth', 'temp'), ('temp', 'atemp'), ('season', 'atemp'), ('season', 'hum'), ('season', 'temp'), ('atemp', 'windspeed'), ('weathersit', 'atemp'), ('dayofweek', 'atemp'), ('workingday', 'atemp')]\n",
      "    MD: 1.5348137176702432, MAD: 137.41523939537444, MSE: 1745.7440348090947, MAE: 25.499373506233415, MedAE: 14.204765147626361, WMAPE: 39.75214669986463, SMAPE: 21.647895782949906, COD: 0.9476838235335968, F: 2075.2225097884275, \n",
      "iter: 43 / 87   ---- The best model was updated in iter 43 ----\n",
      "    best_features['hr', 'hr', 'atemp', 'temp', 'hum', 'mnth', 'dayofyear', 'yr', 'weathersit', 'dayofweek', 'workingday', ('hr', 'atemp'), ('hr', 'workingday'), ('hr', 'dayofweek'), ('yr', 'hr'), ('mnth', 'hr'), ('hr', 'hum'), ('mnth', 'hum'), ('mnth', 'atemp'), ('yr', 'atemp'), ('mnth', 'temp'), ('temp', 'atemp'), ('season', 'atemp'), ('season', 'hum'), ('season', 'temp'), ('atemp', 'windspeed'), ('weathersit', 'atemp'), ('dayofweek', 'atemp'), ('workingday', 'atemp'), ('temp', 'windspeed')]\n",
      "    MD: 1.627453984466576, MAD: 137.39665667528345, MSE: 1742.1223268139686, MAE: 25.533389827002956, MedAE: 14.239280719315602, WMAPE: 39.85008793184881, SMAPE: 21.680749066996754, COD: 0.9477923582963139, F: 2007.4564363820737, \n",
      "iter: 44 / 87   ---- The best model was updated in iter 44 ----\n",
      "    best_features['hr', 'hr', 'atemp', 'temp', 'hum', 'mnth', 'dayofyear', 'yr', 'weathersit', 'dayofweek', 'workingday', ('hr', 'atemp'), ('hr', 'workingday'), ('hr', 'dayofweek'), ('yr', 'hr'), ('mnth', 'hr'), ('hr', 'hum'), ('mnth', 'hum'), ('mnth', 'atemp'), ('yr', 'atemp'), ('mnth', 'temp'), ('temp', 'atemp'), ('season', 'atemp'), ('season', 'hum'), ('season', 'temp'), ('atemp', 'windspeed'), ('weathersit', 'atemp'), ('dayofweek', 'atemp'), ('workingday', 'atemp'), ('temp', 'windspeed'), ('holiday', 'atemp')]\n",
      "    MD: 1.7049850417073715, MAD: 137.32225900859342, MSE: 1738.3935088017804, MAE: 25.514949718802196, MedAE: 13.972230323892505, WMAPE: 39.82240492645429, SMAPE: 21.683761415045062, COD: 0.9479041029147958, F: 1945.2719964908413, \n",
      "iter: 46 / 87   ---- The best model was updated in iter 46 ----\n",
      "    best_features['hr', 'hr', 'atemp', 'temp', 'hum', 'mnth', 'dayofyear', 'yr', 'weathersit', 'dayofweek', 'workingday', ('hr', 'atemp'), ('hr', 'workingday'), ('hr', 'dayofweek'), ('yr', 'hr'), ('mnth', 'hr'), ('hr', 'hum'), ('mnth', 'hum'), ('mnth', 'atemp'), ('yr', 'atemp'), ('mnth', 'temp'), ('temp', 'atemp'), ('season', 'atemp'), ('season', 'hum'), ('season', 'temp'), ('atemp', 'windspeed'), ('weathersit', 'atemp'), ('dayofweek', 'atemp'), ('workingday', 'atemp'), ('temp', 'windspeed'), ('holiday', 'atemp'), ('workingday', 'temp')]\n",
      "    MD: 1.7210079354299466, MAD: 137.29661206230503, MSE: 1729.4211592002055, MAE: 25.478487013791113, MedAE: 14.20852445258155, WMAPE: 39.74925698895362, SMAPE: 21.68365937869234, COD: 0.948172984844629, F: 1892.7468982650562, \n",
      "iter: 48 / 87   ---- The best model was updated in iter 48 ----\n",
      "    best_features['hr', 'hr', 'atemp', 'temp', 'hum', 'mnth', 'dayofyear', 'yr', 'weathersit', 'dayofweek', 'workingday', ('hr', 'atemp'), ('hr', 'workingday'), ('hr', 'dayofweek'), ('yr', 'hr'), ('mnth', 'hr'), ('hr', 'hum'), ('mnth', 'hum'), ('mnth', 'atemp'), ('yr', 'atemp'), ('mnth', 'temp'), ('temp', 'atemp'), ('season', 'atemp'), ('season', 'hum'), ('season', 'temp'), ('atemp', 'windspeed'), ('weathersit', 'atemp'), ('dayofweek', 'atemp'), ('workingday', 'atemp'), ('temp', 'windspeed'), ('holiday', 'atemp'), ('workingday', 'temp'), ('yr', 'hum')]\n",
      "    MD: 1.646877383354305, MAD: 137.37991571990295, MSE: 1719.5402560554276, MAE: 25.369203679737836, MedAE: 13.94481347940382, WMAPE: 39.62434694583304, SMAPE: 21.621285805272528, COD: 0.9484690941609218, F: 1849.2775369442656, \n",
      "iter: 51 / 87   ---- The best model was updated in iter 51 ----\n",
      "    best_features['hr', 'hr', 'atemp', 'temp', 'hum', 'mnth', 'dayofyear', 'yr', 'weathersit', 'dayofweek', 'workingday', ('hr', 'atemp'), ('hr', 'workingday'), ('hr', 'dayofweek'), ('yr', 'hr'), ('mnth', 'hr'), ('hr', 'hum'), ('mnth', 'hum'), ('mnth', 'atemp'), ('yr', 'atemp'), ('mnth', 'temp'), ('temp', 'atemp'), ('season', 'atemp'), ('season', 'hum'), ('season', 'temp'), ('atemp', 'windspeed'), ('weathersit', 'atemp'), ('dayofweek', 'atemp'), ('workingday', 'atemp'), ('temp', 'windspeed'), ('holiday', 'atemp'), ('workingday', 'temp'), ('yr', 'hum'), ('yr', 'mnth')]\n",
      "    MD: 1.5788975511210286, MAD: 137.4037059652946, MSE: 1682.371448017939, MAE: 24.99067985191318, MedAE: 13.820461713883319, WMAPE: 39.262258388416704, SMAPE: 21.369095021924984, COD: 0.9495829630223142, F: 1827.6713634366477, \n",
      "iter: 53 / 87   ---- The best model was updated in iter 53 ----\n",
      "    best_features['hr', 'hr', 'atemp', 'temp', 'hum', 'mnth', 'dayofyear', 'yr', 'weathersit', 'dayofweek', 'workingday', ('hr', 'atemp'), ('hr', 'workingday'), ('hr', 'dayofweek'), ('yr', 'hr'), ('mnth', 'hr'), ('hr', 'hum'), ('mnth', 'hum'), ('mnth', 'atemp'), ('yr', 'atemp'), ('mnth', 'temp'), ('temp', 'atemp'), ('season', 'atemp'), ('season', 'hum'), ('season', 'temp'), ('atemp', 'windspeed'), ('weathersit', 'atemp'), ('dayofweek', 'atemp'), ('workingday', 'atemp'), ('temp', 'windspeed'), ('holiday', 'atemp'), ('workingday', 'temp'), ('yr', 'hum'), ('yr', 'mnth'), ('weathersit', 'hum')]\n",
      "    MD: 1.584369290507738, MAD: 137.45952600458045, MSE: 1662.8823260251436, MAE: 24.845495871096237, MedAE: 13.734759859353282, WMAPE: 39.13702255851914, SMAPE: 21.25067288161439, COD: 0.9501670098957504, F: 1796.6241685056784, \n",
      "iter: 54 / 87   ---- The best model was updated in iter 54 ----\n",
      "    best_features['hr', 'hr', 'atemp', 'temp', 'hum', 'mnth', 'dayofyear', 'yr', 'weathersit', 'dayofweek', 'workingday', ('hr', 'atemp'), ('hr', 'workingday'), ('hr', 'dayofweek'), ('yr', 'hr'), ('mnth', 'hr'), ('hr', 'hum'), ('mnth', 'hum'), ('mnth', 'atemp'), ('yr', 'atemp'), ('mnth', 'temp'), ('temp', 'atemp'), ('season', 'atemp'), ('season', 'hum'), ('season', 'temp'), ('atemp', 'windspeed'), ('weathersit', 'atemp'), ('dayofweek', 'atemp'), ('workingday', 'atemp'), ('temp', 'windspeed'), ('holiday', 'atemp'), ('workingday', 'temp'), ('yr', 'hum'), ('yr', 'mnth'), ('weathersit', 'hum'), ('dayofweek', 'hum')]\n",
      "    MD: 1.6700230896705055, MAD: 137.3296193950612, MSE: 1656.5162999608824, MAE: 24.83669401448492, MedAE: 13.940371574024574, WMAPE: 39.082136311114, SMAPE: 21.247551132636755, COD: 0.9503577859409935, F: 1749.0834720460357, \n",
      "iter: 55 / 87   ---- The best model was updated in iter 55 ----\n",
      "    best_features['hr', 'hr', 'atemp', 'temp', 'hum', 'mnth', 'dayofyear', 'yr', 'weathersit', 'dayofweek', 'workingday', ('hr', 'atemp'), ('hr', 'workingday'), ('hr', 'dayofweek'), ('yr', 'hr'), ('mnth', 'hr'), ('hr', 'hum'), ('mnth', 'hum'), ('mnth', 'atemp'), ('yr', 'atemp'), ('mnth', 'temp'), ('temp', 'atemp'), ('season', 'atemp'), ('season', 'hum'), ('season', 'temp'), ('atemp', 'windspeed'), ('weathersit', 'atemp'), ('dayofweek', 'atemp'), ('workingday', 'atemp'), ('temp', 'windspeed'), ('holiday', 'atemp'), ('workingday', 'temp'), ('yr', 'hum'), ('yr', 'mnth'), ('weathersit', 'hum'), ('dayofweek', 'hum'), ('yr', 'dayofyear')]\n",
      "    MD: 1.7096082685353353, MAD: 137.3186043818303, MSE: 1500.33190785955, MAE: 23.730831026572886, MedAE: 13.434845140006217, WMAPE: 37.092651614216145, SMAPE: 20.843153861544224, COD: 0.955038294684284, F: 1877.4669732066795, \n",
      "iter: 56 / 87   ---- The best model was updated in iter 56 ----\n",
      "    best_features['hr', 'hr', 'atemp', 'temp', 'hum', 'mnth', 'dayofyear', 'yr', 'weathersit', 'dayofweek', 'workingday', ('hr', 'atemp'), ('hr', 'workingday'), ('hr', 'dayofweek'), ('yr', 'hr'), ('mnth', 'hr'), ('hr', 'hum'), ('mnth', 'hum'), ('mnth', 'atemp'), ('yr', 'atemp'), ('mnth', 'temp'), ('temp', 'atemp'), ('season', 'atemp'), ('season', 'hum'), ('season', 'temp'), ('atemp', 'windspeed'), ('weathersit', 'atemp'), ('dayofweek', 'atemp'), ('workingday', 'atemp'), ('temp', 'windspeed'), ('holiday', 'atemp'), ('workingday', 'temp'), ('yr', 'hum'), ('yr', 'mnth'), ('weathersit', 'hum'), ('dayofweek', 'hum'), ('yr', 'dayofyear'), ('workingday', 'hum')]\n",
      "    MD: 1.7201941743895464, MAD: 137.2969201427893, MSE: 1499.1250757081298, MAE: 23.73432579469629, MedAE: 13.406124320116994, WMAPE: 37.139586945077376, SMAPE: 20.839018480303583, COD: 0.9550744608361025, F: 1828.0000176884273, \n",
      "iter: 58 / 87   ---- The best model was updated in iter 58 ----\n",
      "    best_features['hr', 'hr', 'atemp', 'temp', 'hum', 'mnth', 'dayofyear', 'yr', 'weathersit', 'dayofweek', 'workingday', ('hr', 'atemp'), ('hr', 'workingday'), ('hr', 'dayofweek'), ('yr', 'hr'), ('mnth', 'hr'), ('hr', 'hum'), ('mnth', 'hum'), ('mnth', 'atemp'), ('yr', 'atemp'), ('mnth', 'temp'), ('temp', 'atemp'), ('season', 'atemp'), ('season', 'hum'), ('season', 'temp'), ('atemp', 'windspeed'), ('weathersit', 'atemp'), ('dayofweek', 'atemp'), ('workingday', 'atemp'), ('temp', 'windspeed'), ('holiday', 'atemp'), ('workingday', 'temp'), ('yr', 'hum'), ('yr', 'mnth'), ('weathersit', 'hum'), ('dayofweek', 'hum'), ('yr', 'dayofyear'), ('workingday', 'hum'), ('holiday', 'hum')]\n",
      "    MD: 1.739657642473801, MAD: 137.2731578652155, MSE: 1495.0609560163377, MAE: 23.71515050237769, MedAE: 13.3422140301882, WMAPE: 37.097579018562236, SMAPE: 20.83407820343787, COD: 0.9551962537213919, F: 1784.975692148638, \n",
      "iter: 59 / 87   ---- The best model was updated in iter 59 ----\n",
      "    best_features['hr', 'hr', 'atemp', 'temp', 'hum', 'mnth', 'dayofyear', 'yr', 'weathersit', 'dayofweek', 'workingday', ('hr', 'atemp'), ('hr', 'workingday'), ('hr', 'dayofweek'), ('yr', 'hr'), ('mnth', 'hr'), ('hr', 'hum'), ('mnth', 'hum'), ('mnth', 'atemp'), ('yr', 'atemp'), ('mnth', 'temp'), ('temp', 'atemp'), ('season', 'atemp'), ('season', 'hum'), ('season', 'temp'), ('atemp', 'windspeed'), ('weathersit', 'atemp'), ('dayofweek', 'atemp'), ('workingday', 'atemp'), ('temp', 'windspeed'), ('holiday', 'atemp'), ('workingday', 'temp'), ('yr', 'hum'), ('yr', 'mnth'), ('weathersit', 'hum'), ('dayofweek', 'hum'), ('yr', 'dayofyear'), ('workingday', 'hum'), ('holiday', 'hum'), ('dayofweek', 'dayofyear')]\n",
      "    MD: 1.6601975980083619, MAD: 137.4790461440864, MSE: 1474.3395165583281, MAE: 23.60026216887105, MedAE: 13.562611986356657, WMAPE: 36.77778472143856, SMAPE: 20.80304335120784, COD: 0.9558172304864316, F: 1771.948319445012, \n",
      "iter: 68 / 87   ---- The best model was updated in iter 68 ----\n",
      "    best_features['hr', 'hr', 'atemp', 'temp', 'hum', 'mnth', 'dayofyear', 'yr', 'weathersit', 'dayofweek', 'workingday', ('hr', 'atemp'), ('hr', 'workingday'), ('hr', 'dayofweek'), ('yr', 'hr'), ('mnth', 'hr'), ('hr', 'hum'), ('mnth', 'hum'), ('mnth', 'atemp'), ('yr', 'atemp'), ('mnth', 'temp'), ('temp', 'atemp'), ('season', 'atemp'), ('season', 'hum'), ('season', 'temp'), ('atemp', 'windspeed'), ('weathersit', 'atemp'), ('dayofweek', 'atemp'), ('workingday', 'atemp'), ('temp', 'windspeed'), ('holiday', 'atemp'), ('workingday', 'temp'), ('yr', 'hum'), ('yr', 'mnth'), ('weathersit', 'hum'), ('dayofweek', 'hum'), ('yr', 'dayofyear'), ('workingday', 'hum'), ('holiday', 'hum'), ('dayofweek', 'dayofyear'), ('mnth', 'workingday')]\n",
      "    MD: 1.669254572989626, MAD: 137.47079627883468, MSE: 1473.574772830061, MAE: 23.596625751992445, MedAE: 13.642063096246673, WMAPE: 36.77046651681683, SMAPE: 20.801541775302184, COD: 0.9558401482034864, F: 1729.2941750837324, \n",
      "iter: 69 / 87   ---- The best model was updated in iter 69 ----\n",
      "    best_features['hr', 'hr', 'atemp', 'temp', 'hum', 'mnth', 'dayofyear', 'yr', 'weathersit', 'dayofweek', 'workingday', ('hr', 'atemp'), ('hr', 'workingday'), ('hr', 'dayofweek'), ('yr', 'hr'), ('mnth', 'hr'), ('hr', 'hum'), ('mnth', 'hum'), ('mnth', 'atemp'), ('yr', 'atemp'), ('mnth', 'temp'), ('temp', 'atemp'), ('season', 'atemp'), ('season', 'hum'), ('season', 'temp'), ('atemp', 'windspeed'), ('weathersit', 'atemp'), ('dayofweek', 'atemp'), ('workingday', 'atemp'), ('temp', 'windspeed'), ('holiday', 'atemp'), ('workingday', 'temp'), ('yr', 'hum'), ('yr', 'mnth'), ('weathersit', 'hum'), ('dayofweek', 'hum'), ('yr', 'dayofyear'), ('workingday', 'hum'), ('holiday', 'hum'), ('dayofweek', 'dayofyear'), ('mnth', 'workingday'), ('workingday', 'dayofyear')]\n",
      "    MD: 1.65521252383502, MAD: 137.5098942813262, MSE: 1472.5457595585194, MAE: 23.608797787891714, MedAE: 13.691886294501769, WMAPE: 36.78750075888939, SMAPE: 20.813445137293947, COD: 0.9558709855077112, F: 1690.2160016433436, \n",
      "iter: 71 / 87   ---- The best model was updated in iter 71 ----\n",
      "    best_features['hr', 'hr', 'atemp', 'temp', 'hum', 'mnth', 'dayofyear', 'yr', 'weathersit', 'dayofweek', 'workingday', ('hr', 'atemp'), ('hr', 'workingday'), ('hr', 'dayofweek'), ('yr', 'hr'), ('mnth', 'hr'), ('hr', 'hum'), ('mnth', 'hum'), ('mnth', 'atemp'), ('yr', 'atemp'), ('mnth', 'temp'), ('temp', 'atemp'), ('season', 'atemp'), ('season', 'hum'), ('season', 'temp'), ('atemp', 'windspeed'), ('weathersit', 'atemp'), ('dayofweek', 'atemp'), ('workingday', 'atemp'), ('temp', 'windspeed'), ('holiday', 'atemp'), ('workingday', 'temp'), ('yr', 'hum'), ('yr', 'mnth'), ('weathersit', 'hum'), ('dayofweek', 'hum'), ('yr', 'dayofyear'), ('workingday', 'hum'), ('holiday', 'hum'), ('dayofweek', 'dayofyear'), ('mnth', 'workingday'), ('workingday', 'dayofyear'), ('mnth', 'dayofweek')]\n",
      "    MD: 1.6503099067599991, MAD: 137.52849957300495, MSE: 1472.416649870092, MAE: 23.593429510567493, MedAE: 13.621025221977945, WMAPE: 36.74458556919519, SMAPE: 20.813904038644093, COD: 0.9558748546460892, F: 1651.6267319067015, \n",
      "iter: 76 / 87   ---- The best model was updated in iter 76 ----\n",
      "    best_features['hr', 'hr', 'atemp', 'temp', 'hum', 'mnth', 'dayofyear', 'yr', 'weathersit', 'dayofweek', 'workingday', ('hr', 'atemp'), ('hr', 'workingday'), ('hr', 'dayofweek'), ('yr', 'hr'), ('mnth', 'hr'), ('hr', 'hum'), ('mnth', 'hum'), ('mnth', 'atemp'), ('yr', 'atemp'), ('mnth', 'temp'), ('temp', 'atemp'), ('season', 'atemp'), ('season', 'hum'), ('season', 'temp'), ('atemp', 'windspeed'), ('weathersit', 'atemp'), ('dayofweek', 'atemp'), ('workingday', 'atemp'), ('temp', 'windspeed'), ('holiday', 'atemp'), ('workingday', 'temp'), ('yr', 'hum'), ('yr', 'mnth'), ('weathersit', 'hum'), ('dayofweek', 'hum'), ('yr', 'dayofyear'), ('workingday', 'hum'), ('holiday', 'hum'), ('dayofweek', 'dayofyear'), ('mnth', 'workingday'), ('workingday', 'dayofyear'), ('mnth', 'dayofweek'), ('season', 'dayofyear')]\n",
      "    MD: 1.64677392991743, MAD: 137.55293309888356, MSE: 1468.7717639326063, MAE: 23.535820321244334, MedAE: 13.485828985805838, WMAPE: 36.65824953228626, SMAPE: 20.77887708797301, COD: 0.9559840840016552, F: 1618.0028228837607, \n",
      "iter: 83 / 87   ---- The best model was updated in iter 83 ----\n",
      "    best_features['hr', 'hr', 'atemp', 'temp', 'hum', 'mnth', 'dayofyear', 'yr', 'weathersit', 'dayofweek', 'workingday', ('hr', 'atemp'), ('hr', 'workingday'), ('hr', 'dayofweek'), ('yr', 'hr'), ('mnth', 'hr'), ('hr', 'hum'), ('mnth', 'hum'), ('mnth', 'atemp'), ('yr', 'atemp'), ('mnth', 'temp'), ('temp', 'atemp'), ('season', 'atemp'), ('season', 'hum'), ('season', 'temp'), ('atemp', 'windspeed'), ('weathersit', 'atemp'), ('dayofweek', 'atemp'), ('workingday', 'atemp'), ('temp', 'windspeed'), ('holiday', 'atemp'), ('workingday', 'temp'), ('yr', 'hum'), ('yr', 'mnth'), ('weathersit', 'hum'), ('dayofweek', 'hum'), ('yr', 'dayofyear'), ('workingday', 'hum'), ('holiday', 'hum'), ('dayofweek', 'dayofyear'), ('mnth', 'workingday'), ('workingday', 'dayofyear'), ('mnth', 'dayofweek'), ('season', 'dayofyear'), ('mnth', 'dayofyear')]\n",
      "    MD: 1.6485924682282862, MAD: 137.5776972908292, MSE: 1468.0952255759378, MAE: 23.537479075486164, MedAE: 13.497985596820186, WMAPE: 36.66362528543951, SMAPE: 20.787271200103064, COD: 0.95600435839432, F: 1583.2688914699977, \n",
      "iter: 84 / 87   ---- The best model was updated in iter 84 ----\n",
      "    best_features['hr', 'hr', 'atemp', 'temp', 'hum', 'mnth', 'dayofyear', 'yr', 'weathersit', 'dayofweek', 'workingday', ('hr', 'atemp'), ('hr', 'workingday'), ('hr', 'dayofweek'), ('yr', 'hr'), ('mnth', 'hr'), ('hr', 'hum'), ('mnth', 'hum'), ('mnth', 'atemp'), ('yr', 'atemp'), ('mnth', 'temp'), ('temp', 'atemp'), ('season', 'atemp'), ('season', 'hum'), ('season', 'temp'), ('atemp', 'windspeed'), ('weathersit', 'atemp'), ('dayofweek', 'atemp'), ('workingday', 'atemp'), ('temp', 'windspeed'), ('holiday', 'atemp'), ('workingday', 'temp'), ('yr', 'hum'), ('yr', 'mnth'), ('weathersit', 'hum'), ('dayofweek', 'hum'), ('yr', 'dayofyear'), ('workingday', 'hum'), ('holiday', 'hum'), ('dayofweek', 'dayofyear'), ('mnth', 'workingday'), ('workingday', 'dayofyear'), ('mnth', 'dayofweek'), ('season', 'dayofyear'), ('mnth', 'dayofyear'), ('holiday', 'weathersit')]\n",
      "    MD: 1.6072528100855537, MAD: 137.60452761374324, MSE: 1467.3794992901844, MAE: 23.532076291866396, MedAE: 13.586615624575415, WMAPE: 36.64962467907901, SMAPE: 20.78529690116394, COD: 0.9560258071645409, F: 1549.9695022183944, \n",
      "iter: 87 / 87 /home/tsuruda_yoshito/work/tornado/rPrivate-cyclic-boosting/cyclic_boosting/plots/__init__.py:199: RuntimeWarning: More than 20 figures have been opened. Figures created through the pyplot interface (`matplotlib.pyplot.figure`) are retained until explicitly closed and may consume too much memory. (To control this warning, see the rcParam `figure.max_open_warning`). Consider using `matplotlib.pyplot.close()`.\n",
      "  plt.figure(figsize=figsize)\n",
      "\n",
      "\n",
      "Now, you can make a forecasting analysis with the best model\n",
      "    using the pickle file in the ./models directory!\n",
      "For instructions, please refer to the file tornado.ipynb in\n",
      "    the examples/regression/tornado directory."
     ]
    }
   ],
   "source": [
    "from cyclic_boosting.tornado import Generator, Manager, Trainer\n",
    "\n",
    "data_deliverler = Generator.TornadoDataModule(\"./bike_sharing_hour.csv\")\n",
    "manager = Manager.TornadoVariableSelectionModule()\n",
    "trainer = Trainer.SqueezeTrainer(data_deliverler, manager)\n",
    "trainer.run(target=\"cnt\", log_policy=\"compute_COD\", verbose=False)"
   ]
  },
  {
   "cell_type": "markdown",
   "id": "15833e8f",
   "metadata": {},
   "source": [
    "# Load the best model and make predictions."
   ]
  },
  {
   "cell_type": "markdown",
   "id": "f3ea2396",
   "metadata": {},
   "source": [
    "Get the best model path."
   ]
  },
  {
   "cell_type": "code",
   "execution_count": 8,
   "id": "af5d0ef6",
   "metadata": {},
   "outputs": [
    {
     "name": "stdout",
     "output_type": "stream",
     "text": [
      "./models/model_84/model_84.pkl\n"
     ]
    }
   ],
   "source": [
    "import pickle\n",
    "from pathlib import Path\n",
    "\n",
    "model_nos = []\n",
    "for p in sorted(Path(\"./models/\").glob(\"model*\")):\n",
    "    model_nos.append(str(p)[str(p).find(\"_\") + 1 :])\n",
    "model_path = f\"./models/model_{model_nos[-1]}/model_{model_nos[-1]}.pkl\"\n",
    "print(model_path)"
   ]
  },
  {
   "cell_type": "markdown",
   "id": "f67a0e00",
   "metadata": {},
   "source": [
    "Make predictions with the best model."
   ]
  },
  {
   "cell_type": "code",
   "execution_count": 12,
   "id": "3e6cf4db",
   "metadata": {},
   "outputs": [
    {
     "name": "stdout",
     "output_type": "stream",
     "text": [
      "{'season': 4, 'yr': 4, 'mnth': 4, 'hr': 4, 'holiday': 4, 'dayofweek': 4, 'workingday': 4, 'weathersit': 4, 'temp': 1, 'atemp': 1, 'hum': 1, 'windspeed': 1, 'dayofyear': 4}\n",
      "[344.7115857]\n"
     ]
    }
   ],
   "source": [
    "data = {\n",
    "    'season': [4],\n",
    "    'yr': [0],\n",
    "    'mnth': [11],\n",
    "    'hr': [18],\n",
    "    'holiday': [0],\n",
    "    'workingday': [1],\n",
    "    'weathersit': [2],\n",
    "    'temp': [0.341667],\n",
    "    'atemp': [0.323221],\n",
    "    'hum': [0.575833],\n",
    "    'windspeed': [0.305362],\n",
    "    'dayofweek': [4],\n",
    "    'dayofyear': [180],\n",
    "}\n",
    "X = pd.DataFrame(data)\n",
    "\n",
    "with open(model_path, \"rb\") as f:\n",
    "    CB_est = pickle.load(f)\n",
    "    yhat = CB_est.predict(X.copy())\n",
    "    print(yhat)"
   ]
  }
 ],
 "metadata": {
  "colab": {
   "provenance": []
  },
  "kernelspec": {
   "display_name": "Python 3 (ipykernel)",
   "language": "python",
   "name": "python3"
  },
  "language_info": {
   "codemirror_mode": {
    "name": "ipython",
    "version": 3
   },
   "file_extension": ".py",
   "mimetype": "text/x-python",
   "name": "python",
   "nbconvert_exporter": "python",
   "pygments_lexer": "ipython3",
   "version": "3.10.11"
  }
 },
 "nbformat": 4,
 "nbformat_minor": 5
}

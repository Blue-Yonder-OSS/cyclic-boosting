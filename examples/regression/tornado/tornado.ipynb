{
 "cells": [
  {
   "cell_type": "markdown",
   "id": "e4f6005c-1e82-45cc-9013-fa89752acadf",
   "metadata": {
    "id": "e4f6005c-1e82-45cc-9013-fa89752acadf"
   },
   "source": [
    "# Classification using Cyclic Boosting"
   ]
  },
  {
   "cell_type": "markdown",
   "id": "4ee82ebe-8aa4-49ee-a84b-2a9aed8868c3",
   "metadata": {
    "colab": {
     "base_uri": "https://localhost:8080/"
    },
    "id": "Q8nS3cek3utK",
    "outputId": "e7b226b6-9dc5-4896-8066-8d105725fdd0"
   },
   "source": [
    "First, install the  package and its dependencies\n",
    "\n",
    "```sh\n",
    "!pip install cyclic-boosting\n",
    "```"
   ]
  },
  {
   "cell_type": "code",
   "execution_count": 1,
   "id": "0925b449-29d9-4ecc-aa65-bdc6da4b9627",
   "metadata": {
    "tags": []
   },
   "outputs": [
    {
     "data": {
      "text/html": [
       "\n",
       "                <script type=\"application/javascript\" id=\"jupyter_black\">\n",
       "                (function() {\n",
       "                    if (window.IPython === undefined) {\n",
       "                        return\n",
       "                    }\n",
       "                    var msg = \"WARNING: it looks like you might have loaded \" +\n",
       "                        \"jupyter_black in a non-lab notebook with \" +\n",
       "                        \"`is_lab=True`. Please double check, and if \" +\n",
       "                        \"loading with `%load_ext` please review the README!\"\n",
       "                    console.log(msg)\n",
       "                    alert(msg)\n",
       "                })()\n",
       "                </script>\n",
       "                "
      ],
      "text/plain": [
       "<IPython.core.display.HTML object>"
      ]
     },
     "metadata": {},
     "output_type": "display_data"
    }
   ],
   "source": [
    "# Optional formatting if juypter-black is installed\n",
    "try:\n",
    "    import jupyter_black\n",
    "\n",
    "    jupyter_black.load(line_length=80)\n",
    "except ImportError:\n",
    "    ..."
   ]
  },
  {
   "cell_type": "code",
   "execution_count": 2,
   "id": "d032f099-abc3-414f-957d-bf915cd2bd4e",
   "metadata": {
    "id": "d032f099-abc3-414f-957d-bf915cd2bd4e",
    "tags": []
   },
   "outputs": [],
   "source": [
    "import pandas as pd\n",
    "import numpy as np"
   ]
  },
  {
   "cell_type": "markdown",
   "id": "f795a87a-df58-4b1a-8717-b95203fd65cd",
   "metadata": {},
   "source": [
    "Let's load the test dataset from Blue-Yonder-OSS"
   ]
  },
  {
   "cell_type": "code",
   "execution_count": 3,
   "id": "7c39b738-890f-45d0-b015-cc0a2306dc24",
   "metadata": {
    "id": "7c39b738-890f-45d0-b015-cc0a2306dc24",
    "tags": []
   },
   "outputs": [],
   "source": [
    "import urllib.request\n",
    "\n",
    "# urllib.request.urlretrieve(\n",
    "#     \"https://raw.githubusercontent.com/Blue-Yonder-OSS/\"\n",
    "#     \"cyclic-boosting/main/tests/integration_test_data.csv\",\n",
    "#     \"data.csv\",\n",
    "# )\n",
    "\n",
    "path = \"./data.csv\"\n",
    "df = pd.read_csv(path)"
   ]
  },
  {
   "cell_type": "code",
   "execution_count": 4,
   "id": "e8692944-7695-4823-82ef-fb2a22a399a6",
   "metadata": {
    "tags": []
   },
   "outputs": [
    {
     "data": {
      "text/html": [
       "<div>\n",
       "<style scoped>\n",
       "    .dataframe tbody tr th:only-of-type {\n",
       "        vertical-align: middle;\n",
       "    }\n",
       "\n",
       "    .dataframe tbody tr th {\n",
       "        vertical-align: top;\n",
       "    }\n",
       "\n",
       "    .dataframe thead th {\n",
       "        text-align: right;\n",
       "    }\n",
       "</style>\n",
       "<table border=\"1\" class=\"dataframe\">\n",
       "  <thead>\n",
       "    <tr style=\"text-align: right;\">\n",
       "      <th></th>\n",
       "      <th>P_ID</th>\n",
       "      <th>PG_ID_3</th>\n",
       "      <th>PG_ID_2</th>\n",
       "      <th>PG_ID_1</th>\n",
       "      <th>NORMAL_PRICE</th>\n",
       "      <th>L_ID</th>\n",
       "      <th>SALES_AREA</th>\n",
       "      <th>DATE</th>\n",
       "      <th>SCHOOL_HOLIDAY</th>\n",
       "      <th>EVENT</th>\n",
       "      <th>PROMOTION_TYPE</th>\n",
       "      <th>SALES_PRICE</th>\n",
       "      <th>LAMBDA</th>\n",
       "      <th>SALES</th>\n",
       "    </tr>\n",
       "  </thead>\n",
       "  <tbody>\n",
       "    <tr>\n",
       "      <th>0</th>\n",
       "      <td>15</td>\n",
       "      <td>2</td>\n",
       "      <td>1</td>\n",
       "      <td>1</td>\n",
       "      <td>19.11</td>\n",
       "      <td>2</td>\n",
       "      <td>6321.680089</td>\n",
       "      <td>2020-09-19</td>\n",
       "      <td>0.0</td>\n",
       "      <td>NaN</td>\n",
       "      <td>0</td>\n",
       "      <td>19.110000</td>\n",
       "      <td>1.405019</td>\n",
       "      <td>0</td>\n",
       "    </tr>\n",
       "    <tr>\n",
       "      <th>1</th>\n",
       "      <td>15</td>\n",
       "      <td>2</td>\n",
       "      <td>1</td>\n",
       "      <td>1</td>\n",
       "      <td>19.11</td>\n",
       "      <td>2</td>\n",
       "      <td>6321.680089</td>\n",
       "      <td>2020-08-14</td>\n",
       "      <td>0.0</td>\n",
       "      <td>NaN</td>\n",
       "      <td>0</td>\n",
       "      <td>19.110000</td>\n",
       "      <td>2.815779</td>\n",
       "      <td>4</td>\n",
       "    </tr>\n",
       "    <tr>\n",
       "      <th>2</th>\n",
       "      <td>5</td>\n",
       "      <td>2</td>\n",
       "      <td>1</td>\n",
       "      <td>1</td>\n",
       "      <td>10.21</td>\n",
       "      <td>2</td>\n",
       "      <td>6321.680089</td>\n",
       "      <td>2021-11-28</td>\n",
       "      <td>0.0</td>\n",
       "      <td>NaN</td>\n",
       "      <td>1</td>\n",
       "      <td>6.774357</td>\n",
       "      <td>4.716399</td>\n",
       "      <td>5</td>\n",
       "    </tr>\n",
       "    <tr>\n",
       "      <th>3</th>\n",
       "      <td>20</td>\n",
       "      <td>1</td>\n",
       "      <td>1</td>\n",
       "      <td>1</td>\n",
       "      <td>10.34</td>\n",
       "      <td>1</td>\n",
       "      <td>6993.301210</td>\n",
       "      <td>2021-11-06</td>\n",
       "      <td>0.0</td>\n",
       "      <td>NaN</td>\n",
       "      <td>0</td>\n",
       "      <td>10.340000</td>\n",
       "      <td>1.783195</td>\n",
       "      <td>2</td>\n",
       "    </tr>\n",
       "    <tr>\n",
       "      <th>4</th>\n",
       "      <td>10</td>\n",
       "      <td>1</td>\n",
       "      <td>1</td>\n",
       "      <td>1</td>\n",
       "      <td>9.89</td>\n",
       "      <td>1</td>\n",
       "      <td>6993.301210</td>\n",
       "      <td>2019-10-17</td>\n",
       "      <td>0.0</td>\n",
       "      <td>NaN</td>\n",
       "      <td>0</td>\n",
       "      <td>9.890000</td>\n",
       "      <td>2.747644</td>\n",
       "      <td>0</td>\n",
       "    </tr>\n",
       "  </tbody>\n",
       "</table>\n",
       "</div>"
      ],
      "text/plain": [
       "   P_ID  PG_ID_3  PG_ID_2  PG_ID_1  NORMAL_PRICE  L_ID   SALES_AREA  \\\n",
       "0    15        2        1        1         19.11     2  6321.680089   \n",
       "1    15        2        1        1         19.11     2  6321.680089   \n",
       "2     5        2        1        1         10.21     2  6321.680089   \n",
       "3    20        1        1        1         10.34     1  6993.301210   \n",
       "4    10        1        1        1          9.89     1  6993.301210   \n",
       "\n",
       "         DATE  SCHOOL_HOLIDAY EVENT  PROMOTION_TYPE  SALES_PRICE    LAMBDA  \\\n",
       "0  2020-09-19             0.0   NaN               0    19.110000  1.405019   \n",
       "1  2020-08-14             0.0   NaN               0    19.110000  2.815779   \n",
       "2  2021-11-28             0.0   NaN               1     6.774357  4.716399   \n",
       "3  2021-11-06             0.0   NaN               0    10.340000  1.783195   \n",
       "4  2019-10-17             0.0   NaN               0     9.890000  2.747644   \n",
       "\n",
       "   SALES  \n",
       "0      0  \n",
       "1      4  \n",
       "2      5  \n",
       "3      2  \n",
       "4      0  "
      ]
     },
     "execution_count": 4,
     "metadata": {},
     "output_type": "execute_result"
    }
   ],
   "source": [
    "df.head()"
   ]
  },
  {
   "cell_type": "markdown",
   "id": "5b4aaa52",
   "metadata": {},
   "source": [
    "# Prepare Data\n",
    "\n",
    "The variable LAMBDA is potential demand and is normally unobtainable data, therefore it should be deleted.\n",
    "\n",
    "Categorical variables must be converted to int type and continuous variables to float type."
   ]
  },
  {
   "cell_type": "code",
   "execution_count": 5,
   "id": "7135cd95",
   "metadata": {},
   "outputs": [],
   "source": [
    "def drop_LAMBDA(df):\n",
    "    df = df.drop(columns=\"LAMBDA\")\n",
    "    return df\n",
    "\n",
    "\n",
    "def convert_datatype(df, col):\n",
    "    if df[col].dtype == np.float64:\n",
    "        df = df.astype({col: np.int64})\n",
    "    elif df[col].dtype == np.int64:\n",
    "        df = df.astype({col: np.float64})\n",
    "    return df\n",
    "\n",
    "\n",
    "df_test = df.copy()\n",
    "df_test = drop_LAMBDA(df_test)\n",
    "df_test = convert_datatype(df_test, col=\"SCHOOL_HOLIDAY\")\n",
    "df_test.to_csv(\"./data_test.csv\", index=False)"
   ]
  },
  {
   "cell_type": "code",
   "execution_count": 6,
   "id": "92ae834e",
   "metadata": {},
   "outputs": [
    {
     "data": {
      "text/html": [
       "<div>\n",
       "<style scoped>\n",
       "    .dataframe tbody tr th:only-of-type {\n",
       "        vertical-align: middle;\n",
       "    }\n",
       "\n",
       "    .dataframe tbody tr th {\n",
       "        vertical-align: top;\n",
       "    }\n",
       "\n",
       "    .dataframe thead th {\n",
       "        text-align: right;\n",
       "    }\n",
       "</style>\n",
       "<table border=\"1\" class=\"dataframe\">\n",
       "  <thead>\n",
       "    <tr style=\"text-align: right;\">\n",
       "      <th></th>\n",
       "      <th>P_ID</th>\n",
       "      <th>PG_ID_3</th>\n",
       "      <th>PG_ID_2</th>\n",
       "      <th>PG_ID_1</th>\n",
       "      <th>NORMAL_PRICE</th>\n",
       "      <th>L_ID</th>\n",
       "      <th>SALES_AREA</th>\n",
       "      <th>DATE</th>\n",
       "      <th>SCHOOL_HOLIDAY</th>\n",
       "      <th>EVENT</th>\n",
       "      <th>PROMOTION_TYPE</th>\n",
       "      <th>SALES_PRICE</th>\n",
       "      <th>SALES</th>\n",
       "    </tr>\n",
       "  </thead>\n",
       "  <tbody>\n",
       "    <tr>\n",
       "      <th>0</th>\n",
       "      <td>15</td>\n",
       "      <td>2</td>\n",
       "      <td>1</td>\n",
       "      <td>1</td>\n",
       "      <td>19.11</td>\n",
       "      <td>2</td>\n",
       "      <td>6321.680089</td>\n",
       "      <td>2020-09-19</td>\n",
       "      <td>0</td>\n",
       "      <td>NaN</td>\n",
       "      <td>0</td>\n",
       "      <td>19.110000</td>\n",
       "      <td>0</td>\n",
       "    </tr>\n",
       "    <tr>\n",
       "      <th>1</th>\n",
       "      <td>15</td>\n",
       "      <td>2</td>\n",
       "      <td>1</td>\n",
       "      <td>1</td>\n",
       "      <td>19.11</td>\n",
       "      <td>2</td>\n",
       "      <td>6321.680089</td>\n",
       "      <td>2020-08-14</td>\n",
       "      <td>0</td>\n",
       "      <td>NaN</td>\n",
       "      <td>0</td>\n",
       "      <td>19.110000</td>\n",
       "      <td>4</td>\n",
       "    </tr>\n",
       "    <tr>\n",
       "      <th>2</th>\n",
       "      <td>5</td>\n",
       "      <td>2</td>\n",
       "      <td>1</td>\n",
       "      <td>1</td>\n",
       "      <td>10.21</td>\n",
       "      <td>2</td>\n",
       "      <td>6321.680089</td>\n",
       "      <td>2021-11-28</td>\n",
       "      <td>0</td>\n",
       "      <td>NaN</td>\n",
       "      <td>1</td>\n",
       "      <td>6.774357</td>\n",
       "      <td>5</td>\n",
       "    </tr>\n",
       "    <tr>\n",
       "      <th>3</th>\n",
       "      <td>20</td>\n",
       "      <td>1</td>\n",
       "      <td>1</td>\n",
       "      <td>1</td>\n",
       "      <td>10.34</td>\n",
       "      <td>1</td>\n",
       "      <td>6993.301210</td>\n",
       "      <td>2021-11-06</td>\n",
       "      <td>0</td>\n",
       "      <td>NaN</td>\n",
       "      <td>0</td>\n",
       "      <td>10.340000</td>\n",
       "      <td>2</td>\n",
       "    </tr>\n",
       "    <tr>\n",
       "      <th>4</th>\n",
       "      <td>10</td>\n",
       "      <td>1</td>\n",
       "      <td>1</td>\n",
       "      <td>1</td>\n",
       "      <td>9.89</td>\n",
       "      <td>1</td>\n",
       "      <td>6993.301210</td>\n",
       "      <td>2019-10-17</td>\n",
       "      <td>0</td>\n",
       "      <td>NaN</td>\n",
       "      <td>0</td>\n",
       "      <td>9.890000</td>\n",
       "      <td>0</td>\n",
       "    </tr>\n",
       "  </tbody>\n",
       "</table>\n",
       "</div>"
      ],
      "text/plain": [
       "   P_ID  PG_ID_3  PG_ID_2  PG_ID_1  NORMAL_PRICE  L_ID   SALES_AREA  \\\n",
       "0    15        2        1        1         19.11     2  6321.680089   \n",
       "1    15        2        1        1         19.11     2  6321.680089   \n",
       "2     5        2        1        1         10.21     2  6321.680089   \n",
       "3    20        1        1        1         10.34     1  6993.301210   \n",
       "4    10        1        1        1          9.89     1  6993.301210   \n",
       "\n",
       "         DATE  SCHOOL_HOLIDAY EVENT  PROMOTION_TYPE  SALES_PRICE  SALES  \n",
       "0  2020-09-19               0   NaN               0    19.110000      0  \n",
       "1  2020-08-14               0   NaN               0    19.110000      4  \n",
       "2  2021-11-28               0   NaN               1     6.774357      5  \n",
       "3  2021-11-06               0   NaN               0    10.340000      2  \n",
       "4  2019-10-17               0   NaN               0     9.890000      0  "
      ]
     },
     "execution_count": 6,
     "metadata": {},
     "output_type": "execute_result"
    }
   ],
   "source": [
    "df_test.head()"
   ]
  },
  {
   "cell_type": "markdown",
   "id": "1220e50d",
   "metadata": {},
   "source": [
    "# Automated Machine Learning with Tornado\n",
    "With tornado, you can automatically perform data preparation, feature property setting, hyperparameter tuning, model building, training, evaluation, and plotting!"
   ]
  },
  {
   "cell_type": "code",
   "execution_count": 7,
   "id": "ccbe9343",
   "metadata": {},
   "outputs": [
    {
     "name": "stdout",
     "output_type": "stream",
     "text": [
      "Auto analysis target ['normal_price', 'sales_area', 'sales_price']\n",
      "{'has_trend': [], 'has_seasonality': [], 'has_up_monotonicity': [], 'has_down_monotonicity': [], 'has_linearity': [], 'has_missing': []}\n",
      "iter: 3 / 90"
     ]
    },
    {
     "name": "stderr",
     "output_type": "stream",
     "text": [
      "WARNING:cyclic_boosting.base:Encountered negative change of loss. This might not be a problem, as long as the model converges. Check the LOSS changes in the analysis plots.\n"
     ]
    },
    {
     "name": "stdout",
     "output_type": "stream",
     "text": [
      "iter: 38 / 90"
     ]
    },
    {
     "name": "stderr",
     "output_type": "stream",
     "text": [
      "WARNING:cyclic_boosting.base:Encountered negative change of loss. This might not be a problem, as long as the model converges. Check the LOSS changes in the analysis plots.\n"
     ]
    },
    {
     "name": "stdout",
     "output_type": "stream",
     "text": [
      "iter: 47 / 90"
     ]
    },
    {
     "name": "stderr",
     "output_type": "stream",
     "text": [
      "WARNING:cyclic_boosting.base:Encountered negative change of loss. This might not be a problem, as long as the model converges. Check the LOSS changes in the analysis plots.\n"
     ]
    },
    {
     "name": "stdout",
     "output_type": "stream",
     "text": [
      "iter: 90 / 90\n",
      "TRUNCATED\n",
      "['sales_price', 'p_id', 'promotion_type', 'normal_price', 'pg_id_3', 'l_id', 'dayofyear', 'dayofweek', 'event', 'school_holiday', 'pg_id_2', 'pg_id_1', 'sales_area', ('promotion_type', 'sales_price'), ('p_id', 'promotion_type'), ('normal_price', 'promotion_type'), ('l_id', 'sales_price'), ('sales_area', 'sales_price'), ('p_id', 'sales_price'), ('normal_price', 'sales_price'), ('sales_price', 'dayofweek'), ('p_id', 'l_id'), ('normal_price', 'l_id'), ('pg_id_3', 'sales_price'), ('pg_id_2', 'sales_price'), ('pg_id_1', 'sales_price'), ('event', 'sales_price'), ('school_holiday', 'sales_price'), ('p_id', 'dayofweek'), ('normal_price', 'dayofweek'), ('pg_id_3', 'normal_price'), ('p_id', 'pg_id_2'), ('p_id', 'pg_id_1'), ('p_id', 'event'), ('normal_price', 'event'), ('p_id', 'sales_area'), ('normal_price', 'sales_area'), ('p_id', 'school_holiday'), ('normal_price', 'school_holiday'), ('p_id', 'pg_id_3'), ('sales_price', 'dayofyear'), ('p_id', 'dayofyear'), ('normal_price', 'dayofyear'), ('p_id', 'normal_price'), ('promotion_type', 'dayofyear'), ('l_id', 'promotion_type'), ('sales_area', 'promotion_type'), ('pg_id_3', 'promotion_type'), ('promotion_type', 'dayofweek'), ('event', 'promotion_type'), ('pg_id_2', 'promotion_type'), ('pg_id_1', 'promotion_type'), ('school_holiday', 'promotion_type'), ('pg_id_2', 'normal_price'), ('pg_id_1', 'normal_price'), ('pg_id_3', 'l_id'), ('pg_id_3', 'dayofweek'), ('l_id', 'dayofweek'), ('sales_area', 'dayofweek'), ('pg_id_3', 'school_holiday'), ('pg_id_3', 'dayofyear'), ('pg_id_3', 'sales_area'), ('l_id', 'dayofyear'), ('sales_area', 'dayofyear'), ('pg_id_3', 'event'), ('pg_id_3', 'pg_id_2'), ('pg_id_3', 'pg_id_1'), ('l_id', 'event'), ('sales_area', 'event'), ('l_id', 'sales_area'), ('pg_id_2', 'l_id'), ('pg_id_1', 'l_id'), ('l_id', 'school_holiday'), ('sales_area', 'school_holiday'), ('pg_id_2', 'dayofyear'), ('pg_id_1', 'dayofyear'), ('school_holiday', 'dayofyear'), ('dayofweek', 'dayofyear')]\n",
      "X changed\n",
      "iter: 0 / 77  ---- The best model was updated in iter 0 ----\n",
      "    best_features['sales_price']\n",
      "    MD: -0.010932604314810654, MAD: 0.9259624263419822, MSE: 8.032813932978037, MAE: 1.8399231223941777, MedAE: 1.3001837905746996, WMAPE: 3.5653854216323517, SMAPE: 77.17276189269845, COD: 0.21110850147892557, F: 1711.2403662350653, \n",
      "X changed\n",
      "iter: 1 / 77X changed\n",
      "iter: 2 / 77  ---- The best model was updated in iter 2 ----\n",
      "    best_features['sales_price', 'p_id']\n",
      "    MD: 0.002696360756657586, MAD: 1.0168785356085401, MSE: 7.933236422019286, MAE: 1.8232060563657266, MedAE: 1.304641943700998, WMAPE: 3.539786027739629, SMAPE: 77.02937625711975, COD: 0.22088787051382186, F: 954.5112986559291, \n",
      "X changed\n",
      "iter: 3 / 77  ---- The best model was updated in iter 3 ----\n",
      "    best_features['sales_price', 'p_id', 'promotion_type']\n",
      "    MD: 0.01281698836045287, MAD: 1.0623175752700902, MSE: 7.460915124505042, MAE: 1.7950516002582695, MedAE: 1.2831537335751448, WMAPE: 3.4055408865348418, SMAPE: 76.6820044511497, COD: 0.2672738890732348, F: 804.4664458443907, \n",
      "X changed\n",
      "iter: 4 / 77  ---- The best model was updated in iter 4 ----\n",
      "    best_features['sales_price', 'p_id', 'promotion_type', 'normal_price']\n",
      "    MD: 0.012592289663245044, MAD: 1.0618416958302093, MSE: 7.455148620033205, MAE: 1.7948712022236444, MedAE: 1.2923041384738, WMAPE: 3.4036320028261424, SMAPE: 76.68397602153874, COD: 0.2678402094675538, F: 606.2708292113654, \n",
      "X changed\n",
      "iter: 5 / 77  ---- The best model was updated in iter 5 ----\n",
      "    best_features['sales_price', 'p_id', 'promotion_type', 'normal_price', 'pg_id_3']\n",
      "    MD: 0.01225857076932636, MAD: 1.0654412203538366, MSE: 7.450910348741215, MAE: 1.7958869306298062, MedAE: 1.279045768407728, WMAPE: 3.406019821221316, SMAPE: 76.7192328725972, COD: 0.26825644420404515, F: 479.3111299763176, \n",
      "X changed\n",
      "iter: 6 / 77  ---- The best model was updated in iter 6 ----\n",
      "    best_features['sales_price', 'p_id', 'promotion_type', 'normal_price', 'pg_id_3', 'l_id']\n",
      "    MD: 0.01569868050699763, MAD: 1.143348530779971, MSE: 7.0064666447004145, MAE: 1.7394960573026554, MedAE: 1.3146601747776763, WMAPE: 3.268050054908059, SMAPE: 75.77024400876084, COD: 0.3119046430313045, F: 488.41557090724456, \n",
      "X changed\n",
      "iter: 7 / 77  ---- The best model was updated in iter 7 ----\n",
      "    best_features['sales_price', 'p_id', 'promotion_type', 'normal_price', 'pg_id_3', 'l_id', 'dayofyear']\n",
      "    MD: 0.01653864495970736, MAD: 1.1671454832975263, MSE: 6.941716211795235, MAE: 1.7342274284059034, MedAE: 1.2961399096874962, WMAPE: 3.245427399602022, SMAPE: 75.81695364912356, COD: 0.31826369310649005, F: 456.3788021788189, \n",
      "X changed\n",
      "iter: 8 / 77  ---- The best model was updated in iter 8 ----\n",
      "    best_features['sales_price', 'p_id', 'promotion_type', 'normal_price', 'pg_id_3', 'l_id', 'dayofyear', 'dayofweek']\n",
      "    MD: 0.018249546372933405, MAD: 1.1739104511802718, MSE: 6.795013750865064, MAE: 1.7270828605821917, MedAE: 1.295068813846156, WMAPE: 3.212146693732149, SMAPE: 75.75397791153294, COD: 0.33267113802000936, F: 407.1833562611608, \n",
      "X changed\n",
      "iter: 9 / 77  ---- The best model was updated in iter 9 ----\n",
      "    best_features['sales_price', 'p_id', 'promotion_type', 'normal_price', 'pg_id_3', 'l_id', 'dayofyear', 'dayofweek', 'event']\n",
      "    MD: 0.017699179202134898, MAD: 1.1651125267046682, MSE: 6.794437420538987, MAE: 1.7269131892291087, MedAE: 1.2995973186523024, WMAPE: 3.2134014547315015, SMAPE: 75.72292756570296, COD: 0.33272773862079197, F: 354.92618757351, \n",
      "X changed\n",
      "iter: 10 / 77  ---- The best model was updated in iter 10 ----\n",
      "    best_features['sales_price', 'p_id', 'promotion_type', 'normal_price', 'pg_id_3', 'l_id', 'dayofyear', 'dayofweek', 'event', 'school_holiday']\n",
      "    MD: 0.017704003815378674, MAD: 1.165116526296862, MSE: 6.794419298416685, MAE: 1.72691222028671, MedAE: 1.299551778152854, WMAPE: 3.213393287326645, SMAPE: 75.72296344392898, COD: 0.33272951836925113, F: 319.3835222185148, \n",
      "X changed\n",
      "iter: 11 / 77X changed\n",
      "iter: 12 / 77X changed\n",
      "iter: 13 / 77X changed\n",
      "iter: 14 / 77  ---- The best model was updated in iter 14 ----\n",
      "    best_features['sales_price', 'p_id', 'promotion_type', 'normal_price', 'pg_id_3', 'l_id', 'dayofyear', 'dayofweek', 'event', 'school_holiday', ('promotion_type', 'sales_price')]\n",
      "    MD: 0.012498721053946137, MAD: 1.173139424483139, MSE: 6.742798159156261, MAE: 1.7201034913455113, MedAE: 1.2933501157030298, WMAPE: 3.198221109708158, SMAPE: 75.63448337815875, COD: 0.33779915875259603, F: 295.5806599491881, \n",
      "X changed\n",
      "iter: 15 / 77X changed\n",
      "iter: 16 / 77X changed\n",
      "iter: 17 / 77  ---- The best model was updated in iter 17 ----\n",
      "    best_features['sales_price', 'p_id', 'promotion_type', 'normal_price', 'pg_id_3', 'l_id', 'dayofyear', 'dayofweek', 'event', 'school_holiday', ('promotion_type', 'sales_price'), ('l_id', 'sales_price')]\n",
      "    MD: 0.009133757866350851, MAD: 1.1792061123138293, MSE: 6.691545706222738, MAE: 1.715290533978893, MedAE: 1.2761883847636664, WMAPE: 3.1794862084124524, SMAPE: 75.54070099402517, COD: 0.34283259096389307, F: 281.09216955906817, \n",
      "X changed\n",
      "iter: 18 / 77  ---- The best model was updated in iter 18 ----\n",
      "    best_features['sales_price', 'p_id', 'promotion_type', 'normal_price', 'pg_id_3', 'l_id', 'dayofyear', 'dayofweek', 'event', 'school_holiday', ('promotion_type', 'sales_price'), ('l_id', 'sales_price'), ('sales_area', 'sales_price')]\n",
      "    MD: 0.00892668252759739, MAD: 1.1737789818505908, MSE: 6.686223873709932, MAE: 1.7143496636669173, MedAE: 1.2730209053847292, WMAPE: 3.17915306407237, SMAPE: 75.51429496296832, COD: 0.34335524074277934, F: 256.61222794428534, \n",
      "X changed\n",
      "iter: 19 / 77  ---- The best model was updated in iter 19 ----\n",
      "    best_features['sales_price', 'p_id', 'promotion_type', 'normal_price', 'pg_id_3', 'l_id', 'dayofyear', 'dayofweek', 'event', 'school_holiday', ('promotion_type', 'sales_price'), ('l_id', 'sales_price'), ('sales_area', 'sales_price'), ('p_id', 'sales_price')]\n",
      "    MD: 0.013443665175825681, MAD: 1.1785881796756177, MSE: 6.67638295751874, MAE: 1.7119214430099343, MedAE: 1.2812762630214098, WMAPE: 3.1763224087700843, SMAPE: 75.50921743697816, COD: 0.3443217034525675, F: 240.65160757699354, \n",
      "X changed\n",
      "iter: 20 / 77  ---- The best model was updated in iter 20 ----\n",
      "    best_features['sales_price', 'p_id', 'promotion_type', 'normal_price', 'pg_id_3', 'l_id', 'dayofyear', 'dayofweek', 'event', 'school_holiday', ('promotion_type', 'sales_price'), ('l_id', 'sales_price'), ('sales_area', 'sales_price'), ('p_id', 'sales_price'), ('normal_price', 'sales_price')]\n",
      "    MD: 0.014690838036090418, MAD: 1.1802274205445953, MSE: 6.675921049423065, MAE: 1.7121678188249605, MedAE: 1.280252413502972, WMAPE: 3.1768413390264385, SMAPE: 75.53601097056291, COD: 0.3443670668050386, F: 225.6524006531684, \n",
      "X changed\n",
      "iter: 21 / 77  ---- The best model was updated in iter 21 ----\n",
      "    best_features['sales_price', 'p_id', 'promotion_type', 'normal_price', 'pg_id_3', 'l_id', 'dayofyear', 'dayofweek', 'event', 'school_holiday', ('promotion_type', 'sales_price'), ('l_id', 'sales_price'), ('sales_area', 'sales_price'), ('p_id', 'sales_price'), ('normal_price', 'sales_price'), ('sales_price', 'dayofweek')]\n",
      "    MD: 0.02065165550957999, MAD: 1.2101413489765116, MSE: 6.550869702330713, MAE: 1.694790401981248, MedAE: 1.2516044036865948, WMAPE: 3.147623194542185, SMAPE: 75.17967555267886, COD: 0.3566481859026386, F: 224.12247040172053, \n",
      "X changed\n",
      "iter: 22 / 77  ---- The best model was updated in iter 22 ----\n",
      "    best_features['sales_price', 'p_id', 'promotion_type', 'normal_price', 'pg_id_3', 'l_id', 'dayofyear', 'dayofweek', 'event', 'school_holiday', ('promotion_type', 'sales_price'), ('l_id', 'sales_price'), ('sales_area', 'sales_price'), ('p_id', 'sales_price'), ('normal_price', 'sales_price'), ('sales_price', 'dayofweek'), ('p_id', 'l_id')]\n",
      "    MD: 0.02092288672876536, MAD: 1.2003307211499583, MSE: 6.485506922521833, MAE: 1.687885192307659, MedAE: 1.247124621764914, WMAPE: 3.131796905570162, SMAPE: 75.01030933152747, COD: 0.3630673737166671, F: 213.03746498264226, \n",
      "X changed\n",
      "iter: 23 / 77  ---- The best model was updated in iter 23 ----\n",
      "    best_features['sales_price', 'p_id', 'promotion_type', 'normal_price', 'pg_id_3', 'l_id', 'dayofyear', 'dayofweek', 'event', 'school_holiday', ('promotion_type', 'sales_price'), ('l_id', 'sales_price'), ('sales_area', 'sales_price'), ('p_id', 'sales_price'), ('normal_price', 'sales_price'), ('sales_price', 'dayofweek'), ('p_id', 'l_id'), ('normal_price', 'l_id')]\n",
      "    MD: 0.020603675362121134, MAD: 1.201291454553219, MSE: 6.48113427568322, MAE: 1.6876326715821572, MedAE: 1.2473663941665558, WMAPE: 3.1303015741624516, SMAPE: 75.00150657727063, COD: 0.36349680528894024, F: 202.0640687505262, \n",
      "X changed\n",
      "iter: 24 / 77X changed\n",
      "iter: 25 / 77X changed\n",
      "iter: 26 / 77X changed\n",
      "iter: 27 / 77X changed\n",
      "iter: 28 / 77  ---- The best model was updated in iter 28 ----\n",
      "    best_features['sales_price', 'p_id', 'promotion_type', 'normal_price', 'pg_id_3', 'l_id', 'dayofyear', 'dayofweek', 'event', 'school_holiday', ('promotion_type', 'sales_price'), ('l_id', 'sales_price'), ('sales_area', 'sales_price'), ('p_id', 'sales_price'), ('normal_price', 'sales_price'), ('sales_price', 'dayofweek'), ('p_id', 'l_id'), ('normal_price', 'l_id'), ('school_holiday', 'sales_price')]\n",
      "    MD: 0.02159699215846001, MAD: 1.2003890467602998, MSE: 6.477294847505038, MAE: 1.687700192965196, MedAE: 1.2471616275292465, WMAPE: 3.1307532873623036, SMAPE: 74.9902492542598, COD: 0.3638738701972304, F: 189.52539290124756, \n",
      "X changed\n",
      "iter: 29 / 77  ---- The best model was updated in iter 29 ----\n",
      "    best_features['sales_price', 'p_id', 'promotion_type', 'normal_price', 'pg_id_3', 'l_id', 'dayofyear', 'dayofweek', 'event', 'school_holiday', ('promotion_type', 'sales_price'), ('l_id', 'sales_price'), ('sales_area', 'sales_price'), ('p_id', 'sales_price'), ('normal_price', 'sales_price'), ('sales_price', 'dayofweek'), ('p_id', 'l_id'), ('normal_price', 'l_id'), ('school_holiday', 'sales_price'), ('p_id', 'dayofweek')]\n",
      "    MD: 0.02054019628282416, MAD: 1.2121119166987666, MSE: 6.439842227101035, MAE: 1.684392172463297, MedAE: 1.242005927306558, WMAPE: 3.11471934196103, SMAPE: 75.03315299451633, COD: 0.36755204002421415, F: 185.19664403165532, \n",
      "X changed\n",
      "iter: 30 / 77  ---- The best model was updated in iter 30 ----\n",
      "    best_features['sales_price', 'p_id', 'promotion_type', 'normal_price', 'pg_id_3', 'l_id', 'dayofyear', 'dayofweek', 'event', 'school_holiday', ('promotion_type', 'sales_price'), ('l_id', 'sales_price'), ('sales_area', 'sales_price'), ('p_id', 'sales_price'), ('normal_price', 'sales_price'), ('sales_price', 'dayofweek'), ('p_id', 'l_id'), ('normal_price', 'l_id'), ('school_holiday', 'sales_price'), ('p_id', 'dayofweek'), ('normal_price', 'dayofweek')]\n",
      "    MD: 0.020341979279672653, MAD: 1.2085792843841103, MSE: 6.425388805098798, MAE: 1.6828076496570268, MedAE: 1.2414002730425153, WMAPE: 3.1089674992053706, SMAPE: 75.00997457366223, COD: 0.3689714905227862, F: 174.82187878773772, \n",
      "X changed\n",
      "iter: 31 / 77X changed\n",
      "iter: 32 / 77X changed\n",
      "iter: 33 / 77X changed\n",
      "iter: 34 / 77X changed\n",
      "iter: 35 / 77X changed\n",
      "iter: 36 / 77X changed\n",
      "iter: 37 / 77X changed\n",
      "iter: 38 / 77X changed\n",
      "iter: 39 / 77X changed\n",
      "iter: 40 / 77X changed\n",
      "iter: 41 / 77X changed\n",
      "iter: 42 / 77X changed\n",
      "iter: 43 / 77X changed\n",
      "iter: 44 / 77X changed\n",
      "iter: 45 / 77  ---- The best model was updated in iter 45 ----\n",
      "    best_features['sales_price', 'p_id', 'promotion_type', 'normal_price', 'pg_id_3', 'l_id', 'dayofyear', 'dayofweek', 'event', 'school_holiday', ('promotion_type', 'sales_price'), ('l_id', 'sales_price'), ('sales_area', 'sales_price'), ('p_id', 'sales_price'), ('normal_price', 'sales_price'), ('sales_price', 'dayofweek'), ('p_id', 'l_id'), ('normal_price', 'l_id'), ('school_holiday', 'sales_price'), ('p_id', 'dayofweek'), ('normal_price', 'dayofweek'), ('promotion_type', 'dayofyear')]\n",
      "    MD: 0.02702678107987328, MAD: 1.2168306336489463, MSE: 6.297877678848932, MAE: 1.6826885795010196, MedAE: 1.2394045344382012, WMAPE: 3.0960145563605095, SMAPE: 75.09663221068868, COD: 0.38149418111473343, F: 166.95589844104924, \n",
      "X changed\n",
      "iter: 46 / 77  ---- The best model was updated in iter 46 ----\n",
      "    best_features['sales_price', 'p_id', 'promotion_type', 'normal_price', 'pg_id_3', 'l_id', 'dayofyear', 'dayofweek', 'event', 'school_holiday', ('promotion_type', 'sales_price'), ('l_id', 'sales_price'), ('sales_area', 'sales_price'), ('p_id', 'sales_price'), ('normal_price', 'sales_price'), ('sales_price', 'dayofweek'), ('p_id', 'l_id'), ('normal_price', 'l_id'), ('school_holiday', 'sales_price'), ('p_id', 'dayofweek'), ('normal_price', 'dayofweek'), ('promotion_type', 'dayofyear'), ('l_id', 'promotion_type')]\n",
      "    MD: 0.027550527058613685, MAD: 1.2161890959612796, MSE: 6.297634020792681, MAE: 1.6786233577863765, MedAE: 1.2348641514773862, WMAPE: 3.10185889382778, SMAPE: 75.02403913225106, COD: 0.381518110433989, F: 156.88566292857266, \n",
      "X changed\n",
      "iter: 47 / 77X changed\n",
      "iter: 48 / 77X changed\n",
      "iter: 49 / 77  ---- The best model was updated in iter 49 ----\n",
      "    best_features['sales_price', 'p_id', 'promotion_type', 'normal_price', 'pg_id_3', 'l_id', 'dayofyear', 'dayofweek', 'event', 'school_holiday', ('promotion_type', 'sales_price'), ('l_id', 'sales_price'), ('sales_area', 'sales_price'), ('p_id', 'sales_price'), ('normal_price', 'sales_price'), ('sales_price', 'dayofweek'), ('p_id', 'l_id'), ('normal_price', 'l_id'), ('school_holiday', 'sales_price'), ('p_id', 'dayofweek'), ('normal_price', 'dayofweek'), ('promotion_type', 'dayofyear'), ('l_id', 'promotion_type'), ('promotion_type', 'dayofweek')]\n",
      "    MD: 0.0263933163309456, MAD: 1.2181867691107058, MSE: 6.296497916232137, MAE: 1.678768172546427, MedAE: 1.235481503348546, WMAPE: 3.097259219278213, SMAPE: 75.02507105706016, COD: 0.3816296856847943, F: 152.62540703335947, \n",
      "X changed\n",
      "iter: 50 / 77  ---- The best model was updated in iter 50 ----\n",
      "    best_features['sales_price', 'p_id', 'promotion_type', 'normal_price', 'pg_id_3', 'l_id', 'dayofyear', 'dayofweek', 'event', 'school_holiday', ('promotion_type', 'sales_price'), ('l_id', 'sales_price'), ('sales_area', 'sales_price'), ('p_id', 'sales_price'), ('normal_price', 'sales_price'), ('sales_price', 'dayofweek'), ('p_id', 'l_id'), ('normal_price', 'l_id'), ('school_holiday', 'sales_price'), ('p_id', 'dayofweek'), ('normal_price', 'dayofweek'), ('promotion_type', 'dayofyear'), ('l_id', 'promotion_type'), ('promotion_type', 'dayofweek'), ('event', 'promotion_type')]\n",
      "    MD: 0.026279748463672602, MAD: 1.2192247354431645, MSE: 6.294732994340285, MAE: 1.6786130815474387, MedAE: 1.2365272377399625, WMAPE: 3.09590619653448, SMAPE: 75.02339928269959, COD: 0.38180301621225987, F: 146.97273617238864, \n",
      "X changed\n",
      "iter: 51 / 77  ---- The best model was updated in iter 51 ----\n",
      "    best_features['sales_price', 'p_id', 'promotion_type', 'normal_price', 'pg_id_3', 'l_id', 'dayofyear', 'dayofweek', 'event', 'school_holiday', ('promotion_type', 'sales_price'), ('l_id', 'sales_price'), ('sales_area', 'sales_price'), ('p_id', 'sales_price'), ('normal_price', 'sales_price'), ('sales_price', 'dayofweek'), ('p_id', 'l_id'), ('normal_price', 'l_id'), ('school_holiday', 'sales_price'), ('p_id', 'dayofweek'), ('normal_price', 'dayofweek'), ('promotion_type', 'dayofyear'), ('l_id', 'promotion_type'), ('promotion_type', 'dayofweek'), ('event', 'promotion_type'), ('pg_id_2', 'promotion_type')]\n",
      "    MD: 0.026185985518567153, MAD: 1.219605865425203, MSE: 6.294279351532464, MAE: 1.678530133838837, MedAE: 1.2347840441096454, WMAPE: 3.095240108264827, SMAPE: 75.02130249905056, COD: 0.38184756784229157, F: 141.56606775152142, \n",
      "X changed\n",
      "iter: 52 / 77X changed\n",
      "iter: 53 / 77X changed\n",
      "iter: 54 / 77X changed\n",
      "iter: 55 / 77X changed\n",
      "iter: 56 / 77X changed\n",
      "iter: 57 / 77  ---- The best model was updated in iter 57 ----\n",
      "    best_features['sales_price', 'p_id', 'promotion_type', 'normal_price', 'pg_id_3', 'l_id', 'dayofyear', 'dayofweek', 'event', 'school_holiday', ('promotion_type', 'sales_price'), ('l_id', 'sales_price'), ('sales_area', 'sales_price'), ('p_id', 'sales_price'), ('normal_price', 'sales_price'), ('sales_price', 'dayofweek'), ('p_id', 'l_id'), ('normal_price', 'l_id'), ('school_holiday', 'sales_price'), ('p_id', 'dayofweek'), ('normal_price', 'dayofweek'), ('promotion_type', 'dayofyear'), ('l_id', 'promotion_type'), ('promotion_type', 'dayofweek'), ('event', 'promotion_type'), ('pg_id_2', 'promotion_type'), ('pg_id_3', 'dayofweek')]\n",
      "    MD: 0.026545584562158497, MAD: 1.2214923289517754, MSE: 6.283162636038825, MAE: 1.6777155770939483, MedAE: 1.235284863840084, WMAPE: 3.091148924214948, SMAPE: 75.01405186718551, COD: 0.3829393250294467, F: 137.04482987567565, \n",
      "X changed\n",
      "iter: 58 / 77  ---- The best model was updated in iter 58 ----\n",
      "    best_features['sales_price', 'p_id', 'promotion_type', 'normal_price', 'pg_id_3', 'l_id', 'dayofyear', 'dayofweek', 'event', 'school_holiday', ('promotion_type', 'sales_price'), ('l_id', 'sales_price'), ('sales_area', 'sales_price'), ('p_id', 'sales_price'), ('normal_price', 'sales_price'), ('sales_price', 'dayofweek'), ('p_id', 'l_id'), ('normal_price', 'l_id'), ('school_holiday', 'sales_price'), ('p_id', 'dayofweek'), ('normal_price', 'dayofweek'), ('promotion_type', 'dayofyear'), ('l_id', 'promotion_type'), ('promotion_type', 'dayofweek'), ('event', 'promotion_type'), ('pg_id_2', 'promotion_type'), ('pg_id_3', 'dayofweek'), ('l_id', 'dayofweek')]\n",
      "    MD: 0.024475110405445786, MAD: 1.215179591972824, MSE: 6.203969618463157, MAE: 1.667781624034711, MedAE: 1.2232152197737753, WMAPE: 3.067015377121381, SMAPE: 74.70671021534689, COD: 0.39071676128390675, F: 132.94620039294566, \n",
      "X changed\n",
      "iter: 59 / 77  ---- The best model was updated in iter 59 ----\n",
      "    best_features['sales_price', 'p_id', 'promotion_type', 'normal_price', 'pg_id_3', 'l_id', 'dayofyear', 'dayofweek', 'event', 'school_holiday', ('promotion_type', 'sales_price'), ('l_id', 'sales_price'), ('sales_area', 'sales_price'), ('p_id', 'sales_price'), ('normal_price', 'sales_price'), ('sales_price', 'dayofweek'), ('p_id', 'l_id'), ('normal_price', 'l_id'), ('school_holiday', 'sales_price'), ('p_id', 'dayofweek'), ('normal_price', 'dayofweek'), ('promotion_type', 'dayofyear'), ('l_id', 'promotion_type'), ('promotion_type', 'dayofweek'), ('event', 'promotion_type'), ('pg_id_2', 'promotion_type'), ('pg_id_3', 'dayofweek'), ('l_id', 'dayofweek'), ('sales_area', 'dayofweek')]\n",
      "    MD: 0.02307478222202978, MAD: 1.2203876829587776, MSE: 6.187948653464209, MAE: 1.6662193017257874, MedAE: 1.2205372768278806, WMAPE: 3.0588947454536632, SMAPE: 74.67398928826282, COD: 0.3922901580028181, F: 129.985517752088, \n",
      "X changed\n",
      "iter: 60 / 77  ---- The best model was updated in iter 60 ----\n",
      "    best_features['sales_price', 'p_id', 'promotion_type', 'normal_price', 'pg_id_3', 'l_id', 'dayofyear', 'dayofweek', 'event', 'school_holiday', ('promotion_type', 'sales_price'), ('l_id', 'sales_price'), ('sales_area', 'sales_price'), ('p_id', 'sales_price'), ('normal_price', 'sales_price'), ('sales_price', 'dayofweek'), ('p_id', 'l_id'), ('normal_price', 'l_id'), ('school_holiday', 'sales_price'), ('p_id', 'dayofweek'), ('normal_price', 'dayofweek'), ('promotion_type', 'dayofyear'), ('l_id', 'promotion_type'), ('promotion_type', 'dayofweek'), ('event', 'promotion_type'), ('pg_id_2', 'promotion_type'), ('pg_id_3', 'dayofweek'), ('l_id', 'dayofweek'), ('sales_area', 'dayofweek'), ('pg_id_3', 'school_holiday')]\n",
      "    MD: 0.023038866192533387, MAD: 1.2205146149817443, MSE: 6.187242203572474, MAE: 1.6662336596011467, MedAE: 1.219566361834043, WMAPE: 3.0587194447648045, SMAPE: 74.67250587601507, COD: 0.39235953746540386, F: 125.62287659807258, \n",
      "X changed\n",
      "iter: 61 / 77  ---- The best model was updated in iter 61 ----\n",
      "    best_features['sales_price', 'p_id', 'promotion_type', 'normal_price', 'pg_id_3', 'l_id', 'dayofyear', 'dayofweek', 'event', 'school_holiday', ('promotion_type', 'sales_price'), ('l_id', 'sales_price'), ('sales_area', 'sales_price'), ('p_id', 'sales_price'), ('normal_price', 'sales_price'), ('sales_price', 'dayofweek'), ('p_id', 'l_id'), ('normal_price', 'l_id'), ('school_holiday', 'sales_price'), ('p_id', 'dayofweek'), ('normal_price', 'dayofweek'), ('promotion_type', 'dayofyear'), ('l_id', 'promotion_type'), ('promotion_type', 'dayofweek'), ('event', 'promotion_type'), ('pg_id_2', 'promotion_type'), ('pg_id_3', 'dayofweek'), ('l_id', 'dayofweek'), ('sales_area', 'dayofweek'), ('pg_id_3', 'school_holiday'), ('pg_id_3', 'dayofyear')]\n",
      "    MD: 0.01756969416309918, MAD: 1.2483433520216702, MSE: 6.186681947368052, MAE: 1.6706585622625927, MedAE: 1.2298347090315405, WMAPE: 3.0597893787835506, SMAPE: 74.86275751762224, COD: 0.39241455944902626, F: 129.6611122575521, \n",
      "X changed\n",
      "iter: 62 / 77X changed\n",
      "iter: 63 / 77  ---- The best model was updated in iter 63 ----\n",
      "    best_features['sales_price', 'p_id', 'promotion_type', 'normal_price', 'pg_id_3', 'l_id', 'dayofyear', 'dayofweek', 'event', 'school_holiday', ('promotion_type', 'sales_price'), ('l_id', 'sales_price'), ('sales_area', 'sales_price'), ('p_id', 'sales_price'), ('normal_price', 'sales_price'), ('sales_price', 'dayofweek'), ('p_id', 'l_id'), ('normal_price', 'l_id'), ('school_holiday', 'sales_price'), ('p_id', 'dayofweek'), ('normal_price', 'dayofweek'), ('promotion_type', 'dayofyear'), ('l_id', 'promotion_type'), ('promotion_type', 'dayofweek'), ('event', 'promotion_type'), ('pg_id_2', 'promotion_type'), ('pg_id_3', 'dayofweek'), ('l_id', 'dayofweek'), ('sales_area', 'dayofweek'), ('pg_id_3', 'school_holiday'), ('pg_id_3', 'dayofyear'), ('l_id', 'dayofyear')]\n",
      "    MD: 0.0152609595320394, MAD: 1.2642140726851825, MSE: 6.076105213618455, MAE: 1.6623574006314574, MedAE: 1.2177979481406105, WMAPE: 3.0212570116274104, SMAPE: 74.83203166763269, COD: 0.40327414687593754, F: 133.6761631846149, \n",
      "X changed\n",
      "iter: 64 / 77  ---- The best model was updated in iter 64 ----\n",
      "    best_features['sales_price', 'p_id', 'promotion_type', 'normal_price', 'pg_id_3', 'l_id', 'dayofyear', 'dayofweek', 'event', 'school_holiday', ('promotion_type', 'sales_price'), ('l_id', 'sales_price'), ('sales_area', 'sales_price'), ('p_id', 'sales_price'), ('normal_price', 'sales_price'), ('sales_price', 'dayofweek'), ('p_id', 'l_id'), ('normal_price', 'l_id'), ('school_holiday', 'sales_price'), ('p_id', 'dayofweek'), ('normal_price', 'dayofweek'), ('promotion_type', 'dayofyear'), ('l_id', 'promotion_type'), ('promotion_type', 'dayofweek'), ('event', 'promotion_type'), ('pg_id_2', 'promotion_type'), ('pg_id_3', 'dayofweek'), ('l_id', 'dayofweek'), ('sales_area', 'dayofweek'), ('pg_id_3', 'school_holiday'), ('pg_id_3', 'dayofyear'), ('l_id', 'dayofyear'), ('sales_area', 'dayofyear')]\n",
      "    MD: 0.01438155474572743, MAD: 1.2731088159284278, MSE: 6.06190155401537, MAE: 1.6613431104825729, MedAE: 1.215476909350341, WMAPE: 3.010011468996199, SMAPE: 74.87759005807266, COD: 0.40466906855621676, F: 132.7190072088865, \n",
      "X changed\n",
      "iter: 65 / 77  ---- The best model was updated in iter 65 ----\n",
      "    best_features['sales_price', 'p_id', 'promotion_type', 'normal_price', 'pg_id_3', 'l_id', 'dayofyear', 'dayofweek', 'event', 'school_holiday', ('promotion_type', 'sales_price'), ('l_id', 'sales_price'), ('sales_area', 'sales_price'), ('p_id', 'sales_price'), ('normal_price', 'sales_price'), ('sales_price', 'dayofweek'), ('p_id', 'l_id'), ('normal_price', 'l_id'), ('school_holiday', 'sales_price'), ('p_id', 'dayofweek'), ('normal_price', 'dayofweek'), ('promotion_type', 'dayofyear'), ('l_id', 'promotion_type'), ('promotion_type', 'dayofweek'), ('event', 'promotion_type'), ('pg_id_2', 'promotion_type'), ('pg_id_3', 'dayofweek'), ('l_id', 'dayofweek'), ('sales_area', 'dayofweek'), ('pg_id_3', 'school_holiday'), ('pg_id_3', 'dayofyear'), ('l_id', 'dayofyear'), ('sales_area', 'dayofyear'), ('pg_id_3', 'event')]\n",
      "    MD: 0.014973661940342194, MAD: 1.2729323057096797, MSE: 6.061523275817427, MAE: 1.6611950615230346, MedAE: 1.2138477635480698, WMAPE: 3.010288797381001, SMAPE: 74.87634813040383, COD: 0.40470621873259627, F: 128.7157742997918, \n",
      "X changed\n",
      "iter: 66 / 77  ---- The best model was updated in iter 66 ----\n",
      "    best_features['sales_price', 'p_id', 'promotion_type', 'normal_price', 'pg_id_3', 'l_id', 'dayofyear', 'dayofweek', 'event', 'school_holiday', ('promotion_type', 'sales_price'), ('l_id', 'sales_price'), ('sales_area', 'sales_price'), ('p_id', 'sales_price'), ('normal_price', 'sales_price'), ('sales_price', 'dayofweek'), ('p_id', 'l_id'), ('normal_price', 'l_id'), ('school_holiday', 'sales_price'), ('p_id', 'dayofweek'), ('normal_price', 'dayofweek'), ('promotion_type', 'dayofyear'), ('l_id', 'promotion_type'), ('promotion_type', 'dayofweek'), ('event', 'promotion_type'), ('pg_id_2', 'promotion_type'), ('pg_id_3', 'dayofweek'), ('l_id', 'dayofweek'), ('sales_area', 'dayofweek'), ('pg_id_3', 'school_holiday'), ('pg_id_3', 'dayofyear'), ('l_id', 'dayofyear'), ('sales_area', 'dayofyear'), ('pg_id_3', 'event'), ('pg_id_3', 'pg_id_2')]\n",
      "    MD: 0.015036643447650402, MAD: 1.2728334790758207, MSE: 6.061045889689547, MAE: 1.66115319537257, MedAE: 1.2153440771570738, WMAPE: 3.010348214501388, SMAPE: 74.87381194559217, COD: 0.4047531021611106, F: 124.9873089402112, \n",
      "X changed\n",
      "iter: 67 / 77X changed\n",
      "iter: 68 / 77X changed\n",
      "iter: 69 / 77X changed\n",
      "iter: 70 / 77X changed\n",
      "iter: 71 / 77X changed\n",
      "iter: 72 / 77X changed\n",
      "iter: 73 / 77X changed\n",
      "iter: 74 / 77X changed\n",
      "iter: 75 / 77X changed\n",
      "iter: 76 / 77X changed\n",
      "iter: 77 / 77"
     ]
    },
    {
     "name": "stderr",
     "output_type": "stream",
     "text": [
      "/home/tsuruda_yoshito/work/tornado/rPrivate-cyclic-boosting/cyclic_boosting/plots/__init__.py:199: RuntimeWarning: More than 20 figures have been opened. Figures created through the pyplot interface (`matplotlib.pyplot.figure`) are retained until explicitly closed and may consume too much memory. (To control this warning, see the rcParam `figure.max_open_warning`). Consider using `matplotlib.pyplot.close()`.\n",
      "  plt.figure(figsize=figsize)\n"
     ]
    },
    {
     "name": "stdout",
     "output_type": "stream",
     "text": [
      "Now, you can make a forecasting analysis with the best modelusing the pickle file in the ./models directory!For instructions, please refer to the file tornado.ipynb inthe examples/regression/tornado directory.\n"
     ]
    }
   ],
   "source": [
    "from cyclic_boosting.tornado import Generator, Manager, Trainer\n",
    "\n",
    "data_deliverler = Generator.TornadoDataModule(\"data_test.csv\")\n",
    "manager = Manager.TornadoVariableSelectionModule()\n",
    "trainer = Trainer.SqueezeTrainer(data_deliverler, manager)\n",
    "trainer.run(target=\"sales\", log_policy=\"compute_COD\", verbose=False)"
   ]
  },
  {
   "cell_type": "markdown",
   "id": "15833e8f",
   "metadata": {},
   "source": [
    "# Load the best model and make predictions."
   ]
  },
  {
   "cell_type": "markdown",
   "id": "f3ea2396",
   "metadata": {},
   "source": [
    "Get the best model path."
   ]
  },
  {
   "cell_type": "code",
   "execution_count": 8,
   "id": "af5d0ef6",
   "metadata": {},
   "outputs": [
    {
     "name": "stdout",
     "output_type": "stream",
     "text": [
      "./models/model_66/model_66.pkl\n"
     ]
    }
   ],
   "source": [
    "import pickle\n",
    "from pathlib import Path\n",
    "\n",
    "model_nos = []\n",
    "for p in sorted(Path(\"./models/\").glob(\"model*\")):\n",
    "    model_nos.append(str(p)[str(p).find(\"_\") + 1 :])\n",
    "model_path = f\"./models/model_{model_nos[-1]}/model_{model_nos[-1]}.pkl\"\n",
    "print(model_path)"
   ]
  },
  {
   "cell_type": "markdown",
   "id": "f67a0e00",
   "metadata": {},
   "source": [
    "Make predictions with the best model."
   ]
  },
  {
   "cell_type": "code",
   "execution_count": 40,
   "id": "3e6cf4db",
   "metadata": {},
   "outputs": [
    {
     "name": "stdout",
     "output_type": "stream",
     "text": [
      "   dayofweek  dayofyear  event  l_id  normal_price  p_id  pg_id_1  pg_id_2  \\\n",
      "0          4        190      0     1         10.34    20        1        1   \n",
      "\n",
      "   pg_id_3  promotion_type   sales_area  sales_price  school_holiday  \n",
      "0        1               1  6321.680089        10.34               0  \n",
      "[1.97384934]\n"
     ]
    }
   ],
   "source": [
    "data = {\n",
    "    \"dayofweek\": [4],\n",
    "    \"dayofyear\": [190],\n",
    "    \"event\": [0],\n",
    "    \"l_id\": [1],\n",
    "    \"normal_price\": [10.34],\n",
    "    \"p_id\": [20],\n",
    "    \"pg_id_1\": [1],\n",
    "    \"pg_id_2\": [1],\n",
    "    \"pg_id_3\": [1],\n",
    "    \"promotion_type\": [1],\n",
    "    \"sales_area\": [6321.6800893695445],\n",
    "    \"sales_price\": [10.34],\n",
    "    \"school_holiday\": [0],\n",
    "}\n",
    "\n",
    "X = pd.DataFrame(data)\n",
    "print(X)\n",
    "\n",
    "with open(model_path, \"rb\") as f:\n",
    "    CB_est = pickle.load(f)\n",
    "    yhat = CB_est.predict(X.copy())\n",
    "    print(yhat)"
   ]
  }
 ],
 "metadata": {
  "colab": {
   "provenance": []
  },
  "kernelspec": {
   "display_name": "Python 3 (ipykernel)",
   "language": "python",
   "name": "python3"
  },
  "language_info": {
   "codemirror_mode": {
    "name": "ipython",
    "version": 3
   },
   "file_extension": ".py",
   "mimetype": "text/x-python",
   "name": "python",
   "nbconvert_exporter": "python",
   "pygments_lexer": "ipython3",
   "version": "3.10.11"
  }
 },
 "nbformat": 4,
 "nbformat_minor": 5
}

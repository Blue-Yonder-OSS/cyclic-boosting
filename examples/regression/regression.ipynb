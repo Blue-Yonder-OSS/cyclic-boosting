{
 "cells": [
  {
   "cell_type": "markdown",
   "id": "e4f6005c-1e82-45cc-9013-fa89752acadf",
   "metadata": {
    "id": "e4f6005c-1e82-45cc-9013-fa89752acadf"
   },
   "source": [
    "# Regression using Cyclic Boosting"
   ]
  },
  {
   "cell_type": "markdown",
   "id": "4ee82ebe-8aa4-49ee-a84b-2a9aed8868c3",
   "metadata": {
    "colab": {
     "base_uri": "https://localhost:8080/"
    },
    "id": "Q8nS3cek3utK",
    "outputId": "e7b226b6-9dc5-4896-8066-8d105725fdd0"
   },
   "source": [
    "First, install the  package and its dependencies\n",
    "\n",
    "```sh\n",
    "!pip install cyclic-boosting\n",
    "```"
   ]
  },
  {
   "cell_type": "code",
   "execution_count": 1,
   "id": "0925b449-29d9-4ecc-aa65-bdc6da4b9627",
   "metadata": {
    "tags": []
   },
   "outputs": [
    {
     "data": {
      "text/html": [
       "\n",
       "                <script type=\"application/javascript\" id=\"jupyter_black\">\n",
       "                (function() {\n",
       "                    if (window.IPython === undefined) {\n",
       "                        return\n",
       "                    }\n",
       "                    var msg = \"WARNING: it looks like you might have loaded \" +\n",
       "                        \"jupyter_black in a non-lab notebook with \" +\n",
       "                        \"`is_lab=True`. Please double check, and if \" +\n",
       "                        \"loading with `%load_ext` please review the README!\"\n",
       "                    console.log(msg)\n",
       "                    alert(msg)\n",
       "                })()\n",
       "                </script>\n",
       "                "
      ],
      "text/plain": [
       "<IPython.core.display.HTML object>"
      ]
     },
     "metadata": {},
     "output_type": "display_data"
    }
   ],
   "source": [
    "# Optional formatting if juypter-black is installed\n",
    "try:\n",
    "    import jupyter_black\n",
    "\n",
    "    jupyter_black.load(line_length=80)\n",
    "except ImportError:\n",
    "    ..."
   ]
  },
  {
   "cell_type": "code",
   "execution_count": 2,
   "id": "d032f099-abc3-414f-957d-bf915cd2bd4e",
   "metadata": {
    "id": "d032f099-abc3-414f-957d-bf915cd2bd4e",
    "tags": []
   },
   "outputs": [],
   "source": [
    "import pandas as pd\n",
    "import numpy as np\n",
    "\n",
    "\n",
    "from sklearn.preprocessing import OrdinalEncoder\n",
    "\n",
    "from cyclic_boosting import flags, common_smoothers, observers\n",
    "from cyclic_boosting.plots import plot_analysis\n",
    "from cyclic_boosting.pipelines import (\n",
    "    pipeline_CBPoissonRegressor,\n",
    "    pipeline_CBNBinomRegressor,\n",
    ")\n",
    "\n",
    "from cyclic_boosting.smoothing.onedim import SeasonalSmoother, IsotonicRegressor"
   ]
  },
  {
   "cell_type": "markdown",
   "id": "f795a87a-df58-4b1a-8717-b95203fd65cd",
   "metadata": {},
   "source": [
    "Let's load simulated demand dataset from remote repository"
   ]
  },
  {
   "cell_type": "code",
   "execution_count": 3,
   "id": "7c39b738-890f-45d0-b015-cc0a2306dc24",
   "metadata": {
    "id": "7c39b738-890f-45d0-b015-cc0a2306dc24",
    "tags": []
   },
   "outputs": [],
   "source": [
    "import urllib.request\n",
    "\n",
    "urllib.request.urlretrieve(\n",
    "    \"https://raw.githubusercontent.com/Blue-Yonder-OSS/cyclic-boosting/main/tests/integration_test_data.csv\",\n",
    "    \"data.csv\"\n",
    ")\n",
    "\n",
    "df = pd.read_csv(\"data.csv\")"
   ]
  },
  {
   "cell_type": "code",
   "execution_count": 4,
   "id": "e8692944-7695-4823-82ef-fb2a22a399a6",
   "metadata": {
    "tags": []
   },
   "outputs": [
    {
     "data": {
      "text/html": [
       "<div>\n",
       "<style scoped>\n",
       "    .dataframe tbody tr th:only-of-type {\n",
       "        vertical-align: middle;\n",
       "    }\n",
       "\n",
       "    .dataframe tbody tr th {\n",
       "        vertical-align: top;\n",
       "    }\n",
       "\n",
       "    .dataframe thead th {\n",
       "        text-align: right;\n",
       "    }\n",
       "</style>\n",
       "<table border=\"1\" class=\"dataframe\">\n",
       "  <thead>\n",
       "    <tr style=\"text-align: right;\">\n",
       "      <th></th>\n",
       "      <th>P_ID</th>\n",
       "      <th>PG_ID_3</th>\n",
       "      <th>PG_ID_2</th>\n",
       "      <th>PG_ID_1</th>\n",
       "      <th>NORMAL_PRICE</th>\n",
       "      <th>L_ID</th>\n",
       "      <th>SALES_AREA</th>\n",
       "      <th>DATE</th>\n",
       "      <th>SCHOOL_HOLIDAY</th>\n",
       "      <th>EVENT</th>\n",
       "      <th>PROMOTION_TYPE</th>\n",
       "      <th>SALES_PRICE</th>\n",
       "      <th>LAMBDA</th>\n",
       "      <th>SALES</th>\n",
       "    </tr>\n",
       "  </thead>\n",
       "  <tbody>\n",
       "    <tr>\n",
       "      <th>0</th>\n",
       "      <td>15</td>\n",
       "      <td>2</td>\n",
       "      <td>1</td>\n",
       "      <td>1</td>\n",
       "      <td>19.11</td>\n",
       "      <td>2</td>\n",
       "      <td>6321.680089</td>\n",
       "      <td>2020-09-19</td>\n",
       "      <td>0.0</td>\n",
       "      <td>NaN</td>\n",
       "      <td>0</td>\n",
       "      <td>19.110000</td>\n",
       "      <td>1.405019</td>\n",
       "      <td>0</td>\n",
       "    </tr>\n",
       "    <tr>\n",
       "      <th>1</th>\n",
       "      <td>15</td>\n",
       "      <td>2</td>\n",
       "      <td>1</td>\n",
       "      <td>1</td>\n",
       "      <td>19.11</td>\n",
       "      <td>2</td>\n",
       "      <td>6321.680089</td>\n",
       "      <td>2020-08-14</td>\n",
       "      <td>0.0</td>\n",
       "      <td>NaN</td>\n",
       "      <td>0</td>\n",
       "      <td>19.110000</td>\n",
       "      <td>2.815779</td>\n",
       "      <td>4</td>\n",
       "    </tr>\n",
       "    <tr>\n",
       "      <th>2</th>\n",
       "      <td>5</td>\n",
       "      <td>2</td>\n",
       "      <td>1</td>\n",
       "      <td>1</td>\n",
       "      <td>10.21</td>\n",
       "      <td>2</td>\n",
       "      <td>6321.680089</td>\n",
       "      <td>2021-11-28</td>\n",
       "      <td>0.0</td>\n",
       "      <td>NaN</td>\n",
       "      <td>1</td>\n",
       "      <td>6.774357</td>\n",
       "      <td>4.716399</td>\n",
       "      <td>5</td>\n",
       "    </tr>\n",
       "    <tr>\n",
       "      <th>3</th>\n",
       "      <td>20</td>\n",
       "      <td>1</td>\n",
       "      <td>1</td>\n",
       "      <td>1</td>\n",
       "      <td>10.34</td>\n",
       "      <td>1</td>\n",
       "      <td>6993.301210</td>\n",
       "      <td>2021-11-06</td>\n",
       "      <td>0.0</td>\n",
       "      <td>NaN</td>\n",
       "      <td>0</td>\n",
       "      <td>10.340000</td>\n",
       "      <td>1.783195</td>\n",
       "      <td>2</td>\n",
       "    </tr>\n",
       "    <tr>\n",
       "      <th>4</th>\n",
       "      <td>10</td>\n",
       "      <td>1</td>\n",
       "      <td>1</td>\n",
       "      <td>1</td>\n",
       "      <td>9.89</td>\n",
       "      <td>1</td>\n",
       "      <td>6993.301210</td>\n",
       "      <td>2019-10-17</td>\n",
       "      <td>0.0</td>\n",
       "      <td>NaN</td>\n",
       "      <td>0</td>\n",
       "      <td>9.890000</td>\n",
       "      <td>2.747644</td>\n",
       "      <td>0</td>\n",
       "    </tr>\n",
       "  </tbody>\n",
       "</table>\n",
       "</div>"
      ],
      "text/plain": [
       "   P_ID  PG_ID_3  PG_ID_2  PG_ID_1  NORMAL_PRICE  L_ID   SALES_AREA  \\\n",
       "0    15        2        1        1         19.11     2  6321.680089   \n",
       "1    15        2        1        1         19.11     2  6321.680089   \n",
       "2     5        2        1        1         10.21     2  6321.680089   \n",
       "3    20        1        1        1         10.34     1  6993.301210   \n",
       "4    10        1        1        1          9.89     1  6993.301210   \n",
       "\n",
       "         DATE  SCHOOL_HOLIDAY EVENT  PROMOTION_TYPE  SALES_PRICE    LAMBDA  \\\n",
       "0  2020-09-19             0.0   NaN               0    19.110000  1.405019   \n",
       "1  2020-08-14             0.0   NaN               0    19.110000  2.815779   \n",
       "2  2021-11-28             0.0   NaN               1     6.774357  4.716399   \n",
       "3  2021-11-06             0.0   NaN               0    10.340000  1.783195   \n",
       "4  2019-10-17             0.0   NaN               0     9.890000  2.747644   \n",
       "\n",
       "   SALES  \n",
       "0      0  \n",
       "1      4  \n",
       "2      5  \n",
       "3      2  \n",
       "4      0  "
      ]
     },
     "execution_count": 4,
     "metadata": {},
     "output_type": "execute_result"
    }
   ],
   "source": [
    "df.head()"
   ]
  },
  {
   "cell_type": "markdown",
   "id": "dd3c297c-f74e-4c33-a299-b6d98bf13a13",
   "metadata": {},
   "source": [
    "# Prepare the data\n",
    "\n",
    "The data has to be prepared for the training. We want to convert the categorical variables into numerical values using the scikit-learn OrdinalEncoder (guess, who contributed this 😜)."
   ]
  },
  {
   "cell_type": "code",
   "execution_count": 5,
   "id": "08abb1cb-0861-4efd-8c44-9f8b8e1db4e3",
   "metadata": {
    "tags": []
   },
   "outputs": [],
   "source": [
    "def prepare_data(df):\n",
    "    df[\"DATE\"] = pd.to_datetime(df[\"DATE\"])\n",
    "    df[\"dayofweek\"] = df[\"DATE\"].dt.dayofweek\n",
    "    df[\"dayofyear\"] = df[\"DATE\"].dt.dayofyear\n",
    "\n",
    "    df[\"price_ratio\"] = df[\"SALES_PRICE\"] / df[\"NORMAL_PRICE\"]\n",
    "    df[\"price_ratio\"].fillna(1, inplace=True)\n",
    "    df[\"price_ratio\"].clip(0, 1, inplace=True)\n",
    "    df.loc[df[\"price_ratio\"] == 1.0, \"price_ratio\"] = np.nan\n",
    "\n",
    "    enc = OrdinalEncoder(handle_unknown=\"use_encoded_value\", unknown_value=np.nan)\n",
    "    df[[\"L_ID\", \"P_ID\", \"PG_ID_3\"]] = enc.fit_transform(df[[\"L_ID\", \"P_ID\", \"PG_ID_3\"]])\n",
    "\n",
    "    y = np.asarray(df[\"SALES\"])\n",
    "    X = df.drop(columns=\"SALES\")\n",
    "    return X, y"
   ]
  },
  {
   "cell_type": "markdown",
   "id": "c7a45753-d0eb-4e26-8ceb-01c8df2a64a1",
   "metadata": {},
   "source": [
    "# Set the feature properties\n",
    "\n",
    "We need to tell Cyclic Boosting which feature to use and what type of feature these are and how to handle them.\n",
    "\n",
    "We want the continuous features be `IS_CONTINUOUS` with missing values (very handy, isn't it 😎) and the categorical features to be treated as unordered classes (no neighboring relation as in weekdays for example).\n",
    "\n",
    "Note: there is next to no feature engineering done here deliberately. Checking the feature carefully, there can be potentially improved a lot by treating the features individually and maybe even combing them into 2D features (see documentation). We just want to get it up-and-running here."
   ]
  },
  {
   "cell_type": "code",
   "execution_count": 6,
   "id": "G2BHuKj8Z4vM",
   "metadata": {
    "id": "G2BHuKj8Z4vM",
    "tags": []
   },
   "outputs": [],
   "source": [
    "feature_properties = {\n",
    "    \"P_ID\": flags.IS_UNORDERED,\n",
    "    \"PG_ID_3\": flags.IS_UNORDERED,\n",
    "    \"L_ID\": flags.IS_UNORDERED,\n",
    "    \"dayofweek\": flags.IS_ORDERED,\n",
    "    \"dayofyear\": flags.IS_CONTINUOUS | flags.IS_LINEAR,\n",
    "    \"price_ratio\": flags.IS_CONTINUOUS | flags.HAS_MISSING | flags.MISSING_NOT_LEARNED,\n",
    "    \"PROMOTION_TYPE\": flags.IS_ORDERED,\n",
    "}\n",
    "\n",
    "features = [\n",
    "    \"dayofweek\",\n",
    "    \"L_ID\",\n",
    "    \"PG_ID_3\",\n",
    "    \"P_ID\",\n",
    "    \"PROMOTION_TYPE\",\n",
    "    \"price_ratio\",\n",
    "    \"dayofyear\",\n",
    "    (\"P_ID\", \"PG_ID_3\"),\n",
    "]"
   ]
  },
  {
   "cell_type": "markdown",
   "id": "5e3ba048-3483-45f1-b0e8-b4d984ca797e",
   "metadata": {},
   "source": [
    "# Build the model\n",
    "\n",
    "The model is implemented as a scikit-learn pipeline, stitching together a Binner and the CB regressor estimator. Most natably, we reduce the number of used bins in all continuous features to 10 instead of 100, should be plenty."
   ]
  },
  {
   "cell_type": "code",
   "execution_count": 7,
   "id": "4e215efb-0b40-491c-b58e-69f7ec39610a",
   "metadata": {
    "tags": []
   },
   "outputs": [
    {
     "data": {
      "text/html": [
       "<style>#sk-container-id-1 {color: black;}#sk-container-id-1 pre{padding: 0;}#sk-container-id-1 div.sk-toggleable {background-color: white;}#sk-container-id-1 label.sk-toggleable__label {cursor: pointer;display: block;width: 100%;margin-bottom: 0;padding: 0.3em;box-sizing: border-box;text-align: center;}#sk-container-id-1 label.sk-toggleable__label-arrow:before {content: \"▸\";float: left;margin-right: 0.25em;color: #696969;}#sk-container-id-1 label.sk-toggleable__label-arrow:hover:before {color: black;}#sk-container-id-1 div.sk-estimator:hover label.sk-toggleable__label-arrow:before {color: black;}#sk-container-id-1 div.sk-toggleable__content {max-height: 0;max-width: 0;overflow: hidden;text-align: left;background-color: #f0f8ff;}#sk-container-id-1 div.sk-toggleable__content pre {margin: 0.2em;color: black;border-radius: 0.25em;background-color: #f0f8ff;}#sk-container-id-1 input.sk-toggleable__control:checked~div.sk-toggleable__content {max-height: 200px;max-width: 100%;overflow: auto;}#sk-container-id-1 input.sk-toggleable__control:checked~label.sk-toggleable__label-arrow:before {content: \"▾\";}#sk-container-id-1 div.sk-estimator input.sk-toggleable__control:checked~label.sk-toggleable__label {background-color: #d4ebff;}#sk-container-id-1 div.sk-label input.sk-toggleable__control:checked~label.sk-toggleable__label {background-color: #d4ebff;}#sk-container-id-1 input.sk-hidden--visually {border: 0;clip: rect(1px 1px 1px 1px);clip: rect(1px, 1px, 1px, 1px);height: 1px;margin: -1px;overflow: hidden;padding: 0;position: absolute;width: 1px;}#sk-container-id-1 div.sk-estimator {font-family: monospace;background-color: #f0f8ff;border: 1px dotted black;border-radius: 0.25em;box-sizing: border-box;margin-bottom: 0.5em;}#sk-container-id-1 div.sk-estimator:hover {background-color: #d4ebff;}#sk-container-id-1 div.sk-parallel-item::after {content: \"\";width: 100%;border-bottom: 1px solid gray;flex-grow: 1;}#sk-container-id-1 div.sk-label:hover label.sk-toggleable__label {background-color: #d4ebff;}#sk-container-id-1 div.sk-serial::before {content: \"\";position: absolute;border-left: 1px solid gray;box-sizing: border-box;top: 0;bottom: 0;left: 50%;z-index: 0;}#sk-container-id-1 div.sk-serial {display: flex;flex-direction: column;align-items: center;background-color: white;padding-right: 0.2em;padding-left: 0.2em;position: relative;}#sk-container-id-1 div.sk-item {position: relative;z-index: 1;}#sk-container-id-1 div.sk-parallel {display: flex;align-items: stretch;justify-content: center;background-color: white;position: relative;}#sk-container-id-1 div.sk-item::before, #sk-container-id-1 div.sk-parallel-item::before {content: \"\";position: absolute;border-left: 1px solid gray;box-sizing: border-box;top: 0;bottom: 0;left: 50%;z-index: -1;}#sk-container-id-1 div.sk-parallel-item {display: flex;flex-direction: column;z-index: 1;position: relative;background-color: white;}#sk-container-id-1 div.sk-parallel-item:first-child::after {align-self: flex-end;width: 50%;}#sk-container-id-1 div.sk-parallel-item:last-child::after {align-self: flex-start;width: 50%;}#sk-container-id-1 div.sk-parallel-item:only-child::after {width: 0;}#sk-container-id-1 div.sk-dashed-wrapped {border: 1px dashed gray;margin: 0 0.4em 0.5em 0.4em;box-sizing: border-box;padding-bottom: 0.4em;background-color: white;}#sk-container-id-1 div.sk-label label {font-family: monospace;font-weight: bold;display: inline-block;line-height: 1.2em;}#sk-container-id-1 div.sk-label-container {text-align: center;}#sk-container-id-1 div.sk-container {/* jupyter's `normalize.less` sets `[hidden] { display: none; }` but bootstrap.min.css set `[hidden] { display: none !important; }` so we also need the `!important` here to be able to override the default hidden behavior on the sphinx rendered scikit-learn.org. See: https://github.com/scikit-learn/scikit-learn/issues/21755 */display: inline-block !important;position: relative;}#sk-container-id-1 div.sk-text-repr-fallback {display: none;}</style><div id=\"sk-container-id-1\" class=\"sk-top-container\"><div class=\"sk-text-repr-fallback\"><pre>Pipeline(steps=[(&#x27;binning&#x27;,\n",
       "                 BinNumberTransformer(feature_properties={&#x27;L_ID&#x27;: 4,\n",
       "                                                          &#x27;PG_ID_3&#x27;: 4,\n",
       "                                                          &#x27;PROMOTION_TYPE&#x27;: 2,\n",
       "                                                          &#x27;P_ID&#x27;: 4,\n",
       "                                                          &#x27;dayofweek&#x27;: 2,\n",
       "                                                          &#x27;dayofyear&#x27;: 257,\n",
       "                                                          &#x27;price_ratio&#x27;: 49})),\n",
       "                (&#x27;CB&#x27;,\n",
       "                 CBNBinomRegressor(feature_groups=[&#x27;dayofweek&#x27;, &#x27;L_ID&#x27;,\n",
       "                                                   &#x27;PG_ID_3&#x27;, &#x27;P_ID&#x27;,\n",
       "                                                   &#x27;PROMOTION_TYPE&#x27;,\n",
       "                                                   &#x27;price_ratio&#x27;, &#x27;dayofyear&#x27;,\n",
       "                                                   (&#x27;P_ID&#x27;, &#x27;PG_ID_3&#x27;)],\n",
       "                                   feature_properties={&#x27;L_ID&#x27;: 4, &#x27;PG_ID_3&#x27;: 4,\n",
       "                                                       &#x27;PR...\n",
       "                                                       &#x27;dayofyear&#x27;: 257,\n",
       "                                                       &#x27;price_ratio&#x27;: 49},\n",
       "                                   learn_rate=&lt;function half_linear_learn_rate at 0x7fc92bb83be0&gt;,\n",
       "                                   maximal_iterations=50,\n",
       "                                   observers=[&lt;cyclic_boosting.observers.PlottingObserver object at 0x7fc929a83160&gt;,\n",
       "                                              &lt;cyclic_boosting.observers.PlottingObserver object at 0x7fc929a83bb0&gt;],\n",
       "                                   smoother_choice=&lt;cyclic_boosting.common_smoothers.SmootherChoiceGroupBy object at 0x7fc988370430&gt;))])</pre><b>In a Jupyter environment, please rerun this cell to show the HTML representation or trust the notebook. <br />On GitHub, the HTML representation is unable to render, please try loading this page with nbviewer.org.</b></div><div class=\"sk-container\" hidden><div class=\"sk-item sk-dashed-wrapped\"><div class=\"sk-label-container\"><div class=\"sk-label sk-toggleable\"><input class=\"sk-toggleable__control sk-hidden--visually\" id=\"sk-estimator-id-1\" type=\"checkbox\" ><label for=\"sk-estimator-id-1\" class=\"sk-toggleable__label sk-toggleable__label-arrow\">Pipeline</label><div class=\"sk-toggleable__content\"><pre>Pipeline(steps=[(&#x27;binning&#x27;,\n",
       "                 BinNumberTransformer(feature_properties={&#x27;L_ID&#x27;: 4,\n",
       "                                                          &#x27;PG_ID_3&#x27;: 4,\n",
       "                                                          &#x27;PROMOTION_TYPE&#x27;: 2,\n",
       "                                                          &#x27;P_ID&#x27;: 4,\n",
       "                                                          &#x27;dayofweek&#x27;: 2,\n",
       "                                                          &#x27;dayofyear&#x27;: 257,\n",
       "                                                          &#x27;price_ratio&#x27;: 49})),\n",
       "                (&#x27;CB&#x27;,\n",
       "                 CBNBinomRegressor(feature_groups=[&#x27;dayofweek&#x27;, &#x27;L_ID&#x27;,\n",
       "                                                   &#x27;PG_ID_3&#x27;, &#x27;P_ID&#x27;,\n",
       "                                                   &#x27;PROMOTION_TYPE&#x27;,\n",
       "                                                   &#x27;price_ratio&#x27;, &#x27;dayofyear&#x27;,\n",
       "                                                   (&#x27;P_ID&#x27;, &#x27;PG_ID_3&#x27;)],\n",
       "                                   feature_properties={&#x27;L_ID&#x27;: 4, &#x27;PG_ID_3&#x27;: 4,\n",
       "                                                       &#x27;PR...\n",
       "                                                       &#x27;dayofyear&#x27;: 257,\n",
       "                                                       &#x27;price_ratio&#x27;: 49},\n",
       "                                   learn_rate=&lt;function half_linear_learn_rate at 0x7fc92bb83be0&gt;,\n",
       "                                   maximal_iterations=50,\n",
       "                                   observers=[&lt;cyclic_boosting.observers.PlottingObserver object at 0x7fc929a83160&gt;,\n",
       "                                              &lt;cyclic_boosting.observers.PlottingObserver object at 0x7fc929a83bb0&gt;],\n",
       "                                   smoother_choice=&lt;cyclic_boosting.common_smoothers.SmootherChoiceGroupBy object at 0x7fc988370430&gt;))])</pre></div></div></div><div class=\"sk-serial\"><div class=\"sk-item\"><div class=\"sk-estimator sk-toggleable\"><input class=\"sk-toggleable__control sk-hidden--visually\" id=\"sk-estimator-id-2\" type=\"checkbox\" ><label for=\"sk-estimator-id-2\" class=\"sk-toggleable__label sk-toggleable__label-arrow\">BinNumberTransformer</label><div class=\"sk-toggleable__content\"><pre>BinNumberTransformer(feature_properties={&#x27;L_ID&#x27;: 4, &#x27;PG_ID_3&#x27;: 4,\n",
       "                                         &#x27;PROMOTION_TYPE&#x27;: 2, &#x27;P_ID&#x27;: 4,\n",
       "                                         &#x27;dayofweek&#x27;: 2, &#x27;dayofyear&#x27;: 257,\n",
       "                                         &#x27;price_ratio&#x27;: 49})</pre></div></div></div><div class=\"sk-item\"><div class=\"sk-estimator sk-toggleable\"><input class=\"sk-toggleable__control sk-hidden--visually\" id=\"sk-estimator-id-3\" type=\"checkbox\" ><label for=\"sk-estimator-id-3\" class=\"sk-toggleable__label sk-toggleable__label-arrow\">CBNBinomRegressor</label><div class=\"sk-toggleable__content\"><pre>CBNBinomRegressor(feature_groups=[&#x27;dayofweek&#x27;, &#x27;L_ID&#x27;, &#x27;PG_ID_3&#x27;, &#x27;P_ID&#x27;,\n",
       "                                  &#x27;PROMOTION_TYPE&#x27;, &#x27;price_ratio&#x27;, &#x27;dayofyear&#x27;,\n",
       "                                  (&#x27;P_ID&#x27;, &#x27;PG_ID_3&#x27;)],\n",
       "                  feature_properties={&#x27;L_ID&#x27;: 4, &#x27;PG_ID_3&#x27;: 4,\n",
       "                                      &#x27;PROMOTION_TYPE&#x27;: 2, &#x27;P_ID&#x27;: 4,\n",
       "                                      &#x27;dayofweek&#x27;: 2, &#x27;dayofyear&#x27;: 257,\n",
       "                                      &#x27;price_ratio&#x27;: 49},\n",
       "                  learn_rate=&lt;function half_linear_learn_rate at 0x7fc92bb83be0&gt;,\n",
       "                  maximal_iterations=50,\n",
       "                  observers=[&lt;cyclic_boosting.observers.PlottingObserver object at 0x7fc929a83160&gt;,\n",
       "                             &lt;cyclic_boosting.observers.PlottingObserver object at 0x7fc929a83bb0&gt;],\n",
       "                  smoother_choice=&lt;cyclic_boosting.common_smoothers.SmootherChoiceGroupBy object at 0x7fc988370430&gt;)</pre></div></div></div></div></div></div></div>"
      ],
      "text/plain": [
       "Pipeline(steps=[('binning',\n",
       "                 BinNumberTransformer(feature_properties={'L_ID': 4,\n",
       "                                                          'PG_ID_3': 4,\n",
       "                                                          'PROMOTION_TYPE': 2,\n",
       "                                                          'P_ID': 4,\n",
       "                                                          'dayofweek': 2,\n",
       "                                                          'dayofyear': 257,\n",
       "                                                          'price_ratio': 49})),\n",
       "                ('CB',\n",
       "                 CBNBinomRegressor(feature_groups=['dayofweek', 'L_ID',\n",
       "                                                   'PG_ID_3', 'P_ID',\n",
       "                                                   'PROMOTION_TYPE',\n",
       "                                                   'price_ratio', 'dayofyear',\n",
       "                                                   ('P_ID', 'PG_ID_3')],\n",
       "                                   feature_properties={'L_ID': 4, 'PG_ID_3': 4,\n",
       "                                                       'PR...\n",
       "                                                       'dayofyear': 257,\n",
       "                                                       'price_ratio': 49},\n",
       "                                   learn_rate=<function half_linear_learn_rate at 0x7fc92bb83be0>,\n",
       "                                   maximal_iterations=50,\n",
       "                                   observers=[<cyclic_boosting.observers.PlottingObserver object at 0x7fc929a83160>,\n",
       "                                              <cyclic_boosting.observers.PlottingObserver object at 0x7fc929a83bb0>],\n",
       "                                   smoother_choice=<cyclic_boosting.common_smoothers.SmootherChoiceGroupBy object at 0x7fc988370430>))])"
      ]
     },
     "execution_count": 7,
     "metadata": {},
     "output_type": "execute_result"
    }
   ],
   "source": [
    "def cb_poisson_regressor_model():\n",
    "    explicit_smoothers = {\n",
    "        (\"dayofyear\",): SeasonalSmoother(order=3),\n",
    "        (\"price_ratio\",): IsotonicRegressor(increasing=False),\n",
    "    }\n",
    "\n",
    "    plobs = [\n",
    "        observers.PlottingObserver(iteration=1),\n",
    "        observers.PlottingObserver(iteration=-1),\n",
    "    ]\n",
    "\n",
    "    CB_pipeline = pipeline_CBNBinomRegressor(\n",
    "        feature_properties=feature_properties,\n",
    "        feature_groups=features,\n",
    "        observers=plobs,\n",
    "        maximal_iterations=50,\n",
    "        smoother_choice=common_smoothers.SmootherChoiceGroupBy(\n",
    "            use_regression_type=True,\n",
    "            use_normalization=False,\n",
    "            explicit_smoothers=explicit_smoothers,\n",
    "        ),\n",
    "    )\n",
    "\n",
    "    return CB_pipeline\n",
    "\n",
    "\n",
    "cb_poisson_regressor_model()"
   ]
  },
  {
   "cell_type": "markdown",
   "id": "2676f2d3-0ac0-4ca7-b5e2-f8b36c6295c9",
   "metadata": {},
   "source": [
    "# The training"
   ]
  },
  {
   "cell_type": "code",
   "execution_count": 13,
   "id": "f51b1670-71ed-4d5d-b8d8-1d40dda8e2e1",
   "metadata": {
    "tags": []
   },
   "outputs": [
    {
     "name": "stderr",
     "output_type": "stream",
     "text": [
      "WARNING:cyclic_boosting.binning._utils:Column 'PG_ID_2' not found in feature_properties dict.\n",
      "WARNING:cyclic_boosting.binning._utils:Column 'PG_ID_1' not found in feature_properties dict.\n",
      "WARNING:cyclic_boosting.binning._utils:Column 'NORMAL_PRICE' not found in feature_properties dict.\n",
      "WARNING:cyclic_boosting.binning._utils:Column 'SALES_AREA' not found in feature_properties dict.\n",
      "WARNING:cyclic_boosting.binning._utils:Column 'DATE' not found in feature_properties dict.\n"
     ]
    },
    {
     "name": "stderr",
     "output_type": "stream",
     "text": [
      "WARNING:cyclic_boosting.binning._utils:Column 'SCHOOL_HOLIDAY' not found in feature_properties dict.\n",
      "WARNING:cyclic_boosting.binning._utils:Column 'EVENT' not found in feature_properties dict.\n",
      "WARNING:cyclic_boosting.binning._utils:Column 'SALES_PRICE' not found in feature_properties dict.\n",
      "WARNING:cyclic_boosting.binning._utils:Column 'LAMBDA' not found in feature_properties dict.\n"
     ]
    },
    {
     "name": "stdout",
     "output_type": "stream",
     "text": [
      "Pipeline(steps=[('binning',\n",
      "                 BinNumberTransformer(feature_properties={'L_ID': 4,\n",
      "                                                          'PG_ID_3': 4,\n",
      "                                                          'PROMOTION_TYPE': 2,\n",
      "                                                          'P_ID': 4,\n",
      "                                                          'dayofweek': 2,\n",
      "                                                          'dayofyear': 257,\n",
      "                                                          'price_ratio': 49})),\n",
      "                ('CB',\n",
      "                 CBNBinomRegressor(feature_groups=['dayofweek', 'L_ID',\n",
      "                                                   'PG_ID_3', 'P_ID',\n",
      "                                                   'PROMOTION_TYPE',\n",
      "                                                   'price_ratio', 'dayofyear',\n",
      "                                                   ('P_ID', 'PG_ID_3')],\n",
      "                                   feature_properties={'L_ID': 4, 'PG_ID_3': 4,\n",
      "                                                       'PR...\n",
      "                                                       'dayofyear': 257,\n",
      "                                                       'price_ratio': 49},\n",
      "                                   learn_rate=<function half_linear_learn_rate at 0x7fc92bb83be0>,\n",
      "                                   maximal_iterations=50,\n",
      "                                   observers=[<cyclic_boosting.observers.PlottingObserver object at 0x7fc988371690>,\n",
      "                                              <cyclic_boosting.observers.PlottingObserver object at 0x7fc988371600>],\n",
      "                                   smoother_choice=<cyclic_boosting.common_smoothers.SmootherChoiceGroupBy object at 0x7fc98cf89ed0>))])\n"
     ]
    }
   ],
   "source": [
    "X, y = prepare_data(df)\n",
    "\n",
    "CB_est = cb_poisson_regressor_model()\n",
    "print(CB_est)\n",
    "_ = CB_est.fit(X.copy(), y)"
   ]
  },
  {
   "cell_type": "markdown",
   "id": "accfa280-4f8a-4cd3-8e72-8fed86027384",
   "metadata": {},
   "source": [
    "## Evaluation\n",
    "\n",
    "Now we can do the inference for all samples."
   ]
  },
  {
   "cell_type": "code",
   "execution_count": 9,
   "id": "8d04b5e3-e6c9-41e2-a0c6-c768d124424b",
   "metadata": {
    "tags": []
   },
   "outputs": [],
   "source": [
    "yhat = CB_est.predict(X.copy())"
   ]
  },
  {
   "cell_type": "markdown",
   "id": "eecce5a6-04c6-4632-99a4-e4da68029031",
   "metadata": {},
   "source": [
    "With this we can calculate the mean absolute deviation"
   ]
  },
  {
   "cell_type": "code",
   "execution_count": 10,
   "id": "e8a3894d-54b8-4544-8024-4355949e33cd",
   "metadata": {
    "tags": []
   },
   "outputs": [
    {
     "data": {
      "text/plain": [
       "1.7084460715918635"
      ]
     },
     "execution_count": 10,
     "metadata": {},
     "output_type": "execute_result"
    }
   ],
   "source": [
    "mad = np.nanmean(np.abs(y - yhat))\n",
    "mad"
   ]
  },
  {
   "cell_type": "markdown",
   "id": "cec052aa-622a-431e-8874-bff6de8c5124",
   "metadata": {},
   "source": [
    "# Some nice plots\n",
    "\n",
    "Cyclic Boosting has some useful reporting of the traning included. We can create a pdf with this code"
   ]
  },
  {
   "cell_type": "code",
   "execution_count": 11,
   "id": "145d75e4-aabe-4f7a-89fc-12d4df8c72e8",
   "metadata": {
    "id": "145d75e4-aabe-4f7a-89fc-12d4df8c72e8",
    "tags": []
   },
   "outputs": [],
   "source": [
    "def plot_CB(filename, plobs, binner):\n",
    "    for i, p in enumerate(plobs):\n",
    "        plot_analysis(\n",
    "            plot_observer=p,\n",
    "            file_obj=filename + \"_{}\".format(i),\n",
    "            use_tightlayout=False,\n",
    "            binners=[binner],\n",
    "        )"
   ]
  },
  {
   "cell_type": "code",
   "execution_count": 12,
   "id": "e6bd7d19-4320-4666-9554-99587b1dc63e",
   "metadata": {
    "colab": {
     "base_uri": "https://localhost:8080/"
    },
    "id": "c802821e-3973-42be-83dc-50e9337b2210",
    "outputId": "77429d43-4b83-40ae-9fd8-04bbd2595711",
    "tags": []
   },
   "outputs": [],
   "source": [
    "plot_CB(\"analysis_CB_iterlast\", [CB_est[-1].observers[-1]], CB_est[-2])"
   ]
  }
 ],
 "metadata": {
  "colab": {
   "provenance": []
  },
  "kernelspec": {
   "display_name": "Python 3 (ipykernel)",
   "language": "python",
   "name": "python3"
  },
  "language_info": {
   "codemirror_mode": {
    "name": "ipython",
    "version": 3
   },
   "file_extension": ".py",
   "mimetype": "text/x-python",
   "name": "python",
   "nbconvert_exporter": "python",
   "pygments_lexer": "ipython3",
   "version": "3.10.11"
  }
 },
 "nbformat": 4,
 "nbformat_minor": 5
}

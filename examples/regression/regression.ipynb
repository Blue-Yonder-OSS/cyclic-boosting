{
 "cells": [
  {
   "cell_type": "markdown",
   "id": "e4f6005c-1e82-45cc-9013-fa89752acadf",
   "metadata": {
    "id": "e4f6005c-1e82-45cc-9013-fa89752acadf"
   },
   "source": [
    "# Classification using Cyclic Boosting"
   ]
  },
  {
   "cell_type": "markdown",
   "id": "4ee82ebe-8aa4-49ee-a84b-2a9aed8868c3",
   "metadata": {
    "colab": {
     "base_uri": "https://localhost:8080/"
    },
    "id": "Q8nS3cek3utK",
    "outputId": "e7b226b6-9dc5-4896-8066-8d105725fdd0"
   },
   "source": [
    "First, install the  package and its dependencies\n",
    "\n",
    "```sh\n",
    "!pip install cyclic-boosting\n",
    "```"
   ]
  },
  {
   "cell_type": "code",
   "execution_count": null,
   "id": "0925b449-29d9-4ecc-aa65-bdc6da4b9627",
   "metadata": {
    "tags": []
   },
   "outputs": [],
   "source": [
    "# Optional formatting if juypter-black is installed\n",
    "try:\n",
    "    import jupyter_black\n",
    "\n",
    "    jupyter_black.load(line_length=80)\n",
    "except ImportError:\n",
    "    ..."
   ]
  },
  {
   "cell_type": "code",
   "execution_count": null,
   "id": "d032f099-abc3-414f-957d-bf915cd2bd4e",
   "metadata": {
    "id": "d032f099-abc3-414f-957d-bf915cd2bd4e",
    "tags": []
   },
   "outputs": [],
   "source": [
    "import pandas as pd\n",
    "import numpy as np\n",
    "\n",
    "\n",
    "from sklearn.preprocessing import OrdinalEncoder\n",
    "from sklearn.pipeline import Pipeline\n",
    "\n",
    "from cyclic_boosting import flags, common_smoothers, observers, binning\n",
    "from cyclic_boosting.plots import plot_analysis\n",
    "from cyclic_boosting.pipelines import pipeline_CBPoissonRegressor\n",
    "\n",
    "from cyclic_boosting.smoothing.onedim import SeasonalSmoother, IsotonicRegressor"
   ]
  },
  {
   "cell_type": "markdown",
   "id": "f795a87a-df58-4b1a-8717-b95203fd65cd",
   "metadata": {},
   "source": [
    "Let's load the adult census income dataset from OpenML"
   ]
  },
  {
   "cell_type": "code",
   "execution_count": null,
   "id": "7c39b738-890f-45d0-b015-cc0a2306dc24",
   "metadata": {
    "id": "7c39b738-890f-45d0-b015-cc0a2306dc24",
    "tags": []
   },
   "outputs": [],
   "source": [
    "import urllib.request\n",
    "\n",
    "urllib.request.urlretrieve(\n",
    "    \"https://raw.githubusercontent.com/Blue-Yonder-OSS/\" \"cyclic-boosting/main/tests/integration_test_data.csv\",\n",
    "    \"data.csv\",\n",
    ")\n",
    "\n",
    "df = pd.read_csv(\"data.csv\")"
   ]
  },
  {
   "cell_type": "code",
   "execution_count": null,
   "id": "e8692944-7695-4823-82ef-fb2a22a399a6",
   "metadata": {
    "tags": []
   },
   "outputs": [],
   "source": [
    "df.head()"
   ]
  },
  {
   "cell_type": "markdown",
   "id": "dd3c297c-f74e-4c33-a299-b6d98bf13a13",
   "metadata": {},
   "source": [
    "# Prepare the data\n",
    "\n",
    "The data has to be prepared for the training. We want to convert the categorical variables into numerical values using the scikit-learn OrdinalEncoder (guess, who contributed this 😜)."
   ]
  },
  {
   "cell_type": "code",
   "execution_count": null,
   "id": "08abb1cb-0861-4efd-8c44-9f8b8e1db4e3",
   "metadata": {
    "tags": []
   },
   "outputs": [],
   "source": [
    "def prepare_data(df):\n",
    "    df[\"DATE\"] = pd.to_datetime(df[\"DATE\"])\n",
    "    df[\"dayofweek\"] = df[\"DATE\"].dt.dayofweek\n",
    "    df[\"dayofyear\"] = df[\"DATE\"].dt.dayofyear\n",
    "\n",
    "    df[\"price_ratio\"] = df[\"SALES_PRICE\"] / df[\"NORMAL_PRICE\"]\n",
    "    df[\"price_ratio\"].fillna(1, inplace=True)\n",
    "    df[\"price_ratio\"].clip(0, 1, inplace=True)\n",
    "    df.loc[df[\"price_ratio\"] == 1.0, \"price_ratio\"] = np.nan\n",
    "\n",
    "    enc = OrdinalEncoder(handle_unknown=\"use_encoded_value\", unknown_value=np.nan)\n",
    "    df[[\"L_ID\", \"P_ID\", \"PG_ID_3\"]] = enc.fit_transform(df[[\"L_ID\", \"P_ID\", \"PG_ID_3\"]])\n",
    "\n",
    "    y = np.asarray(df[\"SALES\"])\n",
    "    X = df.drop(columns=\"SALES\")\n",
    "    return X, y"
   ]
  },
  {
   "cell_type": "markdown",
   "id": "c7a45753-d0eb-4e26-8ceb-01c8df2a64a1",
   "metadata": {},
   "source": [
    "# Set the feature properties\n",
    "\n",
    "We need to tell Cyclic Boosting which feature to use and what type of feature these are and how to handle them.\n",
    "\n",
    "We want the continuous features be `IS_CONTINUOUS` with missing values (very handy, isn't it 😎) and the categorical features to be treated as unordered classes (no neighboring relation as in weekdays for example).\n",
    "\n",
    "Note: there is next to no feature engineering done here deliberately. Checking the feature carefully, there can be potentially improved a lot by treating the features individually and maybe even combing them into 2D features (see documentation). We just want to get it up-and-running here."
   ]
  },
  {
   "cell_type": "code",
   "execution_count": null,
   "id": "G2BHuKj8Z4vM",
   "metadata": {
    "id": "G2BHuKj8Z4vM",
    "tags": []
   },
   "outputs": [],
   "source": [
    "feature_properties = {\n",
    "    \"P_ID\": flags.IS_UNORDERED,\n",
    "    \"PG_ID_3\": flags.IS_UNORDERED,\n",
    "    \"L_ID\": flags.IS_UNORDERED,\n",
    "    \"dayofweek\": flags.IS_ORDERED,\n",
    "    \"dayofyear\": flags.IS_CONTINUOUS | flags.IS_LINEAR,\n",
    "    \"price_ratio\": flags.IS_CONTINUOUS | flags.HAS_MISSING | flags.MISSING_NOT_LEARNED,\n",
    "    \"PROMOTION_TYPE\": flags.IS_ORDERED,\n",
    "}\n",
    "\n",
    "features = [\n",
    "    \"dayofweek\",\n",
    "    \"L_ID\",\n",
    "    \"PG_ID_3\",\n",
    "    \"P_ID\",\n",
    "    \"PROMOTION_TYPE\",\n",
    "    \"price_ratio\",\n",
    "    \"dayofyear\",\n",
    "    (\"P_ID\", \"L_ID\"),\n",
    "]"
   ]
  },
  {
   "cell_type": "markdown",
   "id": "5e3ba048-3483-45f1-b0e8-b4d984ca797e",
   "metadata": {},
   "source": [
    "# Build the model\n",
    "\n",
    "The model is implemented as a scikit-learn pipeline, stitching together a Binner and the CB classifier estimator. Most natably, we reduce the number of used bins in all continuous features to 10 instead of 100, should be plenty."
   ]
  },
  {
   "cell_type": "code",
   "execution_count": null,
   "id": "4e215efb-0b40-491c-b58e-69f7ec39610a",
   "metadata": {
    "tags": []
   },
   "outputs": [],
   "source": [
    "def cb_poisson_regressor_model():\n",
    "    explicit_smoothers = {\n",
    "        (\"dayofyear\",): SeasonalSmoother(order=3),\n",
    "        (\"price_ratio\",): IsotonicRegressor(increasing=False),\n",
    "    }\n",
    "\n",
    "    plobs = [\n",
    "        observers.PlottingObserver(iteration=1),\n",
    "        observers.PlottingObserver(iteration=-1),\n",
    "    ]\n",
    "\n",
    "    CB_pipeline = pipeline_CBPoissonRegressor(\n",
    "        feature_properties=feature_properties,\n",
    "        feature_groups=features,\n",
    "        observers=plobs,\n",
    "        maximal_iterations=50,\n",
    "        smoother_choice=common_smoothers.SmootherChoiceGroupBy(\n",
    "            use_regression_type=True,\n",
    "            use_normalization=False,\n",
    "            explicit_smoothers=explicit_smoothers,\n",
    "        ),\n",
    "    )\n",
    "\n",
    "    return CB_pipeline\n",
    "\n",
    "\n",
    "cb_poisson_regressor_model()"
   ]
  },
  {
   "cell_type": "markdown",
   "id": "2676f2d3-0ac0-4ca7-b5e2-f8b36c6295c9",
   "metadata": {},
   "source": [
    "# The training"
   ]
  },
  {
   "cell_type": "code",
   "execution_count": null,
   "id": "f51b1670-71ed-4d5d-b8d8-1d40dda8e2e1",
   "metadata": {
    "tags": []
   },
   "outputs": [],
   "source": [
    "X, y = prepare_data(df)\n",
    "\n",
    "CB_est = cb_poisson_regressor_model()\n",
    "_ = CB_est.fit(X.copy(), y)"
   ]
  },
  {
   "cell_type": "markdown",
   "id": "accfa280-4f8a-4cd3-8e72-8fed86027384",
   "metadata": {},
   "source": [
    "## Evaluation\n",
    "\n",
    "Now we can do the inference for all samples. Note that we get proper probabilities for all target categories using predict_proba, which is really nice! "
   ]
  },
  {
   "cell_type": "code",
   "execution_count": null,
   "id": "8d04b5e3-e6c9-41e2-a0c6-c768d124424b",
   "metadata": {
    "tags": []
   },
   "outputs": [],
   "source": [
    "yhat = CB_est.predict(X.copy())"
   ]
  },
  {
   "cell_type": "markdown",
   "id": "eecce5a6-04c6-4632-99a4-e4da68029031",
   "metadata": {},
   "source": [
    "With this we can calculate the mean absolute deviation"
   ]
  },
  {
   "cell_type": "code",
   "execution_count": null,
   "id": "e8a3894d-54b8-4544-8024-4355949e33cd",
   "metadata": {
    "tags": []
   },
   "outputs": [],
   "source": [
    "mad = np.nanmean(np.abs(y - yhat))\n",
    "mad"
   ]
  },
  {
   "cell_type": "markdown",
   "id": "cec052aa-622a-431e-8874-bff6de8c5124",
   "metadata": {},
   "source": [
    "# Some nice plots\n",
    "\n",
    "Cyclic Boosting has some useful reporting of the traning included. We can create a pdf with this code"
   ]
  },
  {
   "cell_type": "code",
   "execution_count": null,
   "id": "145d75e4-aabe-4f7a-89fc-12d4df8c72e8",
   "metadata": {
    "id": "145d75e4-aabe-4f7a-89fc-12d4df8c72e8",
    "tags": []
   },
   "outputs": [],
   "source": [
    "def plot_CB(filename, plobs, binner):\n",
    "    for i, p in enumerate(plobs):\n",
    "        plot_analysis(\n",
    "            plot_observer=p,\n",
    "            file_obj=filename + \"_{}\".format(i),\n",
    "            use_tightlayout=False,\n",
    "            binners=[binner],\n",
    "        )"
   ]
  },
  {
   "cell_type": "code",
   "execution_count": null,
   "id": "e6bd7d19-4320-4666-9554-99587b1dc63e",
   "metadata": {
    "colab": {
     "base_uri": "https://localhost:8080/"
    },
    "id": "c802821e-3973-42be-83dc-50e9337b2210",
    "outputId": "77429d43-4b83-40ae-9fd8-04bbd2595711",
    "tags": []
   },
   "outputs": [],
   "source": [
    "plot_CB(\"analysis_CB_iterlast\", [CB_est[-1].observers[-1]], CB_est[-2])"
   ]
  }
 ],
 "metadata": {
  "colab": {
   "provenance": []
  },
  "kernelspec": {
   "display_name": "Python 3 (ipykernel)",
   "language": "python",
   "name": "python3"
  },
  "language_info": {
   "codemirror_mode": {
    "name": "ipython",
    "version": 3
   },
   "file_extension": ".py",
   "mimetype": "text/x-python",
   "name": "python",
   "nbconvert_exporter": "python",
   "pygments_lexer": "ipython3",
   "version": "3.8.5"
  }
 },
 "nbformat": 4,
 "nbformat_minor": 5
}

{
 "cells": [
  {
   "cell_type": "markdown",
   "id": "e4f6005c-1e82-45cc-9013-fa89752acadf",
   "metadata": {
    "id": "e4f6005c-1e82-45cc-9013-fa89752acadf"
   },
   "source": [
    "# Classification using Cyclic Boosting"
   ]
  },
  {
   "cell_type": "markdown",
   "id": "4ee82ebe-8aa4-49ee-a84b-2a9aed8868c3",
   "metadata": {
    "colab": {
     "base_uri": "https://localhost:8080/"
    },
    "id": "Q8nS3cek3utK",
    "outputId": "e7b226b6-9dc5-4896-8066-8d105725fdd0"
   },
   "source": [
    "First, install the  package and its dependencies\n",
    "\n",
    "```sh\n",
    "!pip install cyclic-boosting\n",
    "```"
   ]
  },
  {
   "cell_type": "code",
   "execution_count": 1,
   "id": "0925b449-29d9-4ecc-aa65-bdc6da4b9627",
   "metadata": {
    "tags": [],
    "ExecuteTime": {
     "end_time": "2023-07-30T07:53:04.313195Z",
     "start_time": "2023-07-30T07:53:03.173592Z"
    }
   },
   "outputs": [
    {
     "data": {
      "text/plain": "<IPython.core.display.HTML object>",
      "text/html": "\n                <script type=\"application/javascript\" id=\"jupyter_black\">\n                (function() {\n                    if (window.IPython === undefined) {\n                        return\n                    }\n                    var msg = \"WARNING: it looks like you might have loaded \" +\n                        \"jupyter_black in a non-lab notebook with \" +\n                        \"`is_lab=True`. Please double check, and if \" +\n                        \"loading with `%load_ext` please review the README!\"\n                    console.log(msg)\n                    alert(msg)\n                })()\n                </script>\n                "
     },
     "metadata": {},
     "output_type": "display_data"
    }
   ],
   "source": [
    "# Optional formatting if juypter-black is installed\n",
    "try:\n",
    "    import jupyter_black\n",
    "\n",
    "    jupyter_black.load()\n",
    "except ImportError:\n",
    "    ..."
   ]
  },
  {
   "cell_type": "code",
   "execution_count": 49,
   "id": "d032f099-abc3-414f-957d-bf915cd2bd4e",
   "metadata": {
    "id": "d032f099-abc3-414f-957d-bf915cd2bd4e",
    "tags": [],
    "ExecuteTime": {
     "end_time": "2023-07-30T09:31:22.518097Z",
     "start_time": "2023-07-30T09:31:22.504698Z"
    }
   },
   "outputs": [],
   "source": [
    "import pandas as pd\n",
    "import numpy as np\n",
    "\n",
    "\n",
    "from sklearn.preprocessing import OrdinalEncoder\n",
    "\n",
    "from cyclic_boosting import flags, common_smoothers, observers\n",
    "from cyclic_boosting.plots import plot_analysis\n",
    "from cyclic_boosting.pipelines import pipeline_CBClassifier\n",
    "from typing import List, Tuple"
   ]
  },
  {
   "cell_type": "markdown",
   "id": "f795a87a-df58-4b1a-8717-b95203fd65cd",
   "metadata": {},
   "source": [
    "Let's load the adult census income dataset from OpenML"
   ]
  },
  {
   "cell_type": "code",
   "execution_count": 3,
   "id": "7c39b738-890f-45d0-b015-cc0a2306dc24",
   "metadata": {
    "id": "7c39b738-890f-45d0-b015-cc0a2306dc24",
    "tags": [],
    "ExecuteTime": {
     "end_time": "2023-07-30T07:53:16.916236Z",
     "start_time": "2023-07-30T07:53:15.226425Z"
    }
   },
   "outputs": [
    {
     "name": "stderr",
     "output_type": "stream",
     "text": [
      "/Users/luis.ventura/Library/Caches/pypoetry/virtualenvs/cyclic-boosting-aq1wCJ_X-py3.10/lib/python3.10/site-packages/sklearn/datasets/_openml.py:968: FutureWarning: The default value of `parser` will change from `'liac-arff'` to `'auto'` in 1.4. You can set `parser='auto'` to silence this warning. Therefore, an `ImportError` will be raised from 1.4 if the dataset is dense and pandas is not installed. Note that the pandas parser may return different data types. See the Notes Section in fetch_openml's API doc for details.\n",
      "  warn(\n"
     ]
    },
    {
     "data": {
      "text/plain": "        age     workclass    fnlwgt     education  education-num   \n0      25.0       Private  226802.0          11th            7.0  \\\n1      38.0       Private   89814.0       HS-grad            9.0   \n2      28.0     Local-gov  336951.0    Assoc-acdm           12.0   \n3      44.0       Private  160323.0  Some-college           10.0   \n4      18.0           NaN  103497.0  Some-college           10.0   \n...     ...           ...       ...           ...            ...   \n48837  27.0       Private  257302.0    Assoc-acdm           12.0   \n48838  40.0       Private  154374.0       HS-grad            9.0   \n48839  58.0       Private  151910.0       HS-grad            9.0   \n48840  22.0       Private  201490.0       HS-grad            9.0   \n48841  52.0  Self-emp-inc  287927.0       HS-grad            9.0   \n\n           marital-status         occupation relationship   race     sex   \n0           Never-married  Machine-op-inspct    Own-child  Black    Male  \\\n1      Married-civ-spouse    Farming-fishing      Husband  White    Male   \n2      Married-civ-spouse    Protective-serv      Husband  White    Male   \n3      Married-civ-spouse  Machine-op-inspct      Husband  Black    Male   \n4           Never-married                NaN    Own-child  White  Female   \n...                   ...                ...          ...    ...     ...   \n48837  Married-civ-spouse       Tech-support         Wife  White  Female   \n48838  Married-civ-spouse  Machine-op-inspct      Husband  White    Male   \n48839             Widowed       Adm-clerical    Unmarried  White  Female   \n48840       Never-married       Adm-clerical    Own-child  White    Male   \n48841  Married-civ-spouse    Exec-managerial         Wife  White  Female   \n\n       capital-gain  capital-loss  hours-per-week native-country  \n0               0.0           0.0            40.0  United-States  \n1               0.0           0.0            50.0  United-States  \n2               0.0           0.0            40.0  United-States  \n3            7688.0           0.0            40.0  United-States  \n4               0.0           0.0            30.0  United-States  \n...             ...           ...             ...            ...  \n48837           0.0           0.0            38.0  United-States  \n48838           0.0           0.0            40.0  United-States  \n48839           0.0           0.0            40.0  United-States  \n48840           0.0           0.0            20.0  United-States  \n48841       15024.0           0.0            40.0  United-States  \n\n[48842 rows x 14 columns]",
      "text/html": "<div>\n<style scoped>\n    .dataframe tbody tr th:only-of-type {\n        vertical-align: middle;\n    }\n\n    .dataframe tbody tr th {\n        vertical-align: top;\n    }\n\n    .dataframe thead th {\n        text-align: right;\n    }\n</style>\n<table border=\"1\" class=\"dataframe\">\n  <thead>\n    <tr style=\"text-align: right;\">\n      <th></th>\n      <th>age</th>\n      <th>workclass</th>\n      <th>fnlwgt</th>\n      <th>education</th>\n      <th>education-num</th>\n      <th>marital-status</th>\n      <th>occupation</th>\n      <th>relationship</th>\n      <th>race</th>\n      <th>sex</th>\n      <th>capital-gain</th>\n      <th>capital-loss</th>\n      <th>hours-per-week</th>\n      <th>native-country</th>\n    </tr>\n  </thead>\n  <tbody>\n    <tr>\n      <th>0</th>\n      <td>25.0</td>\n      <td>Private</td>\n      <td>226802.0</td>\n      <td>11th</td>\n      <td>7.0</td>\n      <td>Never-married</td>\n      <td>Machine-op-inspct</td>\n      <td>Own-child</td>\n      <td>Black</td>\n      <td>Male</td>\n      <td>0.0</td>\n      <td>0.0</td>\n      <td>40.0</td>\n      <td>United-States</td>\n    </tr>\n    <tr>\n      <th>1</th>\n      <td>38.0</td>\n      <td>Private</td>\n      <td>89814.0</td>\n      <td>HS-grad</td>\n      <td>9.0</td>\n      <td>Married-civ-spouse</td>\n      <td>Farming-fishing</td>\n      <td>Husband</td>\n      <td>White</td>\n      <td>Male</td>\n      <td>0.0</td>\n      <td>0.0</td>\n      <td>50.0</td>\n      <td>United-States</td>\n    </tr>\n    <tr>\n      <th>2</th>\n      <td>28.0</td>\n      <td>Local-gov</td>\n      <td>336951.0</td>\n      <td>Assoc-acdm</td>\n      <td>12.0</td>\n      <td>Married-civ-spouse</td>\n      <td>Protective-serv</td>\n      <td>Husband</td>\n      <td>White</td>\n      <td>Male</td>\n      <td>0.0</td>\n      <td>0.0</td>\n      <td>40.0</td>\n      <td>United-States</td>\n    </tr>\n    <tr>\n      <th>3</th>\n      <td>44.0</td>\n      <td>Private</td>\n      <td>160323.0</td>\n      <td>Some-college</td>\n      <td>10.0</td>\n      <td>Married-civ-spouse</td>\n      <td>Machine-op-inspct</td>\n      <td>Husband</td>\n      <td>Black</td>\n      <td>Male</td>\n      <td>7688.0</td>\n      <td>0.0</td>\n      <td>40.0</td>\n      <td>United-States</td>\n    </tr>\n    <tr>\n      <th>4</th>\n      <td>18.0</td>\n      <td>NaN</td>\n      <td>103497.0</td>\n      <td>Some-college</td>\n      <td>10.0</td>\n      <td>Never-married</td>\n      <td>NaN</td>\n      <td>Own-child</td>\n      <td>White</td>\n      <td>Female</td>\n      <td>0.0</td>\n      <td>0.0</td>\n      <td>30.0</td>\n      <td>United-States</td>\n    </tr>\n    <tr>\n      <th>...</th>\n      <td>...</td>\n      <td>...</td>\n      <td>...</td>\n      <td>...</td>\n      <td>...</td>\n      <td>...</td>\n      <td>...</td>\n      <td>...</td>\n      <td>...</td>\n      <td>...</td>\n      <td>...</td>\n      <td>...</td>\n      <td>...</td>\n      <td>...</td>\n    </tr>\n    <tr>\n      <th>48837</th>\n      <td>27.0</td>\n      <td>Private</td>\n      <td>257302.0</td>\n      <td>Assoc-acdm</td>\n      <td>12.0</td>\n      <td>Married-civ-spouse</td>\n      <td>Tech-support</td>\n      <td>Wife</td>\n      <td>White</td>\n      <td>Female</td>\n      <td>0.0</td>\n      <td>0.0</td>\n      <td>38.0</td>\n      <td>United-States</td>\n    </tr>\n    <tr>\n      <th>48838</th>\n      <td>40.0</td>\n      <td>Private</td>\n      <td>154374.0</td>\n      <td>HS-grad</td>\n      <td>9.0</td>\n      <td>Married-civ-spouse</td>\n      <td>Machine-op-inspct</td>\n      <td>Husband</td>\n      <td>White</td>\n      <td>Male</td>\n      <td>0.0</td>\n      <td>0.0</td>\n      <td>40.0</td>\n      <td>United-States</td>\n    </tr>\n    <tr>\n      <th>48839</th>\n      <td>58.0</td>\n      <td>Private</td>\n      <td>151910.0</td>\n      <td>HS-grad</td>\n      <td>9.0</td>\n      <td>Widowed</td>\n      <td>Adm-clerical</td>\n      <td>Unmarried</td>\n      <td>White</td>\n      <td>Female</td>\n      <td>0.0</td>\n      <td>0.0</td>\n      <td>40.0</td>\n      <td>United-States</td>\n    </tr>\n    <tr>\n      <th>48840</th>\n      <td>22.0</td>\n      <td>Private</td>\n      <td>201490.0</td>\n      <td>HS-grad</td>\n      <td>9.0</td>\n      <td>Never-married</td>\n      <td>Adm-clerical</td>\n      <td>Own-child</td>\n      <td>White</td>\n      <td>Male</td>\n      <td>0.0</td>\n      <td>0.0</td>\n      <td>20.0</td>\n      <td>United-States</td>\n    </tr>\n    <tr>\n      <th>48841</th>\n      <td>52.0</td>\n      <td>Self-emp-inc</td>\n      <td>287927.0</td>\n      <td>HS-grad</td>\n      <td>9.0</td>\n      <td>Married-civ-spouse</td>\n      <td>Exec-managerial</td>\n      <td>Wife</td>\n      <td>White</td>\n      <td>Female</td>\n      <td>15024.0</td>\n      <td>0.0</td>\n      <td>40.0</td>\n      <td>United-States</td>\n    </tr>\n  </tbody>\n</table>\n<p>48842 rows × 14 columns</p>\n</div>"
     },
     "execution_count": 3,
     "metadata": {},
     "output_type": "execute_result"
    }
   ],
   "source": [
    "from sklearn.datasets import fetch_openml\n",
    "\n",
    "data = fetch_openml(data_id=1590)"
   ]
  },
  {
   "cell_type": "code",
   "execution_count": 29,
   "outputs": [
    {
     "data": {
      "text/plain": "    age  workclass    fnlwgt     education  education-num      marital-status   \n0  25.0    Private  226802.0          11th            7.0       Never-married  \\\n1  38.0    Private   89814.0       HS-grad            9.0  Married-civ-spouse   \n2  28.0  Local-gov  336951.0    Assoc-acdm           12.0  Married-civ-spouse   \n3  44.0    Private  160323.0  Some-college           10.0  Married-civ-spouse   \n4  18.0        NaN  103497.0  Some-college           10.0       Never-married   \n\n          occupation relationship   race     sex  capital-gain  capital-loss   \n0  Machine-op-inspct    Own-child  Black    Male           0.0           0.0  \\\n1    Farming-fishing      Husband  White    Male           0.0           0.0   \n2    Protective-serv      Husband  White    Male           0.0           0.0   \n3  Machine-op-inspct      Husband  Black    Male        7688.0           0.0   \n4                NaN    Own-child  White  Female           0.0           0.0   \n\n   hours-per-week native-country  \n0            40.0  United-States  \n1            50.0  United-States  \n2            40.0  United-States  \n3            40.0  United-States  \n4            30.0  United-States  ",
      "text/html": "<div>\n<style scoped>\n    .dataframe tbody tr th:only-of-type {\n        vertical-align: middle;\n    }\n\n    .dataframe tbody tr th {\n        vertical-align: top;\n    }\n\n    .dataframe thead th {\n        text-align: right;\n    }\n</style>\n<table border=\"1\" class=\"dataframe\">\n  <thead>\n    <tr style=\"text-align: right;\">\n      <th></th>\n      <th>age</th>\n      <th>workclass</th>\n      <th>fnlwgt</th>\n      <th>education</th>\n      <th>education-num</th>\n      <th>marital-status</th>\n      <th>occupation</th>\n      <th>relationship</th>\n      <th>race</th>\n      <th>sex</th>\n      <th>capital-gain</th>\n      <th>capital-loss</th>\n      <th>hours-per-week</th>\n      <th>native-country</th>\n    </tr>\n  </thead>\n  <tbody>\n    <tr>\n      <th>0</th>\n      <td>25.0</td>\n      <td>Private</td>\n      <td>226802.0</td>\n      <td>11th</td>\n      <td>7.0</td>\n      <td>Never-married</td>\n      <td>Machine-op-inspct</td>\n      <td>Own-child</td>\n      <td>Black</td>\n      <td>Male</td>\n      <td>0.0</td>\n      <td>0.0</td>\n      <td>40.0</td>\n      <td>United-States</td>\n    </tr>\n    <tr>\n      <th>1</th>\n      <td>38.0</td>\n      <td>Private</td>\n      <td>89814.0</td>\n      <td>HS-grad</td>\n      <td>9.0</td>\n      <td>Married-civ-spouse</td>\n      <td>Farming-fishing</td>\n      <td>Husband</td>\n      <td>White</td>\n      <td>Male</td>\n      <td>0.0</td>\n      <td>0.0</td>\n      <td>50.0</td>\n      <td>United-States</td>\n    </tr>\n    <tr>\n      <th>2</th>\n      <td>28.0</td>\n      <td>Local-gov</td>\n      <td>336951.0</td>\n      <td>Assoc-acdm</td>\n      <td>12.0</td>\n      <td>Married-civ-spouse</td>\n      <td>Protective-serv</td>\n      <td>Husband</td>\n      <td>White</td>\n      <td>Male</td>\n      <td>0.0</td>\n      <td>0.0</td>\n      <td>40.0</td>\n      <td>United-States</td>\n    </tr>\n    <tr>\n      <th>3</th>\n      <td>44.0</td>\n      <td>Private</td>\n      <td>160323.0</td>\n      <td>Some-college</td>\n      <td>10.0</td>\n      <td>Married-civ-spouse</td>\n      <td>Machine-op-inspct</td>\n      <td>Husband</td>\n      <td>Black</td>\n      <td>Male</td>\n      <td>7688.0</td>\n      <td>0.0</td>\n      <td>40.0</td>\n      <td>United-States</td>\n    </tr>\n    <tr>\n      <th>4</th>\n      <td>18.0</td>\n      <td>NaN</td>\n      <td>103497.0</td>\n      <td>Some-college</td>\n      <td>10.0</td>\n      <td>Never-married</td>\n      <td>NaN</td>\n      <td>Own-child</td>\n      <td>White</td>\n      <td>Female</td>\n      <td>0.0</td>\n      <td>0.0</td>\n      <td>30.0</td>\n      <td>United-States</td>\n    </tr>\n  </tbody>\n</table>\n</div>"
     },
     "execution_count": 29,
     "metadata": {},
     "output_type": "execute_result"
    }
   ],
   "source": [
    "# Read the DataFrame, first using the feature data\n",
    "df = pd.DataFrame(data.data, columns=data.feature_names)  # Add a target column, and fill it with the target data\n",
    "df.head()"
   ],
   "metadata": {
    "collapsed": false,
    "ExecuteTime": {
     "end_time": "2023-07-30T09:13:42.654945Z",
     "start_time": "2023-07-30T09:13:42.644070Z"
    }
   }
  },
  {
   "cell_type": "code",
   "execution_count": 30,
   "outputs": [
    {
     "data": {
      "text/plain": "Index(['age', 'workclass', 'fnlwgt', 'education', 'education-num',\n       'marital-status', 'occupation', 'relationship', 'race', 'sex',\n       'capital-gain', 'capital-loss', 'hours-per-week', 'native-country'],\n      dtype='object')"
     },
     "execution_count": 30,
     "metadata": {},
     "output_type": "execute_result"
    }
   ],
   "source": [
    "df.columns"
   ],
   "metadata": {
    "collapsed": false,
    "ExecuteTime": {
     "end_time": "2023-07-30T09:13:45.126Z",
     "start_time": "2023-07-30T09:13:45.109228Z"
    }
   }
  },
  {
   "cell_type": "code",
   "execution_count": 31,
   "outputs": [],
   "source": [
    "exploration_variables = [\"race\", \"sex\", \"native-country\"]\n",
    "agg_summary = {\n",
    "    key: df.groupby(key).agg({\"age\": \"count\"}).sort_values(by=\"age\", ascending=False).head(+10)\n",
    "    for key in exploration_variables\n",
    "}"
   ],
   "metadata": {
    "collapsed": false,
    "ExecuteTime": {
     "end_time": "2023-07-30T09:16:33.181650Z",
     "start_time": "2023-07-30T09:16:33.167327Z"
    }
   }
  },
  {
   "cell_type": "code",
   "execution_count": 36,
   "outputs": [
    {
     "name": "stdout",
     "output_type": "stream",
     "text": [
      "                         age\n",
      "race                        \n",
      "White               0.855043\n",
      "Black               0.095922\n",
      "Asian-Pac-Islander  0.031100\n",
      "Amer-Indian-Eskimo  0.009623\n",
      "Other               0.008313\n",
      "             age\n",
      "sex             \n",
      "Male    0.668482\n",
      "Female  0.331518\n",
      "                     age\n",
      "native-country          \n",
      "United-States   0.948314\n",
      "Mexico          0.020575\n",
      "Philippines     0.006382\n",
      "Germany         0.004457\n",
      "Puerto-Rico     0.003981\n",
      "Canada          0.003938\n",
      "El-Salvador     0.003353\n",
      "India           0.003267\n",
      "Cuba            0.002986\n",
      "England         0.002748\n"
     ]
    }
   ],
   "source": [
    "for key in agg_summary.keys():\n",
    "    print(agg_summary[key] / agg_summary[key].sum())"
   ],
   "metadata": {
    "collapsed": false,
    "ExecuteTime": {
     "end_time": "2023-07-30T09:19:23.134535Z",
     "start_time": "2023-07-30T09:19:23.089675Z"
    }
   }
  },
  {
   "cell_type": "markdown",
   "id": "48d07093-9357-422d-b982-65bc993834e4",
   "metadata": {},
   "source": [
    "For convenience we split the columns into two groups, categorical and continuous"
   ]
  },
  {
   "cell_type": "code",
   "execution_count": 92,
   "id": "G2BHuKj8Z4vM",
   "metadata": {
    "id": "G2BHuKj8Z4vM",
    "tags": [],
    "ExecuteTime": {
     "end_time": "2023-07-30T09:56:36.708990Z",
     "start_time": "2023-07-30T09:56:36.702679Z"
    }
   },
   "outputs": [],
   "source": [
    "cols_categorical = [\n",
    "    \"workclass\",\n",
    "    \"education\",\n",
    "    \"marital-status\",\n",
    "    \"occupation\",\n",
    "    \"relationship\",\n",
    "    \"race\",\n",
    "    \"sex\",\n",
    "    \"native-country\",\n",
    "]\n",
    "cols_noncategorical = [n for n in df.columns if (n not in cols_categorical) and (n != \"target\")]"
   ]
  },
  {
   "cell_type": "code",
   "execution_count": 93,
   "outputs": [
    {
     "data": {
      "text/plain": "['age',\n 'fnlwgt',\n 'education-num',\n 'capital-gain',\n 'capital-loss',\n 'hours-per-week']"
     },
     "execution_count": 93,
     "metadata": {},
     "output_type": "execute_result"
    }
   ],
   "source": [
    "cols_noncategorical"
   ],
   "metadata": {
    "collapsed": false,
    "ExecuteTime": {
     "end_time": "2023-07-30T09:56:37.373471Z",
     "start_time": "2023-07-30T09:56:37.343476Z"
    }
   }
  },
  {
   "cell_type": "markdown",
   "id": "15ce963a-fb5b-427f-902e-91da9568143a",
   "metadata": {},
   "source": [
    "Adding the target column to the dataframe and convert to 0 and 1"
   ]
  },
  {
   "cell_type": "code",
   "execution_count": 94,
   "id": "3a2MnioVdq2O",
   "metadata": {
    "id": "3a2MnioVdq2O",
    "tags": [],
    "ExecuteTime": {
     "end_time": "2023-07-30T09:56:41.009288Z",
     "start_time": "2023-07-30T09:56:41.001846Z"
    }
   },
   "outputs": [],
   "source": [
    "df[\"target\"] = data.target.eq(\">50K\").mul(1)"
   ]
  },
  {
   "cell_type": "code",
   "execution_count": 95,
   "id": "9fa7c80f-3979-4b6e-936d-5c29addcc31f",
   "metadata": {
    "colab": {
     "base_uri": "https://localhost:8080/"
    },
    "id": "9fa7c80f-3979-4b6e-936d-5c29addcc31f",
    "outputId": "6c508533-441d-40c6-c9a3-a48b27ad8ce9",
    "tags": [],
    "ExecuteTime": {
     "end_time": "2023-07-30T09:56:41.992742Z",
     "start_time": "2023-07-30T09:56:41.979407Z"
    }
   },
   "outputs": [
    {
     "data": {
      "text/plain": "Index(['age', 'workclass', 'fnlwgt', 'education', 'education-num',\n       'marital-status', 'occupation', 'relationship', 'race', 'sex',\n       'capital-gain', 'capital-loss', 'hours-per-week', 'native-country',\n       'target'],\n      dtype='object')"
     },
     "execution_count": 95,
     "metadata": {},
     "output_type": "execute_result"
    }
   ],
   "source": [
    "df.columns"
   ]
  },
  {
   "cell_type": "code",
   "execution_count": 96,
   "id": "f24974f7-4bb3-4d4c-912e-e90aa7884b16",
   "metadata": {
    "tags": [],
    "ExecuteTime": {
     "end_time": "2023-07-30T09:56:43.044780Z",
     "start_time": "2023-07-30T09:56:43.032220Z"
    }
   },
   "outputs": [
    {
     "name": "stdout",
     "output_type": "stream",
     "text": [
      "unused columns: {'target'}\n"
     ]
    }
   ],
   "source": [
    "assert set(cols_noncategorical + cols_categorical) - set(df.columns) == set(), \"Columns not in data set\"\n",
    "print(\"unused columns:\", set(df.columns) - set(cols_noncategorical + cols_categorical))"
   ]
  },
  {
   "cell_type": "markdown",
   "id": "7d4a3afc-c241-40c2-aaa7-5242b1c064f1",
   "metadata": {},
   "source": [
    "# Prepare the data\n",
    "\n",
    "The data has to be prepared for the training. We want to convert the categorical variables into numerical values using the scikit-learn OrdinalEncoder (guess, who contributed this 😜)."
   ]
  },
  {
   "cell_type": "code",
   "execution_count": 97,
   "id": "27d24d9c-01b5-4d01-9147-a6460f9d7f96",
   "metadata": {
    "id": "27d24d9c-01b5-4d01-9147-a6460f9d7f96",
    "tags": [],
    "ExecuteTime": {
     "end_time": "2023-07-30T09:56:45.696266Z",
     "start_time": "2023-07-30T09:56:45.669399Z"
    }
   },
   "outputs": [],
   "source": [
    "def prepare_data(df: pd.DataFrame, cols_categorical: List[str]) -> Tuple[pd.DataFrame, np.array]:\n",
    "    enc = OrdinalEncoder(handle_unknown=\"use_encoded_value\", unknown_value=np.nan)\n",
    "\n",
    "    input_df = df.drop(columns=[\"target\"])\n",
    "    df_categoricals = pd.DataFrame(enc.fit_transform(input_df[cols_categorical]), columns=cols_categorical)\n",
    "    df_non_categoricals = input_df[[col for col in input_df.columns if col not in cols_categorical]]\n",
    "\n",
    "    X = pd.concat([df_categoricals, df_non_categoricals], axis=1)\n",
    "    y = np.asarray(df[\"target\"])\n",
    "\n",
    "    return X, y"
   ]
  },
  {
   "cell_type": "code",
   "execution_count": 98,
   "id": "751aea1d-d1a3-421b-bd20-128d45f1d2ba",
   "metadata": {
    "id": "751aea1d-d1a3-421b-bd20-128d45f1d2ba",
    "tags": [],
    "ExecuteTime": {
     "end_time": "2023-07-30T09:56:46.578341Z",
     "start_time": "2023-07-30T09:56:46.452384Z"
    }
   },
   "outputs": [],
   "source": [
    "X, y = prepare_data(df=df, cols_categorical=cols_categorical)"
   ]
  },
  {
   "cell_type": "code",
   "execution_count": 99,
   "outputs": [
    {
     "data": {
      "text/plain": "   workclass  education  marital-status  occupation  relationship  race  sex   \n0        3.0        1.0             4.0         6.0           3.0   2.0  1.0  \\\n1        3.0       11.0             2.0         4.0           0.0   4.0  1.0   \n2        1.0        7.0             2.0        10.0           0.0   4.0  1.0   \n3        3.0       15.0             2.0         6.0           0.0   2.0  1.0   \n4        NaN       15.0             4.0         NaN           3.0   4.0  0.0   \n\n   native-country   age    fnlwgt  education-num  capital-gain  capital-loss   \n0            38.0  25.0  226802.0            7.0           0.0           0.0  \\\n1            38.0  38.0   89814.0            9.0           0.0           0.0   \n2            38.0  28.0  336951.0           12.0           0.0           0.0   \n3            38.0  44.0  160323.0           10.0        7688.0           0.0   \n4            38.0  18.0  103497.0           10.0           0.0           0.0   \n\n   hours-per-week  \n0            40.0  \n1            50.0  \n2            40.0  \n3            40.0  \n4            30.0  ",
      "text/html": "<div>\n<style scoped>\n    .dataframe tbody tr th:only-of-type {\n        vertical-align: middle;\n    }\n\n    .dataframe tbody tr th {\n        vertical-align: top;\n    }\n\n    .dataframe thead th {\n        text-align: right;\n    }\n</style>\n<table border=\"1\" class=\"dataframe\">\n  <thead>\n    <tr style=\"text-align: right;\">\n      <th></th>\n      <th>workclass</th>\n      <th>education</th>\n      <th>marital-status</th>\n      <th>occupation</th>\n      <th>relationship</th>\n      <th>race</th>\n      <th>sex</th>\n      <th>native-country</th>\n      <th>age</th>\n      <th>fnlwgt</th>\n      <th>education-num</th>\n      <th>capital-gain</th>\n      <th>capital-loss</th>\n      <th>hours-per-week</th>\n    </tr>\n  </thead>\n  <tbody>\n    <tr>\n      <th>0</th>\n      <td>3.0</td>\n      <td>1.0</td>\n      <td>4.0</td>\n      <td>6.0</td>\n      <td>3.0</td>\n      <td>2.0</td>\n      <td>1.0</td>\n      <td>38.0</td>\n      <td>25.0</td>\n      <td>226802.0</td>\n      <td>7.0</td>\n      <td>0.0</td>\n      <td>0.0</td>\n      <td>40.0</td>\n    </tr>\n    <tr>\n      <th>1</th>\n      <td>3.0</td>\n      <td>11.0</td>\n      <td>2.0</td>\n      <td>4.0</td>\n      <td>0.0</td>\n      <td>4.0</td>\n      <td>1.0</td>\n      <td>38.0</td>\n      <td>38.0</td>\n      <td>89814.0</td>\n      <td>9.0</td>\n      <td>0.0</td>\n      <td>0.0</td>\n      <td>50.0</td>\n    </tr>\n    <tr>\n      <th>2</th>\n      <td>1.0</td>\n      <td>7.0</td>\n      <td>2.0</td>\n      <td>10.0</td>\n      <td>0.0</td>\n      <td>4.0</td>\n      <td>1.0</td>\n      <td>38.0</td>\n      <td>28.0</td>\n      <td>336951.0</td>\n      <td>12.0</td>\n      <td>0.0</td>\n      <td>0.0</td>\n      <td>40.0</td>\n    </tr>\n    <tr>\n      <th>3</th>\n      <td>3.0</td>\n      <td>15.0</td>\n      <td>2.0</td>\n      <td>6.0</td>\n      <td>0.0</td>\n      <td>2.0</td>\n      <td>1.0</td>\n      <td>38.0</td>\n      <td>44.0</td>\n      <td>160323.0</td>\n      <td>10.0</td>\n      <td>7688.0</td>\n      <td>0.0</td>\n      <td>40.0</td>\n    </tr>\n    <tr>\n      <th>4</th>\n      <td>NaN</td>\n      <td>15.0</td>\n      <td>4.0</td>\n      <td>NaN</td>\n      <td>3.0</td>\n      <td>4.0</td>\n      <td>0.0</td>\n      <td>38.0</td>\n      <td>18.0</td>\n      <td>103497.0</td>\n      <td>10.0</td>\n      <td>0.0</td>\n      <td>0.0</td>\n      <td>30.0</td>\n    </tr>\n  </tbody>\n</table>\n</div>"
     },
     "execution_count": 99,
     "metadata": {},
     "output_type": "execute_result"
    }
   ],
   "source": [
    "X.head()"
   ],
   "metadata": {
    "collapsed": false,
    "ExecuteTime": {
     "end_time": "2023-07-30T09:56:46.793332Z",
     "start_time": "2023-07-30T09:56:46.786033Z"
    }
   }
  },
  {
   "cell_type": "code",
   "execution_count": 100,
   "id": "36febea9-9a96-49e2-bae6-4ba934aa4343",
   "metadata": {
    "tags": [],
    "ExecuteTime": {
     "end_time": "2023-07-30T09:56:47.800522Z",
     "start_time": "2023-07-30T09:56:47.784027Z"
    }
   },
   "outputs": [
    {
     "data": {
      "text/plain": "array([0, 0, 1, 1, 0])"
     },
     "execution_count": 100,
     "metadata": {},
     "output_type": "execute_result"
    }
   ],
   "source": [
    "y[:5]"
   ]
  },
  {
   "cell_type": "markdown",
   "id": "c7a45753-d0eb-4e26-8ceb-01c8df2a64a1",
   "metadata": {},
   "source": [
    "# Set the feature properties\n",
    "\n",
    "We need to tell Cyclic Boosting which feature to use and what type of feature these are and how to handle them.\n",
    "\n",
    "We want the continuous features be `IS_CONTINUOUS` with missing values (very handy, isn't it 😎) and the categorical features to be treated as unordered classes (no neighboring relation as in weekdays for example).\n",
    "\n",
    "Note: there is next to no feature engineering done here deliberately. Checking the feature carefully, there can be potentially improved a lot by treating the features individually and maybe even combing them into 2D features (see documentation). We just want to get it up-and-running here."
   ]
  },
  {
   "cell_type": "code",
   "execution_count": 101,
   "id": "d1af2c74-91c0-40ef-85c7-51176966815f",
   "metadata": {
    "tags": [],
    "ExecuteTime": {
     "end_time": "2023-07-30T09:56:49.201508Z",
     "start_time": "2023-07-30T09:56:49.195177Z"
    }
   },
   "outputs": [
    {
     "data": {
      "text/plain": "(['workclass',\n  'education',\n  'marital-status',\n  'occupation',\n  'relationship',\n  'race',\n  'sex',\n  'native-country',\n  'age',\n  'fnlwgt',\n  'education-num',\n  'capital-gain',\n  'capital-loss',\n  'hours-per-week'],\n {'workclass': 52,\n  'education': 52,\n  'marital-status': 52,\n  'occupation': 52,\n  'relationship': 52,\n  'race': 52,\n  'sex': 52,\n  'native-country': 52,\n  'age': 49,\n  'fnlwgt': 49,\n  'education-num': 49,\n  'capital-gain': 49,\n  'capital-loss': 49,\n  'hours-per-week': 49})"
     },
     "execution_count": 101,
     "metadata": {},
     "output_type": "execute_result"
    }
   ],
   "source": [
    "features = cols_categorical + cols_noncategorical\n",
    "\n",
    "feature_properties = {\n",
    "    **{col: flags.IS_UNORDERED | flags.HAS_MISSING | flags.MISSING_NOT_LEARNED for col in cols_categorical},\n",
    "    **{col: flags.IS_CONTINUOUS | flags.HAS_MISSING | flags.MISSING_NOT_LEARNED for col in cols_noncategorical},\n",
    "}\n",
    "features, feature_properties"
   ]
  },
  {
   "cell_type": "code",
   "execution_count": 102,
   "outputs": [
    {
     "data": {
      "text/plain": "{'workclass': 52,\n 'education': 52,\n 'marital-status': 52,\n 'occupation': 52,\n 'relationship': 52,\n 'race': 52,\n 'sex': 52,\n 'native-country': 52,\n 'age': 49,\n 'fnlwgt': 49,\n 'education-num': 49,\n 'capital-gain': 49,\n 'capital-loss': 49,\n 'hours-per-week': 49}"
     },
     "execution_count": 102,
     "metadata": {},
     "output_type": "execute_result"
    }
   ],
   "source": [
    "feature_properties"
   ],
   "metadata": {
    "collapsed": false,
    "ExecuteTime": {
     "end_time": "2023-07-30T09:56:49.918467Z",
     "start_time": "2023-07-30T09:56:49.863082Z"
    }
   }
  },
  {
   "cell_type": "markdown",
   "id": "4f888d5b-3134-48d7-8c9e-d7247f1d7b32",
   "metadata": {},
   "source": [
    "# Build the model\n",
    "\n",
    "The model is implemented as a scikit-learn pipeline, stitching together a Binner and the CB classifier estimator. Most notably, we reduce the number of used bins in all continuous features to 10 instead of 100, should be plenty."
   ]
  },
  {
   "cell_type": "code",
   "execution_count": 103,
   "id": "2fc5b45f-83e5-4bde-898b-48efcdcaf3f0",
   "metadata": {
    "id": "2fc5b45f-83e5-4bde-898b-48efcdcaf3f0",
    "tags": [],
    "ExecuteTime": {
     "end_time": "2023-07-30T09:56:54.740013Z",
     "start_time": "2023-07-30T09:56:54.729195Z"
    }
   },
   "outputs": [],
   "source": [
    "def cb_classifier_model():\n",
    "    plobs = [observers.PlottingObserver(iteration=-1)]\n",
    "\n",
    "    CB_pipeline = pipeline_CBClassifier(\n",
    "        feature_properties=feature_properties,\n",
    "        feature_groups=features,\n",
    "        observers=plobs,\n",
    "        maximal_iterations=50,\n",
    "        number_of_bins=10,\n",
    "        smoother_choice=common_smoothers.SmootherChoiceGroupBy(\n",
    "            use_regression_type=True,\n",
    "            use_normalization=False,\n",
    "        ),\n",
    "    )\n",
    "\n",
    "    return CB_pipeline"
   ]
  },
  {
   "cell_type": "code",
   "execution_count": 104,
   "id": "ce5b7bed-68c3-4470-9fd9-eefadefc0402",
   "metadata": {
    "colab": {
     "base_uri": "https://localhost:8080/",
     "height": 126
    },
    "id": "_S857kszB2N0",
    "outputId": "890d3b81-11e9-46b9-ec83-703a4f3c7db7",
    "tags": [],
    "ExecuteTime": {
     "end_time": "2023-07-30T09:56:56.251843Z",
     "start_time": "2023-07-30T09:56:56.220033Z"
    }
   },
   "outputs": [
    {
     "data": {
      "text/plain": "Pipeline(steps=[('binning',\n                 BinNumberTransformer(feature_properties={'age': 49,\n                                                          'capital-gain': 49,\n                                                          'capital-loss': 49,\n                                                          'education': 52,\n                                                          'education-num': 49,\n                                                          'fnlwgt': 49,\n                                                          'hours-per-week': 49,\n                                                          'marital-status': 52,\n                                                          'native-country': 52,\n                                                          'occupation': 52,\n                                                          'race': 52,\n                                                          'relationship': 52,\n                                                          'sex': 52,\n                                                          'workclass': 52},\n                                      n_bins=10)),\n                ('CB',\n                 CBClassifier(feature_groups=['workclass', 'ed...\n                                                  'occupation': 52, 'race': 52,\n                                                  'relationship': 52, 'sex': 52,\n                                                  'workclass': 52},\n                              learn_rate=<function half_linear_learn_rate at 0x134dc40d0>,\n                              maximal_iterations=50,\n                              minimal_factor_change=0.001,\n                              minimal_loss_change=0.001,\n                              observers=[<cyclic_boosting.observers.PlottingObserver object at 0x13da83040>],\n                              smoother_choice=<cyclic_boosting.common_smoothers.SmootherChoiceGroupBy object at 0x13da80760>))])",
      "text/html": "<style>#sk-container-id-4 {color: black;background-color: white;}#sk-container-id-4 pre{padding: 0;}#sk-container-id-4 div.sk-toggleable {background-color: white;}#sk-container-id-4 label.sk-toggleable__label {cursor: pointer;display: block;width: 100%;margin-bottom: 0;padding: 0.3em;box-sizing: border-box;text-align: center;}#sk-container-id-4 label.sk-toggleable__label-arrow:before {content: \"▸\";float: left;margin-right: 0.25em;color: #696969;}#sk-container-id-4 label.sk-toggleable__label-arrow:hover:before {color: black;}#sk-container-id-4 div.sk-estimator:hover label.sk-toggleable__label-arrow:before {color: black;}#sk-container-id-4 div.sk-toggleable__content {max-height: 0;max-width: 0;overflow: hidden;text-align: left;background-color: #f0f8ff;}#sk-container-id-4 div.sk-toggleable__content pre {margin: 0.2em;color: black;border-radius: 0.25em;background-color: #f0f8ff;}#sk-container-id-4 input.sk-toggleable__control:checked~div.sk-toggleable__content {max-height: 200px;max-width: 100%;overflow: auto;}#sk-container-id-4 input.sk-toggleable__control:checked~label.sk-toggleable__label-arrow:before {content: \"▾\";}#sk-container-id-4 div.sk-estimator input.sk-toggleable__control:checked~label.sk-toggleable__label {background-color: #d4ebff;}#sk-container-id-4 div.sk-label input.sk-toggleable__control:checked~label.sk-toggleable__label {background-color: #d4ebff;}#sk-container-id-4 input.sk-hidden--visually {border: 0;clip: rect(1px 1px 1px 1px);clip: rect(1px, 1px, 1px, 1px);height: 1px;margin: -1px;overflow: hidden;padding: 0;position: absolute;width: 1px;}#sk-container-id-4 div.sk-estimator {font-family: monospace;background-color: #f0f8ff;border: 1px dotted black;border-radius: 0.25em;box-sizing: border-box;margin-bottom: 0.5em;}#sk-container-id-4 div.sk-estimator:hover {background-color: #d4ebff;}#sk-container-id-4 div.sk-parallel-item::after {content: \"\";width: 100%;border-bottom: 1px solid gray;flex-grow: 1;}#sk-container-id-4 div.sk-label:hover label.sk-toggleable__label {background-color: #d4ebff;}#sk-container-id-4 div.sk-serial::before {content: \"\";position: absolute;border-left: 1px solid gray;box-sizing: border-box;top: 0;bottom: 0;left: 50%;z-index: 0;}#sk-container-id-4 div.sk-serial {display: flex;flex-direction: column;align-items: center;background-color: white;padding-right: 0.2em;padding-left: 0.2em;position: relative;}#sk-container-id-4 div.sk-item {position: relative;z-index: 1;}#sk-container-id-4 div.sk-parallel {display: flex;align-items: stretch;justify-content: center;background-color: white;position: relative;}#sk-container-id-4 div.sk-item::before, #sk-container-id-4 div.sk-parallel-item::before {content: \"\";position: absolute;border-left: 1px solid gray;box-sizing: border-box;top: 0;bottom: 0;left: 50%;z-index: -1;}#sk-container-id-4 div.sk-parallel-item {display: flex;flex-direction: column;z-index: 1;position: relative;background-color: white;}#sk-container-id-4 div.sk-parallel-item:first-child::after {align-self: flex-end;width: 50%;}#sk-container-id-4 div.sk-parallel-item:last-child::after {align-self: flex-start;width: 50%;}#sk-container-id-4 div.sk-parallel-item:only-child::after {width: 0;}#sk-container-id-4 div.sk-dashed-wrapped {border: 1px dashed gray;margin: 0 0.4em 0.5em 0.4em;box-sizing: border-box;padding-bottom: 0.4em;background-color: white;}#sk-container-id-4 div.sk-label label {font-family: monospace;font-weight: bold;display: inline-block;line-height: 1.2em;}#sk-container-id-4 div.sk-label-container {text-align: center;}#sk-container-id-4 div.sk-container {/* jupyter's `normalize.less` sets `[hidden] { display: none; }` but bootstrap.min.css set `[hidden] { display: none !important; }` so we also need the `!important` here to be able to override the default hidden behavior on the sphinx rendered scikit-learn.org. See: https://github.com/scikit-learn/scikit-learn/issues/21755 */display: inline-block !important;position: relative;}#sk-container-id-4 div.sk-text-repr-fallback {display: none;}</style><div id=\"sk-container-id-4\" class=\"sk-top-container\"><div class=\"sk-text-repr-fallback\"><pre>Pipeline(steps=[(&#x27;binning&#x27;,\n                 BinNumberTransformer(feature_properties={&#x27;age&#x27;: 49,\n                                                          &#x27;capital-gain&#x27;: 49,\n                                                          &#x27;capital-loss&#x27;: 49,\n                                                          &#x27;education&#x27;: 52,\n                                                          &#x27;education-num&#x27;: 49,\n                                                          &#x27;fnlwgt&#x27;: 49,\n                                                          &#x27;hours-per-week&#x27;: 49,\n                                                          &#x27;marital-status&#x27;: 52,\n                                                          &#x27;native-country&#x27;: 52,\n                                                          &#x27;occupation&#x27;: 52,\n                                                          &#x27;race&#x27;: 52,\n                                                          &#x27;relationship&#x27;: 52,\n                                                          &#x27;sex&#x27;: 52,\n                                                          &#x27;workclass&#x27;: 52},\n                                      n_bins=10)),\n                (&#x27;CB&#x27;,\n                 CBClassifier(feature_groups=[&#x27;workclass&#x27;, &#x27;ed...\n                                                  &#x27;occupation&#x27;: 52, &#x27;race&#x27;: 52,\n                                                  &#x27;relationship&#x27;: 52, &#x27;sex&#x27;: 52,\n                                                  &#x27;workclass&#x27;: 52},\n                              learn_rate=&lt;function half_linear_learn_rate at 0x134dc40d0&gt;,\n                              maximal_iterations=50,\n                              minimal_factor_change=0.001,\n                              minimal_loss_change=0.001,\n                              observers=[&lt;cyclic_boosting.observers.PlottingObserver object at 0x13da83040&gt;],\n                              smoother_choice=&lt;cyclic_boosting.common_smoothers.SmootherChoiceGroupBy object at 0x13da80760&gt;))])</pre><b>In a Jupyter environment, please rerun this cell to show the HTML representation or trust the notebook. <br />On GitHub, the HTML representation is unable to render, please try loading this page with nbviewer.org.</b></div><div class=\"sk-container\" hidden><div class=\"sk-item sk-dashed-wrapped\"><div class=\"sk-label-container\"><div class=\"sk-label sk-toggleable\"><input class=\"sk-toggleable__control sk-hidden--visually\" id=\"sk-estimator-id-10\" type=\"checkbox\" ><label for=\"sk-estimator-id-10\" class=\"sk-toggleable__label sk-toggleable__label-arrow\">Pipeline</label><div class=\"sk-toggleable__content\"><pre>Pipeline(steps=[(&#x27;binning&#x27;,\n                 BinNumberTransformer(feature_properties={&#x27;age&#x27;: 49,\n                                                          &#x27;capital-gain&#x27;: 49,\n                                                          &#x27;capital-loss&#x27;: 49,\n                                                          &#x27;education&#x27;: 52,\n                                                          &#x27;education-num&#x27;: 49,\n                                                          &#x27;fnlwgt&#x27;: 49,\n                                                          &#x27;hours-per-week&#x27;: 49,\n                                                          &#x27;marital-status&#x27;: 52,\n                                                          &#x27;native-country&#x27;: 52,\n                                                          &#x27;occupation&#x27;: 52,\n                                                          &#x27;race&#x27;: 52,\n                                                          &#x27;relationship&#x27;: 52,\n                                                          &#x27;sex&#x27;: 52,\n                                                          &#x27;workclass&#x27;: 52},\n                                      n_bins=10)),\n                (&#x27;CB&#x27;,\n                 CBClassifier(feature_groups=[&#x27;workclass&#x27;, &#x27;ed...\n                                                  &#x27;occupation&#x27;: 52, &#x27;race&#x27;: 52,\n                                                  &#x27;relationship&#x27;: 52, &#x27;sex&#x27;: 52,\n                                                  &#x27;workclass&#x27;: 52},\n                              learn_rate=&lt;function half_linear_learn_rate at 0x134dc40d0&gt;,\n                              maximal_iterations=50,\n                              minimal_factor_change=0.001,\n                              minimal_loss_change=0.001,\n                              observers=[&lt;cyclic_boosting.observers.PlottingObserver object at 0x13da83040&gt;],\n                              smoother_choice=&lt;cyclic_boosting.common_smoothers.SmootherChoiceGroupBy object at 0x13da80760&gt;))])</pre></div></div></div><div class=\"sk-serial\"><div class=\"sk-item\"><div class=\"sk-estimator sk-toggleable\"><input class=\"sk-toggleable__control sk-hidden--visually\" id=\"sk-estimator-id-11\" type=\"checkbox\" ><label for=\"sk-estimator-id-11\" class=\"sk-toggleable__label sk-toggleable__label-arrow\">BinNumberTransformer</label><div class=\"sk-toggleable__content\"><pre>BinNumberTransformer(feature_properties={&#x27;age&#x27;: 49, &#x27;capital-gain&#x27;: 49,\n                                         &#x27;capital-loss&#x27;: 49, &#x27;education&#x27;: 52,\n                                         &#x27;education-num&#x27;: 49, &#x27;fnlwgt&#x27;: 49,\n                                         &#x27;hours-per-week&#x27;: 49,\n                                         &#x27;marital-status&#x27;: 52,\n                                         &#x27;native-country&#x27;: 52, &#x27;occupation&#x27;: 52,\n                                         &#x27;race&#x27;: 52, &#x27;relationship&#x27;: 52,\n                                         &#x27;sex&#x27;: 52, &#x27;workclass&#x27;: 52},\n                     n_bins=10)</pre></div></div></div><div class=\"sk-item\"><div class=\"sk-estimator sk-toggleable\"><input class=\"sk-toggleable__control sk-hidden--visually\" id=\"sk-estimator-id-12\" type=\"checkbox\" ><label for=\"sk-estimator-id-12\" class=\"sk-toggleable__label sk-toggleable__label-arrow\">CBClassifier</label><div class=\"sk-toggleable__content\"><pre>CBClassifier(feature_groups=[&#x27;workclass&#x27;, &#x27;education&#x27;, &#x27;marital-status&#x27;,\n                             &#x27;occupation&#x27;, &#x27;relationship&#x27;, &#x27;race&#x27;, &#x27;sex&#x27;,\n                             &#x27;native-country&#x27;, &#x27;age&#x27;, &#x27;fnlwgt&#x27;, &#x27;education-num&#x27;,\n                             &#x27;capital-gain&#x27;, &#x27;capital-loss&#x27;, &#x27;hours-per-week&#x27;],\n             feature_properties={&#x27;age&#x27;: 49, &#x27;capital-gain&#x27;: 49,\n                                 &#x27;capital-loss&#x27;: 49, &#x27;education&#x27;: 52,\n                                 &#x27;education-num&#x27;: 49, &#x27;fnlwgt&#x27;: 49,\n                                 &#x27;hours-per-week&#x27;: 49, &#x27;marital-sta...\n                                 &#x27;race&#x27;: 52, &#x27;relationship&#x27;: 52, &#x27;sex&#x27;: 52,\n                                 &#x27;workclass&#x27;: 52},\n             learn_rate=&lt;function half_linear_learn_rate at 0x134dc40d0&gt;,\n             maximal_iterations=50, minimal_factor_change=0.001,\n             minimal_loss_change=0.001,\n             observers=[&lt;cyclic_boosting.observers.PlottingObserver object at 0x13da83040&gt;],\n             smoother_choice=&lt;cyclic_boosting.common_smoothers.SmootherChoiceGroupBy object at 0x13da80760&gt;)</pre></div></div></div></div></div></div></div>"
     },
     "execution_count": 104,
     "metadata": {},
     "output_type": "execute_result"
    }
   ],
   "source": [
    "CB_est = cb_classifier_model()\n",
    "\n",
    "CB_est"
   ]
  },
  {
   "cell_type": "markdown",
   "id": "6a1697b1-2eb8-4601-9d44-dc9b97bbdaa4",
   "metadata": {},
   "source": [
    "# The training"
   ]
  },
  {
   "cell_type": "code",
   "execution_count": 106,
   "id": "4951d71a-2696-41f6-9746-3e46ecc56703",
   "metadata": {
    "colab": {
     "base_uri": "https://localhost:8080/"
    },
    "id": "c802821e-3973-42be-83dc-50e9337b2210",
    "outputId": "77429d43-4b83-40ae-9fd8-04bbd2595711",
    "tags": [],
    "ExecuteTime": {
     "end_time": "2023-07-30T09:57:26.552422Z",
     "start_time": "2023-07-30T09:57:21.690556Z"
    }
   },
   "outputs": [
    {
     "name": "stdout",
     "output_type": "stream",
     "text": [
      "2.34 s ± 0 ns per loop (mean ± std. dev. of 1 run, 1 loop each)\n"
     ]
    }
   ],
   "source": [
    "%%timeit -r 1\n",
    "CB_est.fit(X, y)"
   ]
  },
  {
   "cell_type": "markdown",
   "id": "f1edccbe-f17e-45ff-a277-da2da71031af",
   "metadata": {},
   "source": [
    "That's it, now we did the training, that was fast and easy, isn't it?"
   ]
  },
  {
   "cell_type": "markdown",
   "id": "782eac60-37c4-45ed-885e-eb1fc59d2166",
   "metadata": {},
   "source": [
    "## Evaluation\n",
    "\n",
    "Now we can do the inference for all samples. Note that we get proper probabilities for all target categories using predict_proba, which is really nice! "
   ]
  },
  {
   "cell_type": "code",
   "execution_count": 107,
   "id": "154b2983-7d78-4ce1-aac8-3cf0f350cff4",
   "metadata": {
    "colab": {
     "base_uri": "https://localhost:8080/"
    },
    "id": "c802821e-3973-42be-83dc-50e9337b2210",
    "outputId": "77429d43-4b83-40ae-9fd8-04bbd2595711",
    "tags": [],
    "ExecuteTime": {
     "end_time": "2023-07-30T09:57:32.365325Z",
     "start_time": "2023-07-30T09:57:32.258118Z"
    }
   },
   "outputs": [],
   "source": [
    "yhat = CB_est.predict_proba(X)"
   ]
  },
  {
   "cell_type": "markdown",
   "id": "e772969e-1f89-4155-a232-d52cd5e337df",
   "metadata": {},
   "source": [
    "With this we can calculate the mean absolute deviation"
   ]
  },
  {
   "cell_type": "code",
   "execution_count": 108,
   "id": "031d7c9f-280d-4e1e-a363-1b8ecfa090a1",
   "metadata": {
    "colab": {
     "base_uri": "https://localhost:8080/"
    },
    "id": "c802821e-3973-42be-83dc-50e9337b2210",
    "outputId": "77429d43-4b83-40ae-9fd8-04bbd2595711",
    "tags": [],
    "ExecuteTime": {
     "end_time": "2023-07-30T09:57:35.258756Z",
     "start_time": "2023-07-30T09:57:35.212374Z"
    }
   },
   "outputs": [
    {
     "data": {
      "text/plain": "0.7634769306729378"
     },
     "execution_count": 108,
     "metadata": {},
     "output_type": "execute_result"
    }
   ],
   "source": [
    "mad = np.nanmean(np.abs(y - yhat[:, 0]))\n",
    "mad"
   ]
  },
  {
   "cell_type": "markdown",
   "id": "366682eb-dd77-4752-a98d-c9cd1ea7ea82",
   "metadata": {},
   "source": [
    "Or the scikit-learn in-sample score (yes, you should do some cross-validation for a real world problem 😬)"
   ]
  },
  {
   "cell_type": "code",
   "execution_count": 109,
   "id": "b6GJY01vLR-G",
   "metadata": {
    "colab": {
     "base_uri": "https://localhost:8080/"
    },
    "id": "b6GJY01vLR-G",
    "outputId": "1ee5400f-e44d-4e93-a140-d0d6cfb35c47",
    "tags": [],
    "ExecuteTime": {
     "end_time": "2023-07-30T09:57:38.513018Z",
     "start_time": "2023-07-30T09:57:38.456990Z"
    }
   },
   "outputs": [
    {
     "data": {
      "text/plain": "0.8119446378117194"
     },
     "execution_count": 109,
     "metadata": {},
     "output_type": "execute_result"
    }
   ],
   "source": [
    "# in-sample score\n",
    "CB_est.score(X, y)"
   ]
  },
  {
   "cell_type": "markdown",
   "id": "cec052aa-622a-431e-8874-bff6de8c5124",
   "metadata": {},
   "source": [
    "# Some nice plots\n",
    "\n",
    "Cyclic Boosting has some useful reporting of the training included. We can create a pdf with this code"
   ]
  },
  {
   "cell_type": "code",
   "execution_count": 110,
   "id": "145d75e4-aabe-4f7a-89fc-12d4df8c72e8",
   "metadata": {
    "id": "145d75e4-aabe-4f7a-89fc-12d4df8c72e8",
    "tags": [],
    "ExecuteTime": {
     "end_time": "2023-07-30T09:58:21.670614Z",
     "start_time": "2023-07-30T09:58:21.649367Z"
    }
   },
   "outputs": [],
   "source": [
    "def plot_CB(filename: str, plobs: List, binner):\n",
    "    for i, p in enumerate(plobs):\n",
    "        plot_analysis(plot_observer=p, file_obj=filename + \"_{}\".format(i), use_tightlayout=False, binners=[binner])"
   ]
  },
  {
   "cell_type": "code",
   "execution_count": 111,
   "id": "e6bd7d19-4320-4666-9554-99587b1dc63e",
   "metadata": {
    "colab": {
     "base_uri": "https://localhost:8080/"
    },
    "id": "c802821e-3973-42be-83dc-50e9337b2210",
    "outputId": "77429d43-4b83-40ae-9fd8-04bbd2595711",
    "tags": [],
    "ExecuteTime": {
     "end_time": "2023-07-30T09:58:29.860783Z",
     "start_time": "2023-07-30T09:58:22.017072Z"
    }
   },
   "outputs": [],
   "source": [
    "plot_CB(\"analysis_CB_iterlast\", [CB_est[-1].observers[-1]], CB_est[-2])"
   ]
  },
  {
   "cell_type": "markdown",
   "id": "b354090a-4dc7-4c7d-aaba-8d4bf0e76fde",
   "metadata": {},
   "source": [
    "You will now find a pdf file containing all sorts of plots. They are explained in the documentation of Cyclic Boosting.\n",
    "\n",
    "Just as an eye candy, lets plot the separation of of both classes."
   ]
  },
  {
   "cell_type": "code",
   "execution_count": 26,
   "id": "9e0bac85-270f-4b69-baaa-eb6379840c74",
   "metadata": {
    "id": "9e0bac85-270f-4b69-baaa-eb6379840c74",
    "tags": [],
    "ExecuteTime": {
     "end_time": "2023-07-30T07:54:03.998549Z",
     "start_time": "2023-07-30T07:54:03.935676Z"
    }
   },
   "outputs": [],
   "source": [
    "df[\"pred\"] = yhat[:, 0]"
   ]
  },
  {
   "cell_type": "code",
   "execution_count": 27,
   "id": "xb2OubdTFTik",
   "metadata": {
    "colab": {
     "base_uri": "https://localhost:8080/",
     "height": 448
    },
    "id": "xb2OubdTFTik",
    "outputId": "71e5a437-68a8-4b3b-c960-8570331e286e",
    "tags": [],
    "ExecuteTime": {
     "end_time": "2023-07-30T07:54:04.621248Z",
     "start_time": "2023-07-30T07:54:03.999003Z"
    }
   },
   "outputs": [
    {
     "data": {
      "text/plain": "<Axes: >"
     },
     "execution_count": 27,
     "metadata": {},
     "output_type": "execute_result"
    },
    {
     "data": {
      "text/plain": "<Figure size 640x480 with 1 Axes>",
      "image/png": "[encoded data removed]"
     },
     "metadata": {},
     "output_type": "display_data"
    }
   ],
   "source": [
    "ax = df[df[\"target\"] > 0].pred.hist(log=True, alpha=0.5)\n",
    "df[df[\"target\"] == 0].pred.hist(log=True, alpha=0.5, ax=ax)"
   ]
  },
  {
   "cell_type": "markdown",
   "id": "06332047-674e-4fc2-9f7a-fefe8137652f",
   "metadata": {
    "id": "f65d33f1-bb4f-41f3-9491-6f2add0a8ac8"
   },
   "source": [
    "You see, it is easy to do a classification using Cyclic Boosting and it works!"
   ]
  }
 ],
 "metadata": {
  "colab": {
   "provenance": []
  },
  "kernelspec": {
   "display_name": "Python 3 (ipykernel)",
   "language": "python",
   "name": "python3"
  },
  "language_info": {
   "codemirror_mode": {
    "name": "ipython",
    "version": 3
   },
   "file_extension": ".py",
   "mimetype": "text/x-python",
   "name": "python",
   "nbconvert_exporter": "python",
   "pygments_lexer": "ipython3",
   "version": "3.8.5"
  }
 },
 "nbformat": 4,
 "nbformat_minor": 5
}

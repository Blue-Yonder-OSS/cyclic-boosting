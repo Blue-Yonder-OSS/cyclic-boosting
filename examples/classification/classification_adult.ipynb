{
 "cells": [
  {
   "cell_type": "markdown",
   "id": "e4f6005c-1e82-45cc-9013-fa89752acadf",
   "metadata": {
    "id": "e4f6005c-1e82-45cc-9013-fa89752acadf"
   },
   "source": [
    "# Classification using Cyclic Boosting"
   ]
  },
  {
   "cell_type": "code",
   "execution_count": 1,
   "id": "Q8nS3cek3utK",
   "metadata": {
    "colab": {
     "base_uri": "https://localhost:8080/"
    },
    "id": "Q8nS3cek3utK",
    "outputId": "e7b226b6-9dc5-4896-8066-8d105725fdd0"
   },
   "outputs": [],
   "source": [
    "!pip install cyclic-boosting"
   ]
  },
  {
   "cell_type": "code",
   "execution_count": 2,
   "id": "d032f099-abc3-414f-957d-bf915cd2bd4e",
   "metadata": {
    "id": "d032f099-abc3-414f-957d-bf915cd2bd4e"
   },
   "outputs": [],
   "source": [
    "import pandas as pd\n",
    "import numpy as np\n",
    "\n",
    "\n",
    "from sklearn.preprocessing import OrdinalEncoder\n",
    "from sklearn.pipeline import Pipeline\n",
    "\n",
    "from cyclic_boosting import flags, common_smoothers, observers, binning\n",
    "from cyclic_boosting.plots import plot_analysis\n",
    "from cyclic_boosting.pipelines import pipeline_CBClassifier"
   ]
  },
  {
   "cell_type": "markdown",
   "id": "f795a87a-df58-4b1a-8717-b95203fd65cd",
   "metadata": {},
   "source": [
    "Let's load the adult census income dataset from OpenML"
   ]
  },
  {
   "cell_type": "code",
   "execution_count": 3,
   "id": "7c39b738-890f-45d0-b015-cc0a2306dc24",
   "metadata": {
    "id": "7c39b738-890f-45d0-b015-cc0a2306dc24"
   },
   "outputs": [
    {
     "data": {
      "text/html": [
       "<div>\n",
       "<style scoped>\n",
       "    .dataframe tbody tr th:only-of-type {\n",
       "        vertical-align: middle;\n",
       "    }\n",
       "\n",
       "    .dataframe tbody tr th {\n",
       "        vertical-align: top;\n",
       "    }\n",
       "\n",
       "    .dataframe thead th {\n",
       "        text-align: right;\n",
       "    }\n",
       "</style>\n",
       "<table border=\"1\" class=\"dataframe\">\n",
       "  <thead>\n",
       "    <tr style=\"text-align: right;\">\n",
       "      <th></th>\n",
       "      <th>age</th>\n",
       "      <th>workclass</th>\n",
       "      <th>fnlwgt</th>\n",
       "      <th>education</th>\n",
       "      <th>education-num</th>\n",
       "      <th>marital-status</th>\n",
       "      <th>occupation</th>\n",
       "      <th>relationship</th>\n",
       "      <th>race</th>\n",
       "      <th>sex</th>\n",
       "      <th>capital-gain</th>\n",
       "      <th>capital-loss</th>\n",
       "      <th>hours-per-week</th>\n",
       "      <th>native-country</th>\n",
       "    </tr>\n",
       "  </thead>\n",
       "  <tbody>\n",
       "    <tr>\n",
       "      <th>0</th>\n",
       "      <td>25.0</td>\n",
       "      <td>Private</td>\n",
       "      <td>226802.0</td>\n",
       "      <td>11th</td>\n",
       "      <td>7.0</td>\n",
       "      <td>Never-married</td>\n",
       "      <td>Machine-op-inspct</td>\n",
       "      <td>Own-child</td>\n",
       "      <td>Black</td>\n",
       "      <td>Male</td>\n",
       "      <td>0.0</td>\n",
       "      <td>0.0</td>\n",
       "      <td>40.0</td>\n",
       "      <td>United-States</td>\n",
       "    </tr>\n",
       "    <tr>\n",
       "      <th>1</th>\n",
       "      <td>38.0</td>\n",
       "      <td>Private</td>\n",
       "      <td>89814.0</td>\n",
       "      <td>HS-grad</td>\n",
       "      <td>9.0</td>\n",
       "      <td>Married-civ-spouse</td>\n",
       "      <td>Farming-fishing</td>\n",
       "      <td>Husband</td>\n",
       "      <td>White</td>\n",
       "      <td>Male</td>\n",
       "      <td>0.0</td>\n",
       "      <td>0.0</td>\n",
       "      <td>50.0</td>\n",
       "      <td>United-States</td>\n",
       "    </tr>\n",
       "    <tr>\n",
       "      <th>2</th>\n",
       "      <td>28.0</td>\n",
       "      <td>Local-gov</td>\n",
       "      <td>336951.0</td>\n",
       "      <td>Assoc-acdm</td>\n",
       "      <td>12.0</td>\n",
       "      <td>Married-civ-spouse</td>\n",
       "      <td>Protective-serv</td>\n",
       "      <td>Husband</td>\n",
       "      <td>White</td>\n",
       "      <td>Male</td>\n",
       "      <td>0.0</td>\n",
       "      <td>0.0</td>\n",
       "      <td>40.0</td>\n",
       "      <td>United-States</td>\n",
       "    </tr>\n",
       "    <tr>\n",
       "      <th>3</th>\n",
       "      <td>44.0</td>\n",
       "      <td>Private</td>\n",
       "      <td>160323.0</td>\n",
       "      <td>Some-college</td>\n",
       "      <td>10.0</td>\n",
       "      <td>Married-civ-spouse</td>\n",
       "      <td>Machine-op-inspct</td>\n",
       "      <td>Husband</td>\n",
       "      <td>Black</td>\n",
       "      <td>Male</td>\n",
       "      <td>7688.0</td>\n",
       "      <td>0.0</td>\n",
       "      <td>40.0</td>\n",
       "      <td>United-States</td>\n",
       "    </tr>\n",
       "    <tr>\n",
       "      <th>4</th>\n",
       "      <td>18.0</td>\n",
       "      <td>NaN</td>\n",
       "      <td>103497.0</td>\n",
       "      <td>Some-college</td>\n",
       "      <td>10.0</td>\n",
       "      <td>Never-married</td>\n",
       "      <td>NaN</td>\n",
       "      <td>Own-child</td>\n",
       "      <td>White</td>\n",
       "      <td>Female</td>\n",
       "      <td>0.0</td>\n",
       "      <td>0.0</td>\n",
       "      <td>30.0</td>\n",
       "      <td>United-States</td>\n",
       "    </tr>\n",
       "    <tr>\n",
       "      <th>...</th>\n",
       "      <td>...</td>\n",
       "      <td>...</td>\n",
       "      <td>...</td>\n",
       "      <td>...</td>\n",
       "      <td>...</td>\n",
       "      <td>...</td>\n",
       "      <td>...</td>\n",
       "      <td>...</td>\n",
       "      <td>...</td>\n",
       "      <td>...</td>\n",
       "      <td>...</td>\n",
       "      <td>...</td>\n",
       "      <td>...</td>\n",
       "      <td>...</td>\n",
       "    </tr>\n",
       "    <tr>\n",
       "      <th>48837</th>\n",
       "      <td>27.0</td>\n",
       "      <td>Private</td>\n",
       "      <td>257302.0</td>\n",
       "      <td>Assoc-acdm</td>\n",
       "      <td>12.0</td>\n",
       "      <td>Married-civ-spouse</td>\n",
       "      <td>Tech-support</td>\n",
       "      <td>Wife</td>\n",
       "      <td>White</td>\n",
       "      <td>Female</td>\n",
       "      <td>0.0</td>\n",
       "      <td>0.0</td>\n",
       "      <td>38.0</td>\n",
       "      <td>United-States</td>\n",
       "    </tr>\n",
       "    <tr>\n",
       "      <th>48838</th>\n",
       "      <td>40.0</td>\n",
       "      <td>Private</td>\n",
       "      <td>154374.0</td>\n",
       "      <td>HS-grad</td>\n",
       "      <td>9.0</td>\n",
       "      <td>Married-civ-spouse</td>\n",
       "      <td>Machine-op-inspct</td>\n",
       "      <td>Husband</td>\n",
       "      <td>White</td>\n",
       "      <td>Male</td>\n",
       "      <td>0.0</td>\n",
       "      <td>0.0</td>\n",
       "      <td>40.0</td>\n",
       "      <td>United-States</td>\n",
       "    </tr>\n",
       "    <tr>\n",
       "      <th>48839</th>\n",
       "      <td>58.0</td>\n",
       "      <td>Private</td>\n",
       "      <td>151910.0</td>\n",
       "      <td>HS-grad</td>\n",
       "      <td>9.0</td>\n",
       "      <td>Widowed</td>\n",
       "      <td>Adm-clerical</td>\n",
       "      <td>Unmarried</td>\n",
       "      <td>White</td>\n",
       "      <td>Female</td>\n",
       "      <td>0.0</td>\n",
       "      <td>0.0</td>\n",
       "      <td>40.0</td>\n",
       "      <td>United-States</td>\n",
       "    </tr>\n",
       "    <tr>\n",
       "      <th>48840</th>\n",
       "      <td>22.0</td>\n",
       "      <td>Private</td>\n",
       "      <td>201490.0</td>\n",
       "      <td>HS-grad</td>\n",
       "      <td>9.0</td>\n",
       "      <td>Never-married</td>\n",
       "      <td>Adm-clerical</td>\n",
       "      <td>Own-child</td>\n",
       "      <td>White</td>\n",
       "      <td>Male</td>\n",
       "      <td>0.0</td>\n",
       "      <td>0.0</td>\n",
       "      <td>20.0</td>\n",
       "      <td>United-States</td>\n",
       "    </tr>\n",
       "    <tr>\n",
       "      <th>48841</th>\n",
       "      <td>52.0</td>\n",
       "      <td>Self-emp-inc</td>\n",
       "      <td>287927.0</td>\n",
       "      <td>HS-grad</td>\n",
       "      <td>9.0</td>\n",
       "      <td>Married-civ-spouse</td>\n",
       "      <td>Exec-managerial</td>\n",
       "      <td>Wife</td>\n",
       "      <td>White</td>\n",
       "      <td>Female</td>\n",
       "      <td>15024.0</td>\n",
       "      <td>0.0</td>\n",
       "      <td>40.0</td>\n",
       "      <td>United-States</td>\n",
       "    </tr>\n",
       "  </tbody>\n",
       "</table>\n",
       "<p>48842 rows × 14 columns</p>\n",
       "</div>"
      ],
      "text/plain": [
       "        age     workclass    fnlwgt     education  education-num  \\\n",
       "0      25.0       Private  226802.0          11th            7.0   \n",
       "1      38.0       Private   89814.0       HS-grad            9.0   \n",
       "2      28.0     Local-gov  336951.0    Assoc-acdm           12.0   \n",
       "3      44.0       Private  160323.0  Some-college           10.0   \n",
       "4      18.0           NaN  103497.0  Some-college           10.0   \n",
       "...     ...           ...       ...           ...            ...   \n",
       "48837  27.0       Private  257302.0    Assoc-acdm           12.0   \n",
       "48838  40.0       Private  154374.0       HS-grad            9.0   \n",
       "48839  58.0       Private  151910.0       HS-grad            9.0   \n",
       "48840  22.0       Private  201490.0       HS-grad            9.0   \n",
       "48841  52.0  Self-emp-inc  287927.0       HS-grad            9.0   \n",
       "\n",
       "           marital-status         occupation relationship   race     sex  \\\n",
       "0           Never-married  Machine-op-inspct    Own-child  Black    Male   \n",
       "1      Married-civ-spouse    Farming-fishing      Husband  White    Male   \n",
       "2      Married-civ-spouse    Protective-serv      Husband  White    Male   \n",
       "3      Married-civ-spouse  Machine-op-inspct      Husband  Black    Male   \n",
       "4           Never-married                NaN    Own-child  White  Female   \n",
       "...                   ...                ...          ...    ...     ...   \n",
       "48837  Married-civ-spouse       Tech-support         Wife  White  Female   \n",
       "48838  Married-civ-spouse  Machine-op-inspct      Husband  White    Male   \n",
       "48839             Widowed       Adm-clerical    Unmarried  White  Female   \n",
       "48840       Never-married       Adm-clerical    Own-child  White    Male   \n",
       "48841  Married-civ-spouse    Exec-managerial         Wife  White  Female   \n",
       "\n",
       "       capital-gain  capital-loss  hours-per-week native-country  \n",
       "0               0.0           0.0            40.0  United-States  \n",
       "1               0.0           0.0            50.0  United-States  \n",
       "2               0.0           0.0            40.0  United-States  \n",
       "3            7688.0           0.0            40.0  United-States  \n",
       "4               0.0           0.0            30.0  United-States  \n",
       "...             ...           ...             ...            ...  \n",
       "48837           0.0           0.0            38.0  United-States  \n",
       "48838           0.0           0.0            40.0  United-States  \n",
       "48839           0.0           0.0            40.0  United-States  \n",
       "48840           0.0           0.0            20.0  United-States  \n",
       "48841       15024.0           0.0            40.0  United-States  \n",
       "\n",
       "[48842 rows x 14 columns]"
      ]
     },
     "execution_count": 3,
     "metadata": {},
     "output_type": "execute_result"
    }
   ],
   "source": [
    "from sklearn.datasets import fetch_openml\n",
    "data = fetch_openml(data_id=1590)\n",
    "\n",
    "\n",
    "# Read the DataFrame, first using the feature data\n",
    "df = pd.DataFrame(data.data, columns=data.feature_names)# Add a target column, and fill it with the target data\n",
    "df"
   ]
  },
  {
   "cell_type": "markdown",
   "id": "48d07093-9357-422d-b982-65bc993834e4",
   "metadata": {},
   "source": [
    "For convenience we split the colums into two groups, categorical and continuous"
   ]
  },
  {
   "cell_type": "code",
   "execution_count": 4,
   "id": "G2BHuKj8Z4vM",
   "metadata": {
    "id": "G2BHuKj8Z4vM"
   },
   "outputs": [],
   "source": [
    "cols_categorical = ['workclass', 'education', 'marital-status', 'occupation',\n",
    "                    'relationship', 'race', 'sex', 'native-country']\n",
    "cols_noncat = [n for n in df.columns if n not in cols_categorical]"
   ]
  },
  {
   "cell_type": "markdown",
   "id": "15ce963a-fb5b-427f-902e-91da9568143a",
   "metadata": {},
   "source": [
    "Adding the target column to the dataframe and convert to 0 and 1"
   ]
  },
  {
   "cell_type": "code",
   "execution_count": 5,
   "id": "3a2MnioVdq2O",
   "metadata": {
    "id": "3a2MnioVdq2O"
   },
   "outputs": [],
   "source": [
    "df['target'] = data.target.eq('>50K').mul(1)"
   ]
  },
  {
   "cell_type": "code",
   "execution_count": 6,
   "id": "hbvUSx1OPgKm",
   "metadata": {
    "colab": {
     "base_uri": "https://localhost:8080/"
    },
    "id": "hbvUSx1OPgKm",
    "outputId": "f2fa1a7c-2fde-4e06-e6a4-ab03fae246b0"
   },
   "outputs": [
    {
     "data": {
      "text/plain": [
       "['age',\n",
       " 'fnlwgt',\n",
       " 'education-num',\n",
       " 'capital-gain',\n",
       " 'capital-loss',\n",
       " 'hours-per-week',\n",
       " 'workclass',\n",
       " 'education',\n",
       " 'marital-status',\n",
       " 'occupation',\n",
       " 'relationship',\n",
       " 'race',\n",
       " 'sex',\n",
       " 'native-country']"
      ]
     },
     "execution_count": 6,
     "metadata": {},
     "output_type": "execute_result"
    }
   ],
   "source": [
    "cols_noncat+cols_categorical"
   ]
  },
  {
   "cell_type": "code",
   "execution_count": 7,
   "id": "9fa7c80f-3979-4b6e-936d-5c29addcc31f",
   "metadata": {
    "colab": {
     "base_uri": "https://localhost:8080/"
    },
    "id": "9fa7c80f-3979-4b6e-936d-5c29addcc31f",
    "outputId": "6c508533-441d-40c6-c9a3-a48b27ad8ce9"
   },
   "outputs": [
    {
     "data": {
      "text/plain": [
       "Index(['age', 'workclass', 'fnlwgt', 'education', 'education-num',\n",
       "       'marital-status', 'occupation', 'relationship', 'race', 'sex',\n",
       "       'capital-gain', 'capital-loss', 'hours-per-week', 'native-country',\n",
       "       'target'],\n",
       "      dtype='object')"
      ]
     },
     "execution_count": 7,
     "metadata": {},
     "output_type": "execute_result"
    }
   ],
   "source": [
    "df.columns"
   ]
  },
  {
   "cell_type": "markdown",
   "id": "7d4a3afc-c241-40c2-aaa7-5242b1c064f1",
   "metadata": {},
   "source": [
    "# Prepare the data\n",
    "\n",
    "The data has to be prepared for the training. We want to convert the categorical variables into numerical values using the scikit-learn OrdinalEncoder (guess, who contributed this 😜)."
   ]
  },
  {
   "cell_type": "code",
   "execution_count": 8,
   "id": "27d24d9c-01b5-4d01-9147-a6460f9d7f96",
   "metadata": {
    "id": "27d24d9c-01b5-4d01-9147-a6460f9d7f96"
   },
   "outputs": [],
   "source": [
    "def prepare_data(df):\n",
    "    cols_categorical = ['workclass', 'education', 'marital-status', 'occupation',\n",
    "                    'relationship', 'race', 'sex', 'native-country']\n",
    "  \n",
    "    enc = OrdinalEncoder(handle_unknown='use_encoded_value', unknown_value=np.nan)\n",
    "      \n",
    "    df[cols_categorical] = enc.fit_transform(df[cols_categorical])\n",
    "\n",
    "    y = np.asarray(df['target'])\n",
    "    X = df.drop(columns='target')\n",
    "\n",
    "    return X, y"
   ]
  },
  {
   "cell_type": "code",
   "execution_count": 9,
   "id": "751aea1d-d1a3-421b-bd20-128d45f1d2ba",
   "metadata": {
    "id": "751aea1d-d1a3-421b-bd20-128d45f1d2ba"
   },
   "outputs": [],
   "source": [
    "X, y = prepare_data(df)"
   ]
  },
  {
   "cell_type": "markdown",
   "id": "c7a45753-d0eb-4e26-8ceb-01c8df2a64a1",
   "metadata": {},
   "source": [
    "# Set the feature properties\n",
    "\n",
    "We need to tell Cyclic Boosting which feature to use and what type of feature these are and how to handle them.\n",
    "\n",
    "We want the continuous features be `IS_CONTINUOUS` with missing values (very handy, isn't it 😎) and the categorical features to be treated as unordered classes (no neighboring relation as in weekdays for example).\n",
    "\n",
    "Note: there is next to no feature engineering done here deliberately. Checking the feature carefully, there can be potentially improved a lot by treating the features individually and maybe even combing them into 2D features (see documentation). We just want to get it up-and-running here."
   ]
  },
  {
   "cell_type": "code",
   "execution_count": 10,
   "id": "0e4334fd-82ac-4eff-9220-538bc6c46b08",
   "metadata": {
    "id": "0e4334fd-82ac-4eff-9220-538bc6c46b08"
   },
   "outputs": [],
   "source": [
    "def feature_properties():\n",
    "    fp = {}\n",
    "\n",
    "    for col in cols_categorical:\n",
    "      fp[col] = flags.IS_UNORDERED | flags.HAS_MISSING | flags.MISSING_NOT_LEARNED\n",
    "\n",
    "    for col in cols_noncat:\n",
    "      fp[col] = flags.IS_CONTINUOUS | flags.HAS_MISSING | flags.MISSING_NOT_LEARNED\n",
    "    \n",
    "    return fp"
   ]
  },
  {
   "cell_type": "code",
   "execution_count": 11,
   "id": "82577889-0d10-4020-b463-90157b38cf90",
   "metadata": {
    "id": "82577889-0d10-4020-b463-90157b38cf90"
   },
   "outputs": [],
   "source": [
    "def get_features():\n",
    "    features = ['age',\n",
    "                'fnlwgt',\n",
    "                'education-num',\n",
    "                'capital-gain',\n",
    "                'capital-loss',\n",
    "                'hours-per-week',\n",
    "                'workclass',\n",
    "                'education',\n",
    "                'marital-status',\n",
    "                'occupation',\n",
    "                'relationship',\n",
    "                'race',\n",
    "                'sex',\n",
    "                'native-country']\n",
    "    return features"
   ]
  },
  {
   "cell_type": "markdown",
   "id": "4f888d5b-3134-48d7-8c9e-d7247f1d7b32",
   "metadata": {},
   "source": [
    "# Build the model\n",
    "\n",
    "The model is implemented as a scikit-learn pipeline, stitching together a Binner and the CB classifier estimator. Most natably, we reduce the number of used bins in all continuous features to 10 instead of 100, should be plenty."
   ]
  },
  {
   "cell_type": "code",
   "execution_count": 12,
   "id": "2fc5b45f-83e5-4bde-898b-48efcdcaf3f0",
   "metadata": {
    "id": "2fc5b45f-83e5-4bde-898b-48efcdcaf3f0"
   },
   "outputs": [],
   "source": [
    "\n",
    "def cb_classifier_model():\n",
    "    features = get_features()\n",
    "\n",
    "    fp = feature_properties()\n",
    "\n",
    "    plobs = [\n",
    "        observers.PlottingObserver(iteration=-1)\n",
    "    ]\n",
    "\n",
    "    CB_pipeline = pipeline_CBClassifier(\n",
    "        feature_properties=fp,\n",
    "        feature_groups=features,\n",
    "        observers=plobs,\n",
    "        maximal_iterations=50,\n",
    "        number_of_bins=10,\n",
    "        smoother_choice=common_smoothers.SmootherChoiceGroupBy(\n",
    "            use_regression_type=True,\n",
    "            use_normalization=False,\n",
    "        ),\n",
    "    )\n",
    "\n",
    "    return CB_pipeline"
   ]
  },
  {
   "cell_type": "code",
   "execution_count": 13,
   "id": "ce5b7bed-68c3-4470-9fd9-eefadefc0402",
   "metadata": {
    "colab": {
     "base_uri": "https://localhost:8080/",
     "height": 126
    },
    "id": "_S857kszB2N0",
    "outputId": "890d3b81-11e9-46b9-ec83-703a4f3c7db7"
   },
   "outputs": [
    {
     "data": {
      "text/html": [
       "<style>#sk-container-id-1 {color: black;background-color: white;}#sk-container-id-1 pre{padding: 0;}#sk-container-id-1 div.sk-toggleable {background-color: white;}#sk-container-id-1 label.sk-toggleable__label {cursor: pointer;display: block;width: 100%;margin-bottom: 0;padding: 0.3em;box-sizing: border-box;text-align: center;}#sk-container-id-1 label.sk-toggleable__label-arrow:before {content: \"▸\";float: left;margin-right: 0.25em;color: #696969;}#sk-container-id-1 label.sk-toggleable__label-arrow:hover:before {color: black;}#sk-container-id-1 div.sk-estimator:hover label.sk-toggleable__label-arrow:before {color: black;}#sk-container-id-1 div.sk-toggleable__content {max-height: 0;max-width: 0;overflow: hidden;text-align: left;background-color: #f0f8ff;}#sk-container-id-1 div.sk-toggleable__content pre {margin: 0.2em;color: black;border-radius: 0.25em;background-color: #f0f8ff;}#sk-container-id-1 input.sk-toggleable__control:checked~div.sk-toggleable__content {max-height: 200px;max-width: 100%;overflow: auto;}#sk-container-id-1 input.sk-toggleable__control:checked~label.sk-toggleable__label-arrow:before {content: \"▾\";}#sk-container-id-1 div.sk-estimator input.sk-toggleable__control:checked~label.sk-toggleable__label {background-color: #d4ebff;}#sk-container-id-1 div.sk-label input.sk-toggleable__control:checked~label.sk-toggleable__label {background-color: #d4ebff;}#sk-container-id-1 input.sk-hidden--visually {border: 0;clip: rect(1px 1px 1px 1px);clip: rect(1px, 1px, 1px, 1px);height: 1px;margin: -1px;overflow: hidden;padding: 0;position: absolute;width: 1px;}#sk-container-id-1 div.sk-estimator {font-family: monospace;background-color: #f0f8ff;border: 1px dotted black;border-radius: 0.25em;box-sizing: border-box;margin-bottom: 0.5em;}#sk-container-id-1 div.sk-estimator:hover {background-color: #d4ebff;}#sk-container-id-1 div.sk-parallel-item::after {content: \"\";width: 100%;border-bottom: 1px solid gray;flex-grow: 1;}#sk-container-id-1 div.sk-label:hover label.sk-toggleable__label {background-color: #d4ebff;}#sk-container-id-1 div.sk-serial::before {content: \"\";position: absolute;border-left: 1px solid gray;box-sizing: border-box;top: 0;bottom: 0;left: 50%;z-index: 0;}#sk-container-id-1 div.sk-serial {display: flex;flex-direction: column;align-items: center;background-color: white;padding-right: 0.2em;padding-left: 0.2em;position: relative;}#sk-container-id-1 div.sk-item {position: relative;z-index: 1;}#sk-container-id-1 div.sk-parallel {display: flex;align-items: stretch;justify-content: center;background-color: white;position: relative;}#sk-container-id-1 div.sk-item::before, #sk-container-id-1 div.sk-parallel-item::before {content: \"\";position: absolute;border-left: 1px solid gray;box-sizing: border-box;top: 0;bottom: 0;left: 50%;z-index: -1;}#sk-container-id-1 div.sk-parallel-item {display: flex;flex-direction: column;z-index: 1;position: relative;background-color: white;}#sk-container-id-1 div.sk-parallel-item:first-child::after {align-self: flex-end;width: 50%;}#sk-container-id-1 div.sk-parallel-item:last-child::after {align-self: flex-start;width: 50%;}#sk-container-id-1 div.sk-parallel-item:only-child::after {width: 0;}#sk-container-id-1 div.sk-dashed-wrapped {border: 1px dashed gray;margin: 0 0.4em 0.5em 0.4em;box-sizing: border-box;padding-bottom: 0.4em;background-color: white;}#sk-container-id-1 div.sk-label label {font-family: monospace;font-weight: bold;display: inline-block;line-height: 1.2em;}#sk-container-id-1 div.sk-label-container {text-align: center;}#sk-container-id-1 div.sk-container {/* jupyter's `normalize.less` sets `[hidden] { display: none; }` but bootstrap.min.css set `[hidden] { display: none !important; }` so we also need the `!important` here to be able to override the default hidden behavior on the sphinx rendered scikit-learn.org. See: https://github.com/scikit-learn/scikit-learn/issues/21755 */display: inline-block !important;position: relative;}#sk-container-id-1 div.sk-text-repr-fallback {display: none;}</style><div id=\"sk-container-id-1\" class=\"sk-top-container\"><div class=\"sk-text-repr-fallback\"><pre>Pipeline(steps=[(&#x27;binning&#x27;,\n",
       "                 BinNumberTransformer(feature_properties={&#x27;age&#x27;: 49,\n",
       "                                                          &#x27;capital-gain&#x27;: 49,\n",
       "                                                          &#x27;capital-loss&#x27;: 49,\n",
       "                                                          &#x27;education&#x27;: 52,\n",
       "                                                          &#x27;education-num&#x27;: 49,\n",
       "                                                          &#x27;fnlwgt&#x27;: 49,\n",
       "                                                          &#x27;hours-per-week&#x27;: 49,\n",
       "                                                          &#x27;marital-status&#x27;: 52,\n",
       "                                                          &#x27;native-country&#x27;: 52,\n",
       "                                                          &#x27;occupation&#x27;: 52,\n",
       "                                                          &#x27;race&#x27;: 52,\n",
       "                                                          &#x27;relationship&#x27;: 52,\n",
       "                                                          &#x27;sex&#x27;: 52,\n",
       "                                                          &#x27;workclass&#x27;: 52},\n",
       "                                      n_bins=10)),\n",
       "                (&#x27;CB&#x27;,\n",
       "                 CBClassifier(feature_groups=[&#x27;age&#x27;, &#x27;fnlwgt&#x27;,...\n",
       "                                                  &#x27;occupation&#x27;: 52, &#x27;race&#x27;: 52,\n",
       "                                                  &#x27;relationship&#x27;: 52, &#x27;sex&#x27;: 52,\n",
       "                                                  &#x27;workclass&#x27;: 52},\n",
       "                              learn_rate=&lt;function half_linear_learn_rate at 0x12302de10&gt;,\n",
       "                              maximal_iterations=50,\n",
       "                              minimal_factor_change=0.001,\n",
       "                              minimal_loss_change=0.001,\n",
       "                              observers=[&lt;cyclic_boosting.observers.PlottingObserver object at 0x1248f7460&gt;],\n",
       "                              smoother_choice=&lt;cyclic_boosting.common_smoothers.SmootherChoiceGroupBy object at 0x1248f6650&gt;))])</pre><b>In a Jupyter environment, please rerun this cell to show the HTML representation or trust the notebook. <br />On GitHub, the HTML representation is unable to render, please try loading this page with nbviewer.org.</b></div><div class=\"sk-container\" hidden><div class=\"sk-item sk-dashed-wrapped\"><div class=\"sk-label-container\"><div class=\"sk-label sk-toggleable\"><input class=\"sk-toggleable__control sk-hidden--visually\" id=\"sk-estimator-id-1\" type=\"checkbox\" ><label for=\"sk-estimator-id-1\" class=\"sk-toggleable__label sk-toggleable__label-arrow\">Pipeline</label><div class=\"sk-toggleable__content\"><pre>Pipeline(steps=[(&#x27;binning&#x27;,\n",
       "                 BinNumberTransformer(feature_properties={&#x27;age&#x27;: 49,\n",
       "                                                          &#x27;capital-gain&#x27;: 49,\n",
       "                                                          &#x27;capital-loss&#x27;: 49,\n",
       "                                                          &#x27;education&#x27;: 52,\n",
       "                                                          &#x27;education-num&#x27;: 49,\n",
       "                                                          &#x27;fnlwgt&#x27;: 49,\n",
       "                                                          &#x27;hours-per-week&#x27;: 49,\n",
       "                                                          &#x27;marital-status&#x27;: 52,\n",
       "                                                          &#x27;native-country&#x27;: 52,\n",
       "                                                          &#x27;occupation&#x27;: 52,\n",
       "                                                          &#x27;race&#x27;: 52,\n",
       "                                                          &#x27;relationship&#x27;: 52,\n",
       "                                                          &#x27;sex&#x27;: 52,\n",
       "                                                          &#x27;workclass&#x27;: 52},\n",
       "                                      n_bins=10)),\n",
       "                (&#x27;CB&#x27;,\n",
       "                 CBClassifier(feature_groups=[&#x27;age&#x27;, &#x27;fnlwgt&#x27;,...\n",
       "                                                  &#x27;occupation&#x27;: 52, &#x27;race&#x27;: 52,\n",
       "                                                  &#x27;relationship&#x27;: 52, &#x27;sex&#x27;: 52,\n",
       "                                                  &#x27;workclass&#x27;: 52},\n",
       "                              learn_rate=&lt;function half_linear_learn_rate at 0x12302de10&gt;,\n",
       "                              maximal_iterations=50,\n",
       "                              minimal_factor_change=0.001,\n",
       "                              minimal_loss_change=0.001,\n",
       "                              observers=[&lt;cyclic_boosting.observers.PlottingObserver object at 0x1248f7460&gt;],\n",
       "                              smoother_choice=&lt;cyclic_boosting.common_smoothers.SmootherChoiceGroupBy object at 0x1248f6650&gt;))])</pre></div></div></div><div class=\"sk-serial\"><div class=\"sk-item\"><div class=\"sk-estimator sk-toggleable\"><input class=\"sk-toggleable__control sk-hidden--visually\" id=\"sk-estimator-id-2\" type=\"checkbox\" ><label for=\"sk-estimator-id-2\" class=\"sk-toggleable__label sk-toggleable__label-arrow\">BinNumberTransformer</label><div class=\"sk-toggleable__content\"><pre>BinNumberTransformer(feature_properties={&#x27;age&#x27;: 49, &#x27;capital-gain&#x27;: 49,\n",
       "                                         &#x27;capital-loss&#x27;: 49, &#x27;education&#x27;: 52,\n",
       "                                         &#x27;education-num&#x27;: 49, &#x27;fnlwgt&#x27;: 49,\n",
       "                                         &#x27;hours-per-week&#x27;: 49,\n",
       "                                         &#x27;marital-status&#x27;: 52,\n",
       "                                         &#x27;native-country&#x27;: 52, &#x27;occupation&#x27;: 52,\n",
       "                                         &#x27;race&#x27;: 52, &#x27;relationship&#x27;: 52,\n",
       "                                         &#x27;sex&#x27;: 52, &#x27;workclass&#x27;: 52},\n",
       "                     n_bins=10)</pre></div></div></div><div class=\"sk-item\"><div class=\"sk-estimator sk-toggleable\"><input class=\"sk-toggleable__control sk-hidden--visually\" id=\"sk-estimator-id-3\" type=\"checkbox\" ><label for=\"sk-estimator-id-3\" class=\"sk-toggleable__label sk-toggleable__label-arrow\">CBClassifier</label><div class=\"sk-toggleable__content\"><pre>CBClassifier(feature_groups=[&#x27;age&#x27;, &#x27;fnlwgt&#x27;, &#x27;education-num&#x27;, &#x27;capital-gain&#x27;,\n",
       "                             &#x27;capital-loss&#x27;, &#x27;hours-per-week&#x27;, &#x27;workclass&#x27;,\n",
       "                             &#x27;education&#x27;, &#x27;marital-status&#x27;, &#x27;occupation&#x27;,\n",
       "                             &#x27;relationship&#x27;, &#x27;race&#x27;, &#x27;sex&#x27;, &#x27;native-country&#x27;],\n",
       "             feature_properties={&#x27;age&#x27;: 49, &#x27;capital-gain&#x27;: 49,\n",
       "                                 &#x27;capital-loss&#x27;: 49, &#x27;education&#x27;: 52,\n",
       "                                 &#x27;education-num&#x27;: 49, &#x27;fnlwgt&#x27;: 49,\n",
       "                                 &#x27;hours-per-week&#x27;: 49, &#x27;marital-sta...\n",
       "                                 &#x27;race&#x27;: 52, &#x27;relationship&#x27;: 52, &#x27;sex&#x27;: 52,\n",
       "                                 &#x27;workclass&#x27;: 52},\n",
       "             learn_rate=&lt;function half_linear_learn_rate at 0x12302de10&gt;,\n",
       "             maximal_iterations=50, minimal_factor_change=0.001,\n",
       "             minimal_loss_change=0.001,\n",
       "             observers=[&lt;cyclic_boosting.observers.PlottingObserver object at 0x1248f7460&gt;],\n",
       "             smoother_choice=&lt;cyclic_boosting.common_smoothers.SmootherChoiceGroupBy object at 0x1248f6650&gt;)</pre></div></div></div></div></div></div></div>"
      ],
      "text/plain": [
       "Pipeline(steps=[('binning',\n",
       "                 BinNumberTransformer(feature_properties={'age': 49,\n",
       "                                                          'capital-gain': 49,\n",
       "                                                          'capital-loss': 49,\n",
       "                                                          'education': 52,\n",
       "                                                          'education-num': 49,\n",
       "                                                          'fnlwgt': 49,\n",
       "                                                          'hours-per-week': 49,\n",
       "                                                          'marital-status': 52,\n",
       "                                                          'native-country': 52,\n",
       "                                                          'occupation': 52,\n",
       "                                                          'race': 52,\n",
       "                                                          'relationship': 52,\n",
       "                                                          'sex': 52,\n",
       "                                                          'workclass': 52},\n",
       "                                      n_bins=10)),\n",
       "                ('CB',\n",
       "                 CBClassifier(feature_groups=['age', 'fnlwgt',...\n",
       "                                                  'occupation': 52, 'race': 52,\n",
       "                                                  'relationship': 52, 'sex': 52,\n",
       "                                                  'workclass': 52},\n",
       "                              learn_rate=<function half_linear_learn_rate at 0x12302de10>,\n",
       "                              maximal_iterations=50,\n",
       "                              minimal_factor_change=0.001,\n",
       "                              minimal_loss_change=0.001,\n",
       "                              observers=[<cyclic_boosting.observers.PlottingObserver object at 0x1248f7460>],\n",
       "                              smoother_choice=<cyclic_boosting.common_smoothers.SmootherChoiceGroupBy object at 0x1248f6650>))])"
      ]
     },
     "execution_count": 13,
     "metadata": {},
     "output_type": "execute_result"
    }
   ],
   "source": [
    "CB_est = cb_classifier_model()\n",
    "\n",
    "CB_est"
   ]
  },
  {
   "cell_type": "markdown",
   "id": "6a1697b1-2eb8-4601-9d44-dc9b97bbdaa4",
   "metadata": {},
   "source": [
    "# The training"
   ]
  },
  {
   "cell_type": "code",
   "execution_count": 14,
   "id": "4951d71a-2696-41f6-9746-3e46ecc56703",
   "metadata": {
    "colab": {
     "base_uri": "https://localhost:8080/"
    },
    "id": "c802821e-3973-42be-83dc-50e9337b2210",
    "outputId": "77429d43-4b83-40ae-9fd8-04bbd2595711"
   },
   "outputs": [
    {
     "name": "stdout",
     "output_type": "stream",
     "text": [
      "1.18 s ± 0 ns per loop (mean ± std. dev. of 1 run, 1 loop each)\n"
     ]
    }
   ],
   "source": [
    "%%timeit -r 1\n",
    "CB_est.fit(X.copy(), y)"
   ]
  },
  {
   "cell_type": "markdown",
   "id": "f1edccbe-f17e-45ff-a277-da2da71031af",
   "metadata": {},
   "source": [
    "That's it, now we did the training, that was fast and easy, isn't it?"
   ]
  },
  {
   "cell_type": "markdown",
   "id": "782eac60-37c4-45ed-885e-eb1fc59d2166",
   "metadata": {},
   "source": [
    "## Evaluation\n",
    "\n",
    "Now we can do the inference for all samples. Note that we get proper probabilities for all target categories using predict_proba, which is really nice! "
   ]
  },
  {
   "cell_type": "code",
   "execution_count": 15,
   "id": "154b2983-7d78-4ce1-aac8-3cf0f350cff4",
   "metadata": {
    "colab": {
     "base_uri": "https://localhost:8080/"
    },
    "id": "c802821e-3973-42be-83dc-50e9337b2210",
    "outputId": "77429d43-4b83-40ae-9fd8-04bbd2595711"
   },
   "outputs": [],
   "source": [
    "yhat = CB_est.predict_proba(X.copy())"
   ]
  },
  {
   "cell_type": "markdown",
   "id": "e772969e-1f89-4155-a232-d52cd5e337df",
   "metadata": {},
   "source": [
    "With this we can calculate the mean absolute deviation"
   ]
  },
  {
   "cell_type": "code",
   "execution_count": 16,
   "id": "031d7c9f-280d-4e1e-a363-1b8ecfa090a1",
   "metadata": {
    "colab": {
     "base_uri": "https://localhost:8080/"
    },
    "id": "c802821e-3973-42be-83dc-50e9337b2210",
    "outputId": "77429d43-4b83-40ae-9fd8-04bbd2595711"
   },
   "outputs": [
    {
     "data": {
      "text/plain": [
       "0.7789289483476862"
      ]
     },
     "execution_count": 16,
     "metadata": {},
     "output_type": "execute_result"
    }
   ],
   "source": [
    "mad = np.nanmean(np.abs(y - yhat[:,0]))\n",
    "mad"
   ]
  },
  {
   "cell_type": "markdown",
   "id": "366682eb-dd77-4752-a98d-c9cd1ea7ea82",
   "metadata": {},
   "source": [
    "Or the scikit-learn in-sample score (yes, you should do some cross-validation for a real world problem 😬)"
   ]
  },
  {
   "cell_type": "code",
   "execution_count": 17,
   "id": "b6GJY01vLR-G",
   "metadata": {
    "colab": {
     "base_uri": "https://localhost:8080/"
    },
    "id": "b6GJY01vLR-G",
    "outputId": "1ee5400f-e44d-4e93-a140-d0d6cfb35c47"
   },
   "outputs": [
    {
     "data": {
      "text/plain": [
       "0.8414888825191433"
      ]
     },
     "execution_count": 17,
     "metadata": {},
     "output_type": "execute_result"
    }
   ],
   "source": [
    "# in-sample score\n",
    "CB_est.score(X, y)"
   ]
  },
  {
   "cell_type": "markdown",
   "id": "cec052aa-622a-431e-8874-bff6de8c5124",
   "metadata": {},
   "source": [
    "# Some nice plots\n",
    "\n",
    "Cyclic Boosting has some useful reporting of the traning included. We can create a pdf with this code"
   ]
  },
  {
   "cell_type": "code",
   "execution_count": 18,
   "id": "145d75e4-aabe-4f7a-89fc-12d4df8c72e8",
   "metadata": {
    "id": "145d75e4-aabe-4f7a-89fc-12d4df8c72e8"
   },
   "outputs": [],
   "source": [
    "def plot_CB(filename, plobs, binner):\n",
    "    for i, p in enumerate(plobs):\n",
    "        plot_analysis(\n",
    "            plot_observer=p,\n",
    "            file_obj=filename + \"_{}\".format(i),\n",
    "            use_tightlayout=False,\n",
    "            binners=[binner]\n",
    "        )"
   ]
  },
  {
   "cell_type": "code",
   "execution_count": 19,
   "id": "e6bd7d19-4320-4666-9554-99587b1dc63e",
   "metadata": {
    "colab": {
     "base_uri": "https://localhost:8080/"
    },
    "id": "c802821e-3973-42be-83dc-50e9337b2210",
    "outputId": "77429d43-4b83-40ae-9fd8-04bbd2595711"
   },
   "outputs": [],
   "source": [
    "plot_CB('analysis_CB_iterlast',\n",
    "         [CB_est[-1].observers[-1]], CB_est[-2])\n",
    "\n"
   ]
  },
  {
   "cell_type": "markdown",
   "id": "b354090a-4dc7-4c7d-aaba-8d4bf0e76fde",
   "metadata": {},
   "source": [
    "You will now find a pdf file containing all sorts of plots. They are explained in the documentation of Cyclic Boosting.\n",
    "\n",
    "Just as an eye candy, lets plot the separation of of both classes."
   ]
  },
  {
   "cell_type": "code",
   "execution_count": 20,
   "id": "9e0bac85-270f-4b69-baaa-eb6379840c74",
   "metadata": {
    "id": "9e0bac85-270f-4b69-baaa-eb6379840c74"
   },
   "outputs": [],
   "source": [
    "df['pred'] = yhat[:,0]"
   ]
  },
  {
   "cell_type": "code",
   "execution_count": 21,
   "id": "xb2OubdTFTik",
   "metadata": {
    "colab": {
     "base_uri": "https://localhost:8080/",
     "height": 448
    },
    "id": "xb2OubdTFTik",
    "outputId": "71e5a437-68a8-4b3b-c960-8570331e286e"
   },
   "outputs": [
    {
     "data": {
      "text/plain": [
       "<AxesSubplot: >"
      ]
     },
     "execution_count": 21,
     "metadata": {},
     "output_type": "execute_result"
    },
    {
     "data": {
      "image/png": "[encoded data removed]",
      "text/plain": [
       "<Figure size 640x480 with 1 Axes>"
      ]
     },
     "metadata": {},
     "output_type": "display_data"
    }
   ],
   "source": [
    "ax = df[df['target']>0].pred.hist(log=True, alpha = 0.5)\n",
    "df[df['target']==0].pred.hist(log=True, alpha = 0.5, ax=ax)"
   ]
  },
  {
   "cell_type": "markdown",
   "id": "06332047-674e-4fc2-9f7a-fefe8137652f",
   "metadata": {
    "id": "f65d33f1-bb4f-41f3-9491-6f2add0a8ac8"
   },
   "source": [
    "You see, it is easy to do a classification using Cyclic Boosting and it works!"
   ]
  },
  {
   "cell_type": "code",
   "execution_count": null,
   "id": "42ac1bc3-321c-4a6a-9af7-6195ed7a679a",
   "metadata": {},
   "outputs": [],
   "source": []
  }
 ],
 "metadata": {
  "colab": {
   "provenance": []
  },
  "kernelspec": {
   "display_name": "Python 3 (ipykernel)",
   "language": "python",
   "name": "python3"
  },
  "language_info": {
   "codemirror_mode": {
    "name": "ipython",
    "version": 3
   },
   "file_extension": ".py",
   "mimetype": "text/x-python",
   "name": "python",
   "nbconvert_exporter": "python",
   "pygments_lexer": "ipython3",
   "version": "3.10.8"
  }
 },
 "nbformat": 4,
 "nbformat_minor": 5
}

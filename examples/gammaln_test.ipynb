{
 "cells": [
  {
   "cell_type": "markdown",
   "id": "ccecfb26-bb34-4614-8d3a-3784e73aa25a",
   "metadata": {},
   "source": [
    "# Analysis: Different logarithm of Gamma function implementations\n",
    "\n",
    "Notebook to find out if we can replace `gammaln` of scipy with a numba implementation"
   ]
  },
  {
   "cell_type": "code",
   "execution_count": 2,
   "id": "eedd5eb7-1ab3-401d-80ce-d01a94b2e151",
   "metadata": {},
   "outputs": [
    {
     "data": {
      "text/html": [
       "\n",
       "                <script type=\"application/javascript\" id=\"jupyter_black\">\n",
       "                (function() {\n",
       "                    if (window.IPython === undefined) {\n",
       "                        return\n",
       "                    }\n",
       "                    var msg = \"WARNING: it looks like you might have loaded \" +\n",
       "                        \"jupyter_black in a non-lab notebook with \" +\n",
       "                        \"`is_lab=True`. Please double check, and if \" +\n",
       "                        \"loading with `%load_ext` please review the README!\"\n",
       "                    console.log(msg)\n",
       "                    alert(msg)\n",
       "                })()\n",
       "                </script>\n",
       "                "
      ],
      "text/plain": [
       "<IPython.core.display.HTML object>"
      ]
     },
     "metadata": {},
     "output_type": "display_data"
    }
   ],
   "source": [
    "from jupyter_black import load\n",
    "\n",
    "load(line_length=100)"
   ]
  },
  {
   "cell_type": "code",
   "execution_count": 331,
   "id": "8828090f-eb5f-4318-b836-a8fae654b3f4",
   "metadata": {},
   "outputs": [],
   "source": [
    "from scipy.special import gammaln, gamma\n",
    "from numba import njit, float64\n",
    "from timeit import timeit\n",
    "import numpy as np"
   ]
  },
  {
   "cell_type": "markdown",
   "id": "c0ee729f-550f-49e0-8785-1960b4dd2fb3",
   "metadata": {},
   "source": [
    "## Naïve method\n",
    "\n",
    "Gets slower for larger $x$. Only works with integers"
   ]
  },
  {
   "cell_type": "code",
   "execution_count": 5,
   "id": "df3e8df2-6122-4d38-a3eb-0f5d5374f9e6",
   "metadata": {},
   "outputs": [],
   "source": [
    "@njit()\n",
    "def gammaln_pos_int(x: float64):\n",
    "    \"\"\"Logarithm of the Gamma function for positive integer values (as float64).\"\"\"\n",
    "    result = 1.0\n",
    "    while x - 2.0 > 1e-6:\n",
    "        x -= 1.0\n",
    "        result *= x\n",
    "    return np.log(result)"
   ]
  },
  {
   "cell_type": "code",
   "execution_count": 6,
   "id": "184f6b06-3956-45fb-a48d-2e2d9a8ebfae",
   "metadata": {},
   "outputs": [
    {
     "name": "stdout",
     "output_type": "stream",
     "text": [
      "CPU times: user 118 ms, sys: 6.84 ms, total: 124 ms\n",
      "Wall time: 124 ms\n"
     ]
    },
    {
     "data": {
      "text/plain": [
       "3.1780538303479458"
      ]
     },
     "execution_count": 6,
     "metadata": {},
     "output_type": "execute_result"
    }
   ],
   "source": [
    "%%time\n",
    "gammaln_pos_int(5)"
   ]
  },
  {
   "cell_type": "code",
   "execution_count": 7,
   "id": "0cd68f3d-8014-4de4-8d47-e3e8aff428a8",
   "metadata": {},
   "outputs": [
    {
     "name": "stdout",
     "output_type": "stream",
     "text": [
      "CPU times: user 5 µs, sys: 0 ns, total: 5 µs\n",
      "Wall time: 7.15 µs\n"
     ]
    },
    {
     "data": {
      "text/plain": [
       "3.1780538303479458"
      ]
     },
     "execution_count": 7,
     "metadata": {},
     "output_type": "execute_result"
    }
   ],
   "source": [
    "%%time\n",
    "gammaln_pos_int(5)"
   ]
  },
  {
   "cell_type": "code",
   "execution_count": 8,
   "id": "ed19b959-8e13-496c-a244-50681bc2af45",
   "metadata": {},
   "outputs": [
    {
     "name": "stdout",
     "output_type": "stream",
     "text": [
      "139 ns ± 34.4 ns per loop (mean ± std. dev. of 100 runs, 10,000 loops each)\n"
     ]
    }
   ],
   "source": [
    "%%timeit -r 100 -n 10000\n",
    "gammaln_pos_int(25)"
   ]
  },
  {
   "cell_type": "code",
   "execution_count": 9,
   "id": "93f14257-26db-493c-a585-5ccc46656e2f",
   "metadata": {},
   "outputs": [
    {
     "name": "stdout",
     "output_type": "stream",
     "text": [
      "672 ns ± 67.6 ns per loop (mean ± std. dev. of 100 runs, 10,000 loops each)\n"
     ]
    }
   ],
   "source": [
    "%%timeit -r 100 -n 10000\n",
    "gammaln(25)"
   ]
  },
  {
   "cell_type": "code",
   "execution_count": 45,
   "id": "8515a1ef-7765-468d-ad59-336640dae743",
   "metadata": {},
   "outputs": [
    {
     "name": "stdout",
     "output_type": "stream",
     "text": [
      "934 ns ± 90.6 ns per loop (mean ± std. dev. of 100 runs, 10,000 loops each)\n"
     ]
    }
   ],
   "source": [
    "%%timeit -r 100 -n 10000\n",
    "gammaln_pos_int(1000)"
   ]
  },
  {
   "cell_type": "code",
   "execution_count": 46,
   "id": "b3d420cc-aeb9-4bca-9c15-a010c536c5f6",
   "metadata": {},
   "outputs": [
    {
     "name": "stdout",
     "output_type": "stream",
     "text": [
      "664 ns ± 44.6 ns per loop (mean ± std. dev. of 100 runs, 10,000 loops each)\n"
     ]
    }
   ],
   "source": [
    "%%timeit -r 100 -n 10000\n",
    "gammaln(1000)"
   ]
  },
  {
   "cell_type": "code",
   "execution_count": 10,
   "id": "cc85fe44-08bf-4cc8-8b05-b804bea43bd4",
   "metadata": {},
   "outputs": [
    {
     "data": {
      "text/plain": [
       "0.0"
      ]
     },
     "execution_count": 10,
     "metadata": {},
     "output_type": "execute_result"
    }
   ],
   "source": [
    "abs(gammaln_pos_int(25) - gammaln(25))"
   ]
  },
  {
   "cell_type": "code",
   "execution_count": 451,
   "id": "8fd83621-47a8-4b9b-8cfe-bac055ec2436",
   "metadata": {},
   "outputs": [
    {
     "data": {
      "text/plain": [
       "0.0"
      ]
     },
     "execution_count": 451,
     "metadata": {},
     "output_type": "execute_result"
    }
   ],
   "source": [
    "abs(gammaln_pos_int(150) - gammaln(150))"
   ]
  },
  {
   "cell_type": "markdown",
   "id": "5514ce3e-6dcf-4752-9d45-7d5a6d4e3afb",
   "metadata": {},
   "source": [
    "## Sterling method "
   ]
  },
  {
   "cell_type": "code",
   "execution_count": 267,
   "id": "f09c2280-d6a3-423a-b4a2-c7fbdd904f19",
   "metadata": {},
   "outputs": [],
   "source": [
    "@njit()\n",
    "def gammaln_pos_float(x: float64):\n",
    "    \"\"\"Logarithm of the Gamma function for positive integer values (as float64).\"\"\"\n",
    "\n",
    "    f = np.log(np.sqrt(2 * np.pi))\n",
    "\n",
    "    return f + np.log(x) * (x - 0.5) - x"
   ]
  },
  {
   "cell_type": "code",
   "execution_count": 268,
   "id": "d552d59f-ff80-4eb1-89a9-ca709b9959d4",
   "metadata": {},
   "outputs": [
    {
     "name": "stdout",
     "output_type": "stream",
     "text": [
      "CPU times: user 3 µs, sys: 0 ns, total: 3 µs\n",
      "Wall time: 5.72 µs\n"
     ]
    },
    {
     "data": {
      "text/plain": [
       "477.0439988273413"
      ]
     },
     "execution_count": 268,
     "metadata": {},
     "output_type": "execute_result"
    }
   ],
   "source": [
    "%time\n",
    "gammaln_pos_float(125)"
   ]
  },
  {
   "cell_type": "code",
   "execution_count": 269,
   "id": "43c8fb0d-9d66-4718-bf8d-da2e1afe4b7f",
   "metadata": {},
   "outputs": [
    {
     "name": "stdout",
     "output_type": "stream",
     "text": [
      "130 ns ± 34.9 ns per loop (mean ± std. dev. of 100 runs, 10,000 loops each)\n"
     ]
    }
   ],
   "source": [
    "%%timeit -r 100 -n 10000\n",
    "gammaln_pos_float(125)"
   ]
  },
  {
   "cell_type": "code",
   "execution_count": 270,
   "id": "2841da96-8522-4053-9e35-e46366f876c8",
   "metadata": {},
   "outputs": [
    {
     "name": "stdout",
     "output_type": "stream",
     "text": [
      "668 ns ± 67.5 ns per loop (mean ± std. dev. of 100 runs, 10,000 loops each)\n"
     ]
    }
   ],
   "source": [
    "%%timeit -r 100 -n 10000\n",
    "gammaln(125)"
   ]
  },
  {
   "cell_type": "code",
   "execution_count": 389,
   "id": "7c9af5f4-f547-4510-8102-dcc8f45a8519",
   "metadata": {},
   "outputs": [
    {
     "name": "stdout",
     "output_type": "stream",
     "text": [
      "0.1 0.5127400813319152 3.8163205496915644 0.0\n",
      "0.2 0.3222939154958817 1.264845287976411 0.0\n",
      "0.5 0.1534264097200273 0.2521069498392352 0.0\n",
      "1.0 0.08106146679532733 0.07786299110421091 0.0\n",
      "1.5 0.054814121051917686 0.047270372926261794 0.0\n",
      "2.0 0.04134069595540946 0.04049782425550863 0.0\n",
      "5.0 0.016644691189821703 0.3961664084819958 3.552713678800501e-15\n",
      "7.5 0.01110455975820912 20.664507784007355 1.1368683772161603e-12\n",
      "10 0.008330563433359472 3010.43812589522 1.7462298274040222e-10\n",
      "15 0.0055547335519641194 482909720.0357361 0.0001678466796875\n",
      "20 0.004166319691996989 505758070775344.0 80.0\n",
      "30 0.002777674929745899 2.452546297416522e+28 7.430939385161318e+16\n"
     ]
    }
   ],
   "source": [
    "for x in [0.1, 0.2, 0.5, 1.0, 1.5, 2.0, 5.0, 7.5, 10, 15, 20, 30]:\n",
    "    print(\n",
    "        x,\n",
    "        abs(gammaln_pos_float(x) - gammaln(x)),\n",
    "        abs(np.exp(gammaln_pos_float(x)) - np.exp(gammaln(x))),\n",
    "        abs(gamma(x) - np.exp(gammaln(x))),\n",
    "    )"
   ]
  },
  {
   "cell_type": "markdown",
   "id": "30f82a46-933a-4da8-bec2-bfc881bdd9de",
   "metadata": {},
   "source": [
    "## Itegration by parts method\n",
    "\n",
    "From [wikipedia](https://en.wikipedia.org/wiki/Gamma_function#Approximations)"
   ]
  },
  {
   "cell_type": "code",
   "execution_count": 498,
   "id": "3215895d-eca9-4895-b6a4-4fd24227ac71",
   "metadata": {},
   "outputs": [],
   "source": [
    "@njit()\n",
    "def gammaln_pos_float_2(z: float64):\n",
    "    \"\"\"Logarithm of the Gamma function for positive integer values (as float64).\"\"\"\n",
    "\n",
    "    x = 12.0\n",
    "    result = 0.0\n",
    "    for n in range(30):\n",
    "        denominator = 1.0\n",
    "        for i in range(n + 1):\n",
    "            denominator *= z + i\n",
    "        result += x**n / denominator\n",
    "    return np.log(x**z * np.exp(-x) * result)"
   ]
  },
  {
   "cell_type": "code",
   "execution_count": 500,
   "id": "4e1e9bb2-24ec-4e52-8241-8be2589178f1",
   "metadata": {},
   "outputs": [
    {
     "name": "stdout",
     "output_type": "stream",
     "text": [
      "438 ns ± 3.49 ns per loop (mean ± std. dev. of 100 runs, 10,000 loops each)\n"
     ]
    }
   ],
   "source": [
    "%%timeit -r 100 -n 10000\n",
    "gammaln_pos_float_2(1.5)"
   ]
  },
  {
   "cell_type": "code",
   "execution_count": 501,
   "id": "89d7e0c3-5dee-498a-8a89-dd1b6ab3586e",
   "metadata": {},
   "outputs": [
    {
     "name": "stdout",
     "output_type": "stream",
     "text": [
      "471 ns ± 3.8 ns per loop (mean ± std. dev. of 100 runs, 10,000 loops each)\n"
     ]
    }
   ],
   "source": [
    "%%timeit -r 100 -n 10000\n",
    "gammaln(1.5)"
   ]
  },
  {
   "cell_type": "code",
   "execution_count": 492,
   "id": "196d71d7-8944-4fee-b3fc-7a0f227cce9a",
   "metadata": {},
   "outputs": [
    {
     "name": "stdout",
     "output_type": "stream",
     "text": [
      "1.0 3.2930392500035596e-06 3.2930338279557603e-06 3.2930338279557603e-06\n",
      "1.1 3.152121549186704e-06 2.9987685362664607e-06 2.9987685364885053e-06\n",
      "1.2 3.070431918480998e-06 2.8191702852176093e-06 2.8191702853286316e-06\n",
      "1.3 3.0559713881106454e-06 2.74264057886775e-06 2.74264057886775e-06\n",
      "1.4 3.11899672159055e-06 2.7673686222584593e-06 2.7673686222584593e-06\n",
      "1.5 3.2723819318042358e-06 2.9000682332247507e-06 2.9000682332247507e-06\n",
      "1.6 3.53203142296199e-06 3.1559187171348313e-06 3.1559187172458536e-06\n",
      "1.7 3.917349525595082e-06 3.55944853724921e-06 3.5594485374712548e-06\n",
      "1.8 4.451771390676096e-06 4.146298396179304e-06 4.146298396068282e-06\n",
      "1.9 5.1633603647890935e-06 4.9659307562732735e-06 4.965930756162251e-06\n",
      "2.0 6.085477079432475e-06 6.085458562954393e-06 6.085458562954393e-06\n"
     ]
    }
   ],
   "source": [
    "for x in [1.0, 1.1, 1.2, 1.3, 1.4, 1.5, 1.6, 1.7, 1.8, 1.9, 2.0]:\n",
    "    print(\n",
    "        x,\n",
    "        abs(gammaln_pos_float_2(x) - gammaln(x)),\n",
    "        abs(np.exp(gammaln_pos_float_2(x)) - np.exp(gammaln(x))),\n",
    "        abs(np.exp(gammaln_pos_float_2(x)) - gamma(x)),\n",
    "    )"
   ]
  },
  {
   "cell_type": "code",
   "execution_count": 477,
   "id": "e07b1e6b-fbfb-4f6a-a424-7df830795ef7",
   "metadata": {},
   "outputs": [
    {
     "name": "stdout",
     "output_type": "stream",
     "text": [
      "0.1 2.6605757597053525e-09 2.5311408080597175e-08 2.5311408080597175e-08\n",
      "0.2 7.2701593634150186e-09 3.337616583110048e-08 3.337616583110048e-08\n",
      "0.3 1.4714190976761188e-08 4.4018516831556553e-08 4.4018516831556553e-08\n",
      "0.4 2.6174011846791245e-08 5.805813341197563e-08 5.805813341197563e-08\n",
      "0.5 4.3205121480482944e-08 7.657908240865652e-08 7.657908240865652e-08\n",
      "0.6 6.783020634060222e-08 1.010122141487102e-07 1.010122141487102e-07\n",
      "0.7 1.0265027283740125e-07 1.3324572711859162e-07 1.3324572756268083e-07\n",
      "0.8 1.5097650027384724e-07 1.7577131439239224e-07 1.7577131417034764e-07\n",
      "0.9 2.1698572108541647e-07 2.3187714437433726e-07 2.3187714415229266e-07\n"
     ]
    }
   ],
   "source": [
    "for x in [0.1, 0.2, 0.3, 0.4, 0.5, 0.6, 0.7, 0.8, 0.9]:\n",
    "    print(\n",
    "        x,\n",
    "        abs(gammaln_pos_float_2(x) - gammaln(x)),\n",
    "        abs(np.exp(gammaln_pos_float_2(x)) - np.exp(gammaln(x))),\n",
    "        abs(np.exp(gammaln_pos_float_2(x)) - gamma(x)),\n",
    "    )"
   ]
  },
  {
   "cell_type": "code",
   "execution_count": 478,
   "id": "198c207b-07c2-47ca-a67e-77fa9efead10",
   "metadata": {},
   "outputs": [
    {
     "name": "stdout",
     "output_type": "stream",
     "text": [
      "0.1 2.6605757597053525e-09 2.5311408080597175e-08 7.260795021623118\n",
      "0.2 7.2701593634150186e-09 3.337616583110048e-08 3.066779856191853\n",
      "0.5 4.3205121480482944e-08 7.657908240865652e-08 1.2000888314017335\n",
      "1.0 3.059026321617574e-07 3.0590258537355197e-07 0.9999996940974146\n",
      "1.5 1.380058125138861e-06 1.2230438252158748e-06 1.007007940044178\n",
      "2.0 4.894449181769612e-06 4.894437203972757e-06 0.999995105562796\n",
      "5.0 0.0008570083375376569 0.020559389058643518 20.801386780593415\n",
      "7.5 0.011993126838384605 22.3081506058345 1841.4117909551965\n",
      "10 0.07241335112703418 25348.496394601534 337518.7017779182\n",
      "15 0.6267111650739849 40594894636.68106 46583396538.127884\n",
      "20 2.081193354948887 1.0646607697706454e+17 1.517902343176749e+16\n",
      "30 7.778953942106831 8.838062161365913e+30 3.69983237371272e+27\n"
     ]
    }
   ],
   "source": [
    "for x in [0.1, 0.2, 0.5, 1.0, 1.5, 2.0, 5.0, 7.5, 10, 15, 20, 30]:\n",
    "    print(\n",
    "        x,\n",
    "        abs(gammaln_pos_float_2(x) - gammaln(x)),\n",
    "        abs(np.exp(gammaln_pos_float_2(x)) - np.exp(gammaln(x))),\n",
    "        abs(np.exp(gammaln_pos_float_2(x)) - gammaln(x)),\n",
    "    )"
   ]
  },
  {
   "cell_type": "markdown",
   "id": "2f872aca-43a4-49a7-a3d3-e7e929db71f9",
   "metadata": {},
   "source": [
    "## Plots\n",
    "\n",
    "In the upper graph, green (integration by parts) and red (gammaln) lines overlap (increase linewidth further to confirm) while in the bottom, green (sterling) and red lines overlap.\n",
    "Consequently, combining those two will have optimal results.\n"
   ]
  },
  {
   "cell_type": "code",
   "execution_count": 502,
   "id": "110a834b-a36e-40c2-8b81-470e3726e4dd",
   "metadata": {},
   "outputs": [
    {
     "data": {
      "text/plain": [
       "<matplotlib.legend.Legend at 0x7fbf8e8fa8e0>"
      ]
     },
     "execution_count": 502,
     "metadata": {},
     "output_type": "execute_result"
    },
    {
     "data": {
      "image/png": "[encoded data removed]",
      "text/plain": [
       "<Figure size 1600x1600 with 2 Axes>"
      ]
     },
     "metadata": {},
     "output_type": "display_data"
    }
   ],
   "source": [
    "from matplotlib import pyplot as plt\n",
    "\n",
    "# import seaborn as sns\n",
    "\n",
    "\n",
    "fig, [ax1, ax2] = plt.subplots(2, 1, figsize=(16, 16))\n",
    "\n",
    "x = np.linspace(1e-6, 2, 1000)\n",
    "ax1.plot(x, [gammaln(i) for i in x], \"-r\", label=\"gammaln\", linewidth=3)\n",
    "ax1.plot(x, [gammaln_pos_float(i) for i in x], \"-g\", label=\"sterling\")\n",
    "ax1.plot(x, [gammaln_pos_float_2(i) for i in x], \"-b\", label=\"ibp\")\n",
    "ax1.legend()\n",
    "x = np.linspace(2, 10, 1000)\n",
    "ax2.plot(x, [gammaln(i) for i in x], \"-r\", label=\"gammaln\", linewidth=3)\n",
    "ax2.plot(x, [gammaln_pos_float(i) for i in x], \"-g\", label=\"sterling\")\n",
    "ax2.plot(x, [gammaln_pos_float_2(i) for i in x], \"-b\", label=\"ibp\")\n",
    "ax2.legend()"
   ]
  },
  {
   "cell_type": "markdown",
   "id": "7f1ea4bc-bb34-4f62-9c25-505e9bde0119",
   "metadata": {},
   "source": [
    "## Compute precision\n",
    "\n",
    "The higher $x\\geq 1$, the smaller the error given by $(x+1)e^{-x}$. Unfortunately, the more iterations $n$ are required and the more numerical instable (computes $x^n$) are required. \n",
    "Use the following cell to determine the error for $x$ and modify the number of iterations $n$ to see whether the sum has converged (the fraction becomes very small)"
   ]
  },
  {
   "cell_type": "code",
   "execution_count": 497,
   "id": "db6d06b3-cc0d-4a31-a7c7-48114286e9b9",
   "metadata": {},
   "outputs": [
    {
     "name": "stdout",
     "output_type": "stream",
     "text": [
      "value of the sum: 41637.56252829052,\n",
      "increment after 30 iterations (0 if converged): 0.36350559941745314,\n",
      "Max error: 7.987476059326673e-05\n"
     ]
    }
   ],
   "source": [
    "# Compute precision\n",
    "\n",
    "z = 1.5\n",
    "x = 12  # 20.0\n",
    "N = 30  # 60\n",
    "\n",
    "result = 0.0\n",
    "for n in range(N):\n",
    "    denominator = 1.0\n",
    "    for i in range(n):\n",
    "        denominator *= z + i\n",
    "    nominator = x**n\n",
    "    result += nominator / denominator\n",
    "\n",
    "print(\n",
    "    f\"value of the sum: {result},\\n\"\n",
    "    f\"increment after {N} iterations (0 if converged): {nominator / denominator},\\n\"\n",
    "    f\"Max error: {(x + 1) * np.exp(-x)}\"\n",
    ")"
   ]
  },
  {
   "cell_type": "markdown",
   "id": "ae7b3d96-2058-4830-a946-2e022d6ea9d0",
   "metadata": {},
   "source": [
    "The final function could look like this"
   ]
  },
  {
   "cell_type": "code",
   "execution_count": 384,
   "id": "0a6678ca-c3cf-4a32-9555-2f3032d9e65d",
   "metadata": {},
   "outputs": [],
   "source": [
    "@njit()\n",
    "def gammaln_pos_float_final(z: float64):\n",
    "    \"\"\"Logarithm of the Gamma function for positive integer values (as float64).\"\"\"\n",
    "\n",
    "    if z > 20.0:\n",
    "        # Has error\n",
    "        f = np.log(np.sqrt(2 * np.pi))\n",
    "        return f + np.log(z) * (z - 0.5) - z\n",
    "    else:\n",
    "        x = 15.0\n",
    "        result = 0.0\n",
    "        for n in range(30):\n",
    "            denominator = 1.0\n",
    "            for i in range(n + 1):\n",
    "                denominator *= z + i\n",
    "            result += x**n / denominator\n",
    "        return np.log(x**z * np.exp(-x) * result)"
   ]
  }
 ],
 "metadata": {
  "kernelspec": {
   "display_name": "Python38 (cyclic_boosting)",
   "language": "python",
   "name": "docs"
  },
  "language_info": {
   "codemirror_mode": {
    "name": "ipython",
    "version": 3
   },
   "file_extension": ".py",
   "mimetype": "text/x-python",
   "name": "python",
   "nbconvert_exporter": "python",
   "pygments_lexer": "ipython3",
   "version": "3.8.8"
  }
 },
 "nbformat": 4,
 "nbformat_minor": 5
}

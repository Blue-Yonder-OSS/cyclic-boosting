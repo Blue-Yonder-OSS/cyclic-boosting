{
 "cells": [
  {
   "cell_type": "markdown",
   "id": "ccecfb26-bb34-4614-8d3a-3784e73aa25a",
   "metadata": {},
   "source": [
    "Notebook to find out if we can replace `gammaln` of scipy with a numba implementation"
   ]
  },
  {
   "cell_type": "code",
   "execution_count": 2,
   "id": "eedd5eb7-1ab3-401d-80ce-d01a94b2e151",
   "metadata": {},
   "outputs": [
    {
     "data": {
      "text/html": [
       "\n",
       "                <script type=\"application/javascript\" id=\"jupyter_black\">\n",
       "                (function() {\n",
       "                    if (window.IPython === undefined) {\n",
       "                        return\n",
       "                    }\n",
       "                    var msg = \"WARNING: it looks like you might have loaded \" +\n",
       "                        \"jupyter_black in a non-lab notebook with \" +\n",
       "                        \"`is_lab=True`. Please double check, and if \" +\n",
       "                        \"loading with `%load_ext` please review the README!\"\n",
       "                    console.log(msg)\n",
       "                    alert(msg)\n",
       "                })()\n",
       "                </script>\n",
       "                "
      ],
      "text/plain": [
       "<IPython.core.display.HTML object>"
      ]
     },
     "metadata": {},
     "output_type": "display_data"
    }
   ],
   "source": [
    "from jupyter_black import load\n",
    "\n",
    "load(line_length=100)"
   ]
  },
  {
   "cell_type": "code",
   "execution_count": 331,
   "id": "8828090f-eb5f-4318-b836-a8fae654b3f4",
   "metadata": {},
   "outputs": [],
   "source": [
    "from scipy.special import gammaln, gamma\n",
    "from numba import njit, float64\n",
    "from timeit import timeit\n",
    "import numpy as np"
   ]
  },
  {
   "cell_type": "code",
   "execution_count": 5,
   "id": "df3e8df2-6122-4d38-a3eb-0f5d5374f9e6",
   "metadata": {},
   "outputs": [],
   "source": [
    "@njit()\n",
    "def gammaln_pos_int(x: float64):\n",
    "    \"\"\"Logarithm of the Gamma function for positive integer values (as float64).\"\"\"\n",
    "    result = 1.0\n",
    "    while x - 2.0 > 1e-6:\n",
    "        x -= 1.0\n",
    "        result *= x\n",
    "    return np.log(result)"
   ]
  },
  {
   "cell_type": "code",
   "execution_count": 6,
   "id": "184f6b06-3956-45fb-a48d-2e2d9a8ebfae",
   "metadata": {},
   "outputs": [
    {
     "name": "stdout",
     "output_type": "stream",
     "text": [
      "CPU times: user 118 ms, sys: 6.84 ms, total: 124 ms\n",
      "Wall time: 124 ms\n"
     ]
    },
    {
     "data": {
      "text/plain": [
       "3.1780538303479458"
      ]
     },
     "execution_count": 6,
     "metadata": {},
     "output_type": "execute_result"
    }
   ],
   "source": [
    "%%time\n",
    "gammaln_pos_int(5)"
   ]
  },
  {
   "cell_type": "code",
   "execution_count": 7,
   "id": "0cd68f3d-8014-4de4-8d47-e3e8aff428a8",
   "metadata": {},
   "outputs": [
    {
     "name": "stdout",
     "output_type": "stream",
     "text": [
      "CPU times: user 5 µs, sys: 0 ns, total: 5 µs\n",
      "Wall time: 7.15 µs\n"
     ]
    },
    {
     "data": {
      "text/plain": [
       "3.1780538303479458"
      ]
     },
     "execution_count": 7,
     "metadata": {},
     "output_type": "execute_result"
    }
   ],
   "source": [
    "%%time\n",
    "gammaln_pos_int(5)"
   ]
  },
  {
   "cell_type": "code",
   "execution_count": 8,
   "id": "ed19b959-8e13-496c-a244-50681bc2af45",
   "metadata": {},
   "outputs": [
    {
     "name": "stdout",
     "output_type": "stream",
     "text": [
      "139 ns ± 34.4 ns per loop (mean ± std. dev. of 100 runs, 10,000 loops each)\n"
     ]
    }
   ],
   "source": [
    "%%timeit -r 100 -n 10000\n",
    "gammaln_pos_int(25)"
   ]
  },
  {
   "cell_type": "code",
   "execution_count": 9,
   "id": "93f14257-26db-493c-a585-5ccc46656e2f",
   "metadata": {},
   "outputs": [
    {
     "name": "stdout",
     "output_type": "stream",
     "text": [
      "672 ns ± 67.6 ns per loop (mean ± std. dev. of 100 runs, 10,000 loops each)\n"
     ]
    }
   ],
   "source": [
    "%%timeit -r 100 -n 10000\n",
    "gammaln(25)"
   ]
  },
  {
   "cell_type": "code",
   "execution_count": 45,
   "id": "8515a1ef-7765-468d-ad59-336640dae743",
   "metadata": {},
   "outputs": [
    {
     "name": "stdout",
     "output_type": "stream",
     "text": [
      "934 ns ± 90.6 ns per loop (mean ± std. dev. of 100 runs, 10,000 loops each)\n"
     ]
    }
   ],
   "source": [
    "%%timeit -r 100 -n 10000\n",
    "gammaln_pos_int(1000)"
   ]
  },
  {
   "cell_type": "code",
   "execution_count": 46,
   "id": "b3d420cc-aeb9-4bca-9c15-a010c536c5f6",
   "metadata": {},
   "outputs": [
    {
     "name": "stdout",
     "output_type": "stream",
     "text": [
      "664 ns ± 44.6 ns per loop (mean ± std. dev. of 100 runs, 10,000 loops each)\n"
     ]
    }
   ],
   "source": [
    "%%timeit -r 100 -n 10000\n",
    "gammaln(1000)"
   ]
  },
  {
   "cell_type": "code",
   "execution_count": 10,
   "id": "cc85fe44-08bf-4cc8-8b05-b804bea43bd4",
   "metadata": {},
   "outputs": [
    {
     "data": {
      "text/plain": [
       "0.0"
      ]
     },
     "execution_count": 10,
     "metadata": {},
     "output_type": "execute_result"
    }
   ],
   "source": [
    "abs(gammaln_pos_int(25) - gammaln(25))"
   ]
  },
  {
   "cell_type": "code",
   "execution_count": 267,
   "id": "f09c2280-d6a3-423a-b4a2-c7fbdd904f19",
   "metadata": {},
   "outputs": [],
   "source": [
    "@njit()\n",
    "def gammaln_pos_float(x: float64):\n",
    "    \"\"\"Logarithm of the Gamma function for positive integer values (as float64).\"\"\"\n",
    "\n",
    "    f = np.log(np.sqrt(2 * np.pi))\n",
    "\n",
    "    return f + np.log(x) * (x - 0.5) - x"
   ]
  },
  {
   "cell_type": "code",
   "execution_count": 268,
   "id": "d552d59f-ff80-4eb1-89a9-ca709b9959d4",
   "metadata": {},
   "outputs": [
    {
     "name": "stdout",
     "output_type": "stream",
     "text": [
      "CPU times: user 3 µs, sys: 0 ns, total: 3 µs\n",
      "Wall time: 5.72 µs\n"
     ]
    },
    {
     "data": {
      "text/plain": [
       "477.0439988273413"
      ]
     },
     "execution_count": 268,
     "metadata": {},
     "output_type": "execute_result"
    }
   ],
   "source": [
    "%time\n",
    "gammaln_pos_float(125)"
   ]
  },
  {
   "cell_type": "code",
   "execution_count": 269,
   "id": "43c8fb0d-9d66-4718-bf8d-da2e1afe4b7f",
   "metadata": {},
   "outputs": [
    {
     "name": "stdout",
     "output_type": "stream",
     "text": [
      "130 ns ± 34.9 ns per loop (mean ± std. dev. of 100 runs, 10,000 loops each)\n"
     ]
    }
   ],
   "source": [
    "%%timeit -r 100 -n 10000\n",
    "gammaln_pos_float(125)"
   ]
  },
  {
   "cell_type": "code",
   "execution_count": 270,
   "id": "2841da96-8522-4053-9e35-e46366f876c8",
   "metadata": {},
   "outputs": [
    {
     "name": "stdout",
     "output_type": "stream",
     "text": [
      "668 ns ± 67.5 ns per loop (mean ± std. dev. of 100 runs, 10,000 loops each)\n"
     ]
    }
   ],
   "source": [
    "%%timeit -r 100 -n 10000\n",
    "gammaln(125)"
   ]
  },
  {
   "cell_type": "code",
   "execution_count": 305,
   "id": "7c9af5f4-f547-4510-8102-dcc8f45a8519",
   "metadata": {},
   "outputs": [
    {
     "name": "stdout",
     "output_type": "stream",
     "text": [
      "0.1 0.5127400813319152 9.956790299542256\n",
      "0.2 0.3222939154958817 5.033155735657984\n",
      "0.5 0.1534264097200273 2.208587837438079\n",
      "1.0 0.08106146679532733 1.4060204363255755\n",
      "1.5 0.054814121051917686 1.2115990758104906\n",
      "2.0 0.04134069595540946 1.1353525765580148\n",
      "5.0 0.016644691189821703 0.3961664084819958\n",
      "7.5 0.01110455975820912 20.664507784007355\n",
      "10 0.008330563433359472 3010.43812589522\n",
      "15 0.0055547335519641194 482909720.0357361\n",
      "20 0.004166319691996989 505758070775344.0\n",
      "30 0.002777674929745899 2.452546297416522e+28\n"
     ]
    }
   ],
   "source": [
    "for x in [0.1, 0.2, 0.5, 1.0, 1.5, 2.0, 5.0, 7.5, 10, 15, 20, 30]:\n",
    "    print(\n",
    "        x,\n",
    "        abs(gammaln_pos_float(x) - gammaln(x)),\n",
    "        abs(np.exp(gammaln_pos_float_2(x)) - np.exp(gammaln(x))),\n",
    "    )"
   ]
  },
  {
   "cell_type": "code",
   "execution_count": 378,
   "id": "3215895d-eca9-4895-b6a4-4fd24227ac71",
   "metadata": {},
   "outputs": [],
   "source": [
    "@njit()\n",
    "def gammaln_pos_float_2(z: float64):\n",
    "    \"\"\"Logarithm of the Gamma function for positive integer values (as float64).\"\"\"\n",
    "\n",
    "    if z > 2.0:\n",
    "        # Has error\n",
    "        f = np.log(np.sqrt(2 * np.pi))\n",
    "        return f + np.log(z) * (z - 0.5) - z\n",
    "    else:\n",
    "        x = 10.0\n",
    "        result = 0.0\n",
    "        for n in range(30):\n",
    "            denominator = 1.0\n",
    "            for i in range(n + 1):\n",
    "                denominator *= z + i\n",
    "            result += x**n / denominator\n",
    "        return np.log(x**z * np.exp(-x) * result)"
   ]
  },
  {
   "cell_type": "code",
   "execution_count": 380,
   "id": "4e1e9bb2-24ec-4e52-8241-8be2589178f1",
   "metadata": {},
   "outputs": [
    {
     "name": "stdout",
     "output_type": "stream",
     "text": [
      "350 ns ± 21.2 ns per loop (mean ± std. dev. of 100 runs, 10,000 loops each)\n"
     ]
    }
   ],
   "source": [
    "%%timeit -r 100 -n 10000\n",
    "gammaln_pos_float_2(1.5)"
   ]
  },
  {
   "cell_type": "code",
   "execution_count": 381,
   "id": "89d7e0c3-5dee-498a-8a89-dd1b6ab3586e",
   "metadata": {},
   "outputs": [
    {
     "name": "stdout",
     "output_type": "stream",
     "text": [
      "463 ns ± 2.5 ns per loop (mean ± std. dev. of 100 runs, 10,000 loops each)\n"
     ]
    }
   ],
   "source": [
    "%%timeit -r 100 -n 10000\n",
    "gammaln(1.5)"
   ]
  },
  {
   "cell_type": "code",
   "execution_count": 382,
   "id": "196d71d7-8944-4fee-b3fc-7a0f227cce9a",
   "metadata": {},
   "outputs": [
    {
     "name": "stdout",
     "output_type": "stream",
     "text": [
      "1.0 4.548080194518237e-05 4.5479767709188934e-05 4.5479767709188934e-05\n",
      "1.1 6.0705584301476434e-05 5.775055145218477e-05 5.775055145240682e-05\n",
      "1.2 7.989320621294704e-05 7.335251445206303e-05 7.335251445217406e-05\n",
      "1.3 0.0001038399154587033 9.318844280736815e-05 9.318844280736815e-05\n",
      "1.4 0.00013346079695723823 0.00011840703467091984 0.00011840703467091984\n",
      "1.5 0.00016980135989839995 0.00015046976177379712 0.00015046976177379712\n",
      "1.6 0.00021404948813072422 0.00019123603543402812 0.00019123603543413914\n",
      "1.7 0.0002675476772296681 0.00024307166433623628 0.00024307166433645833\n",
      "1.8 0.0003318054730065828 0.0003089869680623636 0.00030898696806225256\n",
      "1.9 0.0004085120182111962 0.0003928126612298133 0.00039281266122970226\n",
      "2.0 0.0004995486069731168 0.000499423853342118 0.000499423853342118\n"
     ]
    }
   ],
   "source": [
    "for x in [1.0, 1.1, 1.2, 1.3, 1.4, 1.5, 1.6, 1.7, 1.8, 1.9, 2.0]:\n",
    "    print(\n",
    "        x,\n",
    "        abs(gammaln_pos_float_2(x) - gammaln(x)),\n",
    "        abs(np.exp(gammaln_pos_float_2(x)) - np.exp(gammaln(x))),\n",
    "        abs(np.exp(gammaln_pos_float_2(x)) - gamma(x)),\n",
    "    )"
   ]
  },
  {
   "cell_type": "code",
   "execution_count": 383,
   "id": "e07b1e6b-fbfb-4f6a-a424-7df830795ef7",
   "metadata": {},
   "outputs": [
    {
     "name": "stdout",
     "output_type": "stream",
     "text": [
      "0.1 7.789454952167318e-07 7.410501080329368e-06 7.410501080329368e-06\n",
      "0.2 1.659965198630431e-06 7.620634469240883e-06 7.620634469240883e-06\n",
      "0.3 3.023438297722336e-06 9.044810574287965e-06 9.044810574287965e-06\n",
      "0.4 5.031803163246806e-06 1.1161314128038669e-05 1.1161314128038669e-05\n",
      "0.5 7.886359934095033e-06 1.3978153916349711e-05 1.3978153916349711e-05\n",
      "0.6 1.183369738017026e-05 1.762254614323666e-05 1.762254614323666e-05\n",
      "0.7 1.717275130724838e-05 2.2290990011164524e-05 2.2290990011608613e-05\n",
      "0.8 2.4262499677685234e-05 2.8246780383822667e-05 2.8246780383600623e-05\n",
      "0.9 3.353029196677404e-05 3.5830831673688834e-05 3.583083167346679e-05\n"
     ]
    }
   ],
   "source": [
    "for x in [0.1, 0.2, 0.3, 0.4, 0.5, 0.6, 0.7, 0.8, 0.9]:\n",
    "    print(\n",
    "        x,\n",
    "        abs(gammaln_pos_float_2(x) - gammaln(x)),\n",
    "        abs(np.exp(gammaln_pos_float_2(x)) - np.exp(gammaln(x))),\n",
    "        abs(np.exp(gammaln_pos_float_2(x)) - gamma(x)),\n",
    "    )"
   ]
  },
  {
   "cell_type": "code",
   "execution_count": 376,
   "id": "db6d06b3-cc0d-4a31-a7c7-48114286e9b9",
   "metadata": {},
   "outputs": [
    {
     "data": {
      "text/plain": [
       "(6172.975970230312, 0.0004993901474831005)"
      ]
     },
     "execution_count": 376,
     "metadata": {},
     "output_type": "execute_result"
    }
   ],
   "source": [
    "z = 1.5\n",
    "x = 10.00002\n",
    "result = 0.0\n",
    "for n in range(30):\n",
    "    denominator = 1.0\n",
    "    for i in range(n):\n",
    "        denominator *= z + i\n",
    "    result += x**n / denominator\n",
    "\n",
    "result, (x + 1) * np.exp(-x)"
   ]
  },
  {
   "cell_type": "code",
   "execution_count": null,
   "id": "b68f769b-4a6b-4b2b-b63e-a8743f867df5",
   "metadata": {},
   "outputs": [],
   "source": []
  }
 ],
 "metadata": {
  "kernelspec": {
   "display_name": "Python38 (cyclic_boosting)",
   "language": "python",
   "name": "docs"
  },
  "language_info": {
   "codemirror_mode": {
    "name": "ipython",
    "version": 3
   },
   "file_extension": ".py",
   "mimetype": "text/x-python",
   "name": "python",
   "nbconvert_exporter": "python",
   "pygments_lexer": "ipython3",
   "version": "3.8.8"
  }
 },
 "nbformat": 4,
 "nbformat_minor": 5
}
